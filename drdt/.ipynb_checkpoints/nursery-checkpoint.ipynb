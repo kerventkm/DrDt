{
 "cells": [
  {
   "cell_type": "code",
   "execution_count": 9,
   "id": "af136561",
   "metadata": {},
   "outputs": [],
   "source": [
    "import numpy as np \n",
    "import pandas as pd\n",
    "from Algorithms import A_C_N, DecisionRuleCreatorFromDecisionTable\n",
    "from sklearn.model_selection import train_test_split\n",
    "from tqdm import tqdm\n"
   ]
  },
  {
   "cell_type": "code",
   "execution_count": 10,
   "id": "f08b2e86",
   "metadata": {},
   "outputs": [
    {
     "data": {
      "text/html": [
       "<div>\n",
       "<style scoped>\n",
       "    .dataframe tbody tr th:only-of-type {\n",
       "        vertical-align: middle;\n",
       "    }\n",
       "\n",
       "    .dataframe tbody tr th {\n",
       "        vertical-align: top;\n",
       "    }\n",
       "\n",
       "    .dataframe thead th {\n",
       "        text-align: right;\n",
       "    }\n",
       "</style>\n",
       "<table border=\"1\" class=\"dataframe\">\n",
       "  <thead>\n",
       "    <tr style=\"text-align: right;\">\n",
       "      <th></th>\n",
       "      <th>buying</th>\n",
       "      <th>maint</th>\n",
       "      <th>doors</th>\n",
       "      <th>persons</th>\n",
       "      <th>lug_boot</th>\n",
       "      <th>safety</th>\n",
       "      <th>class</th>\n",
       "    </tr>\n",
       "  </thead>\n",
       "  <tbody>\n",
       "    <tr>\n",
       "      <th>0</th>\n",
       "      <td>vhigh</td>\n",
       "      <td>vhigh</td>\n",
       "      <td>2</td>\n",
       "      <td>2</td>\n",
       "      <td>small</td>\n",
       "      <td>med</td>\n",
       "      <td>unacc</td>\n",
       "    </tr>\n",
       "    <tr>\n",
       "      <th>1</th>\n",
       "      <td>vhigh</td>\n",
       "      <td>vhigh</td>\n",
       "      <td>2</td>\n",
       "      <td>2</td>\n",
       "      <td>small</td>\n",
       "      <td>high</td>\n",
       "      <td>unacc</td>\n",
       "    </tr>\n",
       "    <tr>\n",
       "      <th>2</th>\n",
       "      <td>vhigh</td>\n",
       "      <td>vhigh</td>\n",
       "      <td>2</td>\n",
       "      <td>2</td>\n",
       "      <td>med</td>\n",
       "      <td>low</td>\n",
       "      <td>unacc</td>\n",
       "    </tr>\n",
       "    <tr>\n",
       "      <th>3</th>\n",
       "      <td>vhigh</td>\n",
       "      <td>vhigh</td>\n",
       "      <td>2</td>\n",
       "      <td>2</td>\n",
       "      <td>med</td>\n",
       "      <td>med</td>\n",
       "      <td>unacc</td>\n",
       "    </tr>\n",
       "    <tr>\n",
       "      <th>4</th>\n",
       "      <td>vhigh</td>\n",
       "      <td>vhigh</td>\n",
       "      <td>2</td>\n",
       "      <td>2</td>\n",
       "      <td>med</td>\n",
       "      <td>high</td>\n",
       "      <td>unacc</td>\n",
       "    </tr>\n",
       "    <tr>\n",
       "      <th>...</th>\n",
       "      <td>...</td>\n",
       "      <td>...</td>\n",
       "      <td>...</td>\n",
       "      <td>...</td>\n",
       "      <td>...</td>\n",
       "      <td>...</td>\n",
       "      <td>...</td>\n",
       "    </tr>\n",
       "    <tr>\n",
       "      <th>1722</th>\n",
       "      <td>low</td>\n",
       "      <td>low</td>\n",
       "      <td>5more</td>\n",
       "      <td>more</td>\n",
       "      <td>med</td>\n",
       "      <td>med</td>\n",
       "      <td>good</td>\n",
       "    </tr>\n",
       "    <tr>\n",
       "      <th>1723</th>\n",
       "      <td>low</td>\n",
       "      <td>low</td>\n",
       "      <td>5more</td>\n",
       "      <td>more</td>\n",
       "      <td>med</td>\n",
       "      <td>high</td>\n",
       "      <td>vgood</td>\n",
       "    </tr>\n",
       "    <tr>\n",
       "      <th>1724</th>\n",
       "      <td>low</td>\n",
       "      <td>low</td>\n",
       "      <td>5more</td>\n",
       "      <td>more</td>\n",
       "      <td>big</td>\n",
       "      <td>low</td>\n",
       "      <td>unacc</td>\n",
       "    </tr>\n",
       "    <tr>\n",
       "      <th>1725</th>\n",
       "      <td>low</td>\n",
       "      <td>low</td>\n",
       "      <td>5more</td>\n",
       "      <td>more</td>\n",
       "      <td>big</td>\n",
       "      <td>med</td>\n",
       "      <td>good</td>\n",
       "    </tr>\n",
       "    <tr>\n",
       "      <th>1726</th>\n",
       "      <td>low</td>\n",
       "      <td>low</td>\n",
       "      <td>5more</td>\n",
       "      <td>more</td>\n",
       "      <td>big</td>\n",
       "      <td>high</td>\n",
       "      <td>vgood</td>\n",
       "    </tr>\n",
       "  </tbody>\n",
       "</table>\n",
       "<p>1727 rows × 7 columns</p>\n",
       "</div>"
      ],
      "text/plain": [
       "     buying  maint  doors persons lug_boot safety  class\n",
       "0     vhigh  vhigh      2       2    small    med  unacc\n",
       "1     vhigh  vhigh      2       2    small   high  unacc\n",
       "2     vhigh  vhigh      2       2      med    low  unacc\n",
       "3     vhigh  vhigh      2       2      med    med  unacc\n",
       "4     vhigh  vhigh      2       2      med   high  unacc\n",
       "...     ...    ...    ...     ...      ...    ...    ...\n",
       "1722    low    low  5more    more      med    med   good\n",
       "1723    low    low  5more    more      med   high  vgood\n",
       "1724    low    low  5more    more      big    low  unacc\n",
       "1725    low    low  5more    more      big    med   good\n",
       "1726    low    low  5more    more      big   high  vgood\n",
       "\n",
       "[1727 rows x 7 columns]"
      ]
     },
     "execution_count": 10,
     "metadata": {},
     "output_type": "execute_result"
    }
   ],
   "source": [
    "DecisionTable = pd.read_csv(\"./Datasets/car_evaluation.csv\")\n",
    "DecisionTable.columns = [\"buying\", \"maint\", \"doors\", \"persons\", \"lug_boot\", \"safety\", \"class\"]\n",
    "DecisionTable"
   ]
  },
  {
   "cell_type": "code",
   "execution_count": 11,
   "id": "ab2ad684",
   "metadata": {},
   "outputs": [],
   "source": [
    "train_df, test_df = train_test_split(DecisionTable, train_size=0.75, stratify=DecisionTable[\"class\"])\n"
   ]
  },
  {
   "cell_type": "code",
   "execution_count": 12,
   "id": "71d9de3f",
   "metadata": {},
   "outputs": [
    {
     "name": "stderr",
     "output_type": "stream",
     "text": [
      "100%|██████████████████████████████████████| 1295/1295 [00:02<00:00, 516.08it/s]\n"
     ]
    }
   ],
   "source": [
    "train_df_rules = DecisionRuleCreatorFromDecisionTable(train_df)"
   ]
  },
  {
   "cell_type": "code",
   "execution_count": 13,
   "id": "fb983d0f",
   "metadata": {},
   "outputs": [],
   "source": [
    "model = A_C_N(C=\"EAR\", N=\"cover\")"
   ]
  },
  {
   "cell_type": "code",
   "execution_count": 14,
   "id": "1bf1bb7b",
   "metadata": {},
   "outputs": [
    {
     "name": "stderr",
     "output_type": "stream",
     "text": [
      "100%|████████████████████████████████████████| 432/432 [00:04<00:00, 101.24it/s]\n"
     ]
    }
   ],
   "source": [
    "correct = 0\n",
    "no_result = 0\n",
    "\n",
    "most_common_train = train_df_rules['class'].mode()[0]\n",
    "\n",
    "for i in tqdm(range(len(test_df))):\n",
    "    res = model.solve(train_df_rules, test_df.iloc[i][:-1])\n",
    "    if res is not None:\n",
    "        correct += int(res['class'].mode()[0] == test_df.iloc[0]['class'])\n",
    "    else:\n",
    "        no_result += 1\n",
    "        correct += int(most_common_train == test_df.iloc[0]['class'])\n",
    "        "
   ]
  },
  {
   "cell_type": "code",
   "execution_count": 15,
   "id": "06ba84ef",
   "metadata": {},
   "outputs": [
    {
     "name": "stdout",
     "output_type": "stream",
     "text": [
      "Accuracy = 72.45370370370371 %\n"
     ]
    }
   ],
   "source": [
    "print(f\"Accuracy = {correct / len(test_df) * 100} %\")"
   ]
  },
  {
   "cell_type": "code",
   "execution_count": 16,
   "id": "2f031a93",
   "metadata": {},
   "outputs": [
    {
     "name": "stdout",
     "output_type": "stream",
     "text": [
      "No result number = 6\n"
     ]
    }
   ],
   "source": [
    "print(f\"No result number = {no_result}\")"
   ]
  },
  {
   "cell_type": "code",
   "execution_count": null,
   "id": "ad547c9c",
   "metadata": {},
   "outputs": [],
   "source": []
  },
  {
   "cell_type": "code",
   "execution_count": null,
   "id": "ca5b7879",
   "metadata": {},
   "outputs": [],
   "source": []
  },
  {
   "cell_type": "code",
   "execution_count": null,
   "id": "77844cdf",
   "metadata": {},
   "outputs": [],
   "source": []
  },
  {
   "cell_type": "code",
   "execution_count": null,
   "id": "b96be330",
   "metadata": {},
   "outputs": [],
   "source": []
  },
  {
   "cell_type": "code",
   "execution_count": null,
   "id": "3722c54f",
   "metadata": {},
   "outputs": [],
   "source": []
  },
  {
   "cell_type": "code",
   "execution_count": null,
   "id": "e80cf4ef",
   "metadata": {},
   "outputs": [],
   "source": []
  },
  {
   "cell_type": "code",
   "execution_count": null,
   "id": "657eb903",
   "metadata": {},
   "outputs": [],
   "source": []
  },
  {
   "cell_type": "code",
   "execution_count": null,
   "id": "06378d45",
   "metadata": {},
   "outputs": [],
   "source": []
  },
  {
   "cell_type": "code",
   "execution_count": null,
   "id": "57b356d5",
   "metadata": {},
   "outputs": [],
   "source": []
  },
  {
   "cell_type": "code",
   "execution_count": null,
   "id": "8b589478",
   "metadata": {},
   "outputs": [],
   "source": []
  },
  {
   "cell_type": "code",
   "execution_count": null,
   "id": "15816b03",
   "metadata": {},
   "outputs": [],
   "source": []
  },
  {
   "cell_type": "code",
   "execution_count": null,
   "id": "99418fec",
   "metadata": {},
   "outputs": [],
   "source": []
  },
  {
   "cell_type": "code",
   "execution_count": null,
   "id": "f8816b5a",
   "metadata": {},
   "outputs": [],
   "source": []
  },
  {
   "cell_type": "code",
   "execution_count": null,
   "id": "67357179",
   "metadata": {},
   "outputs": [],
   "source": [
    "S = pd.DataFrame(\n",
    "[[np.nan,1,1,np.nan,1],\n",
    "[0,1,0,np.nan,2],\n",
    "[0,0,0,np.nan,2],\n",
    "[0,0,0,np.nan,3],\n",
    "[0,1,np.nan,np.nan,3],\n",
    "[np.nan,np.nan,np.nan,1,3]],\n",
    "columns=['f1','f2','f3','f4','class']\n",
    ")\n",
    "S"
   ]
  },
  {
   "cell_type": "code",
   "execution_count": null,
   "id": "a2721ca1",
   "metadata": {},
   "outputs": [],
   "source": [
    "delta = pd.DataFrame(\n",
    "[[0,1,0,1]],\n",
    "columns=['f1','f2','f3','f4']\n",
    ")\n",
    "delta = delta.loc[0]\n",
    "delta"
   ]
  },
  {
   "cell_type": "code",
   "execution_count": null,
   "id": "8880c4d7",
   "metadata": {},
   "outputs": [],
   "source": [
    "ALG = A_C_N(C=\"AR\", N=\"cover\")\n",
    "ALG.solve(S, delta=delta)"
   ]
  },
  {
   "cell_type": "code",
   "execution_count": null,
   "id": "40fa243a",
   "metadata": {},
   "outputs": [],
   "source": []
  },
  {
   "cell_type": "code",
   "execution_count": null,
   "id": "49c173e4",
   "metadata": {},
   "outputs": [],
   "source": []
  },
  {
   "cell_type": "code",
   "execution_count": null,
   "id": "1c0be893",
   "metadata": {},
   "outputs": [],
   "source": []
  },
  {
   "cell_type": "code",
   "execution_count": null,
   "id": "578c630d",
   "metadata": {},
   "outputs": [],
   "source": []
  },
  {
   "cell_type": "code",
   "execution_count": null,
   "id": "0a22f522",
   "metadata": {},
   "outputs": [],
   "source": []
  },
  {
   "cell_type": "code",
   "execution_count": null,
   "id": "72039c13",
   "metadata": {},
   "outputs": [],
   "source": []
  },
  {
   "cell_type": "code",
   "execution_count": null,
   "id": "20a22d28",
   "metadata": {},
   "outputs": [],
   "source": []
  },
  {
   "cell_type": "code",
   "execution_count": null,
   "id": "322c49c1",
   "metadata": {},
   "outputs": [],
   "source": []
  },
  {
   "cell_type": "code",
   "execution_count": null,
   "id": "38ecbef5",
   "metadata": {},
   "outputs": [],
   "source": []
  },
  {
   "cell_type": "code",
   "execution_count": null,
   "id": "7284dc03",
   "metadata": {},
   "outputs": [],
   "source": []
  },
  {
   "cell_type": "code",
   "execution_count": null,
   "id": "487ab5b2",
   "metadata": {},
   "outputs": [],
   "source": []
  },
  {
   "cell_type": "code",
   "execution_count": null,
   "id": "98256f71",
   "metadata": {},
   "outputs": [],
   "source": []
  },
  {
   "cell_type": "code",
   "execution_count": null,
   "id": "477c9347",
   "metadata": {},
   "outputs": [],
   "source": []
  },
  {
   "cell_type": "code",
   "execution_count": null,
   "id": "4be3628e",
   "metadata": {},
   "outputs": [],
   "source": []
  },
  {
   "cell_type": "code",
   "execution_count": null,
   "id": "440f7572",
   "metadata": {},
   "outputs": [],
   "source": []
  },
  {
   "cell_type": "code",
   "execution_count": null,
   "id": "c766c271",
   "metadata": {},
   "outputs": [],
   "source": []
  },
  {
   "cell_type": "code",
   "execution_count": null,
   "id": "5445a08e",
   "metadata": {},
   "outputs": [],
   "source": []
  },
  {
   "cell_type": "code",
   "execution_count": null,
   "id": "45d89dbd",
   "metadata": {},
   "outputs": [],
   "source": []
  },
  {
   "cell_type": "code",
   "execution_count": null,
   "id": "c7c3ba83",
   "metadata": {},
   "outputs": [],
   "source": []
  },
  {
   "cell_type": "code",
   "execution_count": null,
   "id": "a40f2230",
   "metadata": {},
   "outputs": [],
   "source": []
  },
  {
   "cell_type": "code",
   "execution_count": null,
   "id": "7cb6fcc0",
   "metadata": {},
   "outputs": [],
   "source": []
  },
  {
   "cell_type": "code",
   "execution_count": null,
   "id": "9e2ad407",
   "metadata": {},
   "outputs": [],
   "source": []
  },
  {
   "cell_type": "code",
   "execution_count": null,
   "id": "0f31fcb3",
   "metadata": {},
   "outputs": [],
   "source": []
  },
  {
   "cell_type": "code",
   "execution_count": null,
   "id": "b9f17ad8",
   "metadata": {},
   "outputs": [],
   "source": []
  },
  {
   "cell_type": "code",
   "execution_count": null,
   "id": "8dce6270",
   "metadata": {},
   "outputs": [],
   "source": []
  },
  {
   "cell_type": "code",
   "execution_count": null,
   "id": "d7fa4d14",
   "metadata": {},
   "outputs": [],
   "source": []
  },
  {
   "cell_type": "code",
   "execution_count": null,
   "id": "a6f19a7a",
   "metadata": {},
   "outputs": [],
   "source": []
  },
  {
   "cell_type": "code",
   "execution_count": null,
   "id": "fdf82c8d",
   "metadata": {},
   "outputs": [],
   "source": [
    "def R_SR(S):\n",
    "    \"\"\"\n",
    "    input: S - system of decision rules (pandas DataFrame)\n",
    "    output: subset of S which has reduced by SR reduction (pandas DataFrame)\n",
    "    \"\"\"\n",
    "    to_remove = set()\n",
    "    n = len(S)\n",
    "\n",
    "    for i in range(n):\n",
    "        for j in range(i+1, n):\n",
    "            if i in to_remove or j in to_remove:\n",
    "                continue\n",
    "            r1, r2 = S.iloc[i][:-1], S.iloc[j][:-1] # Exclude the last column\n",
    "            # Check if r1 is a subset of r2\n",
    "            if all(np.isnan(r1[k]) or r1[k] == r2[k] for k in S.columns[:-1]):\n",
    "                to_remove.add(j)\n",
    "            # Check if r2 is a subset of r1\n",
    "            elif all(np.isnan(r2[k]) or r2[k] == r1[k] for k in S.columns[:-1]):\n",
    "                to_remove.add(i)\n",
    "\n",
    "    return S.drop(S.index[list(to_remove)])\n",
    "\n",
    "\n",
    "def R_AD(S):\n",
    "    \"\"\"\n",
    "    input: S - system of decision rules (pandas DataFrame)\n",
    "    output: subset of S which has reduced by AD reduction (pandas DataFrame)\n",
    "    \"\"\"\n",
    "    to_remove = set()\n",
    "    n = len(S)\n",
    "\n",
    "    for i in range(n):\n",
    "        for j in range(i+1, n):\n",
    "            if i in to_remove or j in to_remove:\n",
    "                continue\n",
    "            r1, r2 = S.iloc[i], S.iloc[j]\n",
    "            # Check if r1 is a subset of r2\n",
    "            if all(np.isnan(r1[k]) or r1[k] == r2[k] for k in S.columns):\n",
    "                to_remove.add(j)\n",
    "            # Check if r2 is a subset of r1\n",
    "            elif all(np.isnan(r2[k]) or r2[k] == r1[k] for k in S.columns):\n",
    "                to_remove.add(i)\n",
    "\n",
    "    return S.drop(S.index[list(to_remove)])\n",
    "\n",
    "\n",
    "def SAlphaStep(S, alpha):\n",
    "    \"\"\"\n",
    "    input: S - system of decision rules (pandas DataFrame)\n",
    "           alpha - s tuple of the form (a_i = delta_j)\n",
    "    output: S_alpha - subset of S as defined in the paper.(just for 1 attribute) (pandas DataFrame)\n",
    "    \"\"\"\n",
    "    \n",
    "    attr, value = alpha\n",
    "\n",
    "    # Keep rows where the attr is NaN or equals the specified value\n",
    "    S = S[(S[attr].isna()) | (S[attr] == value)]\n",
    "    \n",
    "    #Make NaN the values\n",
    "    S.loc[~S[attr].isna(), attr] = np.nan\n",
    "\n",
    "    return S\n",
    "\n",
    "\n",
    "def SPlus(S):\n",
    "    \"\"\"\n",
    "    input: S - system of decision rules (pandas DataFrame)\n",
    "    output: S_plus - subset of S as defined in the paper. (pandas DataFrame)\n",
    "    \"\"\"\n",
    "    non_nan_counts = S.notna().sum(axis=1)\n",
    "\n",
    "    max_non_nan = non_nan_counts.max()\n",
    "\n",
    "    S_plus = S[non_nan_counts == max_non_nan]\n",
    "    \n",
    "    return S_plus\n",
    "\n",
    "\n",
    "def SMax(S_plus):\n",
    "    \"\"\"\n",
    "    input: S_plus - system of decision rules with length d (pandas DataFrame)\n",
    "    output: S_max - subset of S as defined in the paper. (pandas DataFrame)\n",
    "    \"\"\"\n",
    "\n",
    "    columns_to_check = S_plus.columns[:-1]\n",
    "\n",
    "    S_max = S_plus.drop_duplicates(subset=columns_to_check, keep='first')\n",
    "    \n",
    "    return S_max\n",
    "\n",
    "\n",
    "def NCover(S_plus):\n",
    "    \"\"\" \n",
    "    input: S_plus - system of decision rules with length d (pandas DataFrame)\n",
    "    output: Node cover of S_plus, set of columns that covers all rows\n",
    "    \"\"\"\n",
    "    B = set()\n",
    "\n",
    "    while not S_plus.iloc[:, :-1].isna().all().all():\n",
    "        # Select the first row\n",
    "        r1 = S_plus.iloc[0][:-1]\n",
    "        # Create A_r1\n",
    "        A_r1 = set(r1[r1.notna()].index)\n",
    "        # Add A_r1 to B\n",
    "        B.update(A_r1)\n",
    "        \n",
    "        # Drop rows that have common elements in their index set with A_r1\n",
    "        rows_to_drop = []\n",
    "        for index, row in S_plus.iterrows():\n",
    "            row = row[:-1]\n",
    "            A_r = set(row[row.notna()].index)\n",
    "            if A_r1 & A_r:  # Check for common elements\n",
    "                rows_to_drop.append(index)\n",
    "        \n",
    "        S_plus = S_plus.drop(rows_to_drop)\n",
    "\n",
    "    return B\n",
    "\n",
    "\n",
    "def NGreedy(S_plus):\n",
    "    \"\"\"\n",
    "    input: S_plus - subset of S as defined in the paper. (pandas DataFrame)\n",
    "    output: Node cover of S_plus, set of indecies of columns that covers all rows\n",
    "    \"\"\"\n",
    "    S_max = SMax(S_plus)\n",
    "    \n",
    "    B = set()\n",
    "    uncovered_rows = set(S_max.index)\n",
    "\n",
    "    while uncovered_rows:\n",
    "        # Find the column that covers the maximum number of uncovered rows\n",
    "        max_cover = 0\n",
    "        max_col = None\n",
    "\n",
    "        for col in S_max.columns[:-1]: # Exclude the last column\n",
    "            if col in B:\n",
    "                continue  # Skip columns that have already been chosen\n",
    "            cover = S_max.index[S_max[col].notna()].intersection(uncovered_rows)\n",
    "            if len(cover) > max_cover:\n",
    "                max_cover = len(cover)\n",
    "                max_col = col\n",
    "\n",
    "        if max_col is None:\n",
    "            # No more columns to cover rows, break out\n",
    "            break\n",
    "\n",
    "        # Add the column to B and remove covered rows from consideration\n",
    "        B.add(max_col)\n",
    "        uncovered_rows -= set(S_max.index[S_max[max_col].notna()])\n",
    "\n",
    "    return B\n"
   ]
  },
  {
   "cell_type": "code",
   "execution_count": null,
   "id": "8e773b01",
   "metadata": {},
   "outputs": [],
   "source": [
    "class A_C_N:\n",
    "    def __init__(self, C=\"EAR\", N=\"cover\"):\n",
    "        \"\"\"\n",
    "        C - type of problem:\n",
    "            \"AR\" - All Rules\n",
    "            \"EAR\" - Extended All Rules\n",
    "            \"SR\" - Some Rules\n",
    "            \"ESR\" - Extended Some Rules\n",
    "            \"AD\" - All Decisions\n",
    "            \"EAD\" - Extended All Decisions\n",
    "        N - type of Node Cover Algorithm:\n",
    "            \"cover\"\n",
    "            \"greedy\"\n",
    "        \"\"\"\n",
    "        self.C = C\n",
    "        self.N = N\n",
    "        \n",
    "    def solve(self, S, delta):\n",
    "        \"\"\"\n",
    "        S - System of Decision Rules (pandas DataFrame)\n",
    "        delta - tuple of attribute values from the set V_C (a row of a pandas df, without any NaN values)\n",
    "        \"\"\"\n",
    "        \n",
    "        # AR - All Rules problem, EAR - Extended All Rules problem\n",
    "        if self.C in [\"AR\", \"EAR\"]:\n",
    "            if self.N == \"cover\": # with \"cover\" NodeCover method\n",
    "                Q = S.copy()\n",
    "                while True:\n",
    "                    # Step 1\n",
    "                    if (Q.empty or Q.iloc[:, :-1].isna().all().all()):\n",
    "                        if Q.empty:\n",
    "                            print(\"There is no such rule\")\n",
    "                            return\n",
    "                        else:\n",
    "                            row_indecies = Q.index.tolist()\n",
    "                            return S.loc[row_indecies]\n",
    "                       \n",
    "                    # Step 2\n",
    "                    else:\n",
    "                        Q_plus = SPlus(Q)\n",
    "                        B = NCover(Q_plus)\n",
    "                        for attr in B:\n",
    "                            alpha = (attr, delta[attr])\n",
    "                            Q = SAlphaStep(Q, alpha)\n",
    "                            \n",
    "            elif self.N == \"greedy\": # with \"cover\" NodeCover method\n",
    "                Q = S.copy()\n",
    "                while True:\n",
    "                    # Step 1\n",
    "                    if (Q.empty or Q.iloc[:, :-1].isna().all().all()):\n",
    "                        if Q.empty:\n",
    "                            print(\"There is no such rule\")\n",
    "                            return\n",
    "                        else:\n",
    "                            row_indecies = Q.index.tolist()\n",
    "                            return S.loc[row_indecies]\n",
    "                    # Step 2\n",
    "                    else:\n",
    "                        Q_plus = SPlus(Q)\n",
    "                        B = NGreedy(Q_plus)\n",
    "                        for attr in B:\n",
    "                            alpha = (attr, delta[attr])\n",
    "                            Q = SAlphaStep(Q, alpha)\n",
    "            \n",
    "            else:\n",
    "                raise ValueError(\"N must be 'cover' or 'greedy'.\")\n",
    "            \n",
    "                \n",
    "        # SR - Some Rules problem, ESR - Extended Some Rules problem\n",
    "        elif self.C in [\"SR\", \"ESR\"]:\n",
    "            if self.N == \"cover\": # with \"cover\" NodeCover method\n",
    "                Q = S.copy()\n",
    "                while True:\n",
    "                    # Step 1\n",
    "                    if (Q.empty or Q.iloc[:, :-1].isna().all().all()):\n",
    "                        if Q.empty:\n",
    "                            print(\"There is no such rule\")\n",
    "                            return\n",
    "                        else:\n",
    "                            row_indecies = Q.index.tolist()\n",
    "                            return S.loc[row_indecies]\n",
    "                       \n",
    "                    # Step 2\n",
    "                    else:\n",
    "                        P = R_SR(Q)\n",
    "                        P_plus = SPlus(P)\n",
    "                        B = NCover(P_plus)\n",
    "                        for attr in B:\n",
    "                            alpha = (attr, delta[attr])\n",
    "                            P = SAlphaStep(P, alpha)\n",
    "                        Q = P\n",
    "                            \n",
    "            elif self.N == \"greedy\": # with \"cover\" NodeCover method\n",
    "                Q = S.copy()\n",
    "                while True:\n",
    "                    # Step 1\n",
    "                    if (Q.empty or Q.iloc[:, :-1].isna().all().all()):\n",
    "                        if Q.empty:\n",
    "                            print(\"There is no such rule\")\n",
    "                            return\n",
    "                        else:\n",
    "                            row_indecies = Q.index.tolist()\n",
    "                            return S.loc[row_indecies]\n",
    "                       \n",
    "                    # Step 2\n",
    "                    else:\n",
    "                        P = R_SR(Q)\n",
    "                        P_plus = SPlus(P)\n",
    "                        B = NGreedy(P_plus)\n",
    "                        for attr in B:\n",
    "                            alpha = (attr, delta[attr])\n",
    "                            P = SAlphaStep(P, alpha)\n",
    "                        Q = P\n",
    "            \n",
    "            else:\n",
    "                raise ValueError(\"N must be 'cover' or 'greedy'.\")\n",
    "                \n",
    "        # AD - All Decisions problem, EAD - Extended All Decisions problem\n",
    "        elif self.C in [\"AD\", \"EAD\"]:\n",
    "            if self.N == \"cover\": # with \"cover\" NodeCover method\n",
    "                Q = S.copy()\n",
    "                while True:\n",
    "                    # Step 1\n",
    "                    if (Q.empty or Q.iloc[:, :-1].isna().all().all()):\n",
    "                        if Q.empty:\n",
    "                            print(\"There is no such rule\")\n",
    "                            return\n",
    "                        else:\n",
    "                            row_indecies = Q.index.tolist()\n",
    "                            return S.loc[row_indecies]\n",
    "                       \n",
    "                    # Step 2\n",
    "                    else:\n",
    "                        P = R_AD(Q)\n",
    "                        P_plus = SPlus(P)\n",
    "                        B = NCover(P_plus)\n",
    "                        for attr in B:\n",
    "                            alpha = (attr, delta[attr])\n",
    "                            P = SAlphaStep(P, alpha)\n",
    "                        Q = P\n",
    "                            \n",
    "            elif self.N == \"greedy\": # with \"cover\" NodeCover method\n",
    "                Q = S.copy()\n",
    "                while True:\n",
    "                    # Step 1\n",
    "                    if (Q.empty or Q.iloc[:, :-1].isna().all().all()):\n",
    "                        if Q.empty:\n",
    "                            print(\"There is no such rule\")\n",
    "                            return\n",
    "                        else:\n",
    "                            row_indecies = Q.index.tolist()\n",
    "                            return S.loc[row_indecies]\n",
    "                       \n",
    "                    # Step 2\n",
    "                    else:\n",
    "                        P = R_AD(Q)\n",
    "                        P_plus = SPlus(P)\n",
    "                        B = NGreedy(P_plus)\n",
    "                        for attr in B:\n",
    "                            alpha = (attr, delta[attr])\n",
    "                            P = SAlphaStep(P, alpha)\n",
    "                        Q = P\n",
    "            \n",
    "            else:\n",
    "                raise ValueError(\"N must be 'cover' or 'greedy'.\")\n",
    "                \n",
    "        # Wrong problem type      \n",
    "        else: \n",
    "            raise ValueError(\"C must be one of {'AR', 'EAR', 'SR', 'ESR', 'AD', 'EAD'}\")"
   ]
  },
  {
   "cell_type": "code",
   "execution_count": null,
   "id": "36503460",
   "metadata": {},
   "outputs": [],
   "source": [
    "S = pd.DataFrame(\n",
    "[[np.nan,1,1,np.nan,1],\n",
    "[0,1,0,np.nan,2],\n",
    "[0,0,0,np.nan,2],\n",
    "[0,0,0,np.nan,3],\n",
    "[0,1,np.nan,np.nan,3],\n",
    "[np.nan,np.nan,np.nan,1,3]],\n",
    "columns=['f1','f2','f3','f4','class']\n",
    ")\n",
    "S"
   ]
  },
  {
   "cell_type": "code",
   "execution_count": null,
   "id": "d4681cbc",
   "metadata": {},
   "outputs": [],
   "source": [
    "delta = pd.DataFrame(\n",
    "[[0,1,0,2]],\n",
    "columns=['f1','f2','f3','f4']\n",
    ")\n",
    "delta = delta.loc[0]\n",
    "delta"
   ]
  },
  {
   "cell_type": "code",
   "execution_count": null,
   "id": "60eaaf17",
   "metadata": {},
   "outputs": [],
   "source": [
    "A_SR_N = A_C_N(C=\"AD\", N=\"greedy\")\n",
    "A_SR_N.solve(S, delta=delta)"
   ]
  },
  {
   "cell_type": "code",
   "execution_count": null,
   "id": "2956b1af",
   "metadata": {},
   "outputs": [],
   "source": []
  },
  {
   "cell_type": "code",
   "execution_count": null,
   "id": "afc3433b",
   "metadata": {},
   "outputs": [],
   "source": []
  },
  {
   "cell_type": "code",
   "execution_count": null,
   "id": "c4a8b78a",
   "metadata": {},
   "outputs": [],
   "source": []
  },
  {
   "cell_type": "code",
   "execution_count": null,
   "id": "e9875241",
   "metadata": {},
   "outputs": [],
   "source": []
  },
  {
   "cell_type": "code",
   "execution_count": null,
   "id": "34650ab8",
   "metadata": {},
   "outputs": [],
   "source": []
  },
  {
   "cell_type": "code",
   "execution_count": null,
   "id": "b4d359ec",
   "metadata": {},
   "outputs": [],
   "source": []
  },
  {
   "cell_type": "code",
   "execution_count": null,
   "id": "766ed5ec",
   "metadata": {},
   "outputs": [],
   "source": []
  },
  {
   "cell_type": "code",
   "execution_count": null,
   "id": "ea31e464",
   "metadata": {},
   "outputs": [],
   "source": []
  },
  {
   "cell_type": "code",
   "execution_count": null,
   "id": "c331819e",
   "metadata": {},
   "outputs": [],
   "source": []
  },
  {
   "cell_type": "code",
   "execution_count": null,
   "id": "a5134720",
   "metadata": {},
   "outputs": [],
   "source": []
  },
  {
   "cell_type": "code",
   "execution_count": null,
   "id": "33ae87fb",
   "metadata": {},
   "outputs": [],
   "source": []
  },
  {
   "cell_type": "code",
   "execution_count": null,
   "id": "73c1149e",
   "metadata": {},
   "outputs": [],
   "source": []
  },
  {
   "cell_type": "code",
   "execution_count": null,
   "id": "4cf30ba3",
   "metadata": {},
   "outputs": [],
   "source": []
  },
  {
   "cell_type": "code",
   "execution_count": null,
   "id": "45a67b85",
   "metadata": {},
   "outputs": [],
   "source": []
  },
  {
   "cell_type": "code",
   "execution_count": null,
   "id": "0ba605ae",
   "metadata": {},
   "outputs": [],
   "source": []
  },
  {
   "cell_type": "code",
   "execution_count": null,
   "id": "739e9cbc",
   "metadata": {},
   "outputs": [],
   "source": []
  },
  {
   "cell_type": "code",
   "execution_count": null,
   "id": "22b5b0c0",
   "metadata": {},
   "outputs": [],
   "source": []
  },
  {
   "cell_type": "code",
   "execution_count": null,
   "id": "8f4dc0be",
   "metadata": {},
   "outputs": [],
   "source": []
  },
  {
   "cell_type": "code",
   "execution_count": null,
   "id": "67f97dc6",
   "metadata": {},
   "outputs": [],
   "source": []
  },
  {
   "cell_type": "code",
   "execution_count": null,
   "id": "6163c63b",
   "metadata": {},
   "outputs": [],
   "source": []
  },
  {
   "cell_type": "code",
   "execution_count": null,
   "id": "691d7108",
   "metadata": {},
   "outputs": [],
   "source": []
  },
  {
   "cell_type": "code",
   "execution_count": null,
   "id": "b012b8f1",
   "metadata": {},
   "outputs": [],
   "source": []
  },
  {
   "cell_type": "code",
   "execution_count": null,
   "id": "5a600f23",
   "metadata": {},
   "outputs": [],
   "source": []
  },
  {
   "cell_type": "code",
   "execution_count": null,
   "id": "ec787f2e",
   "metadata": {},
   "outputs": [],
   "source": []
  },
  {
   "cell_type": "code",
   "execution_count": null,
   "id": "85b34dc5",
   "metadata": {},
   "outputs": [],
   "source": []
  },
  {
   "cell_type": "code",
   "execution_count": null,
   "id": "644e4b60",
   "metadata": {},
   "outputs": [],
   "source": []
  },
  {
   "cell_type": "code",
   "execution_count": null,
   "id": "a88c08ff",
   "metadata": {},
   "outputs": [],
   "source": []
  },
  {
   "cell_type": "code",
   "execution_count": null,
   "id": "c5e34693",
   "metadata": {},
   "outputs": [],
   "source": []
  },
  {
   "cell_type": "code",
   "execution_count": null,
   "id": "2ff1c830",
   "metadata": {},
   "outputs": [],
   "source": []
  },
  {
   "cell_type": "code",
   "execution_count": null,
   "id": "18dd4c4f",
   "metadata": {},
   "outputs": [],
   "source": [
    "S = pd.DataFrame(\n",
    "[[np.nan,1,1,np.nan,1],\n",
    "[0,1,0,np.nan,2],\n",
    "[0,np.nan,0,np.nan,2],\n",
    "[0,0,0,np.nan,3],\n",
    "[0,1,np.nan,np.nan,3],\n",
    "[np.nan,np.nan,np.nan,np.nan,3]],\n",
    "columns=['f1','f2','f3','f4','class']\n",
    ")\n",
    "S"
   ]
  },
  {
   "cell_type": "code",
   "execution_count": null,
   "id": "074a427f",
   "metadata": {},
   "outputs": [],
   "source": [
    "def R_AD(S):\n",
    "    to_remove = set()\n",
    "    n = len(S)\n",
    "\n",
    "    for i in range(n):\n",
    "        for j in range(i+1, n):\n",
    "            if i in to_remove or j in to_remove:\n",
    "                continue\n",
    "            r1, r2 = S.iloc[i], S.iloc[j]\n",
    "            # Check if r1 is a subset of r2\n",
    "            if all(np.isnan(r1[k]) or r1[k] == r2[k] for k in S.columns):\n",
    "                to_remove.add(j)\n",
    "            # Check if r2 is a subset of r1\n",
    "            elif all(np.isnan(r2[k]) or r2[k] == r1[k] for k in S.columns):\n",
    "                to_remove.add(i)\n",
    "\n",
    "    return S.drop(S.index[list(to_remove)])\n"
   ]
  },
  {
   "cell_type": "code",
   "execution_count": null,
   "id": "a9521df5",
   "metadata": {},
   "outputs": [],
   "source": [
    "R_AD(S)"
   ]
  },
  {
   "cell_type": "code",
   "execution_count": null,
   "id": "8706275c",
   "metadata": {},
   "outputs": [],
   "source": []
  },
  {
   "cell_type": "code",
   "execution_count": null,
   "id": "5bcd169b",
   "metadata": {},
   "outputs": [],
   "source": []
  },
  {
   "cell_type": "code",
   "execution_count": null,
   "id": "3c9871d4",
   "metadata": {},
   "outputs": [],
   "source": []
  },
  {
   "cell_type": "code",
   "execution_count": null,
   "id": "0136f00b",
   "metadata": {},
   "outputs": [],
   "source": []
  },
  {
   "cell_type": "code",
   "execution_count": null,
   "id": "17f33c15",
   "metadata": {},
   "outputs": [],
   "source": []
  },
  {
   "cell_type": "code",
   "execution_count": null,
   "id": "6cd56388",
   "metadata": {},
   "outputs": [],
   "source": []
  },
  {
   "cell_type": "code",
   "execution_count": null,
   "id": "ccc3b618",
   "metadata": {},
   "outputs": [],
   "source": []
  },
  {
   "cell_type": "code",
   "execution_count": null,
   "id": "e3b6d407",
   "metadata": {},
   "outputs": [],
   "source": []
  },
  {
   "cell_type": "code",
   "execution_count": null,
   "id": "d82caca0",
   "metadata": {},
   "outputs": [],
   "source": []
  },
  {
   "cell_type": "code",
   "execution_count": null,
   "id": "c2031397",
   "metadata": {},
   "outputs": [],
   "source": [
    "def R_SR(S):\n",
    "    \"\"\"\n",
    "    Reduces S, with SR reduction\n",
    "    input: S - system of decision rules (pandas DataFrame)\n",
    "    output: SR_reduced - subset of S as defined in the paper (pandas DataFrame)\n",
    "    \"\"\"\n",
    "    \n",
    "    attr, value = alpha\n",
    "\n",
    "    # Keep rows where the attr is NaN or equals the specified value\n",
    "    S = S[(S[attr].isna()) | (S[attr] == value)]\n",
    "    \n",
    "    #Make NaN the values\n",
    "    S.loc[~S[attr].isna(), attr] = np.nan\n",
    "\n",
    "    return S"
   ]
  },
  {
   "cell_type": "code",
   "execution_count": null,
   "id": "316b3a4c",
   "metadata": {},
   "outputs": [],
   "source": []
  },
  {
   "cell_type": "code",
   "execution_count": null,
   "id": "e2da2f08",
   "metadata": {},
   "outputs": [],
   "source": []
  },
  {
   "cell_type": "code",
   "execution_count": null,
   "id": "357c2e1a",
   "metadata": {},
   "outputs": [],
   "source": [
    "S1 = SAlphaStep(S, (\"f1\", 0))\n",
    "S1"
   ]
  },
  {
   "cell_type": "code",
   "execution_count": null,
   "id": "281defb9",
   "metadata": {},
   "outputs": [],
   "source": [
    "S2 = SAlphaStep(S1, (\"f2\", 1))\n",
    "S2"
   ]
  },
  {
   "cell_type": "code",
   "execution_count": null,
   "id": "76967855",
   "metadata": {},
   "outputs": [],
   "source": [
    "S3 = SAlphaStep(S2, (\"f3\", 1))\n",
    "S3"
   ]
  },
  {
   "cell_type": "code",
   "execution_count": null,
   "id": "df10a84e",
   "metadata": {},
   "outputs": [],
   "source": [
    "S4 = SAlphaStep(S3, (\"f4\", 1))\n",
    "S4"
   ]
  },
  {
   "cell_type": "code",
   "execution_count": null,
   "id": "089be713",
   "metadata": {},
   "outputs": [],
   "source": [
    "S4.loc[5]"
   ]
  },
  {
   "cell_type": "code",
   "execution_count": null,
   "id": "03a8bbc4",
   "metadata": {},
   "outputs": [],
   "source": [
    "S4.index.tolist()"
   ]
  },
  {
   "cell_type": "code",
   "execution_count": null,
   "id": "b2b78a24",
   "metadata": {},
   "outputs": [],
   "source": [
    "S4.loc[[0,5]]"
   ]
  },
  {
   "cell_type": "code",
   "execution_count": null,
   "id": "c3a5fcf5",
   "metadata": {},
   "outputs": [],
   "source": [
    "r = S4.loc[5]\n",
    "r"
   ]
  },
  {
   "cell_type": "code",
   "execution_count": null,
   "id": "c902a2fc",
   "metadata": {},
   "outputs": [],
   "source": [
    "r[\"class\"]"
   ]
  },
  {
   "cell_type": "code",
   "execution_count": null,
   "id": "3eea70e4",
   "metadata": {},
   "outputs": [],
   "source": [
    "A_EAR_N = A_C_N(C=\"EAR\", N=\"cover\")\n",
    "A_EAR_N.solve(S, delta=123)"
   ]
  },
  {
   "cell_type": "code",
   "execution_count": null,
   "id": "ef25e21c",
   "metadata": {},
   "outputs": [],
   "source": []
  },
  {
   "cell_type": "code",
   "execution_count": null,
   "id": "98499168",
   "metadata": {},
   "outputs": [],
   "source": [
    "delta[\"f1\"]"
   ]
  },
  {
   "cell_type": "code",
   "execution_count": null,
   "id": "33569df4",
   "metadata": {},
   "outputs": [],
   "source": [
    "S = pd.DataFrame(\n",
    "[[np.nan,np.nan,np.nan,np.nan,1],\n",
    "[np.nan,np.nan,np.nan,np.nan,2],\n",
    "[np.nan,np.nan,np.nan,np.nan,2],\n",
    "[np.nan,np.nan,np.nan,np.nan,3],\n",
    "[np.nan,np.nan,np.nan,np.nan,3],\n",
    "[np.nan,np.nan,np.nan,np.nan,3]],\n",
    "columns=['f1','f2','f3','f4','class']\n",
    ")\n",
    "S"
   ]
  },
  {
   "cell_type": "code",
   "execution_count": null,
   "id": "2b5923d4",
   "metadata": {},
   "outputs": [],
   "source": [
    "def NGreedy(S_max):\n",
    "    \"\"\"\n",
    "    input: S_max - subset of S as defined in the paper. (pandas DataFrame)\n",
    "    output: Node cover of S_max, set of indecies of columns that covers all rows\n",
    "    \"\"\"\n",
    "    B = set()\n",
    "    uncovered_rows = set(S_max.index)\n",
    "\n",
    "    # Number of columns excluding the last one\n",
    "    num_columns = S_max.shape[1] - 1\n",
    "\n",
    "    while uncovered_rows:\n",
    "        max_cover = 0\n",
    "        max_col = None\n",
    "\n",
    "        for col_index in range(num_columns):\n",
    "            if col_index in B:\n",
    "                continue  # Skip columns that have already been chosen\n",
    "                \n",
    "            cover = S_max.index[S_max[col].notna()].intersection(uncovered_rows)\n",
    "            if len(cover) > max_cover:\n",
    "                max_cover = len(cover)\n",
    "                max_col_index = col_index\n",
    "\n",
    "        if max_col_index is None:\n",
    "            # No more columns to cover rows, break out\n",
    "            break\n",
    "\n",
    "        # Add the column index to B and remove covered rows from consideration\n",
    "        B.add(max_col_index)\n",
    "        uncovered_rows -= set(S_max.index[S_max[max_col].notna()])\n",
    "\n",
    "    return B\n",
    "\n",
    "NGreedy(S)"
   ]
  },
  {
   "cell_type": "code",
   "execution_count": null,
   "id": "18176da1",
   "metadata": {},
   "outputs": [],
   "source": [
    "def NGreedy(S_max):\n",
    "    \"\"\"\n",
    "    input: S_max - subset of S as defined in the paper. (pandas DataFrame)\n",
    "    output: Node cover of S_max, set of indecies of columns that covers all rows\n",
    "    \"\"\"\n",
    "    B = set()\n",
    "    uncovered_rows = set(S_max.index)\n",
    "\n",
    "    while uncovered_rows:\n",
    "        # Find the column that covers the maximum number of uncovered rows\n",
    "        max_cover = 0\n",
    "        max_col = None\n",
    "\n",
    "        for col in S_max.columns:\n",
    "            if col in B:\n",
    "                continue  # Skip columns that have already been chosen\n",
    "            cover = S_max.index[S_max[col].notna()].intersection(uncovered_rows)\n",
    "            if len(cover) > max_cover:\n",
    "                max_cover = len(cover)\n",
    "                max_col = col\n",
    "\n",
    "        if max_col is None:\n",
    "            # No more columns to cover rows, break out\n",
    "            break\n",
    "\n",
    "        # Add the column to B and remove covered rows from consideration\n",
    "        B.add(max_col)\n",
    "        uncovered_rows -= set(S_max.index[S_max[max_col].notna()])\n",
    "\n",
    "    return B\n",
    "\n",
    "NGreedy(S)"
   ]
  },
  {
   "cell_type": "code",
   "execution_count": null,
   "id": "d0a56a71",
   "metadata": {},
   "outputs": [],
   "source": [
    "r1 = S.iloc[0][:-1]"
   ]
  },
  {
   "cell_type": "code",
   "execution_count": null,
   "id": "273b0557",
   "metadata": {},
   "outputs": [],
   "source": [
    "A_r1 = set(r1[r1.notna()].index)\n",
    "A_r1"
   ]
  },
  {
   "cell_type": "code",
   "execution_count": null,
   "id": "b3a8a10d",
   "metadata": {},
   "outputs": [],
   "source": [
    "def NGreedy(S_max):\n",
    "    \"\"\"\n",
    "    input: S_max - subset of S as defined in the paper. (pandas DataFrame)\n",
    "    output: Node cover of S_max, set of indecies of columns that covers all rows\n",
    "    \"\"\"\n",
    "    B = set()\n",
    "    uncovered_rows = set(S_max.index)\n",
    "\n",
    "    # Number of columns excluding the last one\n",
    "    num_columns = S_max.shape[1] - 1\n",
    "\n",
    "    while uncovered_rows:\n",
    "        max_cover = 0\n",
    "        max_col_index = None\n",
    "\n",
    "        for col_index in range(num_columns):\n",
    "            if col_index in B:\n",
    "                continue  # Skip columns that have already been chosen\n",
    "\n",
    "            cover = S_max.index[S_max.iloc[:, col_index].notna()].intersection(uncovered_rows)\n",
    "            if len(cover) > max_cover:\n",
    "                max_cover = len(cover)\n",
    "                max_col_index = col_index\n",
    "\n",
    "        if max_col_index is None:\n",
    "            # No more columns to cover rows, break out\n",
    "            break\n",
    "\n",
    "        # Add the column index to B and remove covered rows from consideration\n",
    "        B.add(max_col_index)\n",
    "        uncovered_rows -= set(S_max.index[S_max.iloc[:, max_col_index].notna()])\n",
    "\n",
    "    return B"
   ]
  },
  {
   "cell_type": "code",
   "execution_count": null,
   "id": "2e75751a",
   "metadata": {},
   "outputs": [],
   "source": []
  },
  {
   "cell_type": "code",
   "execution_count": null,
   "id": "f6b688ac",
   "metadata": {},
   "outputs": [],
   "source": []
  },
  {
   "cell_type": "code",
   "execution_count": null,
   "id": "641e2c3c",
   "metadata": {},
   "outputs": [],
   "source": []
  },
  {
   "cell_type": "code",
   "execution_count": null,
   "id": "9047671d",
   "metadata": {},
   "outputs": [],
   "source": []
  },
  {
   "cell_type": "code",
   "execution_count": null,
   "id": "10c3a0eb",
   "metadata": {},
   "outputs": [],
   "source": []
  },
  {
   "cell_type": "code",
   "execution_count": null,
   "id": "6ef6b3e3",
   "metadata": {},
   "outputs": [],
   "source": [
    "class A_C_N:\n",
    "    def __init__(self, C=\"EAR\", N=\"cover\"):\n",
    "        \"\"\"\n",
    "        C - type of problem:\n",
    "            AR - All Rules\n",
    "            EAR - Extended All Rules\n",
    "            SR - Some Rules\n",
    "            ESR - Extended Some Rules\n",
    "            AD - All Decisions\n",
    "            EAD - Extended All Decisions\n",
    "        N - type of Node Cover Algorithm:\n",
    "            cover\n",
    "            greedy\n",
    "        \"\"\"\n",
    "        self.C = C\n",
    "        self.N = N\n",
    "        \n",
    "    def forward(self, S, delta):\n",
    "        \"\"\"\n",
    "        S - System of Decision Rules (pandas DataFrame)\n",
    "        delta - tuple of attribute values from the set V_C\n",
    "        \"\"\"\n",
    "        if self.C == \"EAR\" and self.N == \"cover\":\n",
    "            Q = S.copy()\n",
    "            \n",
    "            Q_plus = SPlus(Q)\n",
    "            B = NCover(Q_plus)\n",
    "            \n",
    "            \n",
    "            "
   ]
  },
  {
   "cell_type": "code",
   "execution_count": null,
   "id": "8679cddc",
   "metadata": {},
   "outputs": [],
   "source": []
  },
  {
   "cell_type": "code",
   "execution_count": null,
   "id": "c53fb9bb",
   "metadata": {},
   "outputs": [],
   "source": []
  },
  {
   "cell_type": "code",
   "execution_count": null,
   "id": "e7e223b1",
   "metadata": {},
   "outputs": [],
   "source": []
  },
  {
   "cell_type": "code",
   "execution_count": null,
   "id": "7bae0e9b",
   "metadata": {},
   "outputs": [],
   "source": []
  },
  {
   "cell_type": "code",
   "execution_count": null,
   "id": "550cfe6a",
   "metadata": {},
   "outputs": [],
   "source": []
  },
  {
   "cell_type": "code",
   "execution_count": null,
   "id": "621abd00",
   "metadata": {},
   "outputs": [],
   "source": []
  },
  {
   "cell_type": "code",
   "execution_count": null,
   "id": "58b87a4d",
   "metadata": {},
   "outputs": [],
   "source": []
  },
  {
   "cell_type": "code",
   "execution_count": null,
   "id": "600dacc4",
   "metadata": {},
   "outputs": [],
   "source": []
  },
  {
   "cell_type": "code",
   "execution_count": null,
   "id": "a70e0517",
   "metadata": {},
   "outputs": [],
   "source": []
  },
  {
   "cell_type": "code",
   "execution_count": null,
   "id": "187a7b73",
   "metadata": {},
   "outputs": [],
   "source": []
  },
  {
   "cell_type": "code",
   "execution_count": null,
   "id": "d85a9f6e",
   "metadata": {},
   "outputs": [],
   "source": []
  },
  {
   "cell_type": "code",
   "execution_count": null,
   "id": "1c41a069",
   "metadata": {},
   "outputs": [],
   "source": [
    "def SAlpha(S, alpha):\n",
    "    \"\"\"\n",
    "    input: S - system of decision rules (pandas DataFrame)\n",
    "           alpha - tuple of equations of the for ((a_i = delta_j), ...)\n",
    "    output: S_alpha - subset of S as defined in the paper. (pandas DataFrame)\n",
    "    \"\"\"\n",
    "\n",
    "    for col, value in alpha:\n",
    "        # Keep rows where the column is NaN or equals the specified value\n",
    "        S = S[(S[col].isna()) | (S[col] == value)]\n",
    "\n",
    "    for col, _ in alpha:\n",
    "        S.loc[~S[col].isna(), col] = np.nan\n",
    "\n",
    "    return S"
   ]
  },
  {
   "cell_type": "code",
   "execution_count": null,
   "id": "36e1dfb4",
   "metadata": {},
   "outputs": [],
   "source": [
    "SAlpha(S_max, ((\"f1\", 0), (\"f4\", 3), (\"f2\", 1)))"
   ]
  },
  {
   "cell_type": "code",
   "execution_count": null,
   "id": "25e03fd8",
   "metadata": {},
   "outputs": [],
   "source": []
  },
  {
   "cell_type": "code",
   "execution_count": null,
   "id": "0e018bcd",
   "metadata": {},
   "outputs": [],
   "source": []
  },
  {
   "cell_type": "code",
   "execution_count": null,
   "id": "0c25b933",
   "metadata": {},
   "outputs": [],
   "source": []
  },
  {
   "cell_type": "code",
   "execution_count": null,
   "id": "73efb55c",
   "metadata": {},
   "outputs": [],
   "source": []
  },
  {
   "cell_type": "code",
   "execution_count": null,
   "id": "303ec705",
   "metadata": {},
   "outputs": [],
   "source": []
  },
  {
   "cell_type": "code",
   "execution_count": null,
   "id": "a6cfac20",
   "metadata": {},
   "outputs": [],
   "source": []
  },
  {
   "cell_type": "code",
   "execution_count": null,
   "id": "21eff58a",
   "metadata": {},
   "outputs": [],
   "source": []
  },
  {
   "cell_type": "code",
   "execution_count": null,
   "id": "fb0edf27",
   "metadata": {},
   "outputs": [],
   "source": []
  },
  {
   "cell_type": "code",
   "execution_count": null,
   "id": "44456cdc",
   "metadata": {},
   "outputs": [],
   "source": []
  },
  {
   "cell_type": "code",
   "execution_count": null,
   "id": "19141347",
   "metadata": {},
   "outputs": [],
   "source": []
  },
  {
   "cell_type": "code",
   "execution_count": null,
   "id": "cc624b10",
   "metadata": {},
   "outputs": [],
   "source": [
    "Ncover(S_plus_ex)"
   ]
  },
  {
   "cell_type": "code",
   "execution_count": null,
   "id": "3f2cd79f",
   "metadata": {},
   "outputs": [],
   "source": [
    "r1 = S_plus_ex.iloc[0]\n",
    "# Create A_r1: set of indices (integer positions) where r1 is not NaN\n",
    "A_r1 = set(r1[r1.notna()].index.tolist())\n",
    "A_r1"
   ]
  },
  {
   "cell_type": "code",
   "execution_count": null,
   "id": "5e66c571",
   "metadata": {},
   "outputs": [],
   "source": [
    "def Ncover(S_plus):\n",
    "    B = set()\n",
    "    while len(S_plus):\n",
    "        r1 = S_plus.iloc[0]\n",
    "        A_r1 = set(np.where(r1[:-1].notna())[0])\n",
    "        print(A_r1)\n",
    "        B = B.union(A_r1)\n",
    "        for row in range(len(S_plus)):\n",
    "            drop \n",
    "            r = S_plus.iloc[row]\n",
    "            A_r = set(np.where(r[:-1].notna())[0])\n",
    "            print(A_r)\n",
    "            if A_r1 & A_r:\n",
    "                S_plus = S_plus.drop(row)\n",
    "        print(S_plus)\n",
    "        break\n",
    "    return B\n",
    "                \n",
    "            "
   ]
  },
  {
   "cell_type": "code",
   "execution_count": null,
   "id": "80f94547",
   "metadata": {},
   "outputs": [],
   "source": [
    "Ncover(S_plus_ex)"
   ]
  },
  {
   "cell_type": "code",
   "execution_count": null,
   "id": "88c040c4",
   "metadata": {},
   "outputs": [],
   "source": [
    "import pandas as pd\n",
    "\n",
    "def process_dataframe(df):\n",
    "    B = set()\n",
    "\n",
    "    while not df.empty:\n",
    "        # Select the first row\n",
    "        r1 = df.iloc[0]\n",
    "        # Create A_r1: set of indices (integer positions) where r1 is not NaN\n",
    "        A_r1 = set(r1[r1.notna()].index.tolist())\n",
    "        # Add A_r1 to B\n",
    "        B.update(A_r1)\n",
    "        \n",
    "        # Drop rows that have common elements in their index set with A_r1\n",
    "        rows_to_drop = []\n",
    "        for index, row in df.iterrows():\n",
    "            A_r = set(row[row.notna()].index.tolist())\n",
    "            if A_r1 & A_r:  # Check for common elements\n",
    "                rows_to_drop.append(index)\n",
    "        \n",
    "        df = df.drop(rows_to_drop)\n",
    "\n",
    "    return B\n"
   ]
  },
  {
   "cell_type": "code",
   "execution_count": null,
   "id": "1f17be65",
   "metadata": {},
   "outputs": [],
   "source": []
  },
  {
   "cell_type": "code",
   "execution_count": null,
   "id": "a5722f22",
   "metadata": {},
   "outputs": [],
   "source": [
    "for row in S_plus_ex:\n",
    "    print(row)"
   ]
  },
  {
   "cell_type": "code",
   "execution_count": null,
   "id": "e52dd1bb",
   "metadata": {},
   "outputs": [],
   "source": [
    "r1 = S_plus_ex.iloc[0]\n",
    "r1"
   ]
  },
  {
   "cell_type": "code",
   "execution_count": null,
   "id": "71cf6f89",
   "metadata": {},
   "outputs": [],
   "source": [
    "len(r1)"
   ]
  },
  {
   "cell_type": "code",
   "execution_count": null,
   "id": "f253ede9",
   "metadata": {},
   "outputs": [],
   "source": [
    "len(S_plus)"
   ]
  },
  {
   "cell_type": "code",
   "execution_count": null,
   "id": "fe28376f",
   "metadata": {},
   "outputs": [],
   "source": [
    "B = set()\n",
    "r1 = S_plus_ex.iloc[0]\n",
    "B = B.union([i for i in range(len(r1)) if r1[i] != np.nan])"
   ]
  },
  {
   "cell_type": "code",
   "execution_count": null,
   "id": "30928449",
   "metadata": {},
   "outputs": [],
   "source": [
    "B"
   ]
  },
  {
   "cell_type": "code",
   "execution_count": null,
   "id": "8bb57f57",
   "metadata": {},
   "outputs": [],
   "source": [
    "if r1[0]!=np.nan:\n",
    "    print(\"dff\")"
   ]
  },
  {
   "cell_type": "code",
   "execution_count": null,
   "id": "ddba5072",
   "metadata": {},
   "outputs": [],
   "source": [
    "r1[r1.notna()].index"
   ]
  },
  {
   "cell_type": "code",
   "execution_count": null,
   "id": "ff187272",
   "metadata": {},
   "outputs": [],
   "source": [
    "set(np.where(r1.notna())[0])"
   ]
  },
  {
   "cell_type": "code",
   "execution_count": null,
   "id": "d5f88243",
   "metadata": {},
   "outputs": [],
   "source": [
    "np.where(r1.notna())"
   ]
  },
  {
   "cell_type": "code",
   "execution_count": null,
   "id": "f0b86eab",
   "metadata": {},
   "outputs": [],
   "source": [
    "non_nan_indices = set(np.where(row[:-1].notna())[0])"
   ]
  },
  {
   "cell_type": "code",
   "execution_count": null,
   "id": "76bd0ed4",
   "metadata": {},
   "outputs": [],
   "source": [
    "set(np.where(r1[:-1].notna())[0])"
   ]
  },
  {
   "cell_type": "code",
   "execution_count": null,
   "id": "362a33e4",
   "metadata": {},
   "outputs": [],
   "source": [
    "DecisionRules = pd.read_csv(\"./Datasets/car_DRules.csv\")"
   ]
  },
  {
   "cell_type": "code",
   "execution_count": null,
   "id": "6dc201e5",
   "metadata": {},
   "outputs": [],
   "source": [
    "DecisionRules"
   ]
  },
  {
   "cell_type": "code",
   "execution_count": null,
   "id": "5d69e012",
   "metadata": {},
   "outputs": [],
   "source": [
    "DecisionRules.iloc[579]"
   ]
  },
  {
   "cell_type": "code",
   "execution_count": null,
   "id": "0fd93072",
   "metadata": {},
   "outputs": [],
   "source": []
  },
  {
   "cell_type": "code",
   "execution_count": null,
   "id": "96957367",
   "metadata": {},
   "outputs": [],
   "source": [
    "\n"
   ]
  },
  {
   "cell_type": "code",
   "execution_count": null,
   "id": "a0792213",
   "metadata": {},
   "outputs": [],
   "source": [
    "S_plus = Splus(DecisionRules)\n",
    "S_plus"
   ]
  },
  {
   "cell_type": "code",
   "execution_count": null,
   "id": "76ee55fe",
   "metadata": {},
   "outputs": [],
   "source": [
    "S_plus.loc[579][0]"
   ]
  },
  {
   "cell_type": "code",
   "execution_count": null,
   "id": "68613bd2",
   "metadata": {},
   "outputs": [],
   "source": [
    "S_plus.iloc[0][0]"
   ]
  },
  {
   "cell_type": "code",
   "execution_count": null,
   "id": "d1235602",
   "metadata": {},
   "outputs": [],
   "source": []
  },
  {
   "cell_type": "code",
   "execution_count": null,
   "id": "d5cf06a1",
   "metadata": {},
   "outputs": [],
   "source": [
    "S_max = Smax(S_plus)\n",
    "S_max"
   ]
  },
  {
   "cell_type": "code",
   "execution_count": null,
   "id": "8727d395",
   "metadata": {},
   "outputs": [],
   "source": []
  },
  {
   "cell_type": "code",
   "execution_count": null,
   "id": "93a96a18",
   "metadata": {},
   "outputs": [],
   "source": [
    "example_DRules = pd.read_csv(\"./Datasets/example_DRules.csv\")\n",
    "example_DRules"
   ]
  },
  {
   "cell_type": "code",
   "execution_count": null,
   "id": "fa10a277",
   "metadata": {},
   "outputs": [],
   "source": [
    "S_plus = Splus(example_DRules)\n",
    "S_plus"
   ]
  },
  {
   "cell_type": "code",
   "execution_count": null,
   "id": "cb510412",
   "metadata": {},
   "outputs": [],
   "source": [
    "example_DTable = pd.DataFrame(\n",
    "[[1,1,1,1],\n",
    "[0,1,0,2],\n",
    "[0,1,0,2],\n",
    "[0,0,1,3],\n",
    "[0,0,1,3]],\n",
    "columns=['f1','f2','f3','class']\n",
    ")"
   ]
  },
  {
   "cell_type": "code",
   "execution_count": null,
   "id": "0a332b76",
   "metadata": {},
   "outputs": [],
   "source": [
    "example_DTable"
   ]
  },
  {
   "cell_type": "code",
   "execution_count": null,
   "id": "bec546c7",
   "metadata": {},
   "outputs": [],
   "source": [
    "S_plus = Splus(example_DTable)\n",
    "S_plus"
   ]
  },
  {
   "cell_type": "code",
   "execution_count": null,
   "id": "8055d8f7",
   "metadata": {},
   "outputs": [],
   "source": [
    "S_max = Smax(S_plus)\n",
    "S_max"
   ]
  },
  {
   "cell_type": "code",
   "execution_count": null,
   "id": "c0a9810f",
   "metadata": {},
   "outputs": [],
   "source": []
  }
 ],
 "metadata": {
  "kernelspec": {
   "display_name": "Python 3 (ipykernel)",
   "language": "python",
   "name": "python3"
  },
  "language_info": {
   "codemirror_mode": {
    "name": "ipython",
    "version": 3
   },
   "file_extension": ".py",
   "mimetype": "text/x-python",
   "name": "python",
   "nbconvert_exporter": "python",
   "pygments_lexer": "ipython3",
   "version": "3.9.12"
  }
 },
 "nbformat": 4,
 "nbformat_minor": 5
}
