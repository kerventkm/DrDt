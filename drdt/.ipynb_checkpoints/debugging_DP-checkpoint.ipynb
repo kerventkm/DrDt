{
 "cells": [
  {
   "cell_type": "code",
   "execution_count": 1,
   "id": "f24488bc",
   "metadata": {},
   "outputs": [],
   "source": [
    "import numpy as np \n",
    "import pandas as pd\n",
    "import networkx as nx\n",
    "\n",
    "from sklearn.model_selection import train_test_split\n",
    "from tqdm import tqdm\n",
    "from ucimlrepo import fetch_ucirepo\n",
    "\n",
    "from Algorithms import A_C_N, A_C_G, DynamicProgrammingAlgorithms\n",
    "from helper_functions import DecisionRuleCreatorFromDecisionTable, Reduction, R_AR, R_SR, R_AD, SAlphaStep"
   ]
  },
  {
   "cell_type": "code",
   "execution_count": 2,
   "id": "4bc1b335",
   "metadata": {},
   "outputs": [
    {
     "data": {
      "text/html": [
       "<div>\n",
       "<style scoped>\n",
       "    .dataframe tbody tr th:only-of-type {\n",
       "        vertical-align: middle;\n",
       "    }\n",
       "\n",
       "    .dataframe tbody tr th {\n",
       "        vertical-align: top;\n",
       "    }\n",
       "\n",
       "    .dataframe thead th {\n",
       "        text-align: right;\n",
       "    }\n",
       "</style>\n",
       "<table border=\"1\" class=\"dataframe\">\n",
       "  <thead>\n",
       "    <tr style=\"text-align: right;\">\n",
       "      <th></th>\n",
       "      <th>node-caps</th>\n",
       "      <th>deg-malig</th>\n",
       "      <th>class</th>\n",
       "    </tr>\n",
       "  </thead>\n",
       "  <tbody>\n",
       "    <tr>\n",
       "      <th>1</th>\n",
       "      <td>NaN</td>\n",
       "      <td>NaN</td>\n",
       "      <td>no-recurrence-events</td>\n",
       "    </tr>\n",
       "    <tr>\n",
       "      <th>2</th>\n",
       "      <td>no</td>\n",
       "      <td>2.0</td>\n",
       "      <td>no-recurrence-events</td>\n",
       "    </tr>\n",
       "  </tbody>\n",
       "</table>\n",
       "</div>"
      ],
      "text/plain": [
       "  node-caps  deg-malig                 class\n",
       "1       NaN        NaN  no-recurrence-events\n",
       "2        no        2.0  no-recurrence-events"
      ]
     },
     "execution_count": 2,
     "metadata": {},
     "output_type": "execute_result"
    }
   ],
   "source": [
    "S = pd.read_csv(\"./Datasets/DecisionRuleSystems/DRS_breast_cancer\")\n",
    "S"
   ]
  },
  {
   "cell_type": "code",
   "execution_count": 3,
   "id": "a6702e8e",
   "metadata": {},
   "outputs": [],
   "source": [
    "alg = DynamicProgrammingAlgorithms(C=\"EAR\")"
   ]
  },
  {
   "cell_type": "code",
   "execution_count": 4,
   "id": "3ffad308",
   "metadata": {},
   "outputs": [
    {
     "name": "stdout",
     "output_type": "stream",
     "text": [
      "attribute =  node-caps\n",
      "delta =  no\n",
      "delta_type =  <class 'str'>\n",
      "data =    node-caps  deg-malig                 class\n",
      "1       NaN        NaN  no-recurrence-events\n",
      "2       NaN        2.0  no-recurrence-events\n",
      "attribute =  node-caps\n",
      "delta =  *\n",
      "delta_type =  <class 'str'>\n",
      "data =    node-caps  deg-malig                 class\n",
      "1       NaN        NaN  no-recurrence-events\n",
      "attribute =  deg-malig\n",
      "delta =  2.0\n",
      "delta_type =  <class 'float'>\n",
      "data =    node-caps  deg-malig                 class\n",
      "1       NaN        NaN  no-recurrence-events\n",
      "2        no        NaN  no-recurrence-events\n",
      "attribute =  deg-malig\n",
      "delta =  *\n",
      "delta_type =  <class 'numpy.str_'>\n",
      "data =    node-caps  deg-malig                 class\n",
      "1       NaN        NaN  no-recurrence-events\n",
      "attribute =  deg-malig\n",
      "delta =  2.0\n",
      "delta_type =  <class 'float'>\n",
      "data =    node-caps  deg-malig                 class\n",
      "1       NaN        NaN  no-recurrence-events\n",
      "2       NaN        NaN  no-recurrence-events\n",
      "attribute =  deg-malig\n",
      "delta =  *\n",
      "delta_type =  <class 'numpy.str_'>\n",
      "data =    node-caps  deg-malig                 class\n",
      "1       NaN        NaN  no-recurrence-events\n",
      "attribute =  node-caps\n",
      "delta =  no\n",
      "delta_type =  <class 'str'>\n",
      "data =    node-caps  deg-malig                 class\n",
      "1       NaN        NaN  no-recurrence-events\n",
      "2       NaN        NaN  no-recurrence-events\n",
      "attribute =  node-caps\n",
      "delta =  *\n",
      "delta_type =  <class 'str'>\n",
      "data =    node-caps  deg-malig                 class\n",
      "1       NaN        NaN  no-recurrence-events\n"
     ]
    },
    {
     "data": {
      "text/plain": [
       "2"
      ]
     },
     "execution_count": 4,
     "metadata": {},
     "output_type": "execute_result"
    }
   ],
   "source": [
    "depth = alg.A_DP(S)\n",
    "depth"
   ]
  },
  {
   "cell_type": "code",
   "execution_count": null,
   "id": "abe6bd0f",
   "metadata": {},
   "outputs": [],
   "source": [
    "def DAG_EC(S):\n",
    "    \"\"\"Construct the DAG based on the decision rule system S.\"\"\"\n",
    "\n",
    "    DAG = nx.MultiDiGraph()\n",
    "    DAG.add_node(id(S), data=S, processed=False, H=None, best_attr=None)\n",
    "\n",
    "    def process_node(Q, DAG):\n",
    "        \"\"\"Process a node by checking applicable rules and updating the DAG.\"\"\"\n",
    "        if (Q.empty or Q.iloc[:, :-1].isna().all().all()):\n",
    "            DAG.nodes[id(Q)]['processed'] = True\n",
    "            DAG.nodes[id(Q)]['H'] = 0\n",
    "            return\n",
    "\n",
    "        for a in Q.columns[Q.notna().any()].tolist()[:-1]: # Finding columns with at least one non-NaN value\n",
    "            for delta in np.append(S[a].dropna().unique(), \"*\"):  # Find unique non-NaN values in column a\n",
    "                new_node_data = SAlphaStep(Q, (a, delta if type(delta) in [str, np.str_] else float(delta)))\n",
    "                not_equal = True\n",
    "                for node in DAG.nodes:\n",
    "                    if new_node_data.equals(DAG.nodes[node]['data']):\n",
    "                        DAG.add_edge(id(Q), node, label=(a,delta))\n",
    "                        not_equal = False\n",
    "                        break\n",
    "                if not_equal:\n",
    "                    DAG.add_node(id(new_node_data), data=new_node_data, processed=False, H=None, best_attr=None)\n",
    "                    DAG.add_edge(id(Q), id(new_node_data), label=(a,delta))\n",
    "        # Mark the current node as processed\n",
    "        DAG.nodes[id(Q)]['processed'] = True\n",
    "\n",
    "    while not all(nx.get_node_attributes(DAG, 'processed').values()):\n",
    "        # Find a node that is not processed\n",
    "        for node in DAG.nodes:\n",
    "            if not DAG.nodes[node]['processed']:\n",
    "                process_node(DAG.nodes[node]['data'], DAG)\n",
    "                break # Move to next iteration after processing a node\n",
    "    return DAG"
   ]
  },
  {
   "cell_type": "code",
   "execution_count": null,
   "id": "64fa93b6",
   "metadata": {},
   "outputs": [],
   "source": [
    "G = DAG_EC(S)"
   ]
  },
  {
   "cell_type": "code",
   "execution_count": null,
   "id": "bdf46b11",
   "metadata": {},
   "outputs": [],
   "source": [
    "DAG"
   ]
  },
  {
   "cell_type": "code",
   "execution_count": null,
   "id": "5240eb55",
   "metadata": {},
   "outputs": [],
   "source": [
    "# Draw the graph\n",
    "pos = nx.spring_layout(G)  # positions for all nodes\n",
    "\n",
    "# Nodes\n",
    "nx.draw_networkx_nodes(G, pos, node_size=700)\n",
    "\n",
    "# Edges. The alpha attribute is for transparency\n",
    "nx.draw_networkx_edges(G, pos, width=2, alpha=0.5, edge_color='b', arrows=True)\n",
    "nx.draw_networkx_edges(G, pos, edgelist=[(1, 2), (1, 1)], width=2, alpha=0.5, edge_color='r', arrows=True)\n",
    "\n",
    "# Labels\n",
    "nx.draw_networkx_labels(G, pos, font_size=20, font_family='sans-serif')\n",
    "\n",
    "plt.axis('off')  # Turn off the axis\n",
    "plt.show()  # Display the graph\n"
   ]
  },
  {
   "cell_type": "code",
   "execution_count": null,
   "id": "cee54510",
   "metadata": {},
   "outputs": [],
   "source": []
  },
  {
   "cell_type": "code",
   "execution_count": null,
   "id": "ae49e1ad",
   "metadata": {},
   "outputs": [],
   "source": []
  },
  {
   "cell_type": "code",
   "execution_count": null,
   "id": "70b85aaf",
   "metadata": {},
   "outputs": [],
   "source": [
    "DT = alg.DT(S)\n",
    "DT"
   ]
  },
  {
   "cell_type": "code",
   "execution_count": null,
   "id": "b95db8d0",
   "metadata": {},
   "outputs": [],
   "source": [
    "alg = DynamicProgrammingAlgorithms(C=\"AR\")"
   ]
  },
  {
   "cell_type": "code",
   "execution_count": null,
   "id": "1c343ef0",
   "metadata": {},
   "outputs": [],
   "source": [
    "depth = alg.A_DP(S)\n",
    "depth"
   ]
  },
  {
   "cell_type": "code",
   "execution_count": null,
   "id": "e09f8793",
   "metadata": {},
   "outputs": [],
   "source": [
    "DT = alg.DT(S)\n",
    "DT"
   ]
  },
  {
   "cell_type": "code",
   "execution_count": null,
   "id": "e5d2e4b3",
   "metadata": {},
   "outputs": [],
   "source": []
  },
  {
   "cell_type": "code",
   "execution_count": null,
   "id": "15e93804",
   "metadata": {},
   "outputs": [],
   "source": []
  },
  {
   "cell_type": "code",
   "execution_count": null,
   "id": "c2fe3ae7",
   "metadata": {},
   "outputs": [],
   "source": []
  },
  {
   "cell_type": "code",
   "execution_count": null,
   "id": "97458274",
   "metadata": {},
   "outputs": [],
   "source": []
  },
  {
   "cell_type": "code",
   "execution_count": null,
   "id": "5024583b",
   "metadata": {},
   "outputs": [],
   "source": [
    "def SAlphaStep(S, alpha):\n",
    "    \"\"\"\n",
    "    input: S - system of decision rules (pandas DataFrame)\n",
    "           alpha - s tuple of the form (a_i, delta_j)\n",
    "    output: S_alpha - subset of S as defined in the paper.(just for 1 attribute) (pandas DataFrame)\n",
    "    \"\"\"\n",
    "    \n",
    "    attr, value = alpha\n",
    "\n",
    "    # Keep rows where the attr is NaN or equals the specified value\n",
    "    S = S[(S[attr].isna()) | (S[attr] == value)]\n",
    "    \n",
    "    #Make NaN the values\n",
    "#     S.loc[~S[attr].isna(), attr] = np.nan\n",
    "    S_copy = S.copy()\n",
    "    S_copy.loc[~S_copy[attr].isna(), attr] = np.nan\n",
    "    S = S_copy\n",
    "\n",
    "    return S"
   ]
  },
  {
   "cell_type": "code",
   "execution_count": null,
   "id": "5252e0e8",
   "metadata": {},
   "outputs": [],
   "source": [
    "S = pd.read_csv(\"./Datasets/DecisionRuleSystems/DRS_breast_cancer\")[1:3][[\"node-caps\", \"deg-malig\",\"class\"]]\n",
    "S"
   ]
  },
  {
   "cell_type": "code",
   "execution_count": null,
   "id": "1dba6d98",
   "metadata": {},
   "outputs": [],
   "source": [
    "SAlphaStep(S, (\"deg-malig\", \"2.0\"))"
   ]
  },
  {
   "cell_type": "code",
   "execution_count": null,
   "id": "cba31290",
   "metadata": {},
   "outputs": [],
   "source": [
    "S['deg-malig'][2]"
   ]
  },
  {
   "cell_type": "code",
   "execution_count": null,
   "id": "80638e6b",
   "metadata": {},
   "outputs": [],
   "source": []
  },
  {
   "cell_type": "code",
   "execution_count": null,
   "id": "e1ea62c5",
   "metadata": {},
   "outputs": [],
   "source": []
  }
 ],
 "metadata": {
  "kernelspec": {
   "display_name": "Python 3 (ipykernel)",
   "language": "python",
   "name": "python3"
  },
  "language_info": {
   "codemirror_mode": {
    "name": "ipython",
    "version": 3
   },
   "file_extension": ".py",
   "mimetype": "text/x-python",
   "name": "python",
   "nbconvert_exporter": "python",
   "pygments_lexer": "ipython3",
   "version": "3.9.12"
  }
 },
 "nbformat": 4,
 "nbformat_minor": 5
}
