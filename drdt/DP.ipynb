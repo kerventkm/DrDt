{
 "cells": [
  {
   "cell_type": "code",
   "execution_count": 1,
   "id": "af136561",
   "metadata": {},
   "outputs": [],
   "source": [
    "import numpy as np \n",
    "import pandas as pd\n",
    "import networkx as nx\n",
    "\n",
    "from sklearn.model_selection import train_test_split\n",
    "from tqdm import tqdm\n",
    "from ucimlrepo import fetch_ucirepo\n",
    "\n",
    "from Algorithms import A_C_N, A_C_G, DynamicProgrammingAlgorithms\n",
    "from helper_functions import DecisionRuleCreatorFromDecisionTable, Reduction, R_AR, R_SR, R_AD, SAlphaStep"
   ]
  },
  {
   "cell_type": "markdown",
   "id": "a19b09d3",
   "metadata": {},
   "source": [
    "### Example to DecisionRuleCreatorFromDecisionTable"
   ]
  },
  {
   "cell_type": "code",
   "execution_count": 2,
   "id": "51d7185f",
   "metadata": {},
   "outputs": [
    {
     "data": {
      "text/html": [
       "<div>\n",
       "<style scoped>\n",
       "    .dataframe tbody tr th:only-of-type {\n",
       "        vertical-align: middle;\n",
       "    }\n",
       "\n",
       "    .dataframe tbody tr th {\n",
       "        vertical-align: top;\n",
       "    }\n",
       "\n",
       "    .dataframe thead th {\n",
       "        text-align: right;\n",
       "    }\n",
       "</style>\n",
       "<table border=\"1\" class=\"dataframe\">\n",
       "  <thead>\n",
       "    <tr style=\"text-align: right;\">\n",
       "      <th></th>\n",
       "      <th>f1</th>\n",
       "      <th>f2</th>\n",
       "      <th>f3</th>\n",
       "      <th>class</th>\n",
       "    </tr>\n",
       "  </thead>\n",
       "  <tbody>\n",
       "    <tr>\n",
       "      <th>0</th>\n",
       "      <td>NaN</td>\n",
       "      <td>1</td>\n",
       "      <td>1.0</td>\n",
       "      <td>1</td>\n",
       "    </tr>\n",
       "    <tr>\n",
       "      <th>1</th>\n",
       "      <td>0.0</td>\n",
       "      <td>1</td>\n",
       "      <td>0.0</td>\n",
       "      <td>2</td>\n",
       "    </tr>\n",
       "    <tr>\n",
       "      <th>2</th>\n",
       "      <td>0.0</td>\n",
       "      <td>0</td>\n",
       "      <td>0.0</td>\n",
       "      <td>2</td>\n",
       "    </tr>\n",
       "    <tr>\n",
       "      <th>3</th>\n",
       "      <td>0.0</td>\n",
       "      <td>0</td>\n",
       "      <td>2.0</td>\n",
       "      <td>3</td>\n",
       "    </tr>\n",
       "    <tr>\n",
       "      <th>4</th>\n",
       "      <td>0.0</td>\n",
       "      <td>1</td>\n",
       "      <td>NaN</td>\n",
       "      <td>3</td>\n",
       "    </tr>\n",
       "    <tr>\n",
       "      <th>5</th>\n",
       "      <td>NaN</td>\n",
       "      <td>0</td>\n",
       "      <td>NaN</td>\n",
       "      <td>3</td>\n",
       "    </tr>\n",
       "  </tbody>\n",
       "</table>\n",
       "</div>"
      ],
      "text/plain": [
       "    f1  f2   f3  class\n",
       "0  NaN   1  1.0      1\n",
       "1  0.0   1  0.0      2\n",
       "2  0.0   0  0.0      2\n",
       "3  0.0   0  2.0      3\n",
       "4  0.0   1  NaN      3\n",
       "5  NaN   0  NaN      3"
      ]
     },
     "execution_count": 2,
     "metadata": {},
     "output_type": "execute_result"
    }
   ],
   "source": [
    "S = pd.DataFrame(\n",
    "[[np.nan,1,1,1],\n",
    "[0,1,0,2],\n",
    "[0,0,0,2],\n",
    "[0,0,2,3],\n",
    "[0,1,np.nan,3],\n",
    "[np.nan,0,np.nan,3]],\n",
    "columns=['f1','f2','f3','class']\n",
    ")\n",
    "S"
   ]
  },
  {
   "cell_type": "code",
   "execution_count": 3,
   "id": "6bc560c7",
   "metadata": {},
   "outputs": [],
   "source": [
    "alg = DynamicProgrammingAlgorithms(C=\"SR\")"
   ]
  },
  {
   "cell_type": "code",
   "execution_count": 4,
   "id": "e83f3d7a",
   "metadata": {},
   "outputs": [
    {
     "data": {
      "text/plain": [
       "{'f1': {0.0: {'f2': {1: {'Result': {4}}, 0: {'Result': {5}}}}}}"
      ]
     },
     "execution_count": 4,
     "metadata": {},
     "output_type": "execute_result"
    }
   ],
   "source": [
    "DT = alg.DT(S)\n",
    "DT"
   ]
  },
  {
   "cell_type": "code",
   "execution_count": 5,
   "id": "6cf4ebcc",
   "metadata": {},
   "outputs": [
    {
     "data": {
      "text/plain": [
       "2"
      ]
     },
     "execution_count": 5,
     "metadata": {},
     "output_type": "execute_result"
    }
   ],
   "source": [
    "depth = alg.A_DP(S)\n",
    "depth"
   ]
  },
  {
   "cell_type": "code",
   "execution_count": 6,
   "id": "17c5db2c",
   "metadata": {},
   "outputs": [
    {
     "data": {
      "image/png": "[encoded data removed]",
      "text/plain": [
       "<Figure size 864x576 with 1 Axes>"
      ]
     },
     "metadata": {},
     "output_type": "display_data"
    }
   ],
   "source": [
    "import networkx as nx\n",
    "import matplotlib.pyplot as plt\n",
    "\n",
    "# The given decision tree structure\n",
    "decision_tree = DT\n",
    "\n",
    "def parse_tree(tree, graph=None, parent=None, edge_label=''):\n",
    "    \"\"\"\n",
    "    Recursive function to parse the decision tree and build the graph.\n",
    "\n",
    "    Parameters:\n",
    "    - tree: nested dictionary representing the decision tree\n",
    "    - graph: the graph object from networkx\n",
    "    - parent: the parent node name\n",
    "    - edge_label: the label for the edge leading to the current node\n",
    "    \"\"\"\n",
    "    if graph is None:\n",
    "        graph = nx.DiGraph()\n",
    "\n",
    "    for key, value in tree.items():\n",
    "        if key == 'Result':\n",
    "            # Leaf node\n",
    "            node_name = f\"{value}\"\n",
    "            graph.add_node(node_name)\n",
    "            if parent is not None:\n",
    "                graph.add_edge(parent, node_name, label=edge_label)\n",
    "        else:\n",
    "            # Decision node\n",
    "            node_name = key\n",
    "            graph.add_node(node_name)\n",
    "            if parent is not None:\n",
    "                graph.add_edge(parent, node_name, label=edge_label)\n",
    "            for decision, subtree in value.items():\n",
    "                parse_tree(subtree, graph, node_name, str(decision))\n",
    "    return graph\n",
    "\n",
    "# Parse the decision tree and create the graph\n",
    "graph = parse_tree(decision_tree)\n",
    "\n",
    "# Plotting\n",
    "pos = nx.spring_layout(graph)  # Positioning the nodes based on spring layout\n",
    "plt.figure(figsize=(12, 8))\n",
    "\n",
    "# Draw nodes and edges\n",
    "nx.draw(graph, pos, with_labels=True, node_size=2000, node_color=\"lightblue\", font_size=10, font_weight=\"bold\")\n",
    "\n",
    "# Draw edge labels\n",
    "edge_labels = nx.get_edge_attributes(graph, 'label')\n",
    "nx.draw_networkx_edge_labels(graph, pos, edge_labels=edge_labels)\n",
    "\n",
    "plt.title(\"Decision Tree Visualization\")\n",
    "plt.axis('off')  # Turn off the axis\n",
    "plt.show()\n"
   ]
  },
  {
   "cell_type": "code",
   "execution_count": null,
   "id": "08570b3e",
   "metadata": {},
   "outputs": [],
   "source": []
  },
  {
   "cell_type": "code",
   "execution_count": null,
   "id": "fe3a0321",
   "metadata": {},
   "outputs": [],
   "source": []
  },
  {
   "cell_type": "code",
   "execution_count": null,
   "id": "7389d195",
   "metadata": {},
   "outputs": [],
   "source": []
  },
  {
   "cell_type": "code",
   "execution_count": null,
   "id": "a4ae83ad",
   "metadata": {},
   "outputs": [],
   "source": []
  },
  {
   "cell_type": "code",
   "execution_count": null,
   "id": "781cd696",
   "metadata": {},
   "outputs": [],
   "source": []
  },
  {
   "cell_type": "code",
   "execution_count": null,
   "id": "2172a270",
   "metadata": {},
   "outputs": [],
   "source": []
  },
  {
   "cell_type": "code",
   "execution_count": null,
   "id": "63cea8e4",
   "metadata": {},
   "outputs": [],
   "source": []
  },
  {
   "cell_type": "code",
   "execution_count": null,
   "id": "76f9c3fe",
   "metadata": {},
   "outputs": [],
   "source": []
  },
  {
   "cell_type": "code",
   "execution_count": null,
   "id": "517a3889",
   "metadata": {},
   "outputs": [],
   "source": []
  },
  {
   "cell_type": "code",
   "execution_count": null,
   "id": "d405652c",
   "metadata": {},
   "outputs": [],
   "source": []
  },
  {
   "cell_type": "code",
   "execution_count": null,
   "id": "7be90e80",
   "metadata": {},
   "outputs": [],
   "source": []
  },
  {
   "cell_type": "code",
   "execution_count": null,
   "id": "6fea20f3",
   "metadata": {},
   "outputs": [],
   "source": []
  },
  {
   "cell_type": "code",
   "execution_count": null,
   "id": "7edcddcb",
   "metadata": {},
   "outputs": [],
   "source": []
  },
  {
   "cell_type": "code",
   "execution_count": null,
   "id": "6514ddda",
   "metadata": {},
   "outputs": [],
   "source": []
  },
  {
   "cell_type": "code",
   "execution_count": null,
   "id": "d92a5929",
   "metadata": {},
   "outputs": [],
   "source": []
  },
  {
   "cell_type": "code",
   "execution_count": null,
   "id": "eb274a14",
   "metadata": {},
   "outputs": [],
   "source": []
  },
  {
   "cell_type": "code",
   "execution_count": null,
   "id": "8a51feca",
   "metadata": {},
   "outputs": [],
   "source": []
  },
  {
   "cell_type": "code",
   "execution_count": null,
   "id": "5cf76b83",
   "metadata": {},
   "outputs": [],
   "source": []
  },
  {
   "cell_type": "code",
   "execution_count": null,
   "id": "6220837d",
   "metadata": {},
   "outputs": [],
   "source": []
  },
  {
   "cell_type": "code",
   "execution_count": null,
   "id": "8964c936",
   "metadata": {},
   "outputs": [],
   "source": []
  },
  {
   "cell_type": "code",
   "execution_count": null,
   "id": "a3f13cdd",
   "metadata": {},
   "outputs": [],
   "source": []
  },
  {
   "cell_type": "code",
   "execution_count": null,
   "id": "0082fe8e",
   "metadata": {},
   "outputs": [],
   "source": []
  },
  {
   "cell_type": "code",
   "execution_count": null,
   "id": "b8891902",
   "metadata": {},
   "outputs": [],
   "source": []
  },
  {
   "cell_type": "code",
   "execution_count": null,
   "id": "164e71a8",
   "metadata": {},
   "outputs": [],
   "source": []
  },
  {
   "cell_type": "code",
   "execution_count": null,
   "id": "21b97154",
   "metadata": {},
   "outputs": [],
   "source": []
  },
  {
   "cell_type": "code",
   "execution_count": null,
   "id": "5e297a23",
   "metadata": {},
   "outputs": [],
   "source": []
  },
  {
   "cell_type": "code",
   "execution_count": null,
   "id": "38409cb5",
   "metadata": {},
   "outputs": [],
   "source": []
  },
  {
   "cell_type": "code",
   "execution_count": null,
   "id": "dbccc178",
   "metadata": {},
   "outputs": [],
   "source": []
  },
  {
   "cell_type": "code",
   "execution_count": null,
   "id": "5a4e9b33",
   "metadata": {},
   "outputs": [],
   "source": []
  },
  {
   "cell_type": "code",
   "execution_count": null,
   "id": "88ec78b3",
   "metadata": {},
   "outputs": [],
   "source": []
  },
  {
   "cell_type": "code",
   "execution_count": null,
   "id": "4dd27f60",
   "metadata": {},
   "outputs": [],
   "source": []
  },
  {
   "cell_type": "code",
   "execution_count": null,
   "id": "14ee3fa0",
   "metadata": {},
   "outputs": [],
   "source": []
  },
  {
   "cell_type": "code",
   "execution_count": null,
   "id": "38f6b377",
   "metadata": {},
   "outputs": [],
   "source": []
  },
  {
   "cell_type": "code",
   "execution_count": null,
   "id": "ea9af53e",
   "metadata": {},
   "outputs": [],
   "source": []
  },
  {
   "cell_type": "code",
   "execution_count": null,
   "id": "4fc51915",
   "metadata": {},
   "outputs": [],
   "source": []
  },
  {
   "cell_type": "code",
   "execution_count": null,
   "id": "220846a9",
   "metadata": {},
   "outputs": [],
   "source": []
  },
  {
   "cell_type": "code",
   "execution_count": null,
   "id": "e99ca010",
   "metadata": {},
   "outputs": [],
   "source": []
  },
  {
   "cell_type": "code",
   "execution_count": null,
   "id": "c8ebaf7d",
   "metadata": {},
   "outputs": [],
   "source": []
  },
  {
   "cell_type": "code",
   "execution_count": null,
   "id": "f9efd2d2",
   "metadata": {},
   "outputs": [],
   "source": []
  },
  {
   "cell_type": "code",
   "execution_count": null,
   "id": "c3f19ab4",
   "metadata": {},
   "outputs": [],
   "source": []
  },
  {
   "cell_type": "code",
   "execution_count": null,
   "id": "67072bac",
   "metadata": {},
   "outputs": [],
   "source": []
  },
  {
   "cell_type": "code",
   "execution_count": null,
   "id": "b9228546",
   "metadata": {},
   "outputs": [],
   "source": []
  },
  {
   "cell_type": "code",
   "execution_count": null,
   "id": "e863ae07",
   "metadata": {},
   "outputs": [],
   "source": []
  },
  {
   "cell_type": "code",
   "execution_count": null,
   "id": "aee23642",
   "metadata": {},
   "outputs": [],
   "source": [
    "#############################################################################################################\n",
    "############################################# INITIAL VERSION ###############################################\n",
    "#############################################################################################################\n",
    "\n",
    "class DynamicProgrammingAlgorithms:\n",
    "    def __init__(self, C=\"AR\"):\n",
    "        \"\"\"\n",
    "        C - type of problem:\n",
    "            \"AR\" - All Rules\n",
    "            \"EAR\" - Extended All Rules\n",
    "            \"SR\" - Some Rules\n",
    "            \"ESR\" - Extended Some Rules\n",
    "            \"AD\" - All Decisions\n",
    "            \"EAD\" - Extended All Decisions\n",
    "        \"\"\"\n",
    "        self.C = C\n",
    "                \n",
    "        self.R_C = Reduction(C)\n",
    "            \n",
    "            \n",
    "    def DAG_C(self, S):\n",
    "        \"\"\"Construct the DAG based on the decision rule system S.\"\"\"\n",
    "\n",
    "        DAG = nx.MultiDiGraph()\n",
    "        DAG.add_node(id(S), data=S, processed=False, H=None, best_attr=None)\n",
    "\n",
    "        def process_node(Q, DAG):\n",
    "            \"\"\"Process a node by checking applicable rules and updating the DAG.\"\"\"\n",
    "            if (self.R_C(Q).empty or self.R_C(Q).iloc[:, :-1].isna().all().all()):\n",
    "                DAG.nodes[id(Q)]['processed'] = True\n",
    "                DAG.nodes[id(Q)]['H'] = 0\n",
    "                return\n",
    "\n",
    "            for a in Q.columns[Q.notna().any()].tolist()[:-1]: # Finding columns with at least one non-NaN value\n",
    "                for delta in S[a].dropna().unique():  # Find unique non-NaN values in column a\n",
    "                    new_node_data = SAlphaStep(Q, (a, float(delta)))\n",
    "                    not_equal = True\n",
    "                    for node in DAG.nodes:\n",
    "                        if new_node_data.equals(DAG.nodes[node]['data']):\n",
    "                            DAG.add_edge(id(Q), node, label=(a,delta))\n",
    "                            not_equal = False\n",
    "                            break\n",
    "                    if not_equal:\n",
    "                        DAG.add_node(id(new_node_data), data=new_node_data, processed=False, H=None, best_attr=None)\n",
    "                        DAG.add_edge(id(Q), id(new_node_data), label=(a,delta))\n",
    "            # Mark the current node as processed\n",
    "            DAG.nodes[id(Q)]['processed'] = True\n",
    "\n",
    "        while not all(nx.get_node_attributes(DAG, 'processed').values()):\n",
    "            # Find a node that is not processed\n",
    "            for node in DAG.nodes:\n",
    "                if not DAG.nodes[node]['processed']:\n",
    "                    process_node(DAG.nodes[node]['data'], DAG)\n",
    "                    break # Move to next iteration after processing a node\n",
    "        return DAG\n",
    "    \n",
    "    \n",
    "    def DAG_EC(self, S):\n",
    "        \"\"\"Construct the DAG based on the decision rule system S.\"\"\"\n",
    "\n",
    "        DAG = nx.MultiDiGraph()\n",
    "        DAG.add_node(id(S), data=S, processed=False, H=None, best_attr=None)\n",
    "\n",
    "        def process_node(Q, DAG):\n",
    "            \"\"\"Process a node by checking applicable rules and updating the DAG.\"\"\"\n",
    "            if (self.R_C(Q).empty or self.R_C(Q).iloc[:, :-1].isna().all().all()):\n",
    "                DAG.nodes[id(Q)]['processed'] = True\n",
    "                DAG.nodes[id(Q)]['H'] = 0\n",
    "                return\n",
    "\n",
    "            for a in Q.columns[Q.notna().any()].tolist()[:-1]: # Finding columns with at least one non-NaN value\n",
    "                for delta in np.append(S[a].dropna().unique(), \"*\"):  # Find unique non-NaN values in column a\n",
    "                    new_node_data = SAlphaStep(Q, (a, delta if delta == \"*\" else float(delta)))\n",
    "                    not_equal = True\n",
    "                    for node in DAG.nodes:\n",
    "                        if new_node_data.equals(DAG.nodes[node]['data']):\n",
    "                            DAG.add_edge(id(Q), node, label=(a,delta))\n",
    "                            not_equal = False\n",
    "                            break\n",
    "                    if not_equal:\n",
    "                        DAG.add_node(id(new_node_data), data=new_node_data, processed=False, H=None, best_attr=None)\n",
    "                        DAG.add_edge(id(Q), id(new_node_data), label=(a,delta))\n",
    "            # Mark the current node as processed\n",
    "            DAG.nodes[id(Q)]['processed'] = True\n",
    "\n",
    "        while not all(nx.get_node_attributes(DAG, 'processed').values()):\n",
    "            # Find a node that is not processed\n",
    "            for node in DAG.nodes:\n",
    "                if not DAG.nodes[node]['processed']:\n",
    "                    process_node(DAG.nodes[node]['data'], DAG)\n",
    "                    break # Move to next iteration after processing a node\n",
    "        return DAG\n",
    "    \n",
    "    \n",
    "    def DAG_update(self, DAG, node):\n",
    "\n",
    "        # Step 1: If \"H\" is already a number, return it\n",
    "        if DAG.nodes[node]['H']:\n",
    "            return DAG.nodes[node]['H']\n",
    "\n",
    "        # Step 2: Process the node based on its children\n",
    "        children = list(DAG.successors(node))\n",
    "        if not children:  # Terminal node\n",
    "            DAG.nodes[node]['H'] = 0\n",
    "        else:\n",
    "            # Calculate the H value based on children and edge labels\n",
    "            attribute_H_values = []\n",
    "            for child in children:\n",
    "                edges_data = DAG.get_edge_data(node, child)\n",
    "                for edge in edges_data:\n",
    "                    a, delta = edges_data[edge]['label']  # Assuming the edge label is stored as a tuple (a, delta)\n",
    "                    child_H = DAG.nodes[child]['H'] if DAG.nodes[child].get('H') is not None else self.DAG_update(DAG, child)\n",
    "                    attribute_H_values.append((a, child_H))\n",
    "\n",
    "            # Group by attribute and find the min of the max H values for each attribute\n",
    "            attribute_to_H = {}\n",
    "            for a, h in attribute_H_values:\n",
    "                if a in attribute_to_H:\n",
    "                    attribute_to_H[a] = max(attribute_to_H[a], h)\n",
    "                else:\n",
    "                    attribute_to_H[a] = h\n",
    "\n",
    "            # Now calculate the final H value for the node\n",
    "            best_attr, min_H = min(attribute_to_H.items(), key=lambda x: x[1])\n",
    "\n",
    "            DAG.nodes[node]['H'] = 1 + min_H\n",
    "            DAG.nodes[node]['best_attr'] = best_attr\n",
    "\n",
    "        return DAG.nodes[node]['H']\n",
    "    \n",
    "    def A_DP(self, S):\n",
    "        \n",
    "        if self.C in [\"AR\", \"SR\", \"AD\"]:\n",
    "            DAG = self.DAG_C(S)\n",
    "        else:\n",
    "            DAG = self.DAG_EC(S)\n",
    "\n",
    "        return self.DAG_update(DAG, id(S))\n",
    "    \n",
    "    def create_decision_tree(self, DAG, node):\n",
    "        \"\"\"\n",
    "        Creates a decision tree from a given DAG and initial node.\n",
    "\n",
    "        Args:\n",
    "        DAG: The Directed Acyclic Graph from which to create the decision tree.\n",
    "        node: The initial node in the DAG to start creating the decision tree.\n",
    "\n",
    "        Returns:\n",
    "        A decision tree represented as a nested dictionary.\n",
    "        \"\"\"\n",
    "        # Base case: if the node is a terminal node, return its data as the leaf of the decision tree\n",
    "        if DAG.nodes[node]['best_attr'] is None:\n",
    "            return set(DAG.nodes[node]['data'].index)\n",
    "\n",
    "        # Initialize the decision tree node with the best attribute\n",
    "        best_attr = DAG.nodes[node]['best_attr']\n",
    "        decision_tree_node = {best_attr: {}}\n",
    "\n",
    "        # Iterate over outgoing edges of the node, but only consider edges that match the best_attr\n",
    "        for _, child, edge_data in DAG.out_edges(node, data=True):\n",
    "            a, delta = edge_data['label']\n",
    "            if a == best_attr:\n",
    "                # Recursively build the decision tree for the child node\n",
    "                decision_tree_node[best_attr][delta] = self.create_decision_tree(DAG, child)\n",
    "\n",
    "        return decision_tree_node\n",
    "    \n",
    "    def DT(self, S):\n",
    "        \n",
    "        if self.C in [\"AR\", \"SR\", \"AD\"]:\n",
    "            DAG = self.DAG_C(S)\n",
    "        else:\n",
    "            DAG = self.DAG_EC(S)\n",
    "            \n",
    "        self.DAG_update(DAG, id(S))\n",
    "\n",
    "        return self.create_decision_tree(DAG, id(S))\n"
   ]
  },
  {
   "cell_type": "code",
   "execution_count": null,
   "id": "a3e6f850",
   "metadata": {},
   "outputs": [],
   "source": [
    "#############################################################################################################\n",
    "############################################## FIRST VERSION ################################################\n",
    "#############################################################################################################\n",
    "\n",
    "class DynamicProgrammingAlgorithms:\n",
    "    def __init__(self, C=\"AR\"):\n",
    "        \"\"\"\n",
    "        C - type of problem:\n",
    "            \"AR\" - All Rules\n",
    "            \"EAR\" - Extended All Rules\n",
    "            \"SR\" - Some Rules\n",
    "            \"ESR\" - Extended Some Rules\n",
    "            \"AD\" - All Decisions\n",
    "            \"EAD\" - Extended All Decisions\n",
    "        \"\"\"\n",
    "        self.C = C\n",
    "                \n",
    "        self.R_C = Reduction(C)\n",
    "            \n",
    "            \n",
    "    def DAG_C(self, S):\n",
    "        \"\"\"Construct the DAG based on the decision rule system S.\"\"\"\n",
    "\n",
    "        DAG = nx.MultiDiGraph()\n",
    "        DAG.add_node(id(S), data=S, processed=False, H=None, best_attr=None)\n",
    "\n",
    "        def process_node(Q, DAG):\n",
    "            \"\"\"Process a node by checking applicable rules and updating the DAG.\"\"\"\n",
    "            if (self.R_C(Q).empty or self.R_C(Q).iloc[:, :-1].isna().all().all()):\n",
    "                DAG.nodes[id(Q)]['processed'] = True\n",
    "                DAG.nodes[id(Q)]['H'] = 0\n",
    "                return\n",
    "\n",
    "            for a in Q.columns[Q.notna().any()].tolist()[:-1]: # Finding columns with at least one non-NaN value\n",
    "                for delta in S[a].dropna().unique():  # Find unique non-NaN values in column a\n",
    "                    new_node_data = SAlphaStep(Q, (a, float(delta)))\n",
    "                    not_equal = True\n",
    "                    for node in DAG.nodes:\n",
    "                        if new_node_data.equals(DAG.nodes[node]['data']):\n",
    "                            DAG.add_edge(id(Q), node, label=(a,delta))\n",
    "                            not_equal = False\n",
    "                            break\n",
    "                    if not_equal:\n",
    "                        DAG.add_node(id(new_node_data), data=new_node_data, processed=False, H=None, best_attr=None)\n",
    "                        DAG.add_edge(id(Q), id(new_node_data), label=(a,delta))\n",
    "            # Mark the current node as processed\n",
    "            DAG.nodes[id(Q)]['processed'] = True\n",
    "\n",
    "        while not all(nx.get_node_attributes(DAG, 'processed').values()):\n",
    "            # Find a node that is not processed\n",
    "            for node in DAG.nodes:\n",
    "                if not DAG.nodes[node]['processed']:\n",
    "                    process_node(DAG.nodes[node]['data'], DAG)\n",
    "                    break # Move to next iteration after processing a node\n",
    "        return DAG\n",
    "    \n",
    "    \n",
    "    def DAG_EC(self, S):\n",
    "        \"\"\"Construct the DAG based on the decision rule system S.\"\"\"\n",
    "\n",
    "        DAG = nx.MultiDiGraph()\n",
    "        DAG.add_node(id(S), data=S, processed=False, H=None, best_attr=None)\n",
    "\n",
    "        def process_node(Q, DAG):\n",
    "            \"\"\"Process a node by checking applicable rules and updating the DAG.\"\"\"\n",
    "            if (self.R_C(Q).empty or self.R_C(Q).iloc[:, :-1].isna().all().all()):\n",
    "                DAG.nodes[id(Q)]['processed'] = True\n",
    "                DAG.nodes[id(Q)]['H'] = 0\n",
    "                return\n",
    "\n",
    "            for a in Q.columns[Q.notna().any()].tolist()[:-1]: # Finding columns with at least one non-NaN value\n",
    "                for delta in np.append(S[a].dropna().unique(), \"*\"):  # Find unique non-NaN values in column a\n",
    "                    new_node_data = SAlphaStep(Q, (a, delta if delta == \"*\" else float(delta)))\n",
    "                    not_equal = True\n",
    "                    for node in DAG.nodes:\n",
    "                        if new_node_data.equals(DAG.nodes[node]['data']):\n",
    "                            DAG.add_edge(id(Q), node, label=(a,delta))\n",
    "                            not_equal = False\n",
    "                            break\n",
    "                    if not_equal:\n",
    "                        DAG.add_node(id(new_node_data), data=new_node_data, processed=False, H=None, best_attr=None)\n",
    "                        DAG.add_edge(id(Q), id(new_node_data), label=(a,delta))\n",
    "            # Mark the current node as processed\n",
    "            DAG.nodes[id(Q)]['processed'] = True\n",
    "\n",
    "        while not all(nx.get_node_attributes(DAG, 'processed').values()):\n",
    "            # Find a node that is not processed\n",
    "            for node in DAG.nodes:\n",
    "                if not DAG.nodes[node]['processed']:\n",
    "                    process_node(DAG.nodes[node]['data'], DAG)\n",
    "                    break # Move to next iteration after processing a node\n",
    "        return DAG\n",
    "    \n",
    "    \n",
    "    def DAG_update(self, DAG, node):\n",
    "\n",
    "        # Step 1: If \"H\" is already a number, return it\n",
    "        if DAG.nodes[node]['H']:\n",
    "            return DAG.nodes[node]['H']\n",
    "\n",
    "        # Step 2: Process the node based on its children\n",
    "        children = list(DAG.successors(node))\n",
    "        if not children:  # Terminal node\n",
    "            DAG.nodes[node]['H'] = 0\n",
    "        else:\n",
    "            # Calculate the H value based on children and edge labels\n",
    "            attribute_H_values = []\n",
    "            for child in children:\n",
    "                edges_data = DAG.get_edge_data(node, child)\n",
    "                for edge in edges_data:\n",
    "                    a, delta = edges_data[edge]['label']  # Assuming the edge label is stored as a tuple (a, delta)\n",
    "                    child_H = DAG.nodes[child]['H'] if DAG.nodes[child].get('H') is not None else self.DAG_update(DAG, child)\n",
    "                    attribute_H_values.append((a, child_H))\n",
    "\n",
    "            # Group by attribute and find the min of the max H values for each attribute\n",
    "            attribute_to_H = {}\n",
    "            for a, h in attribute_H_values:\n",
    "                if a in attribute_to_H:\n",
    "                    attribute_to_H[a] = max(attribute_to_H[a], h)\n",
    "                else:\n",
    "                    attribute_to_H[a] = h\n",
    "\n",
    "            # Now calculate the final H value for the node\n",
    "            best_attr, min_H = min(attribute_to_H.items(), key=lambda x: x[1])\n",
    "\n",
    "            DAG.nodes[node]['H'] = 1 + min_H\n",
    "            DAG.nodes[node]['best_attr'] = best_attr\n",
    "\n",
    "        return DAG.nodes[node]['H']\n",
    "    \n",
    "    def A_DP(self, S):\n",
    "        \n",
    "        if self.C in [\"AR\", \"SR\", \"AD\"]:\n",
    "            DAG = self.DAG_C(S)\n",
    "        else:\n",
    "            DAG = self.DAG_EC(S)\n",
    "\n",
    "        return self.DAG_update(DAG, id(S))\n",
    "    \n",
    "    def create_decision_tree(self, DAG, node):\n",
    "        \"\"\"\n",
    "        Creates a decision tree from a given DAG and initial node.\n",
    "\n",
    "        Args:\n",
    "        DAG: The Directed Acyclic Graph from which to create the decision tree.\n",
    "        node: The initial node in the DAG to start creating the decision tree.\n",
    "\n",
    "        Returns:\n",
    "        A decision tree represented as a nested dictionary.\n",
    "        \"\"\"\n",
    "        # Base case: if the node is a terminal node, return its data as the leaf of the decision tree\n",
    "        if DAG.nodes[node]['best_attr'] is None:\n",
    "            return set(self.R_C(DAG.nodes[node]['data']).index) # It is mandatory for SR, ESR, AD, EAD problems\n",
    "\n",
    "        # Initialize the decision tree node with the best attribute\n",
    "        best_attr = DAG.nodes[node]['best_attr']\n",
    "        decision_tree_node = {best_attr: {}}\n",
    "\n",
    "        # Iterate over outgoing edges of the node, but only consider edges that match the best_attr\n",
    "        for _, child, edge_data in DAG.out_edges(node, data=True):\n",
    "            a, delta = edge_data['label']\n",
    "            if a == best_attr:\n",
    "                # Recursively build the decision tree for the child node\n",
    "                decision_tree_node[best_attr][delta] = self.create_decision_tree(DAG, child)\n",
    "\n",
    "        return decision_tree_node\n",
    "    \n",
    "    def DT(self, S):\n",
    "        \n",
    "        if self.C in [\"AR\", \"SR\", \"AD\"]:\n",
    "            DAG = self.DAG_C(S)\n",
    "        else:\n",
    "            DAG = self.DAG_EC(S)\n",
    "            \n",
    "        self.DAG_update(DAG, id(S))\n",
    "\n",
    "        return self.create_decision_tree(DAG, id(S))\n"
   ]
  },
  {
   "cell_type": "code",
   "execution_count": null,
   "id": "e8e2b61b",
   "metadata": {},
   "outputs": [],
   "source": [
    "#############################################################################################################\n",
    "############################################# SECOND VERSION ################################################\n",
    "#############################################################################################################\n",
    "\n",
    "class DynamicProgrammingAlgorithms:\n",
    "    def __init__(self, C=\"AR\"):\n",
    "        \"\"\"\n",
    "        C - type of problem:\n",
    "            \"AR\" - All Rules\n",
    "            \"EAR\" - Extended All Rules\n",
    "            \"SR\" - Some Rules\n",
    "            \"ESR\" - Extended Some Rules\n",
    "            \"AD\" - All Decisions\n",
    "            \"EAD\" - Extended All Decisions\n",
    "        \"\"\"\n",
    "        self.C = C\n",
    "                \n",
    "        self.R_C = Reduction(C)\n",
    "            \n",
    "            \n",
    "    def DAG_C(self, S):\n",
    "        \"\"\"Construct the DAG based on the decision rule system S.\"\"\"\n",
    "\n",
    "        DAG = nx.MultiDiGraph()\n",
    "        DAG.add_node(id(S), data=S, processed=False, H=None, best_attr=None)\n",
    "\n",
    "        def process_node(Q, DAG):\n",
    "            \"\"\"Process a node by checking applicable rules and updating the DAG.\"\"\"\n",
    "            if (self.R_C(Q).empty or self.R_C(Q).iloc[:, :-1].isna().all().all()):\n",
    "                DAG.nodes[id(Q)]['processed'] = True\n",
    "                DAG.nodes[id(Q)]['H'] = 0\n",
    "                return\n",
    "\n",
    "            for a in Q.columns[Q.notna().any()].tolist()[:-1]: # Finding columns with at least one non-NaN value\n",
    "                for delta in S[a].dropna().unique():  # Find unique non-NaN values in column a\n",
    "                    new_node_data = SAlphaStep(Q, (a, float(delta)))\n",
    "                    not_equal = True\n",
    "                    for node in DAG.nodes:\n",
    "                        if new_node_data.equals(DAG.nodes[node]['data']):\n",
    "                            DAG.add_edge(id(Q), node, label=(a,delta))\n",
    "                            not_equal = False\n",
    "                            break\n",
    "                    if not_equal:\n",
    "                        DAG.add_node(id(new_node_data), data=new_node_data, processed=False, H=None, best_attr=None)\n",
    "                        DAG.add_edge(id(Q), id(new_node_data), label=(a,delta))\n",
    "            # Mark the current node as processed\n",
    "            DAG.nodes[id(Q)]['processed'] = True\n",
    "\n",
    "        while not all(nx.get_node_attributes(DAG, 'processed').values()):\n",
    "            # Find a node that is not processed\n",
    "            for node in DAG.nodes:\n",
    "                if not DAG.nodes[node]['processed']:\n",
    "                    process_node(DAG.nodes[node]['data'], DAG)\n",
    "                    break # Move to next iteration after processing a node\n",
    "        return DAG\n",
    "    \n",
    "    \n",
    "    def DAG_EC(self, S):\n",
    "        \"\"\"Construct the DAG based on the decision rule system S.\"\"\"\n",
    "\n",
    "        DAG = nx.MultiDiGraph()\n",
    "        S\n",
    "        DAG.add_node(id(S), data=S, processed=False, H=None, best_attr=None)\n",
    "\n",
    "        def process_node(Q, DAG):\n",
    "            \"\"\"Process a node by checking applicable rules and updating the DAG.\"\"\"\n",
    "            if (self.R_C(Q).empty or self.R_C(Q).iloc[:, :-1].isna().all().all()):\n",
    "                DAG.nodes[id(Q)]['processed'] = True\n",
    "                DAG.nodes[id(Q)]['H'] = 0\n",
    "                return\n",
    "\n",
    "            for a in Q.columns[Q.notna().any()].tolist()[:-1]: # Finding columns with at least one non-NaN value\n",
    "                for delta in np.append(S[a].dropna().unique(), \"*\"):  # Find unique non-NaN values in column a\n",
    "                    new_node_data = SAlphaStep(Q, (a, delta if delta == \"*\" else float(delta)))\n",
    "                    not_equal = True\n",
    "                    for node in DAG.nodes:\n",
    "                        if new_node_data.equals(DAG.nodes[node]['data']):\n",
    "                            DAG.add_edge(id(Q), node, label=(a,delta))\n",
    "                            not_equal = False\n",
    "                            break\n",
    "                    if not_equal:\n",
    "                        DAG.add_node(id(new_node_data), data=new_node_data, processed=False, H=None, best_attr=None)\n",
    "                        DAG.add_edge(id(Q), id(new_node_data), label=(a,delta))\n",
    "            # Mark the current node as processed\n",
    "            DAG.nodes[id(Q)]['processed'] = True\n",
    "\n",
    "        while not all(nx.get_node_attributes(DAG, 'processed').values()):\n",
    "            # Find a node that is not processed\n",
    "            for node in DAG.nodes:\n",
    "                if not DAG.nodes[node]['processed']:\n",
    "                    process_node(DAG.nodes[node]['data'], DAG)\n",
    "                    break # Move to next iteration after processing a node\n",
    "        return DAG\n",
    "    \n",
    "    \n",
    "    def DAG_update(self, DAG, node):\n",
    "\n",
    "        # Step 1: If \"H\" is already a number, return it\n",
    "        if DAG.nodes[node]['H']:\n",
    "            return DAG.nodes[node]['H']\n",
    "\n",
    "        # Step 2: Process the node based on its children\n",
    "        children = list(DAG.successors(node))\n",
    "        if not children:  # Terminal node\n",
    "            DAG.nodes[node]['H'] = 0\n",
    "        else:\n",
    "            # Calculate the H value based on children and edge labels\n",
    "            attribute_H_values = []\n",
    "            for child in children:\n",
    "                edges_data = DAG.get_edge_data(node, child)\n",
    "                for edge in edges_data:\n",
    "                    a, delta = edges_data[edge]['label']  # Assuming the edge label is stored as a tuple (a, delta)\n",
    "                    child_H = DAG.nodes[child]['H'] if DAG.nodes[child].get('H') is not None else self.DAG_update(DAG, child)\n",
    "                    attribute_H_values.append((a, child_H))\n",
    "\n",
    "            # Group by attribute and find the min of the max H values for each attribute\n",
    "            attribute_to_H = {}\n",
    "            for a, h in attribute_H_values:\n",
    "                if a in attribute_to_H:\n",
    "                    attribute_to_H[a] = max(attribute_to_H[a], h)\n",
    "                else:\n",
    "                    attribute_to_H[a] = h\n",
    "\n",
    "            # Now calculate the final H value for the node\n",
    "            best_attr, min_H = min(attribute_to_H.items(), key=lambda x: x[1])\n",
    "\n",
    "            DAG.nodes[node]['H'] = 1 + min_H\n",
    "            DAG.nodes[node]['best_attr'] = best_attr\n",
    "\n",
    "        return DAG.nodes[node]['H']\n",
    "    \n",
    "    def A_DP(self, S):\n",
    "        \n",
    "        if self.C in [\"AR\", \"SR\", \"AD\"]:\n",
    "            DAG = self.DAG_C(S)\n",
    "        else:\n",
    "            DAG = self.DAG_EC(S)\n",
    "\n",
    "        return self.DAG_update(DAG, id(S))\n",
    "    \n",
    "    def create_decision_tree(self, DAG, node):\n",
    "        \"\"\"\n",
    "        Creates a decision tree from a given DAG and initial node.\n",
    "\n",
    "        Args:\n",
    "        DAG: The Directed Acyclic Graph from which to create the decision tree.\n",
    "        node: The initial node in the DAG to start creating the decision tree.\n",
    "\n",
    "        Returns:\n",
    "        A decision tree represented as a nested dictionary.\n",
    "        \"\"\"\n",
    "        # Base case: if the node is a terminal node, return its data as the leaf of the decision tree\n",
    "        if DAG.nodes[node]['best_attr'] is None:\n",
    "            return set(self.R_C(DAG.nodes[node]['data']).index)\n",
    "\n",
    "        # Initialize the decision tree node with the best attribute\n",
    "        best_attr = DAG.nodes[node]['best_attr']\n",
    "        decision_tree_node = {best_attr: {}}\n",
    "\n",
    "        # Iterate over outgoing edges of the node, but only consider edges that match the best_attr\n",
    "        for _, child, edge_data in DAG.out_edges(node, data=True):\n",
    "            a, delta = edge_data['label']\n",
    "            if a == best_attr:\n",
    "                # Recursively build the decision tree for the child node\n",
    "                decision_tree_node[best_attr][delta] = self.create_decision_tree(DAG, child)\n",
    "\n",
    "        return decision_tree_node\n",
    "    \n",
    "    def DT(self, S):\n",
    "        \n",
    "        if self.C in [\"AR\", \"SR\", \"AD\"]:\n",
    "            DAG = self.DAG_C(S)\n",
    "        else:\n",
    "            DAG = self.DAG_EC(S)\n",
    "            \n",
    "        self.DAG_update(DAG, id(S))\n",
    "\n",
    "        return self.create_decision_tree(DAG, id(S))\n"
   ]
  },
  {
   "cell_type": "code",
   "execution_count": null,
   "id": "77ab907a",
   "metadata": {},
   "outputs": [],
   "source": [
    "S = pd.DataFrame(\n",
    "[[np.nan,1,1,1],\n",
    "[0,1,0,2],\n",
    "[0,2,0,2],\n",
    "[0,0,2,3],\n",
    "[0,1,np.nan,3],\n",
    "[np.nan,0,np.nan,3]],\n",
    "columns=['f1','f2','f3','class']\n",
    ")\n",
    "S"
   ]
  },
  {
   "cell_type": "code",
   "execution_count": null,
   "id": "26be5ca5",
   "metadata": {},
   "outputs": [],
   "source": [
    "alg = DynamicProgrammingAlgorithms(C=\"SR\")"
   ]
  },
  {
   "cell_type": "code",
   "execution_count": null,
   "id": "af833ccb",
   "metadata": {},
   "outputs": [],
   "source": [
    "alg.DT(S)"
   ]
  },
  {
   "cell_type": "code",
   "execution_count": null,
   "id": "6c5358e2",
   "metadata": {},
   "outputs": [],
   "source": [
    "alg.A_DP(S)"
   ]
  },
  {
   "cell_type": "code",
   "execution_count": null,
   "id": "ff7bcb35",
   "metadata": {},
   "outputs": [],
   "source": [
    "DAG.nodes[id(S)]"
   ]
  },
  {
   "cell_type": "code",
   "execution_count": null,
   "id": "0a18b869",
   "metadata": {},
   "outputs": [],
   "source": [
    "children = list(DAG.successors(id(S)))\n",
    "children"
   ]
  },
  {
   "cell_type": "code",
   "execution_count": null,
   "id": "7453d85b",
   "metadata": {},
   "outputs": [],
   "source": [
    "child = children[0]"
   ]
  },
  {
   "cell_type": "code",
   "execution_count": null,
   "id": "0ef955e9",
   "metadata": {},
   "outputs": [],
   "source": [
    "DAG.nodes[child]"
   ]
  },
  {
   "cell_type": "code",
   "execution_count": null,
   "id": "f2b68bfb",
   "metadata": {},
   "outputs": [],
   "source": [
    "DAG.get_edge_data(id(S), child)"
   ]
  },
  {
   "cell_type": "code",
   "execution_count": null,
   "id": "0ca0e652",
   "metadata": {},
   "outputs": [],
   "source": [
    "S"
   ]
  },
  {
   "cell_type": "code",
   "execution_count": null,
   "id": "b86891e8",
   "metadata": {},
   "outputs": [],
   "source": [
    "SAlphaStep(S, (, delta)\n",
    "SAlphaStep(S, (\"f1\", 1.0))"
   ]
  },
  {
   "cell_type": "code",
   "execution_count": null,
   "id": "bb6fd51a",
   "metadata": {},
   "outputs": [],
   "source": [
    "S = pd.DataFrame(\n",
    "[[1,1,1,1],\n",
    "[0,1,0,2],\n",
    "[1,1,0,2],\n",
    "[0,0,1,3],\n",
    "[1,0,0,3]],\n",
    "columns=['f1','f2','f3','class']\n",
    ")\n",
    "S = DecisionRuleCreatorFromDecisionTable(S)\n",
    "S"
   ]
  },
  {
   "cell_type": "code",
   "execution_count": null,
   "id": "3e91ac21",
   "metadata": {},
   "outputs": [],
   "source": [
    "def DAG_AR(S):\n",
    "    \"\"\"Construct the DAG based on the decision rule system S.\"\"\"\n",
    "\n",
    "    DAG = nx.MultiDiGraph()\n",
    "    DAG.add_node(id(S), data=S, processed=False, H=None, best_attr=None)\n",
    "\n",
    "    def process_node(Q, DAG):\n",
    "        \"\"\"Process a node by checking applicable rules and updating the DAG.\"\"\"\n",
    "        if (Q.empty or Q.iloc[:, :-1].isna().all().all()):\n",
    "            DAG.nodes[id(Q)]['processed'] = True\n",
    "            DAG.nodes[id(Q)]['H'] = 0\n",
    "            return\n",
    "\n",
    "        for a in Q.columns[Q.notna().any()].tolist()[:-1]: # Finding columns with at least one non-NaN value\n",
    "            for delta in np.append(Q[a].dropna().unique(), \"*\"):  # Find unique non-NaN values in column a\n",
    "                print(\"S\\n\", Q)\n",
    "                print(\"featue = \", a)\n",
    "                print(\"delta = \", delta)\n",
    "                new_node_data = SAlphaStep(Q, (a, delta))\n",
    "                print(\"SAlphaStep\\n\",new_node_data)\n",
    "                break\n",
    "                not_equal = True\n",
    "                for node in DAG.nodes:\n",
    "                    if new_node_data.equals(DAG.nodes[node]['data']):\n",
    "                        DAG.add_edge(id(Q), node, label=(a,delta))\n",
    "                        not_equal = False\n",
    "                        break\n",
    "                if not_equal:\n",
    "                    DAG.add_node(id(new_node_data), data=new_node_data, processed=False, H=None, best_attr=None)\n",
    "                    DAG.add_edge(id(Q), id(new_node_data), label=(a,delta))\n",
    "        # Mark the current node as processed\n",
    "        DAG.nodes[id(Q)]['processed'] = True\n",
    "\n",
    "#     while not all(nx.get_node_attributes(DAG, 'processed').values()):\n",
    "#         # Find a node that is not processed\n",
    "#         for node in DAG.nodes:\n",
    "#             if not DAG.nodes[node]['processed']:\n",
    "#                 process_node(DAG.nodes[node]['data'], DAG)\n",
    "#                 break # Move to next iteration after processing a node\n",
    "                \n",
    "    process_node(DAG.nodes[id(S)]['data'], DAG)\n",
    "    return DAG"
   ]
  },
  {
   "cell_type": "code",
   "execution_count": null,
   "id": "e271cea2",
   "metadata": {},
   "outputs": [],
   "source": [
    "def process_node(Q, DAG):\n",
    "    \"\"\"Process a node by checking applicable rules and updating the DAG.\"\"\"\n",
    "\n",
    "    for a in Q.columns[Q.notna().any()].tolist()[:-1]: # Finding columns with at least one non-NaN value\n",
    "        for delta in np.append(Q[a].dropna().unique(), \"*\"):  # Find unique non-NaN values in column a\n",
    "            print(type(delta))\n",
    "            print(delta)\n",
    "            print(\"S\\n\", Q)\n",
    "            print(\"featue = \", a)\n",
    "            print(\"delta = \", delta)\n",
    "            new_node_data = SAlphaStep(Q, (a, float(delta)))\n",
    "            print(\"SAlphaStep\\n\",new_node_data)\n",
    "            break"
   ]
  },
  {
   "cell_type": "code",
   "execution_count": null,
   "id": "8350f279",
   "metadata": {},
   "outputs": [],
   "source": [
    "process_node(S, DAG)"
   ]
  },
  {
   "cell_type": "code",
   "execution_count": null,
   "id": "7024867f",
   "metadata": {},
   "outputs": [],
   "source": []
  },
  {
   "cell_type": "code",
   "execution_count": null,
   "id": "28625b4a",
   "metadata": {},
   "outputs": [],
   "source": []
  },
  {
   "cell_type": "code",
   "execution_count": null,
   "id": "6823fe56",
   "metadata": {},
   "outputs": [],
   "source": [
    "alg.DT(S)"
   ]
  },
  {
   "cell_type": "code",
   "execution_count": null,
   "id": "bb07b045",
   "metadata": {},
   "outputs": [],
   "source": [
    "edges = {0: {'label': ('f1', '1.0')}, 1: {'label': ('f1', '0.0')}, 2: {'label': ('f1', '*')}}"
   ]
  },
  {
   "cell_type": "code",
   "execution_count": null,
   "id": "754e77f1",
   "metadata": {},
   "outputs": [],
   "source": [
    "for edge in edges:\n",
    "    print(edges[edge][\"label\"])"
   ]
  },
  {
   "cell_type": "code",
   "execution_count": null,
   "id": "80c16854",
   "metadata": {},
   "outputs": [],
   "source": []
  },
  {
   "cell_type": "code",
   "execution_count": null,
   "id": "c087cee8",
   "metadata": {},
   "outputs": [],
   "source": []
  },
  {
   "cell_type": "code",
   "execution_count": null,
   "id": "329263bb",
   "metadata": {},
   "outputs": [],
   "source": [
    "DAG = alg.DAG_AR(S)"
   ]
  },
  {
   "cell_type": "code",
   "execution_count": null,
   "id": "13dc1843",
   "metadata": {},
   "outputs": [],
   "source": [
    "nx.draw(DAG)"
   ]
  },
  {
   "cell_type": "code",
   "execution_count": null,
   "id": "75d90b20",
   "metadata": {},
   "outputs": [],
   "source": [
    "DAG.nodes[id(S)]"
   ]
  },
  {
   "cell_type": "code",
   "execution_count": null,
   "id": "649648c0",
   "metadata": {},
   "outputs": [],
   "source": [
    "for child in DAG.successors(id(S)):\n",
    "    print(DAG.nodes[child])"
   ]
  },
  {
   "cell_type": "code",
   "execution_count": null,
   "id": "75a243e4",
   "metadata": {},
   "outputs": [],
   "source": []
  },
  {
   "cell_type": "code",
   "execution_count": null,
   "id": "8f2c3496",
   "metadata": {},
   "outputs": [],
   "source": [
    "alg.DT(S)"
   ]
  },
  {
   "cell_type": "code",
   "execution_count": null,
   "id": "242c8d20",
   "metadata": {},
   "outputs": [],
   "source": []
  },
  {
   "cell_type": "code",
   "execution_count": null,
   "id": "8453a4b2",
   "metadata": {},
   "outputs": [],
   "source": [
    "S"
   ]
  },
  {
   "cell_type": "code",
   "execution_count": null,
   "id": "229fb294",
   "metadata": {},
   "outputs": [],
   "source": [
    "Q = SAlphaStep(S, (\"f1\", 1))\n",
    "Q"
   ]
  },
  {
   "cell_type": "code",
   "execution_count": null,
   "id": "f4fc4e77",
   "metadata": {},
   "outputs": [],
   "source": [
    "set(Q.index)"
   ]
  },
  {
   "cell_type": "code",
   "execution_count": null,
   "id": "4496d6e7",
   "metadata": {},
   "outputs": [],
   "source": []
  },
  {
   "cell_type": "code",
   "execution_count": null,
   "id": "59f279fe",
   "metadata": {},
   "outputs": [],
   "source": []
  },
  {
   "cell_type": "code",
   "execution_count": null,
   "id": "df0dc646",
   "metadata": {},
   "outputs": [],
   "source": []
  },
  {
   "cell_type": "code",
   "execution_count": null,
   "id": "67fb90cb",
   "metadata": {},
   "outputs": [],
   "source": []
  },
  {
   "cell_type": "code",
   "execution_count": null,
   "id": "892a8c91",
   "metadata": {},
   "outputs": [],
   "source": [
    "def DAG_AR(S):\n",
    "    \"\"\"Construct the DAG based on the decision rule system S.\"\"\"\n",
    "\n",
    "    DAG = nx.DiGraph()\n",
    "    DAG.add_node(id(S), data=S, processed=False, H=None, best_attr=None)\n",
    "\n",
    "    def process_node(Q, DAG):\n",
    "        \"\"\"Process a node by checking applicable rules and updating the DAG.\"\"\"\n",
    "        if (R_SR(Q).empty or R_SR(Q).iloc[:, :-1].isna().all().all()):\n",
    "            DAG.nodes[id(Q)]['processed'] = True\n",
    "            DAG.nodes[id(Q)]['H'] = 0\n",
    "            return\n",
    "\n",
    "        for a in Q.columns[Q.notna().any()].tolist()[:-1]: # Finding columns with at least one non-NaN value\n",
    "            for delta in Q[a].dropna().unique():  # Find unique non-NaN values in column a\n",
    "                new_node_data = SAlphaStep(Q, (a, delta))\n",
    "                not_equal = True\n",
    "                for node in DAG.nodes:\n",
    "                    if new_node_data.equals(DAG.nodes[node]['data']):\n",
    "                        DAG.add_edge(id(Q), node, label=(a,delta))\n",
    "                        not_equal = False\n",
    "                        break\n",
    "                if not_equal:\n",
    "                    DAG.add_node(id(new_node_data), data=new_node_data, processed=False, H=None, best_attr=\"1\")\n",
    "#                     if id(Q) in DAG.nodes:\n",
    "#                         print(\"yes\")\n",
    "#                     else:\n",
    "#                         print(\"No\")\n",
    "                    DAG.add_edge(id(Q), id(new_node_data), label=(a,delta))\n",
    "        # Mark the current node as processed\n",
    "        DAG.nodes[id(Q)]['processed'] = True\n",
    "\n",
    "    while not all(nx.get_node_attributes(DAG, 'processed').values()):\n",
    "        # Find a node that is not processed\n",
    "        for node in DAG.nodes:\n",
    "            if not DAG.nodes[node]['processed']:\n",
    "                process_node(DAG.nodes[node]['data'], DAG)\n",
    "                break # Move to next iteration after processing a node\n",
    "    return DAG"
   ]
  },
  {
   "cell_type": "code",
   "execution_count": null,
   "id": "ca8cf1c7",
   "metadata": {},
   "outputs": [],
   "source": [
    "S"
   ]
  },
  {
   "cell_type": "code",
   "execution_count": null,
   "id": "034b872b",
   "metadata": {},
   "outputs": [],
   "source": [
    "DAG_AR(S)"
   ]
  },
  {
   "cell_type": "code",
   "execution_count": null,
   "id": "c6a6dd04",
   "metadata": {},
   "outputs": [],
   "source": [
    "DAG = nx.DiGraph()\n",
    "DAG.add_node(id(S), data=S, processed=False, H=None, best_attr=None)"
   ]
  },
  {
   "cell_type": "code",
   "execution_count": null,
   "id": "71adf350",
   "metadata": {},
   "outputs": [],
   "source": [
    "R_SR(DAG.nodes[id(S)]['data'])"
   ]
  },
  {
   "cell_type": "code",
   "execution_count": null,
   "id": "a2dbe4f1",
   "metadata": {},
   "outputs": [],
   "source": [
    "process_node(R_SR(DAG.nodes[id(S)]['data']), DAG)"
   ]
  },
  {
   "cell_type": "code",
   "execution_count": null,
   "id": "ea4d64a6",
   "metadata": {},
   "outputs": [],
   "source": [
    "def process_node(Q, DAG):\n",
    "    \"\"\"Process a node by checking applicable rules and updating the DAG.\"\"\"\n",
    "    if (Q.empty or Q.iloc[:, :-1].isna().all().all()):\n",
    "        DAG.nodes[id(Q)]['processed'] = True\n",
    "        DAG.nodes[id(Q)]['H'] = 0\n",
    "        return\n",
    "\n",
    "    for a in Q.columns[Q.notna().any()].tolist()[:-1]: # Finding columns with at least one non-NaN value\n",
    "        for delta in Q[a].dropna().unique():  # Find unique non-NaN values in column a\n",
    "            new_node = SAlphaStep(Q, (a, delta))\n",
    "            not_equal = True\n",
    "            for node, data in DAG.nodes(data=True):\n",
    "                if new_node.equals(data):\n",
    "                    DAG.add_edge(Q, node, label=(a,delta))\n",
    "                    not_equal = False\n",
    "                    break\n",
    "            if not_equal:\n",
    "                DAG.add_node(id(new_node), data=new_node, processed=False, H=None, best_attr=None)\n",
    "                DAG.add_edge(id(Q), id(new_node), label=(a,delta))\n",
    "    # Mark the current node as processed\n",
    "    DAG.nodes[id(Q)]['processed'] = True"
   ]
  },
  {
   "cell_type": "code",
   "execution_count": null,
   "id": "5bd27f7a",
   "metadata": {},
   "outputs": [],
   "source": []
  },
  {
   "cell_type": "code",
   "execution_count": null,
   "id": "ade12925",
   "metadata": {},
   "outputs": [],
   "source": []
  },
  {
   "cell_type": "code",
   "execution_count": null,
   "id": "5df8e0e6",
   "metadata": {},
   "outputs": [],
   "source": []
  },
  {
   "cell_type": "code",
   "execution_count": null,
   "id": "f83353ca",
   "metadata": {},
   "outputs": [],
   "source": [
    "G = nx.MultiDiGraph()\n",
    "G.add_node(\"1\")\n",
    "G.add_node(\"2\")\n",
    "G.add_edge(\"1\", \"2\", label=(\"3\", \"4\"))\n",
    "G.add_edge(\"1\", \"2\", label=(\"5\", \"6\"))\n",
    "\n",
    "for _, child, edge_data in G.out_edges(\"1\", data=True):\n",
    "    a, b = edge_data['label']\n",
    "    print(a)"
   ]
  },
  {
   "cell_type": "code",
   "execution_count": null,
   "id": "e2acb499",
   "metadata": {},
   "outputs": [],
   "source": [
    "for _, child, edge_data in G.out_edges(\"1\", data=True):\n",
    "    print(edge_data['label'])"
   ]
  },
  {
   "cell_type": "code",
   "execution_count": null,
   "id": "2569dd6e",
   "metadata": {},
   "outputs": [],
   "source": [
    "nx.draw(G)"
   ]
  },
  {
   "cell_type": "code",
   "execution_count": null,
   "id": "94d73806",
   "metadata": {},
   "outputs": [],
   "source": []
  },
  {
   "cell_type": "code",
   "execution_count": null,
   "id": "9b132a6c",
   "metadata": {},
   "outputs": [],
   "source": []
  },
  {
   "cell_type": "code",
   "execution_count": null,
   "id": "24f2cf7d",
   "metadata": {},
   "outputs": [],
   "source": []
  },
  {
   "cell_type": "code",
   "execution_count": null,
   "id": "33e172ae",
   "metadata": {},
   "outputs": [],
   "source": [
    "DecisionTable = pd.DataFrame(\n",
    "[[1,1,1,1],\n",
    "[0,1,0,2],\n",
    "[1,1,0,2],\n",
    "[0,0,1,3],\n",
    "[1,0,0,3]],\n",
    "columns=['f1','f2','f3','class']\n",
    ")\n",
    "DecisionTable"
   ]
  },
  {
   "cell_type": "code",
   "execution_count": null,
   "id": "84ea8f14",
   "metadata": {},
   "outputs": [],
   "source": [
    "S = DecisionRuleCreatorFromDecisionTable(DecisionTable)\n",
    "S"
   ]
  },
  {
   "cell_type": "code",
   "execution_count": null,
   "id": "8eee33ff",
   "metadata": {},
   "outputs": [],
   "source": [
    "S = pd.DataFrame(\n",
    "[[np.nan,1,np.nan,1],\n",
    "[0,0,np.nan,2]],\n",
    "columns=['f1','f2','f3','class']\n",
    ")\n",
    "S"
   ]
  },
  {
   "cell_type": "code",
   "execution_count": null,
   "id": "76392b8c",
   "metadata": {},
   "outputs": [],
   "source": [
    "def A_DAG(S):\n",
    "    \"\"\"Construct the DAG based on the decision rule system.\"\"\"\n",
    "    \n",
    "    DAG = nx.DiGraph()\n",
    "    DAG.add_node(id(S), data=S, processed=False, H=None, best_attr=None)\n",
    "    \n",
    "    def process_node(Q, DAG):\n",
    "        \"\"\"Process a node by checking applicable rules and updating the DAG.\"\"\"\n",
    "        if (Q.empty or Q.iloc[:, :-1].isna().all().all()):\n",
    "            DAG.nodes[id(Q)]['processed'] = True\n",
    "            DAG.nodes[id(Q)]['H'] = 0\n",
    "            return\n",
    "            \n",
    "        for a in Q.columns[Q.notna().any()].tolist()[:-1]: # Finding columns with at least one non-NaN value\n",
    "            for delta in Q[a].dropna().unique():  # Find unique non-NaN values in column a\n",
    "                new_node = SAlphaStep(Q, (a, delta))\n",
    "                not_equal = True\n",
    "                for node, data in DAG.nodes(data=True):\n",
    "                    if new_node.equals(data):\n",
    "                        DAG.add_edge(Q, node, label=(a,delta))\n",
    "                        not_equal = False\n",
    "                        break\n",
    "                if not_equal:\n",
    "                    DAG.add_node(id(new_node), data=new_node, processed=False, H=None, best_attr=None)\n",
    "                    DAG.add_edge(id(Q), id(new_node), label=(a,delta))\n",
    "        # Mark the current node as processed\n",
    "        DAG.nodes[id(Q)]['processed'] = True\n",
    "    \n",
    "    while not all(nx.get_node_attributes(DAG, 'processed').values()):\n",
    "        # Find a node that is not processed\n",
    "        for node in DAG.nodes:\n",
    "            if not DAG.nodes[node]['processed']:\n",
    "                process_node(DAG.nodes[node]['data'], DAG)\n",
    "                break # Move to next iteration after processing a node\n",
    "    return DAG\n"
   ]
  },
  {
   "cell_type": "code",
   "execution_count": null,
   "id": "cd2f1940",
   "metadata": {},
   "outputs": [],
   "source": [
    "DAG = A_DAG(S)"
   ]
  },
  {
   "cell_type": "code",
   "execution_count": null,
   "id": "5c6c1eab",
   "metadata": {},
   "outputs": [],
   "source": [
    "nx.draw(DAG)"
   ]
  },
  {
   "cell_type": "code",
   "execution_count": null,
   "id": "ad3fef9b",
   "metadata": {},
   "outputs": [],
   "source": [
    "def A_DP(DAG, node):\n",
    "\n",
    "    # Step 1: If \"H\" is already a number, return it\n",
    "    if DAG.nodes[node]['H']:\n",
    "        return DAG.nodes[node]['H']\n",
    "    \n",
    "    # Step 2: Process the node based on its children\n",
    "    children = list(DAG.successors(node))\n",
    "    if not children:  # Terminal node\n",
    "        DAG.nodes[node]['H'] = 0\n",
    "    else:\n",
    "        # Calculate the H value based on children and edge labels\n",
    "        attribute_H_values = []\n",
    "        for child in children:\n",
    "            edge_data = DAG.get_edge_data(node, child)\n",
    "            a, delta = edge_data['label']  # Assuming the edge label is stored as a tuple (a, delta)\n",
    "            child_H = DAG.nodes[child]['H'] if DAG.nodes[child].get('H') is not None else A_DP(DAG, child)\n",
    "            attribute_H_values.append((a, child_H))\n",
    "        \n",
    "        # Group by attribute and find the min of the max H values for each attribute\n",
    "        attribute_to_H = {}\n",
    "        for a, h in attribute_H_values:\n",
    "            if a in attribute_to_H:\n",
    "                attribute_to_H[a] = max(attribute_to_H[a], h)\n",
    "            else:\n",
    "                attribute_to_H[a] = h\n",
    "        \n",
    "        # Now calculate the final H value for the node\n",
    "        best_attr, min_H = min(attribute_to_H.items(), key=lambda x: x[1])\n",
    "\n",
    "        DAG.nodes[node]['H'] = 1 + min_H\n",
    "        DAG.nodes[node]['best_attr'] = best_attr\n",
    "    \n",
    "    return DAG.nodes[node]['H']"
   ]
  },
  {
   "cell_type": "code",
   "execution_count": null,
   "id": "c07627d4",
   "metadata": {},
   "outputs": [],
   "source": [
    "A_DP(DAG, id(S))"
   ]
  },
  {
   "cell_type": "code",
   "execution_count": null,
   "id": "09047dee",
   "metadata": {},
   "outputs": [],
   "source": [
    "DAG.nodes[id(S)]['best_attr']"
   ]
  },
  {
   "cell_type": "code",
   "execution_count": null,
   "id": "aacea889",
   "metadata": {},
   "outputs": [],
   "source": [
    "DAG.nodes[id(S)]"
   ]
  },
  {
   "cell_type": "code",
   "execution_count": null,
   "id": "7dd9d217",
   "metadata": {},
   "outputs": [],
   "source": [
    "DAG.out_edges(id(S), data=True)"
   ]
  },
  {
   "cell_type": "code",
   "execution_count": null,
   "id": "2131f60c",
   "metadata": {},
   "outputs": [],
   "source": [
    "def create_decision_tree(DAG, node):\n",
    "    \"\"\"\n",
    "    Creates a decision tree from a given DAG and initial node.\n",
    "    \n",
    "    Args:\n",
    "    DAG: The Directed Acyclic Graph from which to create the decision tree.\n",
    "    node: The initial node in the DAG to start creating the decision tree.\n",
    "    \n",
    "    Returns:\n",
    "    A decision tree represented as a nested dictionary.\n",
    "    \"\"\"\n",
    "    # Base case: if the node is a terminal node, return its data as the leaf of the decision tree\n",
    "    if DAG.nodes[node]['best_attr'] is None:\n",
    "        return {'data': DAG.nodes[node]['data']}\n",
    "    \n",
    "    # Initialize the decision tree node with the best attribute\n",
    "    best_attr = DAG.nodes[node]['best_attr']\n",
    "    decision_tree_node = {best_attr: {}}\n",
    "    \n",
    "    # Iterate over outgoing edges of the node, but only consider edges that match the best_attr\n",
    "    for _, child, edge_data in DAG.out_edges(node, data=True):\n",
    "        a, delta = edge_data['label']\n",
    "        if a == best_attr:\n",
    "            # Recursively build the decision tree for the child node\n",
    "            decision_tree_node[best_attr][delta] = create_decision_tree(DAG, child)\n",
    "    \n",
    "    return decision_tree_node\n"
   ]
  },
  {
   "cell_type": "code",
   "execution_count": null,
   "id": "03c306df",
   "metadata": {},
   "outputs": [],
   "source": [
    "DT = create_decision_tree(DAG, id(S))"
   ]
  },
  {
   "cell_type": "code",
   "execution_count": null,
   "id": "68183be5",
   "metadata": {},
   "outputs": [],
   "source": [
    "DT"
   ]
  },
  {
   "cell_type": "code",
   "execution_count": null,
   "id": "0a06fad1",
   "metadata": {},
   "outputs": [],
   "source": []
  },
  {
   "cell_type": "code",
   "execution_count": null,
   "id": "240cb001",
   "metadata": {},
   "outputs": [],
   "source": []
  },
  {
   "cell_type": "code",
   "execution_count": null,
   "id": "c0e268de",
   "metadata": {},
   "outputs": [],
   "source": []
  },
  {
   "cell_type": "code",
   "execution_count": null,
   "id": "cbb3982c",
   "metadata": {},
   "outputs": [],
   "source": []
  },
  {
   "cell_type": "code",
   "execution_count": null,
   "id": "91946c1a",
   "metadata": {},
   "outputs": [],
   "source": []
  },
  {
   "cell_type": "code",
   "execution_count": null,
   "id": "576fcd9e",
   "metadata": {},
   "outputs": [],
   "source": [
    "DT = alg.DT(S)\n",
    "DT"
   ]
  },
  {
   "cell_type": "code",
   "execution_count": null,
   "id": "9bbd308e",
   "metadata": {},
   "outputs": [],
   "source": []
  },
  {
   "cell_type": "code",
   "execution_count": null,
   "id": "3306736d",
   "metadata": {},
   "outputs": [],
   "source": []
  },
  {
   "cell_type": "code",
   "execution_count": null,
   "id": "f2c642c9",
   "metadata": {},
   "outputs": [],
   "source": []
  },
  {
   "cell_type": "code",
   "execution_count": null,
   "id": "efe462ce",
   "metadata": {},
   "outputs": [],
   "source": []
  },
  {
   "cell_type": "code",
   "execution_count": null,
   "id": "068ff2f7",
   "metadata": {},
   "outputs": [],
   "source": []
  },
  {
   "cell_type": "code",
   "execution_count": null,
   "id": "ed59f87c",
   "metadata": {},
   "outputs": [],
   "source": []
  },
  {
   "cell_type": "code",
   "execution_count": null,
   "id": "10454221",
   "metadata": {},
   "outputs": [],
   "source": []
  },
  {
   "cell_type": "code",
   "execution_count": null,
   "id": "faabab52",
   "metadata": {},
   "outputs": [],
   "source": []
  },
  {
   "cell_type": "code",
   "execution_count": null,
   "id": "c41b0915",
   "metadata": {},
   "outputs": [],
   "source": []
  },
  {
   "cell_type": "code",
   "execution_count": null,
   "id": "ced121e0",
   "metadata": {},
   "outputs": [],
   "source": []
  },
  {
   "cell_type": "code",
   "execution_count": null,
   "id": "c379516d",
   "metadata": {},
   "outputs": [],
   "source": []
  },
  {
   "cell_type": "code",
   "execution_count": null,
   "id": "eedc9adf",
   "metadata": {},
   "outputs": [],
   "source": []
  },
  {
   "cell_type": "code",
   "execution_count": null,
   "id": "8b2592bc",
   "metadata": {},
   "outputs": [],
   "source": []
  },
  {
   "cell_type": "code",
   "execution_count": null,
   "id": "94abe0b9",
   "metadata": {},
   "outputs": [],
   "source": []
  },
  {
   "cell_type": "code",
   "execution_count": null,
   "id": "0f827e6b",
   "metadata": {},
   "outputs": [],
   "source": []
  },
  {
   "cell_type": "code",
   "execution_count": null,
   "id": "4246f4ee",
   "metadata": {},
   "outputs": [],
   "source": []
  },
  {
   "cell_type": "code",
   "execution_count": null,
   "id": "662e2dea",
   "metadata": {},
   "outputs": [],
   "source": []
  },
  {
   "cell_type": "code",
   "execution_count": null,
   "id": "1d582e3b",
   "metadata": {},
   "outputs": [],
   "source": []
  },
  {
   "cell_type": "code",
   "execution_count": null,
   "id": "5e186a58",
   "metadata": {},
   "outputs": [],
   "source": []
  },
  {
   "cell_type": "code",
   "execution_count": null,
   "id": "9825366f",
   "metadata": {},
   "outputs": [],
   "source": []
  },
  {
   "cell_type": "code",
   "execution_count": null,
   "id": "1ca39e12",
   "metadata": {},
   "outputs": [],
   "source": []
  },
  {
   "cell_type": "code",
   "execution_count": null,
   "id": "e4367be9",
   "metadata": {},
   "outputs": [],
   "source": []
  },
  {
   "cell_type": "code",
   "execution_count": null,
   "id": "b19765df",
   "metadata": {},
   "outputs": [],
   "source": []
  },
  {
   "cell_type": "code",
   "execution_count": null,
   "id": "aaf2709e",
   "metadata": {},
   "outputs": [],
   "source": []
  },
  {
   "cell_type": "code",
   "execution_count": null,
   "id": "1ee383b1",
   "metadata": {},
   "outputs": [],
   "source": []
  },
  {
   "cell_type": "code",
   "execution_count": null,
   "id": "41da9090",
   "metadata": {},
   "outputs": [],
   "source": []
  },
  {
   "cell_type": "code",
   "execution_count": null,
   "id": "e12d0b2e",
   "metadata": {},
   "outputs": [],
   "source": []
  },
  {
   "cell_type": "code",
   "execution_count": null,
   "id": "760d8abe",
   "metadata": {},
   "outputs": [],
   "source": []
  },
  {
   "cell_type": "code",
   "execution_count": null,
   "id": "2b75cd57",
   "metadata": {},
   "outputs": [],
   "source": []
  },
  {
   "cell_type": "code",
   "execution_count": null,
   "id": "406e1a4b",
   "metadata": {},
   "outputs": [],
   "source": []
  },
  {
   "cell_type": "code",
   "execution_count": null,
   "id": "c1614f89",
   "metadata": {},
   "outputs": [],
   "source": []
  },
  {
   "cell_type": "code",
   "execution_count": null,
   "id": "29e1f441",
   "metadata": {},
   "outputs": [],
   "source": [
    "import networkx as nx\n",
    "import matplotlib.pyplot as plt\n",
    "\n",
    "# The given decision tree structure\n",
    "decision_tree = {\n",
    "    'f1': {\n",
    "        0.0: {\n",
    "            'f2': {\n",
    "                1.0: {\n",
    "                    'f3': {\n",
    "                        1.0: {\n",
    "                            'f4': {\n",
    "                                1.0: {'data': \"d1\"}\n",
    "                            }\n",
    "                        },\n",
    "                        0.0: {\n",
    "                            'f4': {\n",
    "                                1.0: {'data': \"d2\"}\n",
    "                            }\n",
    "                        }\n",
    "                    }\n",
    "                },\n",
    "                0.0: {\n",
    "                    'f3': {\n",
    "                        0.0: {\n",
    "                            'f4': {\n",
    "                                1.0: {'data': \"d3\"}\n",
    "                            }\n",
    "                        }\n",
    "                    }\n",
    "                }\n",
    "            }\n",
    "        }\n",
    "    }\n",
    "}\n",
    "\n",
    "def parse_tree(tree, graph=None, parent=None, edge_label=''):\n",
    "    \"\"\"\n",
    "    Recursive function to parse the decision tree and build the graph.\n",
    "\n",
    "    Parameters:\n",
    "    - tree: nested dictionary representing the decision tree\n",
    "    - graph: the graph object from networkx\n",
    "    - parent: the parent node name\n",
    "    - edge_label: the label for the edge leading to the current node\n",
    "    \"\"\"\n",
    "    if graph is None:\n",
    "        graph = nx.DiGraph()\n",
    "\n",
    "    for key, value in tree.items():\n",
    "        if key == 'data':\n",
    "            # Leaf node\n",
    "            node_name = f\"{value}\"\n",
    "            graph.add_node(node_name)\n",
    "            if parent is not None:\n",
    "                graph.add_edge(parent, node_name, label=edge_label)\n",
    "        else:\n",
    "            # Decision node\n",
    "            node_name = key\n",
    "            graph.add_node(node_name)\n",
    "            if parent is not None:\n",
    "                graph.add_edge(parent, node_name, label=edge_label)\n",
    "            for decision, subtree in value.items():\n",
    "                parse_tree(subtree, graph, node_name, str(decision))\n",
    "    return graph\n",
    "\n",
    "# Parse the decision tree and create the graph\n",
    "graph = parse_tree(decision_tree)\n",
    "\n",
    "# Plotting\n",
    "pos = nx.spring_layout(graph)  # Positioning the nodes based on spring layout\n",
    "plt.figure(figsize=(12, 8))\n",
    "\n",
    "# Draw nodes and edges\n",
    "nx.draw(graph, pos, with_labels=True, node_size=2000, node_color=\"lightblue\", font_size=10, font_weight=\"bold\")\n",
    "\n",
    "# Draw edge labels\n",
    "edge_labels = nx.get_edge_attributes(graph, 'label')\n",
    "nx.draw_networkx_edge_labels(graph, pos, edge_labels=edge_labels)\n",
    "\n",
    "plt.title(\"Decision Tree Visualization\")\n",
    "plt.axis('off')  # Turn off the axis\n",
    "plt.show()\n"
   ]
  },
  {
   "cell_type": "code",
   "execution_count": null,
   "id": "465e9e2a",
   "metadata": {},
   "outputs": [],
   "source": []
  },
  {
   "cell_type": "code",
   "execution_count": null,
   "id": "428901ae",
   "metadata": {},
   "outputs": [],
   "source": []
  },
  {
   "cell_type": "code",
   "execution_count": null,
   "id": "e4f1cbc6",
   "metadata": {},
   "outputs": [],
   "source": []
  },
  {
   "cell_type": "code",
   "execution_count": null,
   "id": "36e7e494",
   "metadata": {},
   "outputs": [],
   "source": []
  },
  {
   "cell_type": "code",
   "execution_count": null,
   "id": "702a7018",
   "metadata": {},
   "outputs": [],
   "source": []
  },
  {
   "cell_type": "code",
   "execution_count": null,
   "id": "47fa7a0f",
   "metadata": {},
   "outputs": [],
   "source": []
  },
  {
   "cell_type": "code",
   "execution_count": null,
   "id": "891463a3",
   "metadata": {},
   "outputs": [],
   "source": [
    "def A_DP(DAG, S):\n",
    "\n",
    "    # Step 1: If \"H\" is already a number, return it\n",
    "    if DAG.nodes[id(S)]['H']:\n",
    "        return DAG.nodes[node]['H']\n",
    "    \n",
    "    # Step 2: Process the node based on its children\n",
    "    children = list(DAG.successors(id(S)))\n",
    "    if not children:  # Terminal node\n",
    "        DAG.nodes[id(S)]['H'] = 0\n",
    "    else:\n",
    "        # Recursively label children, if not already done\n",
    "        A_DP = [label_node_H(DAG, child) for child in children if DAG.nodes[child].get('H') is None]\n",
    "        # Label \"H\" of the current node with the max \"H\" of its children\n",
    "        DAG.nodes[node]['H'] = max([DAG.nodes[child]['H'] for child in children])\n",
    "    \n",
    "    return DAG.nodes[node]['H']"
   ]
  },
  {
   "cell_type": "code",
   "execution_count": null,
   "id": "afd3d052",
   "metadata": {},
   "outputs": [],
   "source": [
    "def label_node_H_modified(G, node):\n",
    "    \"\"\"\n",
    "    Labels the node 'H' with the updated rule considering edge labels (a, delta).\n",
    "    \n",
    "    Args:\n",
    "    G: A networkx DiGraph object representing the DAG.\n",
    "    node: The node to label 'H'.\n",
    "    \n",
    "    Returns:\n",
    "    The 'H' value of the node.\n",
    "    \"\"\"\n",
    "    # Step 1: If \"H\" is already a number, return it\n",
    "    if G.nodes[node].get('H') is not None:\n",
    "        return G.nodes[node]['H']\n",
    "    \n",
    "    # Check if the node is a terminal node\n",
    "    children = list(G.successors(node))\n",
    "    if not children:  # Terminal node\n",
    "        G.nodes[node]['H'] = 0\n",
    "    else:\n",
    "        # Calculate the H value based on children and edge labels\n",
    "        attribute_H_values = []\n",
    "        for child in children:\n",
    "            edge_data = G.get_edge_data(node, child)\n",
    "            a, delta = edge_data['label']  # Assuming the edge label is stored as a tuple (a, delta)\n",
    "            child_H = G.nodes[child]['H'] if G.nodes[child].get('H') is not None else label_node_H_modified(G, child)\n",
    "            attribute_H_values.append((a, child_H))\n",
    "        \n",
    "        # Group by attribute and find the min of the max H values for each attribute\n",
    "        attribute_to_H = {}\n",
    "        for a, h in attribute_H_values:\n",
    "            if a in attribute_to_H:\n",
    "                attribute_to_H[a] = max(attribute_to_H[a], h)\n",
    "            else:\n",
    "                attribute_to_H[a] = h\n",
    "        \n",
    "        # Now calculate the final H value for the node\n",
    "        if attribute_to_H:\n",
    "            G.nodes[node]['H'] = 1 + min(attribute_to_H.values())\n",
    "        else:  # If for some reason, there are no attributes, default to 0\n",
    "            G.nodes[node]['H'] = 0\n",
    "    \n",
    "    return G.nodes[node]['H']\n"
   ]
  },
  {
   "cell_type": "code",
   "execution_count": null,
   "id": "83ba813c",
   "metadata": {},
   "outputs": [],
   "source": []
  },
  {
   "cell_type": "code",
   "execution_count": null,
   "id": "9df412d7",
   "metadata": {},
   "outputs": [],
   "source": []
  },
  {
   "cell_type": "code",
   "execution_count": null,
   "id": "50755623",
   "metadata": {},
   "outputs": [],
   "source": []
  },
  {
   "cell_type": "code",
   "execution_count": null,
   "id": "e39303af",
   "metadata": {},
   "outputs": [],
   "source": []
  },
  {
   "cell_type": "code",
   "execution_count": null,
   "id": "20a7bc11",
   "metadata": {},
   "outputs": [],
   "source": []
  },
  {
   "cell_type": "code",
   "execution_count": null,
   "id": "9d9acfeb",
   "metadata": {},
   "outputs": [],
   "source": []
  },
  {
   "cell_type": "code",
   "execution_count": null,
   "id": "094023fd",
   "metadata": {},
   "outputs": [],
   "source": []
  },
  {
   "cell_type": "code",
   "execution_count": null,
   "id": "bfb63be9",
   "metadata": {},
   "outputs": [],
   "source": [
    "def A_DP(DAG, S):\n",
    "    if DAG.nodes[id(S)]['H']:\n",
    "        return DAG.nodes[id(S)]['H']"
   ]
  },
  {
   "cell_type": "code",
   "execution_count": null,
   "id": "f7b79d53",
   "metadata": {},
   "outputs": [],
   "source": [
    "import matplotlib.pyplot as plt\n",
    "import networkx as nx\n",
    "\n",
    "\n",
    "# Positions for all nodes\n",
    "pos = nx.spring_layout(DAG)\n",
    "\n",
    "# Draw nodes and edges\n",
    "nx.draw_networkx_nodes(DAG, pos, node_size=200)\n",
    "nx.draw_networkx_edges(DAG, pos)\n",
    "\n",
    "# Draw edge labels\n",
    "edge_labels = nx.get_edge_attributes(DAG, 'label')\n",
    "nx.draw_networkx_edge_labels(DAG, pos, edge_labels=edge_labels)\n",
    "\n",
    "# Remove axes\n",
    "plt.axis('off')\n",
    "\n",
    "# Show the plot\n",
    "plt.show()\n"
   ]
  },
  {
   "cell_type": "code",
   "execution_count": null,
   "id": "67e3522a",
   "metadata": {},
   "outputs": [],
   "source": []
  },
  {
   "cell_type": "code",
   "execution_count": null,
   "id": "e8a5f1c0",
   "metadata": {},
   "outputs": [],
   "source": [
    "id(DecisionRules)"
   ]
  },
  {
   "cell_type": "code",
   "execution_count": null,
   "id": "c615cffa",
   "metadata": {},
   "outputs": [],
   "source": [
    "G.nodes[140398892141968]['data']"
   ]
  },
  {
   "cell_type": "code",
   "execution_count": null,
   "id": "b77d70a2",
   "metadata": {},
   "outputs": [],
   "source": [
    "df_str = DecisionRules.to_string()\n",
    "df_hash = hash(df_str)\n"
   ]
  },
  {
   "cell_type": "code",
   "execution_count": null,
   "id": "8fb3f018",
   "metadata": {},
   "outputs": [],
   "source": [
    "df_str"
   ]
  },
  {
   "cell_type": "code",
   "execution_count": null,
   "id": "34eb3783",
   "metadata": {},
   "outputs": [],
   "source": []
  },
  {
   "cell_type": "code",
   "execution_count": null,
   "id": "aa4a6836",
   "metadata": {},
   "outputs": [],
   "source": []
  },
  {
   "cell_type": "code",
   "execution_count": null,
   "id": "f5c20c0a",
   "metadata": {},
   "outputs": [],
   "source": []
  },
  {
   "cell_type": "code",
   "execution_count": null,
   "id": "e87a7537",
   "metadata": {},
   "outputs": [],
   "source": [
    "A = DecisionRules\n",
    "A"
   ]
  },
  {
   "cell_type": "code",
   "execution_count": null,
   "id": "c59f5bbb",
   "metadata": {},
   "outputs": [],
   "source": [
    "B = DecisionRules\n",
    "B"
   ]
  },
  {
   "cell_type": "code",
   "execution_count": null,
   "id": "8029a5d9",
   "metadata": {},
   "outputs": [],
   "source": [
    "B = 2*B"
   ]
  },
  {
   "cell_type": "code",
   "execution_count": null,
   "id": "898ab17b",
   "metadata": {},
   "outputs": [],
   "source": [
    "B"
   ]
  },
  {
   "cell_type": "code",
   "execution_count": null,
   "id": "166e9dd3",
   "metadata": {},
   "outputs": [],
   "source": [
    "A.equals(B)"
   ]
  },
  {
   "cell_type": "code",
   "execution_count": null,
   "id": "9b1fe2b0",
   "metadata": {},
   "outputs": [],
   "source": []
  },
  {
   "cell_type": "code",
   "execution_count": null,
   "id": "6bacb453",
   "metadata": {},
   "outputs": [],
   "source": []
  },
  {
   "cell_type": "code",
   "execution_count": null,
   "id": "2a738876",
   "metadata": {},
   "outputs": [],
   "source": []
  },
  {
   "cell_type": "code",
   "execution_count": null,
   "id": "8f74a3c8",
   "metadata": {},
   "outputs": [],
   "source": []
  },
  {
   "cell_type": "code",
   "execution_count": null,
   "id": "e6801e51",
   "metadata": {},
   "outputs": [],
   "source": []
  },
  {
   "cell_type": "code",
   "execution_count": null,
   "id": "43de9801",
   "metadata": {},
   "outputs": [],
   "source": []
  },
  {
   "cell_type": "code",
   "execution_count": null,
   "id": "2ae3ac45",
   "metadata": {},
   "outputs": [],
   "source": []
  },
  {
   "cell_type": "code",
   "execution_count": null,
   "id": "5b6afd41",
   "metadata": {},
   "outputs": [],
   "source": []
  },
  {
   "cell_type": "code",
   "execution_count": null,
   "id": "eaf9a23d",
   "metadata": {},
   "outputs": [],
   "source": []
  },
  {
   "cell_type": "code",
   "execution_count": null,
   "id": "db604431",
   "metadata": {},
   "outputs": [],
   "source": []
  },
  {
   "cell_type": "code",
   "execution_count": null,
   "id": "b025bb75",
   "metadata": {},
   "outputs": [],
   "source": []
  },
  {
   "cell_type": "code",
   "execution_count": null,
   "id": "acc17b06",
   "metadata": {},
   "outputs": [],
   "source": []
  },
  {
   "cell_type": "code",
   "execution_count": null,
   "id": "2a9ecb4b",
   "metadata": {},
   "outputs": [],
   "source": []
  },
  {
   "cell_type": "code",
   "execution_count": null,
   "id": "dedbc4ba",
   "metadata": {},
   "outputs": [],
   "source": []
  },
  {
   "cell_type": "code",
   "execution_count": null,
   "id": "321d5003",
   "metadata": {},
   "outputs": [],
   "source": []
  },
  {
   "cell_type": "code",
   "execution_count": null,
   "id": "166c0cc0",
   "metadata": {},
   "outputs": [],
   "source": []
  },
  {
   "cell_type": "code",
   "execution_count": null,
   "id": "94531fb7",
   "metadata": {},
   "outputs": [],
   "source": []
  },
  {
   "cell_type": "code",
   "execution_count": null,
   "id": "50c0fe36",
   "metadata": {},
   "outputs": [],
   "source": []
  },
  {
   "cell_type": "markdown",
   "id": "81efbddf",
   "metadata": {},
   "source": [
    "### Example to A_C_N"
   ]
  },
  {
   "cell_type": "code",
   "execution_count": null,
   "id": "67357179",
   "metadata": {},
   "outputs": [],
   "source": [
    "S = pd.DataFrame(\n",
    "[[np.nan,1,1,np.nan,1],\n",
    "[0,1,0,np.nan,2],\n",
    "[0,0,0,np.nan,2],\n",
    "[0,0,2,np.nan,3],\n",
    "[0,1,np.nan,np.nan,3],\n",
    "[np.nan,0,np.nan,np.nan,3]],\n",
    "columns=['f1','f2','f3','f4','class']\n",
    ")\n",
    "S"
   ]
  },
  {
   "cell_type": "code",
   "execution_count": null,
   "id": "3292b1e3",
   "metadata": {},
   "outputs": [],
   "source": [
    "for v in S['f3'].dropna().unique():\n",
    "    print(v)"
   ]
  },
  {
   "cell_type": "code",
   "execution_count": null,
   "id": "d3c58894",
   "metadata": {},
   "outputs": [],
   "source": [
    "columns_with_non_nan = S.columns[S.notna().any()].tolist()[:-1]"
   ]
  },
  {
   "cell_type": "code",
   "execution_count": null,
   "id": "ba9f60ff",
   "metadata": {},
   "outputs": [],
   "source": [
    "columns_with_non_nan"
   ]
  },
  {
   "cell_type": "code",
   "execution_count": null,
   "id": "c9ce8c4b",
   "metadata": {},
   "outputs": [],
   "source": []
  },
  {
   "cell_type": "code",
   "execution_count": null,
   "id": "a2721ca1",
   "metadata": {},
   "outputs": [],
   "source": [
    "delta = pd.DataFrame(\n",
    "[[0,1,0,1]],\n",
    "columns=['f1','f2','f3','f4']\n",
    ")\n",
    "delta = delta.loc[0]\n",
    "delta"
   ]
  },
  {
   "cell_type": "code",
   "execution_count": null,
   "id": "8880c4d7",
   "metadata": {},
   "outputs": [],
   "source": [
    "ALG1 = A_C_N(C=\"AR\", N=\"cover\")\n",
    "ALG1.solve(S, delta=delta)"
   ]
  },
  {
   "cell_type": "code",
   "execution_count": null,
   "id": "13e120e8",
   "metadata": {},
   "outputs": [],
   "source": [
    "ALG2 = A_C_G(C=\"AR\")\n",
    "ALG2.solve(S, delta=delta)"
   ]
  },
  {
   "cell_type": "code",
   "execution_count": null,
   "id": "e49955cb",
   "metadata": {},
   "outputs": [],
   "source": []
  },
  {
   "cell_type": "code",
   "execution_count": null,
   "id": "f0fcdf32",
   "metadata": {},
   "outputs": [],
   "source": []
  },
  {
   "cell_type": "code",
   "execution_count": null,
   "id": "1dd90d44",
   "metadata": {},
   "outputs": [],
   "source": []
  },
  {
   "cell_type": "code",
   "execution_count": null,
   "id": "814540fd",
   "metadata": {},
   "outputs": [],
   "source": []
  },
  {
   "cell_type": "code",
   "execution_count": null,
   "id": "ac23167b",
   "metadata": {},
   "outputs": [],
   "source": []
  },
  {
   "cell_type": "code",
   "execution_count": null,
   "id": "d264cd3b",
   "metadata": {},
   "outputs": [],
   "source": []
  },
  {
   "cell_type": "code",
   "execution_count": null,
   "id": "f66a4ba2",
   "metadata": {},
   "outputs": [],
   "source": []
  },
  {
   "cell_type": "code",
   "execution_count": null,
   "id": "7d2278a5",
   "metadata": {},
   "outputs": [],
   "source": []
  },
  {
   "cell_type": "code",
   "execution_count": null,
   "id": "efd32a7d",
   "metadata": {},
   "outputs": [],
   "source": []
  },
  {
   "cell_type": "code",
   "execution_count": null,
   "id": "30fbb5f8",
   "metadata": {},
   "outputs": [],
   "source": []
  },
  {
   "cell_type": "code",
   "execution_count": null,
   "id": "58b17ead",
   "metadata": {},
   "outputs": [],
   "source": []
  },
  {
   "cell_type": "code",
   "execution_count": null,
   "id": "3bbd3684",
   "metadata": {},
   "outputs": [],
   "source": []
  },
  {
   "cell_type": "code",
   "execution_count": null,
   "id": "9cb4ccc3",
   "metadata": {},
   "outputs": [],
   "source": []
  },
  {
   "cell_type": "code",
   "execution_count": null,
   "id": "738e126b",
   "metadata": {},
   "outputs": [],
   "source": []
  },
  {
   "cell_type": "code",
   "execution_count": null,
   "id": "0580d167",
   "metadata": {},
   "outputs": [],
   "source": []
  },
  {
   "cell_type": "code",
   "execution_count": null,
   "id": "7b20b78c",
   "metadata": {},
   "outputs": [],
   "source": []
  },
  {
   "cell_type": "code",
   "execution_count": null,
   "id": "28686be9",
   "metadata": {},
   "outputs": [],
   "source": []
  },
  {
   "cell_type": "code",
   "execution_count": null,
   "id": "6ff23b03",
   "metadata": {},
   "outputs": [],
   "source": []
  },
  {
   "cell_type": "code",
   "execution_count": null,
   "id": "0b14e98f",
   "metadata": {},
   "outputs": [],
   "source": []
  },
  {
   "cell_type": "code",
   "execution_count": null,
   "id": "5c4f08cb",
   "metadata": {},
   "outputs": [],
   "source": []
  },
  {
   "cell_type": "code",
   "execution_count": null,
   "id": "8a10bd5c",
   "metadata": {},
   "outputs": [],
   "source": []
  },
  {
   "cell_type": "code",
   "execution_count": null,
   "id": "42e442ae",
   "metadata": {},
   "outputs": [],
   "source": []
  },
  {
   "cell_type": "code",
   "execution_count": null,
   "id": "abebbf74",
   "metadata": {},
   "outputs": [],
   "source": []
  },
  {
   "cell_type": "code",
   "execution_count": null,
   "id": "3f479276",
   "metadata": {},
   "outputs": [],
   "source": []
  },
  {
   "cell_type": "code",
   "execution_count": null,
   "id": "122ae806",
   "metadata": {},
   "outputs": [],
   "source": []
  },
  {
   "cell_type": "code",
   "execution_count": null,
   "id": "723fb841",
   "metadata": {},
   "outputs": [],
   "source": []
  },
  {
   "cell_type": "code",
   "execution_count": null,
   "id": "c85f9cad",
   "metadata": {},
   "outputs": [],
   "source": []
  },
  {
   "cell_type": "code",
   "execution_count": null,
   "id": "b579e078",
   "metadata": {},
   "outputs": [],
   "source": []
  },
  {
   "cell_type": "code",
   "execution_count": null,
   "id": "67099186",
   "metadata": {},
   "outputs": [],
   "source": []
  },
  {
   "cell_type": "code",
   "execution_count": null,
   "id": "85d21f71",
   "metadata": {},
   "outputs": [],
   "source": []
  },
  {
   "cell_type": "code",
   "execution_count": null,
   "id": "a38f6963",
   "metadata": {},
   "outputs": [],
   "source": []
  },
  {
   "cell_type": "code",
   "execution_count": null,
   "id": "00e1a393",
   "metadata": {},
   "outputs": [],
   "source": []
  },
  {
   "cell_type": "code",
   "execution_count": null,
   "id": "5da7de0e",
   "metadata": {},
   "outputs": [],
   "source": []
  },
  {
   "cell_type": "code",
   "execution_count": null,
   "id": "3f00d042",
   "metadata": {},
   "outputs": [],
   "source": []
  },
  {
   "cell_type": "code",
   "execution_count": null,
   "id": "26af4c6d",
   "metadata": {},
   "outputs": [],
   "source": []
  },
  {
   "cell_type": "code",
   "execution_count": null,
   "id": "1c071f0c",
   "metadata": {},
   "outputs": [],
   "source": []
  },
  {
   "cell_type": "code",
   "execution_count": null,
   "id": "eb86ab7b",
   "metadata": {},
   "outputs": [],
   "source": []
  },
  {
   "cell_type": "code",
   "execution_count": null,
   "id": "2f1bd191",
   "metadata": {},
   "outputs": [],
   "source": []
  },
  {
   "cell_type": "code",
   "execution_count": null,
   "id": "4ca289fb",
   "metadata": {},
   "outputs": [],
   "source": []
  },
  {
   "cell_type": "code",
   "execution_count": null,
   "id": "81d6c980",
   "metadata": {},
   "outputs": [],
   "source": []
  },
  {
   "cell_type": "code",
   "execution_count": null,
   "id": "0bb89d78",
   "metadata": {},
   "outputs": [],
   "source": []
  },
  {
   "cell_type": "code",
   "execution_count": null,
   "id": "40fa243a",
   "metadata": {},
   "outputs": [],
   "source": [
    "import numpy as np\n",
    "import pandas as pd\n",
    "from tqdm import tqdm\n",
    "from helper_functions import R_SR, R_AD, SAlphaStep, SPlus, SMax\n",
    "\n",
    "\n",
    "\n",
    "class A_C_G:\n",
    "    def __init__(self, C=\"EAR\"):\n",
    "        \"\"\"\n",
    "         For each of the considered six problems, this is a polynomial time algorithm\n",
    "         that, for a given tuple of attribute values, describes the work on this tuple \n",
    "         of a decision tree, which solves the problem. This algorithm is a completely \n",
    "         greedy algorithm by nature.\n",
    "         \n",
    "         C - type of problem:\n",
    "            \"AR\" - All Rules\n",
    "            \"EAR\" - Extended All Rules\n",
    "            \"SR\" - Some Rules\n",
    "            \"ESR\" - Extended Some Rules\n",
    "            \"AD\" - All Decisions\n",
    "            \"EAD\" - Extended All Decisions\n",
    "        \"\"\"\n",
    "        self.C = C\n",
    "        \n",
    "    def solve(self, S, delta):\n",
    "        \"\"\"\n",
    "        S - System of Decision Rules (pandas DataFrame)\n",
    "        delta - tuple of attribute values from the set V_C (a row of a pandas df, without any NaN values)\n",
    "        \"\"\"\n",
    "        \n",
    "        # AR - All Rules problem, EAR - Extended All Rules problem\n",
    "        if self.C in [\"AR\", \"EAR\"]:\n",
    "            Q = S.copy()\n",
    "            while True:\n",
    "                # Step 1\n",
    "                P = Q\n",
    "                if (P.empty or P.iloc[:, :-1].isna().all().all()):\n",
    "                    if P.empty:\n",
    "#                             print(\"There is no such rule\")\n",
    "                        return\n",
    "                    else:\n",
    "                        row_indecies = P.index.tolist()\n",
    "                        return S.loc[row_indecies]\n",
    "\n",
    "                # Step 2\n",
    "                else:\n",
    "                    for column in P.columns:       # We choose an attribute ai ∈ A(P) with the minimum index i\n",
    "                        if P[column].notna().any():\n",
    "                            attr = column\n",
    "                            break\n",
    "                    alpha = (attr, delta[attr])\n",
    "                    Q = SAlphaStep(P, alpha)\n",
    "            \n",
    "        # SR - Some Rules problem, ESR - Extended Some Rules problem\n",
    "        elif self.C in [\"SR\", \"ESR\"]:\n",
    "            Q = S.copy()\n",
    "            while True:\n",
    "                # Step 1\n",
    "                P = R_SR(Q)\n",
    "                if (P.empty or P.iloc[:, :-1].isna().all().all()):\n",
    "                    if P.empty:\n",
    "#                             print(\"There is no such rule\")\n",
    "                        return\n",
    "                    else:\n",
    "                        row_indecies = P.index.tolist()\n",
    "                        return S.loc[row_indecies]\n",
    "\n",
    "                # Step 2\n",
    "                else:\n",
    "                    for column in P.columns:       # We choose an attribute ai ∈ A(P) with the minimum index i\n",
    "                        if P[column].notna().any():\n",
    "                            attr = column\n",
    "                            break\n",
    "                    alpha = (attr, delta[attr])\n",
    "                    Q = SAlphaStep(P, alpha)\n",
    "                \n",
    "        # AD - All Decisions problem, EAD - Extended All Decisions problem\n",
    "        elif self.C in [\"AD\", \"EAD\"]:\n",
    "            Q = S.copy()\n",
    "            while True:\n",
    "                # Step 1\n",
    "                P = R_AD(Q)\n",
    "                if (P.empty or P.iloc[:, :-1].isna().all().all()):\n",
    "                    if P.empty:\n",
    "#                             print(\"There is no such rule\")\n",
    "                        return\n",
    "                    else:\n",
    "                        row_indecies = P.index.tolist()\n",
    "                        return S.loc[row_indecies]\n",
    "\n",
    "                # Step 2\n",
    "                else:\n",
    "                    for column in P.columns:       # We choose an attribute ai ∈ A(P) with the minimum index i\n",
    "                        if P[column].notna().any():\n",
    "                            attr = column\n",
    "                            break\n",
    "                    alpha = (attr, delta[attr])\n",
    "                    Q = SAlphaStep(P, alpha)\n",
    "                \n",
    "        # Wrong problem type      \n",
    "        else: \n",
    "            raise ValueError(\"C must be one of {'AR', 'EAR', 'SR', 'ESR', 'AD', 'EAD'}\")"
   ]
  },
  {
   "cell_type": "code",
   "execution_count": null,
   "id": "112f69eb",
   "metadata": {},
   "outputs": [],
   "source": [
    "S = pd.DataFrame(\n",
    "[[np.nan,1,1,np.nan,1],\n",
    "[0,1,0,np.nan,2],\n",
    "[0,0,0,np.nan,2],\n",
    "[0,0,0,np.nan,3],\n",
    "[0,1,np.nan,np.nan,3],\n",
    "[np.nan,np.nan,np.nan,1,3]],\n",
    "columns=['f1','f2','f3','f4','class']\n",
    ")\n",
    "S"
   ]
  },
  {
   "cell_type": "code",
   "execution_count": null,
   "id": "7b440e71",
   "metadata": {},
   "outputs": [],
   "source": [
    "delta = pd.DataFrame(\n",
    "[[0,1,0,1]],\n",
    "columns=['f1','f2','f3','f4']\n",
    ")\n",
    "delta = delta.loc[0]\n",
    "delta"
   ]
  },
  {
   "cell_type": "code",
   "execution_count": null,
   "id": "9541276c",
   "metadata": {},
   "outputs": [],
   "source": [
    "ALG = A_C_G(C=\"AD\")\n",
    "ALG.solve(S, delta=delta)"
   ]
  },
  {
   "cell_type": "code",
   "execution_count": null,
   "id": "3482c245",
   "metadata": {},
   "outputs": [],
   "source": []
  },
  {
   "cell_type": "code",
   "execution_count": null,
   "id": "da56db0e",
   "metadata": {},
   "outputs": [],
   "source": []
  },
  {
   "cell_type": "code",
   "execution_count": null,
   "id": "1e9afe61",
   "metadata": {},
   "outputs": [],
   "source": []
  },
  {
   "cell_type": "code",
   "execution_count": null,
   "id": "19365421",
   "metadata": {},
   "outputs": [],
   "source": []
  },
  {
   "cell_type": "code",
   "execution_count": null,
   "id": "00bf66d1",
   "metadata": {},
   "outputs": [],
   "source": []
  },
  {
   "cell_type": "code",
   "execution_count": null,
   "id": "4dbfb790",
   "metadata": {},
   "outputs": [],
   "source": []
  },
  {
   "cell_type": "code",
   "execution_count": null,
   "id": "c70c4898",
   "metadata": {},
   "outputs": [],
   "source": []
  },
  {
   "cell_type": "code",
   "execution_count": null,
   "id": "49c173e4",
   "metadata": {},
   "outputs": [],
   "source": []
  },
  {
   "cell_type": "code",
   "execution_count": null,
   "id": "1c0be893",
   "metadata": {},
   "outputs": [],
   "source": [
    "P = pd.DataFrame(\n",
    "[[np.nan,1,1,np.nan,1],\n",
    "[np.nan,1,0,np.nan,2],\n",
    "[np.nan,0,0,np.nan,2],\n",
    "[np.nan,0,0,np.nan,3],\n",
    "[np.nan,1,np.nan,np.nan,3],\n",
    "[np.nan,np.nan,np.nan,1,3]],\n",
    "columns=['f1','f2','f3','f4','class']\n",
    ")\n",
    "P"
   ]
  },
  {
   "cell_type": "code",
   "execution_count": null,
   "id": "578c630d",
   "metadata": {},
   "outputs": [],
   "source": [
    "for column in P.columns:\n",
    "    if P[column].notna().any():\n",
    "        attr = column\n",
    "        break"
   ]
  },
  {
   "cell_type": "code",
   "execution_count": null,
   "id": "0a22f522",
   "metadata": {},
   "outputs": [],
   "source": [
    "attr"
   ]
  },
  {
   "cell_type": "code",
   "execution_count": null,
   "id": "72039c13",
   "metadata": {},
   "outputs": [],
   "source": [
    "SAlphaStep(P, (attr, 0))"
   ]
  },
  {
   "cell_type": "code",
   "execution_count": null,
   "id": "20a22d28",
   "metadata": {},
   "outputs": [],
   "source": []
  },
  {
   "cell_type": "code",
   "execution_count": null,
   "id": "322c49c1",
   "metadata": {},
   "outputs": [],
   "source": [
    "from helper_functions import R_SR, R_AD, SAlphaStep, SPlus, SMax"
   ]
  },
  {
   "cell_type": "code",
   "execution_count": null,
   "id": "38ecbef5",
   "metadata": {},
   "outputs": [],
   "source": []
  },
  {
   "cell_type": "code",
   "execution_count": null,
   "id": "7284dc03",
   "metadata": {},
   "outputs": [],
   "source": []
  },
  {
   "cell_type": "code",
   "execution_count": null,
   "id": "487ab5b2",
   "metadata": {},
   "outputs": [],
   "source": []
  },
  {
   "cell_type": "code",
   "execution_count": null,
   "id": "98256f71",
   "metadata": {},
   "outputs": [],
   "source": []
  },
  {
   "cell_type": "code",
   "execution_count": null,
   "id": "477c9347",
   "metadata": {},
   "outputs": [],
   "source": []
  },
  {
   "cell_type": "code",
   "execution_count": null,
   "id": "4be3628e",
   "metadata": {},
   "outputs": [],
   "source": []
  },
  {
   "cell_type": "code",
   "execution_count": null,
   "id": "440f7572",
   "metadata": {},
   "outputs": [],
   "source": []
  },
  {
   "cell_type": "code",
   "execution_count": null,
   "id": "c766c271",
   "metadata": {},
   "outputs": [],
   "source": []
  },
  {
   "cell_type": "code",
   "execution_count": null,
   "id": "5445a08e",
   "metadata": {},
   "outputs": [],
   "source": []
  },
  {
   "cell_type": "code",
   "execution_count": null,
   "id": "45d89dbd",
   "metadata": {},
   "outputs": [],
   "source": []
  },
  {
   "cell_type": "code",
   "execution_count": null,
   "id": "c7c3ba83",
   "metadata": {},
   "outputs": [],
   "source": []
  },
  {
   "cell_type": "code",
   "execution_count": null,
   "id": "a40f2230",
   "metadata": {},
   "outputs": [],
   "source": []
  },
  {
   "cell_type": "code",
   "execution_count": null,
   "id": "7cb6fcc0",
   "metadata": {},
   "outputs": [],
   "source": []
  },
  {
   "cell_type": "code",
   "execution_count": null,
   "id": "9e2ad407",
   "metadata": {},
   "outputs": [],
   "source": []
  },
  {
   "cell_type": "code",
   "execution_count": null,
   "id": "0f31fcb3",
   "metadata": {},
   "outputs": [],
   "source": []
  },
  {
   "cell_type": "code",
   "execution_count": null,
   "id": "b9f17ad8",
   "metadata": {},
   "outputs": [],
   "source": []
  },
  {
   "cell_type": "code",
   "execution_count": null,
   "id": "8dce6270",
   "metadata": {},
   "outputs": [],
   "source": []
  },
  {
   "cell_type": "code",
   "execution_count": null,
   "id": "d7fa4d14",
   "metadata": {},
   "outputs": [],
   "source": []
  },
  {
   "cell_type": "code",
   "execution_count": null,
   "id": "a6f19a7a",
   "metadata": {},
   "outputs": [],
   "source": []
  },
  {
   "cell_type": "code",
   "execution_count": null,
   "id": "fdf82c8d",
   "metadata": {},
   "outputs": [],
   "source": [
    "def R_SR(S):\n",
    "    \"\"\"\n",
    "    input: S - system of decision rules (pandas DataFrame)\n",
    "    output: subset of S which has reduced by SR reduction (pandas DataFrame)\n",
    "    \"\"\"\n",
    "    to_remove = set()\n",
    "    n = len(S)\n",
    "\n",
    "    for i in range(n):\n",
    "        for j in range(i+1, n):\n",
    "            if i in to_remove or j in to_remove:\n",
    "                continue\n",
    "            r1, r2 = S.iloc[i][:-1], S.iloc[j][:-1] # Exclude the last column\n",
    "            # Check if r1 is a subset of r2\n",
    "            if all(np.isnan(r1[k]) or r1[k] == r2[k] for k in S.columns[:-1]):\n",
    "                to_remove.add(j)\n",
    "            # Check if r2 is a subset of r1\n",
    "            elif all(np.isnan(r2[k]) or r2[k] == r1[k] for k in S.columns[:-1]):\n",
    "                to_remove.add(i)\n",
    "\n",
    "    return S.drop(S.index[list(to_remove)])\n",
    "\n",
    "\n",
    "def R_AD(S):\n",
    "    \"\"\"\n",
    "    input: S - system of decision rules (pandas DataFrame)\n",
    "    output: subset of S which has reduced by AD reduction (pandas DataFrame)\n",
    "    \"\"\"\n",
    "    to_remove = set()\n",
    "    n = len(S)\n",
    "\n",
    "    for i in range(n):\n",
    "        for j in range(i+1, n):\n",
    "            if i in to_remove or j in to_remove:\n",
    "                continue\n",
    "            r1, r2 = S.iloc[i], S.iloc[j]\n",
    "            # Check if r1 is a subset of r2\n",
    "            if all(np.isnan(r1[k]) or r1[k] == r2[k] for k in S.columns):\n",
    "                to_remove.add(j)\n",
    "            # Check if r2 is a subset of r1\n",
    "            elif all(np.isnan(r2[k]) or r2[k] == r1[k] for k in S.columns):\n",
    "                to_remove.add(i)\n",
    "\n",
    "    return S.drop(S.index[list(to_remove)])\n",
    "\n",
    "\n",
    "def SAlphaStep(S, alpha):\n",
    "    \"\"\"\n",
    "    input: S - system of decision rules (pandas DataFrame)\n",
    "           alpha - s tuple of the form (a_i = delta_j)\n",
    "    output: S_alpha - subset of S as defined in the paper.(just for 1 attribute) (pandas DataFrame)\n",
    "    \"\"\"\n",
    "    \n",
    "    attr, value = alpha\n",
    "\n",
    "    # Keep rows where the attr is NaN or equals the specified value\n",
    "    S = S[(S[attr].isna()) | (S[attr] == value)]\n",
    "    \n",
    "    #Make NaN the values\n",
    "    S.loc[~S[attr].isna(), attr] = np.nan\n",
    "\n",
    "    return S\n",
    "\n",
    "\n",
    "def SPlus(S):\n",
    "    \"\"\"\n",
    "    input: S - system of decision rules (pandas DataFrame)\n",
    "    output: S_plus - subset of S as defined in the paper. (pandas DataFrame)\n",
    "    \"\"\"\n",
    "    non_nan_counts = S.notna().sum(axis=1)\n",
    "\n",
    "    max_non_nan = non_nan_counts.max()\n",
    "\n",
    "    S_plus = S[non_nan_counts == max_non_nan]\n",
    "    \n",
    "    return S_plus\n",
    "\n",
    "\n",
    "def SMax(S_plus):\n",
    "    \"\"\"\n",
    "    input: S_plus - system of decision rules with length d (pandas DataFrame)\n",
    "    output: S_max - subset of S as defined in the paper. (pandas DataFrame)\n",
    "    \"\"\"\n",
    "\n",
    "    columns_to_check = S_plus.columns[:-1]\n",
    "\n",
    "    S_max = S_plus.drop_duplicates(subset=columns_to_check, keep='first')\n",
    "    \n",
    "    return S_max\n",
    "\n",
    "\n",
    "def NCover(S_plus):\n",
    "    \"\"\" \n",
    "    input: S_plus - system of decision rules with length d (pandas DataFrame)\n",
    "    output: Node cover of S_plus, set of columns that covers all rows\n",
    "    \"\"\"\n",
    "    B = set()\n",
    "\n",
    "    while not S_plus.iloc[:, :-1].isna().all().all():\n",
    "        # Select the first row\n",
    "        r1 = S_plus.iloc[0][:-1]\n",
    "        # Create A_r1\n",
    "        A_r1 = set(r1[r1.notna()].index)\n",
    "        # Add A_r1 to B\n",
    "        B.update(A_r1)\n",
    "        \n",
    "        # Drop rows that have common elements in their index set with A_r1\n",
    "        rows_to_drop = []\n",
    "        for index, row in S_plus.iterrows():\n",
    "            row = row[:-1]\n",
    "            A_r = set(row[row.notna()].index)\n",
    "            if A_r1 & A_r:  # Check for common elements\n",
    "                rows_to_drop.append(index)\n",
    "        \n",
    "        S_plus = S_plus.drop(rows_to_drop)\n",
    "\n",
    "    return B\n",
    "\n",
    "\n",
    "def NGreedy(S_plus):\n",
    "    \"\"\"\n",
    "    input: S_plus - subset of S as defined in the paper. (pandas DataFrame)\n",
    "    output: Node cover of S_plus, set of indecies of columns that covers all rows\n",
    "    \"\"\"\n",
    "    S_max = SMax(S_plus)\n",
    "    \n",
    "    B = set()\n",
    "    uncovered_rows = set(S_max.index)\n",
    "\n",
    "    while uncovered_rows:\n",
    "        # Find the column that covers the maximum number of uncovered rows\n",
    "        max_cover = 0\n",
    "        max_col = None\n",
    "\n",
    "        for col in S_max.columns[:-1]: # Exclude the last column\n",
    "            if col in B:\n",
    "                continue  # Skip columns that have already been chosen\n",
    "            cover = S_max.index[S_max[col].notna()].intersection(uncovered_rows)\n",
    "            if len(cover) > max_cover:\n",
    "                max_cover = len(cover)\n",
    "                max_col = col\n",
    "\n",
    "        if max_col is None:\n",
    "            # No more columns to cover rows, break out\n",
    "            break\n",
    "\n",
    "        # Add the column to B and remove covered rows from consideration\n",
    "        B.add(max_col)\n",
    "        uncovered_rows -= set(S_max.index[S_max[max_col].notna()])\n",
    "\n",
    "    return B\n"
   ]
  },
  {
   "cell_type": "code",
   "execution_count": null,
   "id": "8e773b01",
   "metadata": {},
   "outputs": [],
   "source": [
    "class A_C_N:\n",
    "    def __init__(self, C=\"EAR\", N=\"cover\"):\n",
    "        \"\"\"\n",
    "        C - type of problem:\n",
    "            \"AR\" - All Rules\n",
    "            \"EAR\" - Extended All Rules\n",
    "            \"SR\" - Some Rules\n",
    "            \"ESR\" - Extended Some Rules\n",
    "            \"AD\" - All Decisions\n",
    "            \"EAD\" - Extended All Decisions\n",
    "        N - type of Node Cover Algorithm:\n",
    "            \"cover\"\n",
    "            \"greedy\"\n",
    "        \"\"\"\n",
    "        self.C = C\n",
    "        self.N = N\n",
    "        \n",
    "    def solve(self, S, delta):\n",
    "        \"\"\"\n",
    "        S - System of Decision Rules (pandas DataFrame)\n",
    "        delta - tuple of attribute values from the set V_C (a row of a pandas df, without any NaN values)\n",
    "        \"\"\"\n",
    "        \n",
    "        # AR - All Rules problem, EAR - Extended All Rules problem\n",
    "        if self.C in [\"AR\", \"EAR\"]:\n",
    "            if self.N == \"cover\": # with \"cover\" NodeCover method\n",
    "                Q = S.copy()\n",
    "                while True:\n",
    "                    # Step 1\n",
    "                    if (Q.empty or Q.iloc[:, :-1].isna().all().all()):\n",
    "                        if Q.empty:\n",
    "                            print(\"There is no such rule\")\n",
    "                            return\n",
    "                        else:\n",
    "                            row_indecies = Q.index.tolist()\n",
    "                            return S.loc[row_indecies]\n",
    "                       \n",
    "                    # Step 2\n",
    "                    else:\n",
    "                        Q_plus = SPlus(Q)\n",
    "                        B = NCover(Q_plus)\n",
    "                        for attr in B:\n",
    "                            alpha = (attr, delta[attr])\n",
    "                            Q = SAlphaStep(Q, alpha)\n",
    "                            \n",
    "            elif self.N == \"greedy\": # with \"cover\" NodeCover method\n",
    "                Q = S.copy()\n",
    "                while True:\n",
    "                    # Step 1\n",
    "                    if (Q.empty or Q.iloc[:, :-1].isna().all().all()):\n",
    "                        if Q.empty:\n",
    "                            print(\"There is no such rule\")\n",
    "                            return\n",
    "                        else:\n",
    "                            row_indecies = Q.index.tolist()\n",
    "                            return S.loc[row_indecies]\n",
    "                    # Step 2\n",
    "                    else:\n",
    "                        Q_plus = SPlus(Q)\n",
    "                        B = NGreedy(Q_plus)\n",
    "                        for attr in B:\n",
    "                            alpha = (attr, delta[attr])\n",
    "                            Q = SAlphaStep(Q, alpha)\n",
    "            \n",
    "            else:\n",
    "                raise ValueError(\"N must be 'cover' or 'greedy'.\")\n",
    "            \n",
    "                \n",
    "        # SR - Some Rules problem, ESR - Extended Some Rules problem\n",
    "        elif self.C in [\"SR\", \"ESR\"]:\n",
    "            if self.N == \"cover\": # with \"cover\" NodeCover method\n",
    "                Q = S.copy()\n",
    "                while True:\n",
    "                    # Step 1\n",
    "                    if (Q.empty or Q.iloc[:, :-1].isna().all().all()):\n",
    "                        if Q.empty:\n",
    "                            print(\"There is no such rule\")\n",
    "                            return\n",
    "                        else:\n",
    "                            row_indecies = Q.index.tolist()\n",
    "                            return S.loc[row_indecies]\n",
    "                       \n",
    "                    # Step 2\n",
    "                    else:\n",
    "                        P = R_SR(Q)\n",
    "                        P_plus = SPlus(P)\n",
    "                        B = NCover(P_plus)\n",
    "                        for attr in B:\n",
    "                            alpha = (attr, delta[attr])\n",
    "                            P = SAlphaStep(P, alpha)\n",
    "                        Q = P\n",
    "                            \n",
    "            elif self.N == \"greedy\": # with \"cover\" NodeCover method\n",
    "                Q = S.copy()\n",
    "                while True:\n",
    "                    # Step 1\n",
    "                    if (Q.empty or Q.iloc[:, :-1].isna().all().all()):\n",
    "                        if Q.empty:\n",
    "                            print(\"There is no such rule\")\n",
    "                            return\n",
    "                        else:\n",
    "                            row_indecies = Q.index.tolist()\n",
    "                            return S.loc[row_indecies]\n",
    "                       \n",
    "                    # Step 2\n",
    "                    else:\n",
    "                        P = R_SR(Q)\n",
    "                        P_plus = SPlus(P)\n",
    "                        B = NGreedy(P_plus)\n",
    "                        for attr in B:\n",
    "                            alpha = (attr, delta[attr])\n",
    "                            P = SAlphaStep(P, alpha)\n",
    "                        Q = P\n",
    "            \n",
    "            else:\n",
    "                raise ValueError(\"N must be 'cover' or 'greedy'.\")\n",
    "                \n",
    "        # AD - All Decisions problem, EAD - Extended All Decisions problem\n",
    "        elif self.C in [\"AD\", \"EAD\"]:\n",
    "            if self.N == \"cover\": # with \"cover\" NodeCover method\n",
    "                Q = S.copy()\n",
    "                while True:\n",
    "                    # Step 1\n",
    "                    if (Q.empty or Q.iloc[:, :-1].isna().all().all()):\n",
    "                        if Q.empty:\n",
    "                            print(\"There is no such rule\")\n",
    "                            return\n",
    "                        else:\n",
    "                            row_indecies = Q.index.tolist()\n",
    "                            return S.loc[row_indecies]\n",
    "                       \n",
    "                    # Step 2\n",
    "                    else:\n",
    "                        P = R_AD(Q)\n",
    "                        P_plus = SPlus(P)\n",
    "                        B = NCover(P_plus)\n",
    "                        for attr in B:\n",
    "                            alpha = (attr, delta[attr])\n",
    "                            P = SAlphaStep(P, alpha)\n",
    "                        Q = P\n",
    "                            \n",
    "            elif self.N == \"greedy\": # with \"cover\" NodeCover method\n",
    "                Q = S.copy()\n",
    "                while True:\n",
    "                    # Step 1\n",
    "                    if (Q.empty or Q.iloc[:, :-1].isna().all().all()):\n",
    "                        if Q.empty:\n",
    "                            print(\"There is no such rule\")\n",
    "                            return\n",
    "                        else:\n",
    "                            row_indecies = Q.index.tolist()\n",
    "                            return S.loc[row_indecies]\n",
    "                       \n",
    "                    # Step 2\n",
    "                    else:\n",
    "                        P = R_AD(Q)\n",
    "                        P_plus = SPlus(P)\n",
    "                        B = NGreedy(P_plus)\n",
    "                        for attr in B:\n",
    "                            alpha = (attr, delta[attr])\n",
    "                            P = SAlphaStep(P, alpha)\n",
    "                        Q = P\n",
    "            \n",
    "            else:\n",
    "                raise ValueError(\"N must be 'cover' or 'greedy'.\")\n",
    "                \n",
    "        # Wrong problem type      \n",
    "        else: \n",
    "            raise ValueError(\"C must be one of {'AR', 'EAR', 'SR', 'ESR', 'AD', 'EAD'}\")"
   ]
  },
  {
   "cell_type": "code",
   "execution_count": null,
   "id": "36503460",
   "metadata": {},
   "outputs": [],
   "source": [
    "S = pd.DataFrame(\n",
    "[[np.nan,1,1,np.nan,1],\n",
    "[0,1,0,np.nan,2],\n",
    "[0,0,0,np.nan,2],\n",
    "[0,0,0,np.nan,3],\n",
    "[0,1,np.nan,np.nan,3],\n",
    "[np.nan,np.nan,np.nan,1,3]],\n",
    "columns=['f1','f2','f3','f4','class']\n",
    ")\n",
    "S"
   ]
  },
  {
   "cell_type": "code",
   "execution_count": null,
   "id": "d4681cbc",
   "metadata": {},
   "outputs": [],
   "source": [
    "delta = pd.DataFrame(\n",
    "[[0,1,0,2]],\n",
    "columns=['f1','f2','f3','f4']\n",
    ")\n",
    "delta = delta.loc[0]\n",
    "delta"
   ]
  },
  {
   "cell_type": "code",
   "execution_count": null,
   "id": "60eaaf17",
   "metadata": {},
   "outputs": [],
   "source": [
    "A_SR_N = A_C_N(C=\"AD\", N=\"greedy\")\n",
    "A_SR_N.solve(S, delta=delta)"
   ]
  },
  {
   "cell_type": "code",
   "execution_count": null,
   "id": "2956b1af",
   "metadata": {},
   "outputs": [],
   "source": []
  },
  {
   "cell_type": "code",
   "execution_count": null,
   "id": "afc3433b",
   "metadata": {},
   "outputs": [],
   "source": []
  },
  {
   "cell_type": "code",
   "execution_count": null,
   "id": "c4a8b78a",
   "metadata": {},
   "outputs": [],
   "source": []
  },
  {
   "cell_type": "code",
   "execution_count": null,
   "id": "e9875241",
   "metadata": {},
   "outputs": [],
   "source": []
  },
  {
   "cell_type": "code",
   "execution_count": null,
   "id": "34650ab8",
   "metadata": {},
   "outputs": [],
   "source": []
  },
  {
   "cell_type": "code",
   "execution_count": null,
   "id": "b4d359ec",
   "metadata": {},
   "outputs": [],
   "source": []
  },
  {
   "cell_type": "code",
   "execution_count": null,
   "id": "766ed5ec",
   "metadata": {},
   "outputs": [],
   "source": []
  },
  {
   "cell_type": "code",
   "execution_count": null,
   "id": "ea31e464",
   "metadata": {},
   "outputs": [],
   "source": []
  },
  {
   "cell_type": "code",
   "execution_count": null,
   "id": "c331819e",
   "metadata": {},
   "outputs": [],
   "source": []
  },
  {
   "cell_type": "code",
   "execution_count": null,
   "id": "a5134720",
   "metadata": {},
   "outputs": [],
   "source": []
  },
  {
   "cell_type": "code",
   "execution_count": null,
   "id": "33ae87fb",
   "metadata": {},
   "outputs": [],
   "source": []
  },
  {
   "cell_type": "code",
   "execution_count": null,
   "id": "73c1149e",
   "metadata": {},
   "outputs": [],
   "source": []
  },
  {
   "cell_type": "code",
   "execution_count": null,
   "id": "4cf30ba3",
   "metadata": {},
   "outputs": [],
   "source": []
  },
  {
   "cell_type": "code",
   "execution_count": null,
   "id": "45a67b85",
   "metadata": {},
   "outputs": [],
   "source": []
  },
  {
   "cell_type": "code",
   "execution_count": null,
   "id": "0ba605ae",
   "metadata": {},
   "outputs": [],
   "source": []
  },
  {
   "cell_type": "code",
   "execution_count": null,
   "id": "739e9cbc",
   "metadata": {},
   "outputs": [],
   "source": []
  },
  {
   "cell_type": "code",
   "execution_count": null,
   "id": "22b5b0c0",
   "metadata": {},
   "outputs": [],
   "source": []
  },
  {
   "cell_type": "code",
   "execution_count": null,
   "id": "8f4dc0be",
   "metadata": {},
   "outputs": [],
   "source": []
  },
  {
   "cell_type": "code",
   "execution_count": null,
   "id": "67f97dc6",
   "metadata": {},
   "outputs": [],
   "source": []
  },
  {
   "cell_type": "code",
   "execution_count": null,
   "id": "6163c63b",
   "metadata": {},
   "outputs": [],
   "source": []
  },
  {
   "cell_type": "code",
   "execution_count": null,
   "id": "691d7108",
   "metadata": {},
   "outputs": [],
   "source": []
  },
  {
   "cell_type": "code",
   "execution_count": null,
   "id": "b012b8f1",
   "metadata": {},
   "outputs": [],
   "source": []
  },
  {
   "cell_type": "code",
   "execution_count": null,
   "id": "5a600f23",
   "metadata": {},
   "outputs": [],
   "source": []
  },
  {
   "cell_type": "code",
   "execution_count": null,
   "id": "ec787f2e",
   "metadata": {},
   "outputs": [],
   "source": []
  },
  {
   "cell_type": "code",
   "execution_count": null,
   "id": "85b34dc5",
   "metadata": {},
   "outputs": [],
   "source": []
  },
  {
   "cell_type": "code",
   "execution_count": null,
   "id": "644e4b60",
   "metadata": {},
   "outputs": [],
   "source": []
  },
  {
   "cell_type": "code",
   "execution_count": null,
   "id": "a88c08ff",
   "metadata": {},
   "outputs": [],
   "source": []
  },
  {
   "cell_type": "code",
   "execution_count": null,
   "id": "c5e34693",
   "metadata": {},
   "outputs": [],
   "source": []
  },
  {
   "cell_type": "code",
   "execution_count": null,
   "id": "2ff1c830",
   "metadata": {},
   "outputs": [],
   "source": []
  },
  {
   "cell_type": "code",
   "execution_count": null,
   "id": "18dd4c4f",
   "metadata": {},
   "outputs": [],
   "source": [
    "S = pd.DataFrame(\n",
    "[[np.nan,1,1,np.nan,1],\n",
    "[0,1,0,np.nan,2],\n",
    "[0,np.nan,0,np.nan,2],\n",
    "[0,0,0,np.nan,3],\n",
    "[0,1,np.nan,np.nan,3],\n",
    "[np.nan,np.nan,np.nan,np.nan,3]],\n",
    "columns=['f1','f2','f3','f4','class']\n",
    ")\n",
    "S"
   ]
  },
  {
   "cell_type": "code",
   "execution_count": null,
   "id": "074a427f",
   "metadata": {},
   "outputs": [],
   "source": [
    "def R_AD(S):\n",
    "    to_remove = set()\n",
    "    n = len(S)\n",
    "\n",
    "    for i in range(n):\n",
    "        for j in range(i+1, n):\n",
    "            if i in to_remove or j in to_remove:\n",
    "                continue\n",
    "            r1, r2 = S.iloc[i], S.iloc[j]\n",
    "            # Check if r1 is a subset of r2\n",
    "            if all(np.isnan(r1[k]) or r1[k] == r2[k] for k in S.columns):\n",
    "                to_remove.add(j)\n",
    "            # Check if r2 is a subset of r1\n",
    "            elif all(np.isnan(r2[k]) or r2[k] == r1[k] for k in S.columns):\n",
    "                to_remove.add(i)\n",
    "\n",
    "    return S.drop(S.index[list(to_remove)])\n"
   ]
  },
  {
   "cell_type": "code",
   "execution_count": null,
   "id": "a9521df5",
   "metadata": {},
   "outputs": [],
   "source": [
    "R_AD(S)"
   ]
  },
  {
   "cell_type": "code",
   "execution_count": null,
   "id": "8706275c",
   "metadata": {},
   "outputs": [],
   "source": []
  },
  {
   "cell_type": "code",
   "execution_count": null,
   "id": "5bcd169b",
   "metadata": {},
   "outputs": [],
   "source": []
  },
  {
   "cell_type": "code",
   "execution_count": null,
   "id": "3c9871d4",
   "metadata": {},
   "outputs": [],
   "source": []
  },
  {
   "cell_type": "code",
   "execution_count": null,
   "id": "0136f00b",
   "metadata": {},
   "outputs": [],
   "source": []
  },
  {
   "cell_type": "code",
   "execution_count": null,
   "id": "17f33c15",
   "metadata": {},
   "outputs": [],
   "source": []
  },
  {
   "cell_type": "code",
   "execution_count": null,
   "id": "6cd56388",
   "metadata": {},
   "outputs": [],
   "source": []
  },
  {
   "cell_type": "code",
   "execution_count": null,
   "id": "ccc3b618",
   "metadata": {},
   "outputs": [],
   "source": []
  },
  {
   "cell_type": "code",
   "execution_count": null,
   "id": "e3b6d407",
   "metadata": {},
   "outputs": [],
   "source": []
  },
  {
   "cell_type": "code",
   "execution_count": null,
   "id": "d82caca0",
   "metadata": {},
   "outputs": [],
   "source": []
  },
  {
   "cell_type": "code",
   "execution_count": null,
   "id": "c2031397",
   "metadata": {},
   "outputs": [],
   "source": [
    "def R_SR(S):\n",
    "    \"\"\"\n",
    "    Reduces S, with SR reduction\n",
    "    input: S - system of decision rules (pandas DataFrame)\n",
    "    output: SR_reduced - subset of S as defined in the paper (pandas DataFrame)\n",
    "    \"\"\"\n",
    "    \n",
    "    attr, value = alpha\n",
    "\n",
    "    # Keep rows where the attr is NaN or equals the specified value\n",
    "    S = S[(S[attr].isna()) | (S[attr] == value)]\n",
    "    \n",
    "    #Make NaN the values\n",
    "    S.loc[~S[attr].isna(), attr] = np.nan\n",
    "\n",
    "    return S"
   ]
  },
  {
   "cell_type": "code",
   "execution_count": null,
   "id": "316b3a4c",
   "metadata": {},
   "outputs": [],
   "source": []
  },
  {
   "cell_type": "code",
   "execution_count": null,
   "id": "e2da2f08",
   "metadata": {},
   "outputs": [],
   "source": []
  },
  {
   "cell_type": "code",
   "execution_count": null,
   "id": "357c2e1a",
   "metadata": {},
   "outputs": [],
   "source": [
    "S1 = SAlphaStep(S, (\"f1\", 0))\n",
    "S1"
   ]
  },
  {
   "cell_type": "code",
   "execution_count": null,
   "id": "281defb9",
   "metadata": {},
   "outputs": [],
   "source": [
    "S2 = SAlphaStep(S1, (\"f2\", 1))\n",
    "S2"
   ]
  },
  {
   "cell_type": "code",
   "execution_count": null,
   "id": "76967855",
   "metadata": {},
   "outputs": [],
   "source": [
    "S3 = SAlphaStep(S2, (\"f3\", 1))\n",
    "S3"
   ]
  },
  {
   "cell_type": "code",
   "execution_count": null,
   "id": "df10a84e",
   "metadata": {},
   "outputs": [],
   "source": [
    "S4 = SAlphaStep(S3, (\"f4\", 1))\n",
    "S4"
   ]
  },
  {
   "cell_type": "code",
   "execution_count": null,
   "id": "089be713",
   "metadata": {},
   "outputs": [],
   "source": [
    "S4.loc[5]"
   ]
  },
  {
   "cell_type": "code",
   "execution_count": null,
   "id": "03a8bbc4",
   "metadata": {},
   "outputs": [],
   "source": [
    "S4.index.tolist()"
   ]
  },
  {
   "cell_type": "code",
   "execution_count": null,
   "id": "b2b78a24",
   "metadata": {},
   "outputs": [],
   "source": [
    "S4.loc[[0,5]]"
   ]
  },
  {
   "cell_type": "code",
   "execution_count": null,
   "id": "c3a5fcf5",
   "metadata": {},
   "outputs": [],
   "source": [
    "r = S4.loc[5]\n",
    "r"
   ]
  },
  {
   "cell_type": "code",
   "execution_count": null,
   "id": "c902a2fc",
   "metadata": {},
   "outputs": [],
   "source": [
    "r[\"class\"]"
   ]
  },
  {
   "cell_type": "code",
   "execution_count": null,
   "id": "3eea70e4",
   "metadata": {},
   "outputs": [],
   "source": [
    "A_EAR_N = A_C_N(C=\"EAR\", N=\"cover\")\n",
    "A_EAR_N.solve(S, delta=123)"
   ]
  },
  {
   "cell_type": "code",
   "execution_count": null,
   "id": "ef25e21c",
   "metadata": {},
   "outputs": [],
   "source": []
  },
  {
   "cell_type": "code",
   "execution_count": null,
   "id": "98499168",
   "metadata": {},
   "outputs": [],
   "source": [
    "delta[\"f1\"]"
   ]
  },
  {
   "cell_type": "code",
   "execution_count": null,
   "id": "33569df4",
   "metadata": {},
   "outputs": [],
   "source": [
    "S = pd.DataFrame(\n",
    "[[np.nan,np.nan,np.nan,np.nan,1],\n",
    "[np.nan,np.nan,np.nan,np.nan,2],\n",
    "[np.nan,np.nan,np.nan,np.nan,2],\n",
    "[np.nan,np.nan,np.nan,np.nan,3],\n",
    "[np.nan,np.nan,np.nan,np.nan,3],\n",
    "[np.nan,np.nan,np.nan,np.nan,3]],\n",
    "columns=['f1','f2','f3','f4','class']\n",
    ")\n",
    "S"
   ]
  },
  {
   "cell_type": "code",
   "execution_count": null,
   "id": "2b5923d4",
   "metadata": {},
   "outputs": [],
   "source": [
    "def NGreedy(S_max):\n",
    "    \"\"\"\n",
    "    input: S_max - subset of S as defined in the paper. (pandas DataFrame)\n",
    "    output: Node cover of S_max, set of indecies of columns that covers all rows\n",
    "    \"\"\"\n",
    "    B = set()\n",
    "    uncovered_rows = set(S_max.index)\n",
    "\n",
    "    # Number of columns excluding the last one\n",
    "    num_columns = S_max.shape[1] - 1\n",
    "\n",
    "    while uncovered_rows:\n",
    "        max_cover = 0\n",
    "        max_col = None\n",
    "\n",
    "        for col_index in range(num_columns):\n",
    "            if col_index in B:\n",
    "                continue  # Skip columns that have already been chosen\n",
    "                \n",
    "            cover = S_max.index[S_max[col].notna()].intersection(uncovered_rows)\n",
    "            if len(cover) > max_cover:\n",
    "                max_cover = len(cover)\n",
    "                max_col_index = col_index\n",
    "\n",
    "        if max_col_index is None:\n",
    "            # No more columns to cover rows, break out\n",
    "            break\n",
    "\n",
    "        # Add the column index to B and remove covered rows from consideration\n",
    "        B.add(max_col_index)\n",
    "        uncovered_rows -= set(S_max.index[S_max[max_col].notna()])\n",
    "\n",
    "    return B\n",
    "\n",
    "NGreedy(S)"
   ]
  },
  {
   "cell_type": "code",
   "execution_count": null,
   "id": "18176da1",
   "metadata": {},
   "outputs": [],
   "source": [
    "def NGreedy(S_max):\n",
    "    \"\"\"\n",
    "    input: S_max - subset of S as defined in the paper. (pandas DataFrame)\n",
    "    output: Node cover of S_max, set of indecies of columns that covers all rows\n",
    "    \"\"\"\n",
    "    B = set()\n",
    "    uncovered_rows = set(S_max.index)\n",
    "\n",
    "    while uncovered_rows:\n",
    "        # Find the column that covers the maximum number of uncovered rows\n",
    "        max_cover = 0\n",
    "        max_col = None\n",
    "\n",
    "        for col in S_max.columns:\n",
    "            if col in B:\n",
    "                continue  # Skip columns that have already been chosen\n",
    "            cover = S_max.index[S_max[col].notna()].intersection(uncovered_rows)\n",
    "            if len(cover) > max_cover:\n",
    "                max_cover = len(cover)\n",
    "                max_col = col\n",
    "\n",
    "        if max_col is None:\n",
    "            # No more columns to cover rows, break out\n",
    "            break\n",
    "\n",
    "        # Add the column to B and remove covered rows from consideration\n",
    "        B.add(max_col)\n",
    "        uncovered_rows -= set(S_max.index[S_max[max_col].notna()])\n",
    "\n",
    "    return B\n",
    "\n",
    "NGreedy(S)"
   ]
  },
  {
   "cell_type": "code",
   "execution_count": null,
   "id": "d0a56a71",
   "metadata": {},
   "outputs": [],
   "source": [
    "r1 = S.iloc[0][:-1]"
   ]
  },
  {
   "cell_type": "code",
   "execution_count": null,
   "id": "273b0557",
   "metadata": {},
   "outputs": [],
   "source": [
    "A_r1 = set(r1[r1.notna()].index)\n",
    "A_r1"
   ]
  },
  {
   "cell_type": "code",
   "execution_count": null,
   "id": "b3a8a10d",
   "metadata": {},
   "outputs": [],
   "source": [
    "def NGreedy(S_max):\n",
    "    \"\"\"\n",
    "    input: S_max - subset of S as defined in the paper. (pandas DataFrame)\n",
    "    output: Node cover of S_max, set of indecies of columns that covers all rows\n",
    "    \"\"\"\n",
    "    B = set()\n",
    "    uncovered_rows = set(S_max.index)\n",
    "\n",
    "    # Number of columns excluding the last one\n",
    "    num_columns = S_max.shape[1] - 1\n",
    "\n",
    "    while uncovered_rows:\n",
    "        max_cover = 0\n",
    "        max_col_index = None\n",
    "\n",
    "        for col_index in range(num_columns):\n",
    "            if col_index in B:\n",
    "                continue  # Skip columns that have already been chosen\n",
    "\n",
    "            cover = S_max.index[S_max.iloc[:, col_index].notna()].intersection(uncovered_rows)\n",
    "            if len(cover) > max_cover:\n",
    "                max_cover = len(cover)\n",
    "                max_col_index = col_index\n",
    "\n",
    "        if max_col_index is None:\n",
    "            # No more columns to cover rows, break out\n",
    "            break\n",
    "\n",
    "        # Add the column index to B and remove covered rows from consideration\n",
    "        B.add(max_col_index)\n",
    "        uncovered_rows -= set(S_max.index[S_max.iloc[:, max_col_index].notna()])\n",
    "\n",
    "    return B"
   ]
  },
  {
   "cell_type": "code",
   "execution_count": null,
   "id": "2e75751a",
   "metadata": {},
   "outputs": [],
   "source": []
  },
  {
   "cell_type": "code",
   "execution_count": null,
   "id": "f6b688ac",
   "metadata": {},
   "outputs": [],
   "source": []
  },
  {
   "cell_type": "code",
   "execution_count": null,
   "id": "641e2c3c",
   "metadata": {},
   "outputs": [],
   "source": []
  },
  {
   "cell_type": "code",
   "execution_count": null,
   "id": "9047671d",
   "metadata": {},
   "outputs": [],
   "source": []
  },
  {
   "cell_type": "code",
   "execution_count": null,
   "id": "10c3a0eb",
   "metadata": {},
   "outputs": [],
   "source": []
  },
  {
   "cell_type": "code",
   "execution_count": null,
   "id": "6ef6b3e3",
   "metadata": {},
   "outputs": [],
   "source": [
    "class A_C_N:\n",
    "    def __init__(self, C=\"EAR\", N=\"cover\"):\n",
    "        \"\"\"\n",
    "        C - type of problem:\n",
    "            AR - All Rules\n",
    "            EAR - Extended All Rules\n",
    "            SR - Some Rules\n",
    "            ESR - Extended Some Rules\n",
    "            AD - All Decisions\n",
    "            EAD - Extended All Decisions\n",
    "        N - type of Node Cover Algorithm:\n",
    "            cover\n",
    "            greedy\n",
    "        \"\"\"\n",
    "        self.C = C\n",
    "        self.N = N\n",
    "        \n",
    "    def forward(self, S, delta):\n",
    "        \"\"\"\n",
    "        S - System of Decision Rules (pandas DataFrame)\n",
    "        delta - tuple of attribute values from the set V_C\n",
    "        \"\"\"\n",
    "        if self.C == \"EAR\" and self.N == \"cover\":\n",
    "            Q = S.copy()\n",
    "            \n",
    "            Q_plus = SPlus(Q)\n",
    "            B = NCover(Q_plus)\n",
    "            \n",
    "            \n",
    "            "
   ]
  },
  {
   "cell_type": "code",
   "execution_count": null,
   "id": "8679cddc",
   "metadata": {},
   "outputs": [],
   "source": []
  },
  {
   "cell_type": "code",
   "execution_count": null,
   "id": "c53fb9bb",
   "metadata": {},
   "outputs": [],
   "source": []
  },
  {
   "cell_type": "code",
   "execution_count": null,
   "id": "e7e223b1",
   "metadata": {},
   "outputs": [],
   "source": []
  },
  {
   "cell_type": "code",
   "execution_count": null,
   "id": "7bae0e9b",
   "metadata": {},
   "outputs": [],
   "source": []
  },
  {
   "cell_type": "code",
   "execution_count": null,
   "id": "550cfe6a",
   "metadata": {},
   "outputs": [],
   "source": []
  },
  {
   "cell_type": "code",
   "execution_count": null,
   "id": "621abd00",
   "metadata": {},
   "outputs": [],
   "source": []
  },
  {
   "cell_type": "code",
   "execution_count": null,
   "id": "58b87a4d",
   "metadata": {},
   "outputs": [],
   "source": []
  },
  {
   "cell_type": "code",
   "execution_count": null,
   "id": "600dacc4",
   "metadata": {},
   "outputs": [],
   "source": []
  },
  {
   "cell_type": "code",
   "execution_count": null,
   "id": "a70e0517",
   "metadata": {},
   "outputs": [],
   "source": []
  },
  {
   "cell_type": "code",
   "execution_count": null,
   "id": "187a7b73",
   "metadata": {},
   "outputs": [],
   "source": []
  },
  {
   "cell_type": "code",
   "execution_count": null,
   "id": "d85a9f6e",
   "metadata": {},
   "outputs": [],
   "source": []
  },
  {
   "cell_type": "code",
   "execution_count": null,
   "id": "1c41a069",
   "metadata": {},
   "outputs": [],
   "source": [
    "def SAlpha(S, alpha):\n",
    "    \"\"\"\n",
    "    input: S - system of decision rules (pandas DataFrame)\n",
    "           alpha - tuple of equations of the for ((a_i = delta_j), ...)\n",
    "    output: S_alpha - subset of S as defined in the paper. (pandas DataFrame)\n",
    "    \"\"\"\n",
    "\n",
    "    for col, value in alpha:\n",
    "        # Keep rows where the column is NaN or equals the specified value\n",
    "        S = S[(S[col].isna()) | (S[col] == value)]\n",
    "\n",
    "    for col, _ in alpha:\n",
    "        S.loc[~S[col].isna(), col] = np.nan\n",
    "\n",
    "    return S"
   ]
  },
  {
   "cell_type": "code",
   "execution_count": null,
   "id": "36e1dfb4",
   "metadata": {},
   "outputs": [],
   "source": [
    "SAlpha(S_max, ((\"f1\", 0), (\"f4\", 3), (\"f2\", 1)))"
   ]
  },
  {
   "cell_type": "code",
   "execution_count": null,
   "id": "25e03fd8",
   "metadata": {},
   "outputs": [],
   "source": []
  },
  {
   "cell_type": "code",
   "execution_count": null,
   "id": "0e018bcd",
   "metadata": {},
   "outputs": [],
   "source": []
  },
  {
   "cell_type": "code",
   "execution_count": null,
   "id": "0c25b933",
   "metadata": {},
   "outputs": [],
   "source": []
  },
  {
   "cell_type": "code",
   "execution_count": null,
   "id": "73efb55c",
   "metadata": {},
   "outputs": [],
   "source": []
  },
  {
   "cell_type": "code",
   "execution_count": null,
   "id": "303ec705",
   "metadata": {},
   "outputs": [],
   "source": []
  },
  {
   "cell_type": "code",
   "execution_count": null,
   "id": "a6cfac20",
   "metadata": {},
   "outputs": [],
   "source": []
  },
  {
   "cell_type": "code",
   "execution_count": null,
   "id": "21eff58a",
   "metadata": {},
   "outputs": [],
   "source": []
  },
  {
   "cell_type": "code",
   "execution_count": null,
   "id": "fb0edf27",
   "metadata": {},
   "outputs": [],
   "source": []
  },
  {
   "cell_type": "code",
   "execution_count": null,
   "id": "44456cdc",
   "metadata": {},
   "outputs": [],
   "source": []
  },
  {
   "cell_type": "code",
   "execution_count": null,
   "id": "19141347",
   "metadata": {},
   "outputs": [],
   "source": []
  },
  {
   "cell_type": "code",
   "execution_count": null,
   "id": "cc624b10",
   "metadata": {},
   "outputs": [],
   "source": [
    "Ncover(S_plus_ex)"
   ]
  },
  {
   "cell_type": "code",
   "execution_count": null,
   "id": "3f2cd79f",
   "metadata": {},
   "outputs": [],
   "source": [
    "r1 = S_plus_ex.iloc[0]\n",
    "# Create A_r1: set of indices (integer positions) where r1 is not NaN\n",
    "A_r1 = set(r1[r1.notna()].index.tolist())\n",
    "A_r1"
   ]
  },
  {
   "cell_type": "code",
   "execution_count": null,
   "id": "5e66c571",
   "metadata": {},
   "outputs": [],
   "source": [
    "def Ncover(S_plus):\n",
    "    B = set()\n",
    "    while len(S_plus):\n",
    "        r1 = S_plus.iloc[0]\n",
    "        A_r1 = set(np.where(r1[:-1].notna())[0])\n",
    "        print(A_r1)\n",
    "        B = B.union(A_r1)\n",
    "        for row in range(len(S_plus)):\n",
    "            drop \n",
    "            r = S_plus.iloc[row]\n",
    "            A_r = set(np.where(r[:-1].notna())[0])\n",
    "            print(A_r)\n",
    "            if A_r1 & A_r:\n",
    "                S_plus = S_plus.drop(row)\n",
    "        print(S_plus)\n",
    "        break\n",
    "    return B\n",
    "                \n",
    "            "
   ]
  },
  {
   "cell_type": "code",
   "execution_count": null,
   "id": "80f94547",
   "metadata": {},
   "outputs": [],
   "source": [
    "Ncover(S_plus_ex)"
   ]
  },
  {
   "cell_type": "code",
   "execution_count": null,
   "id": "88c040c4",
   "metadata": {},
   "outputs": [],
   "source": [
    "import pandas as pd\n",
    "\n",
    "def process_dataframe(df):\n",
    "    B = set()\n",
    "\n",
    "    while not df.empty:\n",
    "        # Select the first row\n",
    "        r1 = df.iloc[0]\n",
    "        # Create A_r1: set of indices (integer positions) where r1 is not NaN\n",
    "        A_r1 = set(r1[r1.notna()].index.tolist())\n",
    "        # Add A_r1 to B\n",
    "        B.update(A_r1)\n",
    "        \n",
    "        # Drop rows that have common elements in their index set with A_r1\n",
    "        rows_to_drop = []\n",
    "        for index, row in df.iterrows():\n",
    "            A_r = set(row[row.notna()].index.tolist())\n",
    "            if A_r1 & A_r:  # Check for common elements\n",
    "                rows_to_drop.append(index)\n",
    "        \n",
    "        df = df.drop(rows_to_drop)\n",
    "\n",
    "    return B\n"
   ]
  },
  {
   "cell_type": "code",
   "execution_count": null,
   "id": "1f17be65",
   "metadata": {},
   "outputs": [],
   "source": []
  },
  {
   "cell_type": "code",
   "execution_count": null,
   "id": "a5722f22",
   "metadata": {},
   "outputs": [],
   "source": [
    "for row in S_plus_ex:\n",
    "    print(row)"
   ]
  },
  {
   "cell_type": "code",
   "execution_count": null,
   "id": "e52dd1bb",
   "metadata": {},
   "outputs": [],
   "source": [
    "r1 = S_plus_ex.iloc[0]\n",
    "r1"
   ]
  },
  {
   "cell_type": "code",
   "execution_count": null,
   "id": "71cf6f89",
   "metadata": {},
   "outputs": [],
   "source": [
    "len(r1)"
   ]
  },
  {
   "cell_type": "code",
   "execution_count": null,
   "id": "f253ede9",
   "metadata": {},
   "outputs": [],
   "source": [
    "len(S_plus)"
   ]
  },
  {
   "cell_type": "code",
   "execution_count": null,
   "id": "fe28376f",
   "metadata": {},
   "outputs": [],
   "source": [
    "B = set()\n",
    "r1 = S_plus_ex.iloc[0]\n",
    "B = B.union([i for i in range(len(r1)) if r1[i] != np.nan])"
   ]
  },
  {
   "cell_type": "code",
   "execution_count": null,
   "id": "30928449",
   "metadata": {},
   "outputs": [],
   "source": [
    "B"
   ]
  },
  {
   "cell_type": "code",
   "execution_count": null,
   "id": "8bb57f57",
   "metadata": {},
   "outputs": [],
   "source": [
    "if r1[0]!=np.nan:\n",
    "    print(\"dff\")"
   ]
  },
  {
   "cell_type": "code",
   "execution_count": null,
   "id": "ddba5072",
   "metadata": {},
   "outputs": [],
   "source": [
    "r1[r1.notna()].index"
   ]
  },
  {
   "cell_type": "code",
   "execution_count": null,
   "id": "ff187272",
   "metadata": {},
   "outputs": [],
   "source": [
    "set(np.where(r1.notna())[0])"
   ]
  },
  {
   "cell_type": "code",
   "execution_count": null,
   "id": "d5f88243",
   "metadata": {},
   "outputs": [],
   "source": [
    "np.where(r1.notna())"
   ]
  },
  {
   "cell_type": "code",
   "execution_count": null,
   "id": "f0b86eab",
   "metadata": {},
   "outputs": [],
   "source": [
    "non_nan_indices = set(np.where(row[:-1].notna())[0])"
   ]
  },
  {
   "cell_type": "code",
   "execution_count": null,
   "id": "76bd0ed4",
   "metadata": {},
   "outputs": [],
   "source": [
    "set(np.where(r1[:-1].notna())[0])"
   ]
  },
  {
   "cell_type": "code",
   "execution_count": null,
   "id": "362a33e4",
   "metadata": {},
   "outputs": [],
   "source": [
    "DecisionRules = pd.read_csv(\"./Datasets/car_DRules.csv\")"
   ]
  },
  {
   "cell_type": "code",
   "execution_count": null,
   "id": "6dc201e5",
   "metadata": {},
   "outputs": [],
   "source": [
    "DecisionRules"
   ]
  },
  {
   "cell_type": "code",
   "execution_count": null,
   "id": "5d69e012",
   "metadata": {},
   "outputs": [],
   "source": [
    "DecisionRules.iloc[579]"
   ]
  },
  {
   "cell_type": "code",
   "execution_count": null,
   "id": "0fd93072",
   "metadata": {},
   "outputs": [],
   "source": []
  },
  {
   "cell_type": "code",
   "execution_count": null,
   "id": "96957367",
   "metadata": {},
   "outputs": [],
   "source": [
    "\n"
   ]
  },
  {
   "cell_type": "code",
   "execution_count": null,
   "id": "a0792213",
   "metadata": {},
   "outputs": [],
   "source": [
    "S_plus = Splus(DecisionRules)\n",
    "S_plus"
   ]
  },
  {
   "cell_type": "code",
   "execution_count": null,
   "id": "76ee55fe",
   "metadata": {},
   "outputs": [],
   "source": [
    "S_plus.loc[579][0]"
   ]
  },
  {
   "cell_type": "code",
   "execution_count": null,
   "id": "68613bd2",
   "metadata": {},
   "outputs": [],
   "source": [
    "S_plus.iloc[0][0]"
   ]
  },
  {
   "cell_type": "code",
   "execution_count": null,
   "id": "d1235602",
   "metadata": {},
   "outputs": [],
   "source": []
  },
  {
   "cell_type": "code",
   "execution_count": null,
   "id": "d5cf06a1",
   "metadata": {},
   "outputs": [],
   "source": [
    "S_max = Smax(S_plus)\n",
    "S_max"
   ]
  },
  {
   "cell_type": "code",
   "execution_count": null,
   "id": "8727d395",
   "metadata": {},
   "outputs": [],
   "source": []
  },
  {
   "cell_type": "code",
   "execution_count": null,
   "id": "93a96a18",
   "metadata": {},
   "outputs": [],
   "source": [
    "example_DRules = pd.read_csv(\"./Datasets/example_DRules.csv\")\n",
    "example_DRules"
   ]
  },
  {
   "cell_type": "code",
   "execution_count": null,
   "id": "fa10a277",
   "metadata": {},
   "outputs": [],
   "source": [
    "S_plus = Splus(example_DRules)\n",
    "S_plus"
   ]
  },
  {
   "cell_type": "code",
   "execution_count": null,
   "id": "cb510412",
   "metadata": {},
   "outputs": [],
   "source": [
    "example_DTable = pd.DataFrame(\n",
    "[[1,1,1,1],\n",
    "[0,1,0,2],\n",
    "[0,1,0,2],\n",
    "[0,0,1,3],\n",
    "[0,0,1,3]],\n",
    "columns=['f1','f2','f3','class']\n",
    ")"
   ]
  },
  {
   "cell_type": "code",
   "execution_count": null,
   "id": "0a332b76",
   "metadata": {},
   "outputs": [],
   "source": [
    "example_DTable"
   ]
  },
  {
   "cell_type": "code",
   "execution_count": null,
   "id": "bec546c7",
   "metadata": {},
   "outputs": [],
   "source": [
    "S_plus = Splus(example_DTable)\n",
    "S_plus"
   ]
  },
  {
   "cell_type": "code",
   "execution_count": null,
   "id": "8055d8f7",
   "metadata": {},
   "outputs": [],
   "source": [
    "S_max = Smax(S_plus)\n",
    "S_max"
   ]
  },
  {
   "cell_type": "code",
   "execution_count": null,
   "id": "c0a9810f",
   "metadata": {},
   "outputs": [],
   "source": [
    "class DynamicProgrammingAlgorithms:\n",
    "    def __init__(self, C=\"AR\"):\n",
    "        \"\"\"\n",
    "        C - type of problem:\n",
    "            \"AR\" - All Rules\n",
    "            \"EAR\" - Extended All Rules\n",
    "            \"SR\" - Some Rules\n",
    "            \"ESR\" - Extended Some Rules\n",
    "            \"AD\" - All Decisions\n",
    "            \"EAD\" - Extended All Decisions\n",
    "        \"\"\"\n",
    "        self.C = C\n",
    "                \n",
    "        self.R_C = Reduction(C)\n",
    "            \n",
    "            \n",
    "        \n",
    "    def DAG_AR(self, S):\n",
    "        \"\"\"Construct the DAG based on the decision rule system S.\"\"\"\n",
    "\n",
    "        DAG = nx.DiGraph()\n",
    "        DAG.add_node(id(S), data=S, processed=False, H=None, best_attr=None)\n",
    "\n",
    "        def process_node(Q, DAG):\n",
    "            \"\"\"Process a node by checking applicable rules and updating the DAG.\"\"\"\n",
    "            if (self.R_C(Q).empty or self.R_C(Q).iloc[:, :-1].isna().all().all()):\n",
    "                DAG.nodes[id(Q)]['processed'] = True\n",
    "                DAG.nodes[id(Q)]['H'] = 0\n",
    "                return\n",
    "\n",
    "            for a in Q.columns[Q.notna().any()].tolist()[:-1]: # Finding columns with at least one non-NaN value\n",
    "                for delta in Q[a].dropna().unique():  # Find unique non-NaN values in column a\n",
    "                    new_node_data = SAlphaStep(Q, (a, delta))\n",
    "                    not_equal = True\n",
    "                    for node in DAG.nodes:\n",
    "                        if new_node_data.equals(DAG.nodes[node]['data']):\n",
    "                            DAG.add_edge(id(Q), node, label=(a,delta))\n",
    "                            not_equal = False\n",
    "                            break\n",
    "                    if not_equal:\n",
    "                        DAG.add_node(id(new_node_data), data=new_node_data, processed=False, H=None, best_attr=None)\n",
    "                        DAG.add_edge(id(Q), id(new_node_data), label=(a,delta))\n",
    "            # Mark the current node as processed\n",
    "            DAG.nodes[id(Q)]['processed'] = True\n",
    "\n",
    "        while not all(nx.get_node_attributes(DAG, 'processed').values()):\n",
    "            # Find a node that is not processed\n",
    "            for node in DAG.nodes:\n",
    "                if not DAG.nodes[node]['processed']:\n",
    "                    process_node(DAG.nodes[node]['data'], DAG)\n",
    "                    break # Move to next iteration after processing a node\n",
    "        return DAG\n",
    "    \n",
    "    def DAG_update(self, DAG, node):\n",
    "\n",
    "        # Step 1: If \"H\" is already a number, return it\n",
    "        if DAG.nodes[node]['H']:\n",
    "            return DAG.nodes[node]['H']\n",
    "\n",
    "        # Step 2: Process the node based on its children\n",
    "        children = list(DAG.successors(node))\n",
    "        if not children:  # Terminal node\n",
    "            DAG.nodes[node]['H'] = 0\n",
    "        else:\n",
    "            # Calculate the H value based on children and edge labels\n",
    "            attribute_H_values = []\n",
    "            for child in children:\n",
    "                edge_data = DAG.get_edge_data(node, child)\n",
    "                a, delta = edge_data['label']  # Assuming the edge label is stored as a tuple (a, delta)\n",
    "                child_H = DAG.nodes[child]['H'] if DAG.nodes[child].get('H') is not None else self.DAG_update(DAG, child)\n",
    "                attribute_H_values.append((a, child_H))\n",
    "\n",
    "            # Group by attribute and find the min of the max H values for each attribute\n",
    "            attribute_to_H = {}\n",
    "            for a, h in attribute_H_values:\n",
    "                if a in attribute_to_H:\n",
    "                    attribute_to_H[a] = max(attribute_to_H[a], h)\n",
    "                else:\n",
    "                    attribute_to_H[a] = h\n",
    "\n",
    "            # Now calculate the final H value for the node\n",
    "            best_attr, min_H = min(attribute_to_H.items(), key=lambda x: x[1])\n",
    "\n",
    "            DAG.nodes[node]['H'] = 1 + min_H\n",
    "            DAG.nodes[node]['best_attr'] = best_attr\n",
    "\n",
    "        return DAG.nodes[node]['H']\n",
    "    \n",
    "    def A_DP(self, S):\n",
    "        \n",
    "        if self.C in [\"AR\", \"SR\", \"AD\"]:\n",
    "            DAG = self.DAG_C(S)\n",
    "        else:\n",
    "            DAG = self.DAG_EC(S)\n",
    "        \n",
    "        return self.DAG_update(DAG, id(S))\n",
    "    \n",
    "    def create_decision_tree(self, DAG, node):\n",
    "        \"\"\"\n",
    "        Creates a decision tree from a given DAG and initial node.\n",
    "\n",
    "        Args:\n",
    "        DAG: The Directed Acyclic Graph from which to create the decision tree.\n",
    "        node: The initial node in the DAG to start creating the decision tree.\n",
    "\n",
    "        Returns:\n",
    "        A decision tree represented as a nested dictionary.\n",
    "        \"\"\"\n",
    "        # Base case: if the node is a terminal node, return its data as the leaf of the decision tree\n",
    "        if DAG.nodes[node]['best_attr'] is None:\n",
    "            return {'data': DAG.nodes[node]['data']}\n",
    "\n",
    "        # Initialize the decision tree node with the best attribute\n",
    "        best_attr = DAG.nodes[node]['best_attr']\n",
    "        decision_tree_node = {best_attr: {}}\n",
    "\n",
    "        # Iterate over outgoing edges of the node, but only consider edges that match the best_attr\n",
    "        for _, child, edge_data in DAG.out_edges(node, data=True):\n",
    "            a, delta = edge_data['label']\n",
    "            if a == best_attr:\n",
    "                # Recursively build the decision tree for the child node\n",
    "                decision_tree_node[best_attr][delta] = self.create_decision_tree(DAG, child)\n",
    "\n",
    "        return decision_tree_node\n",
    "    \n",
    "    def DT(self, S):\n",
    "        \n",
    "        if self.C in [\"AR\", \"SR\", \"AD\"]:\n",
    "            DAG = self.DAG_C(S)\n",
    "        else:\n",
    "            DAG = self.DAG_EC(S)\n",
    "            \n",
    "        self.DAG_update(DAG, id(S))\n",
    "\n",
    "        return self.create_decision_tree(DAG, id(S))\n"
   ]
  },
  {
   "cell_type": "code",
   "execution_count": null,
   "id": "fd2491c0",
   "metadata": {},
   "outputs": [],
   "source": [
    "S = pd.DataFrame(\n",
    "[[1,1,1,1],\n",
    "[0,1,0,2],\n",
    "[1,1,0,2],\n",
    "[0,0,1,3],\n",
    "[1,0,0,3]],\n",
    "columns=['f1','f2','f3','class']\n",
    ")\n",
    "S"
   ]
  },
  {
   "cell_type": "code",
   "execution_count": null,
   "id": "cacaa585",
   "metadata": {},
   "outputs": [],
   "source": [
    "S = DecisionRuleCreatorFromDecisionTable(S)\n",
    "S"
   ]
  },
  {
   "cell_type": "code",
   "execution_count": null,
   "id": "36360541",
   "metadata": {},
   "outputs": [],
   "source": [
    "alg = DynamicProgrammingAlgorithms(\"AR\")"
   ]
  },
  {
   "cell_type": "code",
   "execution_count": null,
   "id": "8cc7af54",
   "metadata": {},
   "outputs": [],
   "source": [
    "alg.DT(S)"
   ]
  },
  {
   "cell_type": "code",
   "execution_count": null,
   "id": "0c4c652e",
   "metadata": {},
   "outputs": [],
   "source": [
    "{'f1': {1.0: {'f2': {1.0: {'f3': {1.0: {\"d1\"},0.0: {\"d2\"}}},\n",
    "                     0.0: {'f3': {1.0: {\"d\"}}}}},\n",
    "        0.0: {'f2': {1.0: {'f3': {0.0: {\"d\"}}},\n",
    "                     0.0: {\"d\"}}}}}"
   ]
  }
 ],
 "metadata": {
  "kernelspec": {
   "display_name": "Python 3 (ipykernel)",
   "language": "python",
   "name": "python3"
  },
  "language_info": {
   "codemirror_mode": {
    "name": "ipython",
    "version": 3
   },
   "file_extension": ".py",
   "mimetype": "text/x-python",
   "name": "python",
   "nbconvert_exporter": "python",
   "pygments_lexer": "ipython3",
   "version": "3.9.12"
  }
 },
 "nbformat": 4,
 "nbformat_minor": 5
}
