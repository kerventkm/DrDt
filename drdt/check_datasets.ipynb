{
 "cells": [
  {
   "cell_type": "code",
   "execution_count": 12,
   "id": "49768a6e",
   "metadata": {},
   "outputs": [
    {
     "name": "stdout",
     "output_type": "stream",
     "text": [
      "True\n"
     ]
    }
   ],
   "source": [
    "import pandas as pd\n",
    "import numpy as np\n",
    "\n",
    "df = pd.read_csv(\"./Datasets/DecisionRuleSystems/DRS_breast_cancer\")\n",
    "\n",
    "# Use dropna() to remove rows with any NaN values and check if the resulting DataFrame is not empty\n",
    "has_row_without_nans = not df.dropna().empty\n",
    "\n",
    "print(has_row_without_nans)\n"
   ]
  },
  {
   "cell_type": "code",
   "execution_count": null,
   "id": "14aa349d",
   "metadata": {},
   "outputs": [],
   "source": []
  }
 ],
 "metadata": {
  "kernelspec": {
   "display_name": "Python 3 (ipykernel)",
   "language": "python",
   "name": "python3"
  },
  "language_info": {
   "codemirror_mode": {
    "name": "ipython",
    "version": 3
   },
   "file_extension": ".py",
   "mimetype": "text/x-python",
   "name": "python",
   "nbconvert_exporter": "python",
   "pygments_lexer": "ipython3",
   "version": "3.9.12"
  }
 },
 "nbformat": 4,
 "nbformat_minor": 5
}
