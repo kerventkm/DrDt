{
 "cells": [
  {
   "cell_type": "code",
   "execution_count": 1,
   "id": "182ed196",
   "metadata": {},
   "outputs": [],
   "source": [
    "from drdt.helper_functions import Reduction, R_SR, R_AD, SAlphaStep, SPlus, SMax, NCover, NGreedy\n",
    "from importlib import resources\n",
    "import pandas as pd\n",
    "from ucimlrepo import fetch_ucirepo "
   ]
  },
  {
   "cell_type": "code",
   "execution_count": 2,
   "id": "a017916e",
   "metadata": {},
   "outputs": [],
   "source": [
    "datasets = [\"DRS_car_evaluation\",\n",
    "            \"DRS_tic-tac-toe\",\n",
    "            \"DRS_balance_scale\",\n",
    "            \"DRS_mushroom\",\n",
    "            \"DRS_congressional_voting_records\",\n",
    "            \"DRS_breast_cancer\"]"
   ]
  },
  {
   "cell_type": "code",
   "execution_count": 3,
   "id": "1c83238a",
   "metadata": {},
   "outputs": [
    {
     "name": "stdout",
     "output_type": "stream",
     "text": [
      "Number of features of DRS_car_evaluation = 6\n",
      "Number of features of DRS_tic-tac-toe = 9\n",
      "Number of features of DRS_balance_scale = 4\n",
      "Number of features of DRS_mushroom = 19\n",
      "Number of features of DRS_congressional_voting_records = 16\n",
      "Number of features of DRS_breast_cancer = 9\n"
     ]
    }
   ],
   "source": [
    "# number of features\n",
    "for dataset in datasets:\n",
    "    with resources.path('datasets.DecisionRuleSystems', dataset) as dataset_path:\n",
    "        S = pd.read_csv(dataset_path)\n",
    "        print(f\"Number of features of {dataset} = {len(S.columns)-1}\")\n",
    "        "
   ]
  },
  {
   "cell_type": "code",
   "execution_count": 4,
   "id": "5e86cdb3",
   "metadata": {},
   "outputs": [
    {
     "name": "stdout",
     "output_type": "stream",
     "text": [
      "Does # of features = d of DRS_car_evaluation = True\n",
      "Does # of features = d of DRS_tic-tac-toe = False\n",
      "Does # of features = d of DRS_balance_scale = True\n",
      "Does # of features = d of DRS_mushroom = False\n",
      "Does # of features = d of DRS_congressional_voting_records = False\n",
      "Does # of features = d of DRS_breast_cancer = False\n"
     ]
    }
   ],
   "source": [
    "# Does max length = # of features\n",
    "for dataset in datasets:\n",
    "    with resources.path('datasets.DecisionRuleSystems', dataset) as dataset_path:\n",
    "        S = pd.read_csv(dataset_path)\n",
    "        print(f\"Does # of features = d of {dataset} = {not S.dropna().empty}\")"
   ]
  },
  {
   "cell_type": "code",
   "execution_count": 5,
   "id": "df4306c9",
   "metadata": {},
   "outputs": [
    {
     "name": "stdout",
     "output_type": "stream",
     "text": [
      "Does  d of DRS_car_evaluation = 6\n",
      "Does  d of DRS_tic-tac-toe = 5\n",
      "Does  d of DRS_balance_scale = 4\n",
      "Does  d of DRS_mushroom = 2\n",
      "Does  d of DRS_congressional_voting_records = 4\n",
      "Does  d of DRS_breast_cancer = 6\n"
     ]
    }
   ],
   "source": [
    "# Calculating d\n",
    "for dataset in datasets:\n",
    "    with resources.path('datasets.DecisionRuleSystems', dataset) as dataset_path:\n",
    "        S = pd.read_csv(dataset_path)\n",
    "\n",
    "    # Count non-NaN values for each row\n",
    "    non_nan_counts = S.count(axis=1)\n",
    "\n",
    "    # Find the index\n",
    "    max_non_nan_row_index = non_nan_counts.idxmax()\n",
    "\n",
    "    # Retrieve the row\n",
    "    max_non_nan_row = S.loc[max_non_nan_row_index]\n",
    "\n",
    "    # Number of non-NaN values in the row\n",
    "    max_non_nan_count = non_nan_counts[max_non_nan_row_index]\n",
    "\n",
    "    print(f\"Does  d of {dataset} = {max_non_nan_count - 1}\") # remove 1 because of last class column"
   ]
  },
  {
   "cell_type": "code",
   "execution_count": 8,
   "id": "9c9852d3",
   "metadata": {},
   "outputs": [
    {
     "name": "stdout",
     "output_type": "stream",
     "text": [
      "Length of Node Cover DRS_car_evaluation = 6\n",
      "Length of Node Cover DRS_tic-tac-toe = 5\n",
      "Length of Node Cover DRS_balance_scale = 4\n",
      "Length of Node Cover DRS_mushroom = 10\n",
      "Length of Node Cover DRS_congressional_voting_records = 4\n",
      "Length of Node Cover DRS_breast_cancer = 6\n"
     ]
    }
   ],
   "source": [
    "# Cover\n",
    "for dataset in datasets:\n",
    "    with resources.path('datasets.DecisionRuleSystems', dataset) as dataset_path:\n",
    "        S = pd.read_csv(dataset_path) \n",
    "#         P = S\n",
    "#         P = R_SR(S)\n",
    "        P = R_AD(S)\n",
    "        P_plus = SPlus(P)\n",
    "        B = NCover(P_plus)\n",
    "        print(f\"Length of Node Cover {dataset} = {len(B)}\")\n"
   ]
  },
  {
   "cell_type": "code",
   "execution_count": 11,
   "id": "8ad939f1",
   "metadata": {},
   "outputs": [
    {
     "name": "stdout",
     "output_type": "stream",
     "text": [
      "Length of Node Cover DRS_car_evaluation = 1\n",
      "Length of Node Cover DRS_tic-tac-toe = 3\n",
      "Length of Node Cover DRS_balance_scale = 1\n",
      "Length of Node Cover DRS_mushroom = 5\n",
      "Length of Node Cover DRS_congressional_voting_records = 1\n",
      "Length of Node Cover DRS_breast_cancer = 1\n"
     ]
    }
   ],
   "source": [
    "# Cover Greedy\n",
    "for dataset in datasets:\n",
    "    with resources.path('datasets.DecisionRuleSystems', dataset) as dataset_path:\n",
    "        S = pd.read_csv(dataset_path)\n",
    "#         P = S\n",
    "#         P = R_SR(S)\n",
    "        P = R_AD(S)\n",
    "        P_plus = SPlus(P)\n",
    "        B = NGreedy(P_plus)\n",
    "        print(f\"Length of Node Cover {dataset} = {len(B)}\")"
   ]
  },
  {
   "cell_type": "markdown",
   "id": "b5d45a65",
   "metadata": {},
   "source": [
    "# Custom Dataset"
   ]
  },
  {
   "cell_type": "code",
   "execution_count": 3,
   "id": "72f1b2fd",
   "metadata": {},
   "outputs": [],
   "source": [
    "from drdt.helper_functions import Reduction, R_SR, R_AD, SAlphaStep, SPlus, SMax, NCover, NGreedy\n",
    "from importlib import resources\n",
    "import pandas as pd"
   ]
  },
  {
   "cell_type": "code",
   "execution_count": 4,
   "id": "af941ac4",
   "metadata": {},
   "outputs": [
    {
     "data": {
      "text/html": [
       "<div>\n",
       "<style scoped>\n",
       "    .dataframe tbody tr th:only-of-type {\n",
       "        vertical-align: middle;\n",
       "    }\n",
       "\n",
       "    .dataframe tbody tr th {\n",
       "        vertical-align: top;\n",
       "    }\n",
       "\n",
       "    .dataframe thead th {\n",
       "        text-align: right;\n",
       "    }\n",
       "</style>\n",
       "<table border=\"1\" class=\"dataframe\">\n",
       "  <thead>\n",
       "    <tr style=\"text-align: right;\">\n",
       "      <th></th>\n",
       "      <th>f1</th>\n",
       "      <th>f2</th>\n",
       "      <th>f3</th>\n",
       "      <th>f4</th>\n",
       "      <th>f5</th>\n",
       "      <th>f6</th>\n",
       "      <th>f7</th>\n",
       "      <th>f8</th>\n",
       "      <th>f11</th>\n",
       "      <th>f12</th>\n",
       "      <th>f13</th>\n",
       "      <th>f16</th>\n",
       "      <th>class</th>\n",
       "    </tr>\n",
       "  </thead>\n",
       "  <tbody>\n",
       "    <tr>\n",
       "      <th>274</th>\n",
       "      <td>y</td>\n",
       "      <td>NaN</td>\n",
       "      <td>NaN</td>\n",
       "      <td>NaN</td>\n",
       "      <td>NaN</td>\n",
       "      <td>NaN</td>\n",
       "      <td>NaN</td>\n",
       "      <td>y</td>\n",
       "      <td>NaN</td>\n",
       "      <td>NaN</td>\n",
       "      <td>NaN</td>\n",
       "      <td>NaN</td>\n",
       "      <td>republican</td>\n",
       "    </tr>\n",
       "    <tr>\n",
       "      <th>1</th>\n",
       "      <td>NaN</td>\n",
       "      <td>NaN</td>\n",
       "      <td>NaN</td>\n",
       "      <td>n</td>\n",
       "      <td>NaN</td>\n",
       "      <td>NaN</td>\n",
       "      <td>NaN</td>\n",
       "      <td>NaN</td>\n",
       "      <td>y</td>\n",
       "      <td>NaN</td>\n",
       "      <td>NaN</td>\n",
       "      <td>NaN</td>\n",
       "      <td>democrat</td>\n",
       "    </tr>\n",
       "    <tr>\n",
       "      <th>146</th>\n",
       "      <td>n</td>\n",
       "      <td>y</td>\n",
       "      <td>NaN</td>\n",
       "      <td>NaN</td>\n",
       "      <td>NaN</td>\n",
       "      <td>NaN</td>\n",
       "      <td>y</td>\n",
       "      <td>NaN</td>\n",
       "      <td>n</td>\n",
       "      <td>NaN</td>\n",
       "      <td>NaN</td>\n",
       "      <td>NaN</td>\n",
       "      <td>republican</td>\n",
       "    </tr>\n",
       "    <tr>\n",
       "      <th>4</th>\n",
       "      <td>n</td>\n",
       "      <td>n</td>\n",
       "      <td>n</td>\n",
       "      <td>NaN</td>\n",
       "      <td>NaN</td>\n",
       "      <td>NaN</td>\n",
       "      <td>NaN</td>\n",
       "      <td>NaN</td>\n",
       "      <td>NaN</td>\n",
       "      <td>n</td>\n",
       "      <td>NaN</td>\n",
       "      <td>NaN</td>\n",
       "      <td>republican</td>\n",
       "    </tr>\n",
       "    <tr>\n",
       "      <th>5</th>\n",
       "      <td>NaN</td>\n",
       "      <td>NaN</td>\n",
       "      <td>NaN</td>\n",
       "      <td>n</td>\n",
       "      <td>NaN</td>\n",
       "      <td>NaN</td>\n",
       "      <td>NaN</td>\n",
       "      <td>n</td>\n",
       "      <td>NaN</td>\n",
       "      <td>NaN</td>\n",
       "      <td>NaN</td>\n",
       "      <td>NaN</td>\n",
       "      <td>democrat</td>\n",
       "    </tr>\n",
       "    <tr>\n",
       "      <th>85</th>\n",
       "      <td>NaN</td>\n",
       "      <td>NaN</td>\n",
       "      <td>NaN</td>\n",
       "      <td>NaN</td>\n",
       "      <td>NaN</td>\n",
       "      <td>NaN</td>\n",
       "      <td>NaN</td>\n",
       "      <td>NaN</td>\n",
       "      <td>NaN</td>\n",
       "      <td>NaN</td>\n",
       "      <td>n</td>\n",
       "      <td>n</td>\n",
       "      <td>democrat</td>\n",
       "    </tr>\n",
       "    <tr>\n",
       "      <th>7</th>\n",
       "      <td>NaN</td>\n",
       "      <td>n</td>\n",
       "      <td>NaN</td>\n",
       "      <td>y</td>\n",
       "      <td>n</td>\n",
       "      <td>NaN</td>\n",
       "      <td>NaN</td>\n",
       "      <td>NaN</td>\n",
       "      <td>NaN</td>\n",
       "      <td>NaN</td>\n",
       "      <td>NaN</td>\n",
       "      <td>NaN</td>\n",
       "      <td>republican</td>\n",
       "    </tr>\n",
       "    <tr>\n",
       "      <th>8</th>\n",
       "      <td>n</td>\n",
       "      <td>NaN</td>\n",
       "      <td>NaN</td>\n",
       "      <td>NaN</td>\n",
       "      <td>NaN</td>\n",
       "      <td>n</td>\n",
       "      <td>NaN</td>\n",
       "      <td>NaN</td>\n",
       "      <td>NaN</td>\n",
       "      <td>NaN</td>\n",
       "      <td>NaN</td>\n",
       "      <td>n</td>\n",
       "      <td>republican</td>\n",
       "    </tr>\n",
       "    <tr>\n",
       "      <th>9</th>\n",
       "      <td>n</td>\n",
       "      <td>NaN</td>\n",
       "      <td>NaN</td>\n",
       "      <td>y</td>\n",
       "      <td>NaN</td>\n",
       "      <td>n</td>\n",
       "      <td>NaN</td>\n",
       "      <td>NaN</td>\n",
       "      <td>NaN</td>\n",
       "      <td>NaN</td>\n",
       "      <td>NaN</td>\n",
       "      <td>NaN</td>\n",
       "      <td>republican</td>\n",
       "    </tr>\n",
       "  </tbody>\n",
       "</table>\n",
       "</div>"
      ],
      "text/plain": [
       "      f1   f2   f3   f4   f5   f6   f7   f8  f11  f12  f13  f16       class\n",
       "274    y  NaN  NaN  NaN  NaN  NaN  NaN    y  NaN  NaN  NaN  NaN  republican\n",
       "1    NaN  NaN  NaN    n  NaN  NaN  NaN  NaN    y  NaN  NaN  NaN    democrat\n",
       "146    n    y  NaN  NaN  NaN  NaN    y  NaN    n  NaN  NaN  NaN  republican\n",
       "4      n    n    n  NaN  NaN  NaN  NaN  NaN  NaN    n  NaN  NaN  republican\n",
       "5    NaN  NaN  NaN    n  NaN  NaN  NaN    n  NaN  NaN  NaN  NaN    democrat\n",
       "85   NaN  NaN  NaN  NaN  NaN  NaN  NaN  NaN  NaN  NaN    n    n    democrat\n",
       "7    NaN    n  NaN    y    n  NaN  NaN  NaN  NaN  NaN  NaN  NaN  republican\n",
       "8      n  NaN  NaN  NaN  NaN    n  NaN  NaN  NaN  NaN  NaN    n  republican\n",
       "9      n  NaN  NaN    y  NaN    n  NaN  NaN  NaN  NaN  NaN  NaN  republican"
      ]
     },
     "execution_count": 4,
     "metadata": {},
     "output_type": "execute_result"
    }
   ],
   "source": [
    "with resources.path('datasets.DecisionRuleSystems', 'DRS_congressional_voting_records') as dataset_path:\n",
    "    S = pd.read_csv(dataset_path)\n",
    "S.columns = ['f1', 'f2', 'f3', 'f4', 'f5', 'f6', 'f7', 'f8', 'f9', 'f10', 'f11', 'f12', 'f13', 'f14', 'f15', 'f16', 'class']\n",
    "S2 = S.iloc[[274, 1, 146, 4, 5, 85, 7, 8, 9]]\n",
    "S = S2.drop(columns=['f9', 'f10', 'f14', 'f15'])\n",
    "S"
   ]
  },
  {
   "cell_type": "code",
   "execution_count": 6,
   "id": "426edc65",
   "metadata": {},
   "outputs": [],
   "source": [
    "dataset = 'Custom Dataset'"
   ]
  },
  {
   "cell_type": "code",
   "execution_count": 7,
   "id": "ba8ab6a3",
   "metadata": {},
   "outputs": [
    {
     "name": "stdout",
     "output_type": "stream",
     "text": [
      "Number of features of Custom Dataset = 12\n"
     ]
    }
   ],
   "source": [
    "print(f\"Number of features of {dataset} = {len(S.columns)-1}\")"
   ]
  },
  {
   "cell_type": "code",
   "execution_count": 8,
   "id": "9dc90f61",
   "metadata": {},
   "outputs": [
    {
     "name": "stdout",
     "output_type": "stream",
     "text": [
      "Does # of features = d of Custom Dataset = False\n"
     ]
    }
   ],
   "source": [
    "print(f\"Does # of features = d of {dataset} = {not S.dropna().empty}\")"
   ]
  },
  {
   "cell_type": "code",
   "execution_count": 9,
   "id": "f1363215",
   "metadata": {},
   "outputs": [
    {
     "name": "stdout",
     "output_type": "stream",
     "text": [
      "Does  d of Custom Dataset = 4\n"
     ]
    }
   ],
   "source": [
    "# Count non-NaN values for each row\n",
    "non_nan_counts = S.count(axis=1)\n",
    "\n",
    "# Find the index\n",
    "max_non_nan_row_index = non_nan_counts.idxmax()\n",
    "\n",
    "# Retrieve the row\n",
    "max_non_nan_row = S.loc[max_non_nan_row_index]\n",
    "\n",
    "# Number of non-NaN values in the row\n",
    "max_non_nan_count = non_nan_counts[max_non_nan_row_index]\n",
    "\n",
    "print(f\"Does  d of {dataset} = {max_non_nan_count - 1}\") # remove 1 because of last class column"
   ]
  },
  {
   "cell_type": "code",
   "execution_count": 12,
   "id": "77b6ae7c",
   "metadata": {},
   "outputs": [
    {
     "name": "stdout",
     "output_type": "stream",
     "text": [
      "Length of Node Cover Custom Dataset = 4\n"
     ]
    }
   ],
   "source": [
    "P = S\n",
    "# P = R_SR(S)\n",
    "# P = R_AD(S)\n",
    "P_plus = SPlus(P)\n",
    "B = NCover(P_plus)\n",
    "print(f\"Length of Node Cover {dataset} = {len(B)}\")"
   ]
  },
  {
   "cell_type": "code",
   "execution_count": 15,
   "id": "b1301ec2",
   "metadata": {},
   "outputs": [
    {
     "name": "stdout",
     "output_type": "stream",
     "text": [
      "Length of Node Cover Custom Dataset = 1\n"
     ]
    }
   ],
   "source": [
    "P = S\n",
    "# P = R_SR(S)\n",
    "# P = R_AD(S)\n",
    "P_plus = SPlus(P)\n",
    "B = NGreedy(P_plus)\n",
    "print(f\"Length of Node Cover {dataset} = {len(B)}\")"
   ]
  },
  {
   "cell_type": "code",
   "execution_count": null,
   "id": "b0b4e65f",
   "metadata": {},
   "outputs": [],
   "source": []
  }
 ],
 "metadata": {
  "kernelspec": {
   "display_name": "Python 3 (ipykernel)",
   "language": "python",
   "name": "python3"
  },
  "language_info": {
   "codemirror_mode": {
    "name": "ipython",
    "version": 3
   },
   "file_extension": ".py",
   "mimetype": "text/x-python",
   "name": "python",
   "nbconvert_exporter": "python",
   "pygments_lexer": "ipython3",
   "version": "3.9.12"
  }
 },
 "nbformat": 4,
 "nbformat_minor": 5
}
