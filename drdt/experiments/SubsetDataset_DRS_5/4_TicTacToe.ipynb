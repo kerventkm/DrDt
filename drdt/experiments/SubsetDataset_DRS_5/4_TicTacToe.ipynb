{
 "cells": [
  {
   "cell_type": "code",
   "execution_count": 1,
   "id": "f24488bc",
   "metadata": {},
   "outputs": [],
   "source": [
    "# Libraries\n",
    "import itertools\n",
    "from importlib import resources\n",
    "import pandas as pd\n",
    "import numpy as np\n",
    "from tqdm import tqdm\n",
    "import matplotlib.pyplot as plt\n",
    "\n",
    "from drdt.helper_functions import DecisionRuleCreatorFromDecisionTable, Reduction, R_SR, R_AD, SAlphaStep, SPlus, SMax, NCover, NGreedy\n",
    "from drdt.algorithms import DynamicProgrammingAlgorithms, A_C_N, A_C_G\n"
   ]
  },
  {
   "cell_type": "code",
   "execution_count": 2,
   "id": "2bce6a15",
   "metadata": {},
   "outputs": [],
   "source": [
    "problems = ['AR', 'EAR', 'SR', 'ESR', 'AD', 'EAD']\n",
    "dataset_name = \"Tic Tac Toe\"\n",
    "\n",
    "DP = []\n",
    "NC = []\n",
    "NCgreedy = []\n",
    "Gr = []"
   ]
  },
  {
   "cell_type": "markdown",
   "id": "264742fc",
   "metadata": {},
   "source": [
    "# Loading Data"
   ]
  },
  {
   "cell_type": "code",
   "execution_count": 3,
   "id": "f3f5175b",
   "metadata": {},
   "outputs": [
    {
     "data": {
      "text/html": [
       "<div>\n",
       "<style scoped>\n",
       "    .dataframe tbody tr th:only-of-type {\n",
       "        vertical-align: middle;\n",
       "    }\n",
       "\n",
       "    .dataframe tbody tr th {\n",
       "        vertical-align: top;\n",
       "    }\n",
       "\n",
       "    .dataframe thead th {\n",
       "        text-align: right;\n",
       "    }\n",
       "</style>\n",
       "<table border=\"1\" class=\"dataframe\">\n",
       "  <thead>\n",
       "    <tr style=\"text-align: right;\">\n",
       "      <th></th>\n",
       "      <th>top-left-square</th>\n",
       "      <th>top-middle-square</th>\n",
       "      <th>top-right-square</th>\n",
       "      <th>middle-left-square</th>\n",
       "      <th>middle-middle-square</th>\n",
       "      <th>middle-right-square</th>\n",
       "      <th>bottom-left-square</th>\n",
       "      <th>bottom-middle-square</th>\n",
       "      <th>bottom-right-square</th>\n",
       "      <th>class</th>\n",
       "    </tr>\n",
       "  </thead>\n",
       "  <tbody>\n",
       "    <tr>\n",
       "      <th>725</th>\n",
       "      <td>NaN</td>\n",
       "      <td>b</td>\n",
       "      <td>NaN</td>\n",
       "      <td>NaN</td>\n",
       "      <td>NaN</td>\n",
       "      <td>NaN</td>\n",
       "      <td>NaN</td>\n",
       "      <td>x</td>\n",
       "      <td>NaN</td>\n",
       "      <td>negative</td>\n",
       "    </tr>\n",
       "    <tr>\n",
       "      <th>315</th>\n",
       "      <td>NaN</td>\n",
       "      <td>NaN</td>\n",
       "      <td>x</td>\n",
       "      <td>b</td>\n",
       "      <td>NaN</td>\n",
       "      <td>NaN</td>\n",
       "      <td>o</td>\n",
       "      <td>b</td>\n",
       "      <td>NaN</td>\n",
       "      <td>positive</td>\n",
       "    </tr>\n",
       "    <tr>\n",
       "      <th>856</th>\n",
       "      <td>o</td>\n",
       "      <td>NaN</td>\n",
       "      <td>NaN</td>\n",
       "      <td>NaN</td>\n",
       "      <td>NaN</td>\n",
       "      <td>NaN</td>\n",
       "      <td>NaN</td>\n",
       "      <td>x</td>\n",
       "      <td>NaN</td>\n",
       "      <td>negative</td>\n",
       "    </tr>\n",
       "    <tr>\n",
       "      <th>537</th>\n",
       "      <td>b</td>\n",
       "      <td>o</td>\n",
       "      <td>NaN</td>\n",
       "      <td>NaN</td>\n",
       "      <td>x</td>\n",
       "      <td>NaN</td>\n",
       "      <td>b</td>\n",
       "      <td>NaN</td>\n",
       "      <td>NaN</td>\n",
       "      <td>positive</td>\n",
       "    </tr>\n",
       "    <tr>\n",
       "      <th>392</th>\n",
       "      <td>o</td>\n",
       "      <td>NaN</td>\n",
       "      <td>x</td>\n",
       "      <td>b</td>\n",
       "      <td>NaN</td>\n",
       "      <td>NaN</td>\n",
       "      <td>NaN</td>\n",
       "      <td>NaN</td>\n",
       "      <td>b</td>\n",
       "      <td>positive</td>\n",
       "    </tr>\n",
       "    <tr>\n",
       "      <th>256</th>\n",
       "      <td>x</td>\n",
       "      <td>NaN</td>\n",
       "      <td>NaN</td>\n",
       "      <td>NaN</td>\n",
       "      <td>b</td>\n",
       "      <td>NaN</td>\n",
       "      <td>NaN</td>\n",
       "      <td>NaN</td>\n",
       "      <td>b</td>\n",
       "      <td>positive</td>\n",
       "    </tr>\n",
       "    <tr>\n",
       "      <th>318</th>\n",
       "      <td>NaN</td>\n",
       "      <td>NaN</td>\n",
       "      <td>NaN</td>\n",
       "      <td>x</td>\n",
       "      <td>x</td>\n",
       "      <td>x</td>\n",
       "      <td>x</td>\n",
       "      <td>o</td>\n",
       "      <td>NaN</td>\n",
       "      <td>positive</td>\n",
       "    </tr>\n",
       "    <tr>\n",
       "      <th>5</th>\n",
       "      <td>x</td>\n",
       "      <td>x</td>\n",
       "      <td>x</td>\n",
       "      <td>NaN</td>\n",
       "      <td>NaN</td>\n",
       "      <td>NaN</td>\n",
       "      <td>b</td>\n",
       "      <td>b</td>\n",
       "      <td>NaN</td>\n",
       "      <td>positive</td>\n",
       "    </tr>\n",
       "    <tr>\n",
       "      <th>132</th>\n",
       "      <td>NaN</td>\n",
       "      <td>o</td>\n",
       "      <td>NaN</td>\n",
       "      <td>o</td>\n",
       "      <td>o</td>\n",
       "      <td>NaN</td>\n",
       "      <td>o</td>\n",
       "      <td>NaN</td>\n",
       "      <td>NaN</td>\n",
       "      <td>positive</td>\n",
       "    </tr>\n",
       "    <tr>\n",
       "      <th>244</th>\n",
       "      <td>NaN</td>\n",
       "      <td>b</td>\n",
       "      <td>NaN</td>\n",
       "      <td>NaN</td>\n",
       "      <td>NaN</td>\n",
       "      <td>NaN</td>\n",
       "      <td>b</td>\n",
       "      <td>o</td>\n",
       "      <td>NaN</td>\n",
       "      <td>positive</td>\n",
       "    </tr>\n",
       "  </tbody>\n",
       "</table>\n",
       "</div>"
      ],
      "text/plain": [
       "    top-left-square top-middle-square top-right-square middle-left-square  \\\n",
       "725             NaN                 b              NaN                NaN   \n",
       "315             NaN               NaN                x                  b   \n",
       "856               o               NaN              NaN                NaN   \n",
       "537               b                 o              NaN                NaN   \n",
       "392               o               NaN                x                  b   \n",
       "256               x               NaN              NaN                NaN   \n",
       "318             NaN               NaN              NaN                  x   \n",
       "5                 x                 x                x                NaN   \n",
       "132             NaN                 o              NaN                  o   \n",
       "244             NaN                 b              NaN                NaN   \n",
       "\n",
       "    middle-middle-square middle-right-square bottom-left-square  \\\n",
       "725                  NaN                 NaN                NaN   \n",
       "315                  NaN                 NaN                  o   \n",
       "856                  NaN                 NaN                NaN   \n",
       "537                    x                 NaN                  b   \n",
       "392                  NaN                 NaN                NaN   \n",
       "256                    b                 NaN                NaN   \n",
       "318                    x                   x                  x   \n",
       "5                    NaN                 NaN                  b   \n",
       "132                    o                 NaN                  o   \n",
       "244                  NaN                 NaN                  b   \n",
       "\n",
       "    bottom-middle-square bottom-right-square     class  \n",
       "725                    x                 NaN  negative  \n",
       "315                    b                 NaN  positive  \n",
       "856                    x                 NaN  negative  \n",
       "537                  NaN                 NaN  positive  \n",
       "392                  NaN                   b  positive  \n",
       "256                  NaN                   b  positive  \n",
       "318                    o                 NaN  positive  \n",
       "5                      b                 NaN  positive  \n",
       "132                  NaN                 NaN  positive  \n",
       "244                    o                 NaN  positive  "
      ]
     },
     "execution_count": 3,
     "metadata": {},
     "output_type": "execute_result"
    }
   ],
   "source": [
    "with resources.path('datasets.DecisionRuleSystems', 'DRS_tic-tac-toe') as dataset_path:\n",
    "    S = pd.read_csv(dataset_path).sample(n=10, random_state=333).applymap(lambda x: str(x) if pd.notnull(x) else x)\n",
    "S = S.dropna(axis=1, how='all') # Drop the columns with all None\n",
    "S"
   ]
  },
  {
   "cell_type": "markdown",
   "id": "ba035986",
   "metadata": {},
   "source": [
    "# Dataset Analyses"
   ]
  },
  {
   "cell_type": "code",
   "execution_count": 4,
   "id": "eebe1e46",
   "metadata": {},
   "outputs": [
    {
     "name": "stdout",
     "output_type": "stream",
     "text": [
      "Number of features  = 9\n"
     ]
    }
   ],
   "source": [
    "n = len(S.columns)-1\n",
    "print(f\"Number of features  = {n}\")"
   ]
  },
  {
   "cell_type": "code",
   "execution_count": 5,
   "id": "08f7933c",
   "metadata": {},
   "outputs": [
    {
     "name": "stdout",
     "output_type": "stream",
     "text": [
      "Does # of features = d  = False\n"
     ]
    }
   ],
   "source": [
    "print(f\"Does # of features = d  = {not S.dropna().empty}\")"
   ]
  },
  {
   "cell_type": "code",
   "execution_count": 6,
   "id": "43126f2d",
   "metadata": {},
   "outputs": [
    {
     "name": "stdout",
     "output_type": "stream",
     "text": [
      "d = 5\n"
     ]
    }
   ],
   "source": [
    "# Count non-NaN values for each row\n",
    "non_nan_counts = S.count(axis=1)\n",
    "\n",
    "# Find the index\n",
    "max_non_nan_row_index = non_nan_counts.idxmax()\n",
    "\n",
    "# Retrieve the row\n",
    "max_non_nan_row = S.loc[max_non_nan_row_index]\n",
    "\n",
    "# Number of non-NaN values in the row\n",
    "max_non_nan_count = non_nan_counts[max_non_nan_row_index]\n",
    "\n",
    "d = max_non_nan_count - 1\n",
    "\n",
    "print(f\"d = {d}\") # remove 1 because of last class column"
   ]
  },
  {
   "cell_type": "code",
   "execution_count": 7,
   "id": "ff9700af",
   "metadata": {},
   "outputs": [
    {
     "name": "stdout",
     "output_type": "stream",
     "text": [
      "Length of Node Cover for AR = 5\n"
     ]
    }
   ],
   "source": [
    "P = S\n",
    "P_plus = SPlus(P)\n",
    "B = NCover(P_plus)\n",
    "print(f\"Length of Node Cover for AR = {len(B)}\")"
   ]
  },
  {
   "cell_type": "code",
   "execution_count": 8,
   "id": "9ffbe9af",
   "metadata": {},
   "outputs": [
    {
     "name": "stdout",
     "output_type": "stream",
     "text": [
      "Length of Node Cover for SR = 5\n"
     ]
    }
   ],
   "source": [
    "P = R_SR(S)\n",
    "P_plus = SPlus(P)\n",
    "B = NCover(P_plus)\n",
    "print(f\"Length of Node Cover for SR = {len(B)}\")"
   ]
  },
  {
   "cell_type": "code",
   "execution_count": 9,
   "id": "1fb15c74",
   "metadata": {},
   "outputs": [
    {
     "name": "stdout",
     "output_type": "stream",
     "text": [
      "Length of Node Cover for AD = 5\n"
     ]
    }
   ],
   "source": [
    "P = R_AD(S)\n",
    "P_plus = SPlus(P)\n",
    "B = NCover(P_plus)\n",
    "print(f\"Length of Node Cover for AD = {len(B)}\")"
   ]
  },
  {
   "cell_type": "code",
   "execution_count": 10,
   "id": "05ba893e",
   "metadata": {},
   "outputs": [
    {
     "name": "stdout",
     "output_type": "stream",
     "text": [
      "Length of Node Cover greedy for AR = 1\n"
     ]
    }
   ],
   "source": [
    "P = S\n",
    "P_plus = SPlus(P)\n",
    "B = NGreedy(P_plus)\n",
    "print(f\"Length of Node Cover greedy for AR = {len(B)}\")"
   ]
  },
  {
   "cell_type": "code",
   "execution_count": 11,
   "id": "415b30d6",
   "metadata": {},
   "outputs": [
    {
     "name": "stdout",
     "output_type": "stream",
     "text": [
      "Length of Node Cover greedy for SR = 1\n"
     ]
    }
   ],
   "source": [
    "P = R_SR(S)\n",
    "P_plus = SPlus(P)\n",
    "B = NGreedy(P_plus)\n",
    "print(f\"Length of Node Cover greedy for SR = {len(B)}\")"
   ]
  },
  {
   "cell_type": "code",
   "execution_count": 12,
   "id": "5121a9b5",
   "metadata": {},
   "outputs": [
    {
     "name": "stdout",
     "output_type": "stream",
     "text": [
      "Length of Node Cover greedy for AD = 1\n"
     ]
    }
   ],
   "source": [
    "P = R_AD(S)\n",
    "P_plus = SPlus(P)\n",
    "B = NGreedy(P_plus)\n",
    "print(f\"Length of Node Cover greedy for AD = {len(B)}\")"
   ]
  },
  {
   "cell_type": "markdown",
   "id": "b840eb17",
   "metadata": {},
   "source": [
    "# Dynamic Programming"
   ]
  },
  {
   "cell_type": "code",
   "execution_count": 13,
   "id": "a6702e8e",
   "metadata": {},
   "outputs": [
    {
     "name": "stdout",
     "output_type": "stream",
     "text": [
      "DP AR = 7\n"
     ]
    }
   ],
   "source": [
    "alg = DynamicProgrammingAlgorithms(C=\"AR\")\n",
    "depth = alg.A_DP(S)\n",
    "DP.append(depth)\n",
    "print(f\"DP AR = {depth}\")"
   ]
  },
  {
   "cell_type": "code",
   "execution_count": 14,
   "id": "3ffad308",
   "metadata": {},
   "outputs": [
    {
     "name": "stdout",
     "output_type": "stream",
     "text": [
      "DP EAR = 7\n"
     ]
    }
   ],
   "source": [
    "alg = DynamicProgrammingAlgorithms(C=\"EAR\")\n",
    "depth = alg.A_DP(S)\n",
    "DP.append(depth)\n",
    "print(f\"DP EAR = {depth}\")"
   ]
  },
  {
   "cell_type": "code",
   "execution_count": 15,
   "id": "b2d6cf02",
   "metadata": {},
   "outputs": [
    {
     "name": "stdout",
     "output_type": "stream",
     "text": [
      "DP SR = 6\n"
     ]
    }
   ],
   "source": [
    "alg = DynamicProgrammingAlgorithms(C=\"SR\")\n",
    "depth = alg.A_DP(S)\n",
    "DP.append(depth)\n",
    "print(f\"DP SR = {depth}\")"
   ]
  },
  {
   "cell_type": "code",
   "execution_count": 16,
   "id": "9f70f2a3",
   "metadata": {},
   "outputs": [
    {
     "name": "stdout",
     "output_type": "stream",
     "text": [
      "DP ESR = 7\n"
     ]
    }
   ],
   "source": [
    "alg = DynamicProgrammingAlgorithms(C=\"ESR\")\n",
    "depth = alg.A_DP(S)\n",
    "DP.append(depth)\n",
    "print(f\"DP ESR = {depth}\")"
   ]
  },
  {
   "cell_type": "code",
   "execution_count": 17,
   "id": "2df19cc7",
   "metadata": {},
   "outputs": [
    {
     "name": "stdout",
     "output_type": "stream",
     "text": [
      "DP AD = 6\n"
     ]
    }
   ],
   "source": [
    "alg = DynamicProgrammingAlgorithms(C=\"AD\")\n",
    "depth = alg.A_DP(S)\n",
    "DP.append(depth)\n",
    "print(f\"DP AD = {depth}\")"
   ]
  },
  {
   "cell_type": "code",
   "execution_count": 18,
   "id": "8591e553",
   "metadata": {},
   "outputs": [
    {
     "name": "stdout",
     "output_type": "stream",
     "text": [
      "DP EAD = 7\n"
     ]
    }
   ],
   "source": [
    "alg = DynamicProgrammingAlgorithms(C=\"EAD\")\n",
    "depth = alg.A_DP(S)\n",
    "DP.append(depth)\n",
    "print(f\"DP EAD = {depth}\")"
   ]
  },
  {
   "cell_type": "markdown",
   "id": "1ebab606",
   "metadata": {},
   "source": [
    "# Combinations"
   ]
  },
  {
   "cell_type": "code",
   "execution_count": 19,
   "id": "10dd4be6",
   "metadata": {},
   "outputs": [],
   "source": [
    "column_values = []\n",
    "\n",
    "for column in S.columns[:-1]: #ignoring class column\n",
    "    column_values.append(list(S[column].dropna().unique()))\n",
    "    \n",
    "# All possible combinations    \n",
    "combinations = list(itertools.product(*column_values))\n"
   ]
  },
  {
   "cell_type": "code",
   "execution_count": 20,
   "id": "7d66e67e",
   "metadata": {},
   "outputs": [],
   "source": [
    "column_values_extension = []\n",
    "\n",
    "for column in S.columns[:-1]: #ignoring class column\n",
    "    column_values_extension.append(list(S[column].dropna().unique()) + ['*'])\n",
    "    \n",
    "# All possible combinations with extension    \n",
    "extended_combinations = list(itertools.product(*column_values_extension))\n"
   ]
  },
  {
   "cell_type": "markdown",
   "id": "d768c796",
   "metadata": {},
   "source": [
    "# Node Cover"
   ]
  },
  {
   "cell_type": "code",
   "execution_count": 21,
   "id": "096a6f44",
   "metadata": {},
   "outputs": [
    {
     "name": "stderr",
     "output_type": "stream",
     "text": [
      "100%|████████████████████████████████████████| 729/729 [00:04<00:00, 147.07it/s]"
     ]
    },
    {
     "name": "stdout",
     "output_type": "stream",
     "text": [
      "NC AR\n",
      "(Max Depth, Min Depth, Average Depth) = (9, 5, 7.283950617283951)\n"
     ]
    },
    {
     "name": "stderr",
     "output_type": "stream",
     "text": [
      "\n"
     ]
    }
   ],
   "source": [
    "depths = []\n",
    "\n",
    "for comb in tqdm(combinations):\n",
    "    #creating delta\n",
    "    delta = pd.DataFrame([list(comb)], columns=list(S.columns[:-1]))\n",
    "    \n",
    "    delta = delta.loc[0]\n",
    "    \n",
    "    alg = A_C_N(C=\"AR\", N=\"cover\")\n",
    "    \n",
    "    depth, _ = alg.solve(S, delta=delta)\n",
    "    \n",
    "    depths.append(depth)\n",
    "    \n",
    "print(\"NC AR\")    \n",
    "print(\"(Max Depth, Min Depth, Average Depth) =\", (max(depths), min(depths), sum(depths)/len(depths)))\n",
    "NC.append((max(depths), min(depths), round(sum(depths)/len(depths), 2)))"
   ]
  },
  {
   "cell_type": "code",
   "execution_count": 22,
   "id": "5749e99a",
   "metadata": {},
   "outputs": [
    {
     "name": "stderr",
     "output_type": "stream",
     "text": [
      "100%|████████████████████████████████████| 32768/32768 [03:15<00:00, 168.02it/s]"
     ]
    },
    {
     "name": "stdout",
     "output_type": "stream",
     "text": [
      "NC EAR\n",
      "(Max Depth, Min Depth, Average Depth) = (9, 5, 6.7490234375)\n"
     ]
    },
    {
     "name": "stderr",
     "output_type": "stream",
     "text": [
      "\n"
     ]
    }
   ],
   "source": [
    "depths = []\n",
    "\n",
    "for comb in tqdm(extended_combinations):\n",
    "    #creating delta\n",
    "    delta = pd.DataFrame([list(comb)], columns=list(S.columns[:-1]))\n",
    "    \n",
    "    delta = delta.loc[0]\n",
    "    \n",
    "    alg = A_C_N(C=\"EAR\", N=\"cover\")\n",
    "    \n",
    "    depth, _ = alg.solve(S, delta=delta)\n",
    "    \n",
    "    depths.append(depth)\n",
    "    \n",
    "print(\"NC EAR\")    \n",
    "print(\"(Max Depth, Min Depth, Average Depth) =\", (max(depths), min(depths), sum(depths)/len(depths)))\n",
    "NC.append((max(depths), min(depths), round(sum(depths)/len(depths), 2)))"
   ]
  },
  {
   "cell_type": "code",
   "execution_count": 23,
   "id": "1852af5e",
   "metadata": {},
   "outputs": [
    {
     "name": "stderr",
     "output_type": "stream",
     "text": [
      "100%|█████████████████████████████████████████| 729/729 [00:09<00:00, 78.61it/s]"
     ]
    },
    {
     "name": "stdout",
     "output_type": "stream",
     "text": [
      "NC SR\n",
      "(Max Depth, Min Depth, Average Depth) = (9, 5, 6.939643347050755)\n"
     ]
    },
    {
     "name": "stderr",
     "output_type": "stream",
     "text": [
      "\n"
     ]
    }
   ],
   "source": [
    "depths = []\n",
    "\n",
    "for comb in tqdm(combinations):\n",
    "    #creating delta\n",
    "    delta = pd.DataFrame([list(comb)], columns=list(S.columns[:-1]))\n",
    "    \n",
    "    delta = delta.loc[0]\n",
    "    \n",
    "    alg = A_C_N(C=\"SR\", N=\"cover\")\n",
    "    \n",
    "    depth, _ = alg.solve(S, delta=delta)\n",
    "    \n",
    "    depths.append(depth)\n",
    "    \n",
    "print(\"NC SR\")    \n",
    "print(\"(Max Depth, Min Depth, Average Depth) =\", (max(depths), min(depths), sum(depths)/len(depths)))\n",
    "NC.append((max(depths), min(depths), round(sum(depths)/len(depths), 2)))"
   ]
  },
  {
   "cell_type": "code",
   "execution_count": 24,
   "id": "abea4eb6",
   "metadata": {},
   "outputs": [
    {
     "name": "stderr",
     "output_type": "stream",
     "text": [
      "100%|█████████████████████████████████████| 32768/32768 [06:21<00:00, 85.84it/s]"
     ]
    },
    {
     "name": "stdout",
     "output_type": "stream",
     "text": [
      "NC ESR\n",
      "(Max Depth, Min Depth, Average Depth) = (9, 5, 6.5887451171875)\n"
     ]
    },
    {
     "name": "stderr",
     "output_type": "stream",
     "text": [
      "\n"
     ]
    }
   ],
   "source": [
    "depths = []\n",
    "\n",
    "for comb in tqdm(extended_combinations):\n",
    "    #creating delta\n",
    "    delta = pd.DataFrame([list(comb)], columns=list(S.columns[:-1]))\n",
    "    \n",
    "    delta = delta.loc[0]\n",
    "    \n",
    "    alg = A_C_N(C=\"ESR\", N=\"cover\")\n",
    "    \n",
    "    depth, _ = alg.solve(S, delta=delta)\n",
    "    \n",
    "    depths.append(depth)\n",
    "    \n",
    "print(\"NC ESR\")    \n",
    "print(\"(Max Depth, Min Depth, Average Depth) =\", (max(depths), min(depths), sum(depths)/len(depths)))\n",
    "NC.append((max(depths), min(depths), round(sum(depths)/len(depths), 2)))"
   ]
  },
  {
   "cell_type": "code",
   "execution_count": 25,
   "id": "ff2f6812",
   "metadata": {},
   "outputs": [
    {
     "name": "stderr",
     "output_type": "stream",
     "text": [
      "100%|████████████████████████████████████████| 729/729 [00:07<00:00, 102.03it/s]"
     ]
    },
    {
     "name": "stdout",
     "output_type": "stream",
     "text": [
      "NC AD\n",
      "(Max Depth, Min Depth, Average Depth) = (9, 5, 7.137174211248285)\n"
     ]
    },
    {
     "name": "stderr",
     "output_type": "stream",
     "text": [
      "\n"
     ]
    }
   ],
   "source": [
    "depths = []\n",
    "\n",
    "for comb in tqdm(combinations):\n",
    "    #creating delta\n",
    "    delta = pd.DataFrame([list(comb)], columns=list(S.columns[:-1]))\n",
    "    \n",
    "    delta = delta.loc[0]\n",
    "    \n",
    "    alg = A_C_N(C=\"AD\", N=\"cover\")\n",
    "    \n",
    "    depth, _ = alg.solve(S, delta=delta)\n",
    "    \n",
    "    depths.append(depth)\n",
    "    \n",
    "print(\"NC AD\")    \n",
    "print(\"(Max Depth, Min Depth, Average Depth) =\", (max(depths), min(depths), sum(depths)/len(depths)))\n",
    "NC.append((max(depths), min(depths), round(sum(depths)/len(depths), 2)))"
   ]
  },
  {
   "cell_type": "code",
   "execution_count": 26,
   "id": "b89b747f",
   "metadata": {},
   "outputs": [
    {
     "name": "stderr",
     "output_type": "stream",
     "text": [
      "100%|████████████████████████████████████| 32768/32768 [04:52<00:00, 111.84it/s]"
     ]
    },
    {
     "name": "stdout",
     "output_type": "stream",
     "text": [
      "NC EAD\n",
      "(Max Depth, Min Depth, Average Depth) = (9, 5, 6.6942138671875)\n"
     ]
    },
    {
     "name": "stderr",
     "output_type": "stream",
     "text": [
      "\n"
     ]
    }
   ],
   "source": [
    "depths = []\n",
    "\n",
    "for comb in tqdm(extended_combinations):\n",
    "    #creating delta\n",
    "    delta = pd.DataFrame([list(comb)], columns=list(S.columns[:-1]))\n",
    "    \n",
    "    delta = delta.loc[0]\n",
    "    \n",
    "    alg = A_C_N(C=\"EAD\", N=\"cover\")\n",
    "    \n",
    "    depth, _ = alg.solve(S, delta=delta)\n",
    "    \n",
    "    depths.append(depth)\n",
    "    \n",
    "print(\"NC EAD\")    \n",
    "print(\"(Max Depth, Min Depth, Average Depth) =\", (max(depths), min(depths), sum(depths)/len(depths)))\n",
    "NC.append((max(depths), min(depths), round(sum(depths)/len(depths), 2)))"
   ]
  },
  {
   "cell_type": "markdown",
   "id": "746057ad",
   "metadata": {},
   "source": [
    "# Node Cover Greedy"
   ]
  },
  {
   "cell_type": "code",
   "execution_count": 27,
   "id": "6077f62e",
   "metadata": {},
   "outputs": [
    {
     "name": "stderr",
     "output_type": "stream",
     "text": [
      "100%|█████████████████████████████████████████| 729/729 [00:11<00:00, 64.62it/s]"
     ]
    },
    {
     "name": "stdout",
     "output_type": "stream",
     "text": [
      "NCgreedy AR\n",
      "(Max Depth, Min Depth, Average Depth) = (7, 3, 5.255144032921811)\n"
     ]
    },
    {
     "name": "stderr",
     "output_type": "stream",
     "text": [
      "\n"
     ]
    }
   ],
   "source": [
    "depths = []\n",
    "\n",
    "for comb in tqdm(combinations):\n",
    "    #creating delta\n",
    "    delta = pd.DataFrame([list(comb)], columns=list(S.columns[:-1]))\n",
    "    \n",
    "    delta = delta.loc[0]\n",
    "    \n",
    "    alg = A_C_N(C=\"AR\", N=\"greedy\")\n",
    "    \n",
    "    depth, _ = alg.solve(S, delta=delta)\n",
    "    \n",
    "    depths.append(depth)\n",
    "    \n",
    "print(\"NCgreedy AR\")    \n",
    "print(\"(Max Depth, Min Depth, Average Depth) =\", (max(depths), min(depths), sum(depths)/len(depths)))\n",
    "NCgreedy.append((max(depths), min(depths), round(sum(depths)/len(depths), 2)))"
   ]
  },
  {
   "cell_type": "code",
   "execution_count": 28,
   "id": "89ecb7d8",
   "metadata": {},
   "outputs": [
    {
     "name": "stderr",
     "output_type": "stream",
     "text": [
      "100%|█████████████████████████████████████| 32768/32768 [07:29<00:00, 72.95it/s]"
     ]
    },
    {
     "name": "stdout",
     "output_type": "stream",
     "text": [
      "NCgreedy EAR\n",
      "(Max Depth, Min Depth, Average Depth) = (7, 3, 4.5693359375)\n"
     ]
    },
    {
     "name": "stderr",
     "output_type": "stream",
     "text": [
      "\n"
     ]
    }
   ],
   "source": [
    "depths = []\n",
    "\n",
    "for comb in tqdm(extended_combinations):\n",
    "    #creating delta\n",
    "    delta = pd.DataFrame([list(comb)], columns=list(S.columns[:-1]))\n",
    "    \n",
    "    delta = delta.loc[0]\n",
    "    \n",
    "    alg = A_C_N(C=\"EAR\", N=\"greedy\")\n",
    "    \n",
    "    depth, _ = alg.solve(S, delta=delta)\n",
    "    \n",
    "    depths.append(depth)\n",
    "    \n",
    "print(\"NCgreedy EAR\")    \n",
    "print(\"(Max Depth, Min Depth, Average Depth) =\", (max(depths), min(depths), sum(depths)/len(depths)))\n",
    "NCgreedy.append((max(depths), min(depths), round(sum(depths)/len(depths), 2)))"
   ]
  },
  {
   "cell_type": "code",
   "execution_count": 29,
   "id": "b325df31",
   "metadata": {},
   "outputs": [
    {
     "name": "stderr",
     "output_type": "stream",
     "text": [
      "100%|█████████████████████████████████████████| 729/729 [00:17<00:00, 41.90it/s]"
     ]
    },
    {
     "name": "stdout",
     "output_type": "stream",
     "text": [
      "NCgreedy SR\n",
      "(Max Depth, Min Depth, Average Depth) = (7, 3, 5.106995884773663)\n"
     ]
    },
    {
     "name": "stderr",
     "output_type": "stream",
     "text": [
      "\n"
     ]
    }
   ],
   "source": [
    "depths = []\n",
    "\n",
    "for comb in tqdm(combinations):\n",
    "    #creating delta\n",
    "    delta = pd.DataFrame([list(comb)], columns=list(S.columns[:-1]))\n",
    "    \n",
    "    delta = delta.loc[0]\n",
    "    \n",
    "    alg = A_C_N(C=\"SR\", N=\"greedy\")\n",
    "    \n",
    "    depth, _ = alg.solve(S, delta=delta)\n",
    "    \n",
    "    depths.append(depth)\n",
    "    \n",
    "print(\"NCgreedy SR\")    \n",
    "print(\"(Max Depth, Min Depth, Average Depth) =\", (max(depths), min(depths), sum(depths)/len(depths)))\n",
    "NCgreedy.append((max(depths), min(depths), round(sum(depths)/len(depths), 2)))"
   ]
  },
  {
   "cell_type": "code",
   "execution_count": 30,
   "id": "3809221a",
   "metadata": {},
   "outputs": [
    {
     "name": "stderr",
     "output_type": "stream",
     "text": [
      "100%|█████████████████████████████████████| 32768/32768 [11:38<00:00, 46.91it/s]"
     ]
    },
    {
     "name": "stdout",
     "output_type": "stream",
     "text": [
      "NCgreedy ESR\n",
      "(Max Depth, Min Depth, Average Depth) = (7, 3, 4.4130859375)\n"
     ]
    },
    {
     "name": "stderr",
     "output_type": "stream",
     "text": [
      "\n"
     ]
    }
   ],
   "source": [
    "depths = []\n",
    "\n",
    "for comb in tqdm(extended_combinations):\n",
    "    #creating delta\n",
    "    delta = pd.DataFrame([list(comb)], columns=list(S.columns[:-1]))\n",
    "    \n",
    "    delta = delta.loc[0]\n",
    "    \n",
    "    alg = A_C_N(C=\"ESR\", N=\"greedy\")\n",
    "    \n",
    "    depth, _ = alg.solve(S, delta=delta)\n",
    "    \n",
    "    depths.append(depth)\n",
    "    \n",
    "print(\"NCgreedy ESR\")    \n",
    "print(\"(Max Depth, Min Depth, Average Depth) =\", (max(depths), min(depths), sum(depths)/len(depths)))\n",
    "NCgreedy.append((max(depths), min(depths), round(sum(depths)/len(depths), 2)))"
   ]
  },
  {
   "cell_type": "code",
   "execution_count": 31,
   "id": "01b60a81",
   "metadata": {},
   "outputs": [
    {
     "name": "stderr",
     "output_type": "stream",
     "text": [
      "100%|█████████████████████████████████████████| 729/729 [00:14<00:00, 49.13it/s]"
     ]
    },
    {
     "name": "stdout",
     "output_type": "stream",
     "text": [
      "NCgreedy AD\n",
      "(Max Depth, Min Depth, Average Depth) = (7, 3, 5.106995884773663)\n"
     ]
    },
    {
     "name": "stderr",
     "output_type": "stream",
     "text": [
      "\n"
     ]
    }
   ],
   "source": [
    "depths = []\n",
    "\n",
    "for comb in tqdm(combinations):\n",
    "    #creating delta\n",
    "    delta = pd.DataFrame([list(comb)], columns=list(S.columns[:-1]))\n",
    "    \n",
    "    delta = delta.loc[0]\n",
    "    \n",
    "    alg = A_C_N(C=\"AD\", N=\"greedy\")\n",
    "    \n",
    "    depth, _ = alg.solve(S, delta=delta)\n",
    "    \n",
    "    depths.append(depth)\n",
    "    \n",
    "print(\"NCgreedy AD\")    \n",
    "print(\"(Max Depth, Min Depth, Average Depth) =\", (max(depths), min(depths), sum(depths)/len(depths)))\n",
    "NCgreedy.append((max(depths), min(depths), round(sum(depths)/len(depths), 2)))"
   ]
  },
  {
   "cell_type": "code",
   "execution_count": 32,
   "id": "dec2d12b",
   "metadata": {},
   "outputs": [
    {
     "name": "stderr",
     "output_type": "stream",
     "text": [
      "100%|█████████████████████████████████████| 32768/32768 [09:52<00:00, 55.34it/s]"
     ]
    },
    {
     "name": "stdout",
     "output_type": "stream",
     "text": [
      "NCgreedy EAD\n",
      "(Max Depth, Min Depth, Average Depth) = (7, 3, 4.4130859375)\n"
     ]
    },
    {
     "name": "stderr",
     "output_type": "stream",
     "text": [
      "\n"
     ]
    }
   ],
   "source": [
    "depths = []\n",
    "\n",
    "for comb in tqdm(extended_combinations):\n",
    "    #creating delta\n",
    "    delta = pd.DataFrame([list(comb)], columns=list(S.columns[:-1]))\n",
    "    \n",
    "    delta = delta.loc[0]\n",
    "    \n",
    "    alg = A_C_N(C=\"EAD\", N=\"greedy\")\n",
    "    \n",
    "    depth, _ = alg.solve(S, delta=delta)\n",
    "    \n",
    "    depths.append(depth)\n",
    "    \n",
    "print(\"NCgreedy EAD\")    \n",
    "print(\"(Max Depth, Min Depth, Average Depth) =\", (max(depths), min(depths), sum(depths)/len(depths)))\n",
    "NCgreedy.append((max(depths), min(depths), round(sum(depths)/len(depths), 2)))"
   ]
  },
  {
   "cell_type": "markdown",
   "id": "24cc2b4d",
   "metadata": {},
   "source": [
    "# Greedy"
   ]
  },
  {
   "cell_type": "code",
   "execution_count": 33,
   "id": "82a54585",
   "metadata": {},
   "outputs": [
    {
     "name": "stderr",
     "output_type": "stream",
     "text": [
      "100%|████████████████████████████████████████| 729/729 [00:03<00:00, 192.37it/s]"
     ]
    },
    {
     "name": "stdout",
     "output_type": "stream",
     "text": [
      "Greedy AR\n",
      "(Max Depth, Min Depth, Average Depth) = (8, 3, 5.08641975308642)\n"
     ]
    },
    {
     "name": "stderr",
     "output_type": "stream",
     "text": [
      "\n"
     ]
    }
   ],
   "source": [
    "depths = []\n",
    "\n",
    "for comb in tqdm(combinations):\n",
    "    #creating delta\n",
    "    delta = pd.DataFrame([list(comb)], columns=list(S.columns[:-1]))\n",
    "    \n",
    "    delta = delta.loc[0]\n",
    "    \n",
    "    alg = A_C_G(C=\"AR\")\n",
    "    \n",
    "    depth, _ = alg.solve(S, delta=delta)\n",
    "    \n",
    "    depths.append(depth)\n",
    "    \n",
    "print(\"Greedy AR\")    \n",
    "print(\"(Max Depth, Min Depth, Average Depth) =\", (max(depths), min(depths), sum(depths)/len(depths)))\n",
    "Gr.append((max(depths), min(depths), round(sum(depths)/len(depths), 2)))"
   ]
  },
  {
   "cell_type": "code",
   "execution_count": 34,
   "id": "8e8a0bfd",
   "metadata": {},
   "outputs": [
    {
     "name": "stderr",
     "output_type": "stream",
     "text": [
      "100%|████████████████████████████████████| 32768/32768 [02:23<00:00, 228.42it/s]"
     ]
    },
    {
     "name": "stdout",
     "output_type": "stream",
     "text": [
      "Greedy EAR\n",
      "(Max Depth, Min Depth, Average Depth) = (8, 3, 4.3125)\n"
     ]
    },
    {
     "name": "stderr",
     "output_type": "stream",
     "text": [
      "\n"
     ]
    }
   ],
   "source": [
    "depths = []\n",
    "\n",
    "for comb in tqdm(extended_combinations):\n",
    "    #creating delta\n",
    "    delta = pd.DataFrame([list(comb)], columns=list(S.columns[:-1]))\n",
    "    \n",
    "    delta = delta.loc[0]\n",
    "    \n",
    "    alg = A_C_G(C=\"EAR\")\n",
    "    \n",
    "    depth, _ = alg.solve(S, delta=delta)\n",
    "    \n",
    "    depths.append(depth)\n",
    "    \n",
    "print(\"Greedy EAR\")    \n",
    "print(\"(Max Depth, Min Depth, Average Depth) =\", (max(depths), min(depths), sum(depths)/len(depths)))\n",
    "Gr.append((max(depths), min(depths), round(sum(depths)/len(depths), 2)))"
   ]
  },
  {
   "cell_type": "code",
   "execution_count": 35,
   "id": "2626ff3a",
   "metadata": {},
   "outputs": [
    {
     "name": "stderr",
     "output_type": "stream",
     "text": [
      "100%|█████████████████████████████████████████| 729/729 [00:09<00:00, 75.10it/s]"
     ]
    },
    {
     "name": "stdout",
     "output_type": "stream",
     "text": [
      "Greedy SR\n",
      "(Max Depth, Min Depth, Average Depth) = (8, 3, 4.716049382716049)\n"
     ]
    },
    {
     "name": "stderr",
     "output_type": "stream",
     "text": [
      "\n"
     ]
    }
   ],
   "source": [
    "depths = []\n",
    "\n",
    "for comb in tqdm(combinations):\n",
    "    #creating delta\n",
    "    delta = pd.DataFrame([list(comb)], columns=list(S.columns[:-1]))\n",
    "    \n",
    "    delta = delta.loc[0]\n",
    "    \n",
    "    alg = A_C_G(C=\"SR\")\n",
    "    \n",
    "    depth, _ = alg.solve(S, delta=delta)\n",
    "    \n",
    "    depths.append(depth)\n",
    "    \n",
    "print(\"Greedy SR\")    \n",
    "print(\"(Max Depth, Min Depth, Average Depth) =\", (max(depths), min(depths), sum(depths)/len(depths)))\n",
    "Gr.append((max(depths), min(depths), round(sum(depths)/len(depths), 2)))"
   ]
  },
  {
   "cell_type": "code",
   "execution_count": 36,
   "id": "062104bd",
   "metadata": {},
   "outputs": [
    {
     "name": "stderr",
     "output_type": "stream",
     "text": [
      "100%|█████████████████████████████████████| 32768/32768 [06:54<00:00, 79.08it/s]"
     ]
    },
    {
     "name": "stdout",
     "output_type": "stream",
     "text": [
      "Greedy ESR\n",
      "(Max Depth, Min Depth, Average Depth) = (8, 3, 4.18359375)\n"
     ]
    },
    {
     "name": "stderr",
     "output_type": "stream",
     "text": [
      "\n"
     ]
    }
   ],
   "source": [
    "depths = []\n",
    "\n",
    "for comb in tqdm(extended_combinations):\n",
    "    #creating delta\n",
    "    delta = pd.DataFrame([list(comb)], columns=list(S.columns[:-1]))\n",
    "    \n",
    "    delta = delta.loc[0]\n",
    "    \n",
    "    alg = A_C_G(C=\"ESR\")\n",
    "    \n",
    "    depth, _ = alg.solve(S, delta=delta)\n",
    "    \n",
    "    depths.append(depth)\n",
    "    \n",
    "print(\"Greedy ESR\")    \n",
    "print(\"(Max Depth, Min Depth, Average Depth) =\", (max(depths), min(depths), sum(depths)/len(depths)))\n",
    "Gr.append((max(depths), min(depths), round(sum(depths)/len(depths), 2)))"
   ]
  },
  {
   "cell_type": "code",
   "execution_count": 37,
   "id": "23e5f199",
   "metadata": {},
   "outputs": [
    {
     "name": "stderr",
     "output_type": "stream",
     "text": [
      "100%|█████████████████████████████████████████| 729/729 [00:07<00:00, 92.44it/s]"
     ]
    },
    {
     "name": "stdout",
     "output_type": "stream",
     "text": [
      "Greedy AD\n",
      "(Max Depth, Min Depth, Average Depth) = (8, 3, 4.868312757201646)\n"
     ]
    },
    {
     "name": "stderr",
     "output_type": "stream",
     "text": [
      "\n"
     ]
    }
   ],
   "source": [
    "depths = []\n",
    "\n",
    "for comb in tqdm(combinations):\n",
    "    #creating delta\n",
    "    delta = pd.DataFrame([list(comb)], columns=list(S.columns[:-1]))\n",
    "    \n",
    "    delta = delta.loc[0]\n",
    "    \n",
    "    alg = A_C_G(C=\"AD\")\n",
    "    \n",
    "    depth, _ = alg.solve(S, delta=delta)\n",
    "    \n",
    "    depths.append(depth)\n",
    "    \n",
    "print(\"Greedy AD\")    \n",
    "print(\"(Max Depth, Min Depth, Average Depth) =\", (max(depths), min(depths), sum(depths)/len(depths)))\n",
    "Gr.append((max(depths), min(depths), round(sum(depths)/len(depths), 2)))"
   ]
  },
  {
   "cell_type": "code",
   "execution_count": 38,
   "id": "8eb3cea0",
   "metadata": {},
   "outputs": [
    {
     "name": "stderr",
     "output_type": "stream",
     "text": [
      "100%|████████████████████████████████████| 32768/32768 [05:02<00:00, 108.28it/s]"
     ]
    },
    {
     "name": "stdout",
     "output_type": "stream",
     "text": [
      "Greedy EAD\n",
      "(Max Depth, Min Depth, Average Depth) = (8, 3, 4.2275390625)\n"
     ]
    },
    {
     "name": "stderr",
     "output_type": "stream",
     "text": [
      "\n"
     ]
    }
   ],
   "source": [
    "depths = []\n",
    "\n",
    "for comb in tqdm(extended_combinations):\n",
    "    #creating delta\n",
    "    delta = pd.DataFrame([list(comb)], columns=list(S.columns[:-1]))\n",
    "    \n",
    "    delta = delta.loc[0]\n",
    "    \n",
    "    alg = A_C_G(C=\"EAD\")\n",
    "    \n",
    "    depth, _ = alg.solve(S, delta=delta)\n",
    "    \n",
    "    depths.append(depth)\n",
    "    \n",
    "print(\"Greedy EAD\")    \n",
    "print(\"(Max Depth, Min Depth, Average Depth) =\", (max(depths), min(depths), sum(depths)/len(depths)))\n",
    "Gr.append((max(depths), min(depths), round(sum(depths)/len(depths), 2)))"
   ]
  },
  {
   "cell_type": "markdown",
   "id": "79449903",
   "metadata": {},
   "source": [
    "# PLOTS"
   ]
  },
  {
   "cell_type": "code",
   "execution_count": 39,
   "id": "b2e6cd0a",
   "metadata": {},
   "outputs": [
    {
     "data": {
      "image/png": "[encoded data removed]",
      "text/plain": [
       "<Figure size 1080x720 with 1 Axes>"
      ]
     },
     "metadata": {
      "needs_background": "light"
     },
     "output_type": "display_data"
    }
   ],
   "source": [
    "problem_indices = np.arange(len(problems))\n",
    "\n",
    "plt.figure(figsize=(15,10))\n",
    "\n",
    "offset = 0.1\n",
    "x_offsets = np.array([-1.5*offset, -0.5*offset, 0.5*offset, 1.5*offset])\n",
    "\n",
    "plt.vlines(problem_indices + x_offsets[0], 0, DP, color='y', linewidth=15, label='Dynamic Programming')\n",
    "plt.vlines(problem_indices + x_offsets[1], 0, [a for a,_,_ in Gr], color='g', linewidth=15, label='Greedy')\n",
    "plt.vlines(problem_indices + x_offsets[2], 0, [a for a,_,_ in NCgreedy], color='orange', linewidth=15, label='Node Cover Greedy')\n",
    "plt.vlines(problem_indices + x_offsets[3], 0, [a for a,_,_ in NC], color='b', linewidth=15, label='Node Cover')\n",
    "\n",
    "plt.axhline(y=n, color='r', linestyle='--', linewidth=2, label=f'n={n}')\n",
    "\n",
    "plt.xticks(problem_indices, problems, rotation=45, ha='right')\n",
    "\n",
    "plt.title(f'Max of min depth {dataset_name}', fontsize=14)\n",
    "plt.xlabel('Problems', fontsize=14)\n",
    "plt.ylabel('Depth', fontsize=14)\n",
    "plt.legend(loc='best', fontsize=14)\n",
    "plt.grid(True)\n",
    "plt.show()\n"
   ]
  },
  {
   "cell_type": "code",
   "execution_count": 40,
   "id": "f25f064c",
   "metadata": {},
   "outputs": [
    {
     "data": {
      "image/png": "[encoded data removed]",
      "text/plain": [
       "<Figure size 1080x720 with 1 Axes>"
      ]
     },
     "metadata": {
      "needs_background": "light"
     },
     "output_type": "display_data"
    }
   ],
   "source": [
    "problem_indices = np.arange(len(problems))\n",
    "\n",
    "plt.figure(figsize=(15,10))\n",
    "\n",
    "offset = 0.1\n",
    "x_offsets = np.array([-1.5*offset, -0.5*offset, 0.5*offset, 1.5*offset])\n",
    "\n",
    "plt.vlines(problem_indices + x_offsets[1], 0, [a for _,a,_ in Gr], color='g', linewidth=15, label='Greedy')\n",
    "plt.vlines(problem_indices + x_offsets[2], 0, [a for _,a,_ in NCgreedy], color='orange', linewidth=15, label='Node Cover Greedy')\n",
    "plt.vlines(problem_indices + x_offsets[3], 0, [a for _,a,_ in NC], color='b', linewidth=15, label='Node Cover')\n",
    "\n",
    "plt.axhline(y=n, color='r', linestyle='--', linewidth=2, label=f'n={n}')\n",
    "\n",
    "plt.xticks(problem_indices, problems, rotation=45, ha='right')\n",
    "\n",
    "plt.title(f'Min of min depth {dataset_name}', fontsize=14)\n",
    "plt.xlabel('Problems', fontsize=14)\n",
    "plt.ylabel('Depth', fontsize=14)\n",
    "plt.legend(loc='best', fontsize=14)\n",
    "plt.grid(True)\n",
    "plt.show()"
   ]
  },
  {
   "cell_type": "code",
   "execution_count": 41,
   "id": "2b2e6769",
   "metadata": {},
   "outputs": [
    {
     "data": {
      "image/png": "[encoded data removed]",
      "text/plain": [
       "<Figure size 1080x720 with 1 Axes>"
      ]
     },
     "metadata": {
      "needs_background": "light"
     },
     "output_type": "display_data"
    }
   ],
   "source": [
    "problem_indices = np.arange(len(problems))\n",
    "\n",
    "plt.figure(figsize=(15,10))\n",
    "\n",
    "offset = 0.1\n",
    "x_offsets = np.array([-1.5*offset, -0.5*offset, 0.5*offset, 1.5*offset])\n",
    "\n",
    "plt.vlines(problem_indices + x_offsets[1], 0, [a for _,_,a in Gr], color='g', linewidth=15, label='Greedy')\n",
    "plt.vlines(problem_indices + x_offsets[2], 0, [a for _,_,a in NCgreedy], color='orange', linewidth=15, label='Node Cover Greedy')\n",
    "plt.vlines(problem_indices + x_offsets[3], 0, [a for _,_,a in NC], color='b', linewidth=15, label='Node Cover')\n",
    "\n",
    "plt.axhline(y=n, color='r', linestyle='--', linewidth=2, label=f'n={n}')\n",
    "\n",
    "plt.xticks(problem_indices, problems, rotation=45, ha='right')\n",
    "\n",
    "plt.title(f'Average of min depth {dataset_name}', fontsize=14)\n",
    "plt.xlabel('Problems', fontsize=14)\n",
    "plt.ylabel('Depth', fontsize=14)\n",
    "plt.legend(loc='best', fontsize=14)\n",
    "plt.grid(True)\n",
    "plt.show()"
   ]
  },
  {
   "cell_type": "code",
   "execution_count": null,
   "id": "79d1e9b6",
   "metadata": {},
   "outputs": [],
   "source": []
  }
 ],
 "metadata": {
  "kernelspec": {
   "display_name": "Python 3 (ipykernel)",
   "language": "python",
   "name": "python3"
  },
  "language_info": {
   "codemirror_mode": {
    "name": "ipython",
    "version": 3
   },
   "file_extension": ".py",
   "mimetype": "text/x-python",
   "name": "python",
   "nbconvert_exporter": "python",
   "pygments_lexer": "ipython3",
   "version": "3.9.12"
  }
 },
 "nbformat": 4,
 "nbformat_minor": 5
}
