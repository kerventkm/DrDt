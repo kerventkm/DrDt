{
 "cells": [
  {
   "cell_type": "code",
   "execution_count": 1,
   "id": "f24488bc",
   "metadata": {},
   "outputs": [],
   "source": [
    "# Libraries\n",
    "import itertools\n",
    "from importlib import resources\n",
    "import pandas as pd\n",
    "import numpy as np\n",
    "from tqdm import tqdm\n",
    "\n",
    "from drdt.helper_functions import DecisionRuleCreatorFromDecisionTable, Reduction, R_SR, R_AD, SAlphaStep, SPlus, SMax, NCover, NGreedy\n",
    "from drdt.algorithms import DynamicProgrammingAlgorithms, A_C_N, A_C_G\n"
   ]
  },
  {
   "cell_type": "markdown",
   "id": "264742fc",
   "metadata": {},
   "source": [
    "# Loading Data"
   ]
  },
  {
   "cell_type": "code",
   "execution_count": 2,
   "id": "f3f5175b",
   "metadata": {},
   "outputs": [
    {
     "data": {
      "text/html": [
       "<div>\n",
       "<style scoped>\n",
       "    .dataframe tbody tr th:only-of-type {\n",
       "        vertical-align: middle;\n",
       "    }\n",
       "\n",
       "    .dataframe tbody tr th {\n",
       "        vertical-align: top;\n",
       "    }\n",
       "\n",
       "    .dataframe thead th {\n",
       "        text-align: right;\n",
       "    }\n",
       "</style>\n",
       "<table border=\"1\" class=\"dataframe\">\n",
       "  <thead>\n",
       "    <tr style=\"text-align: right;\">\n",
       "      <th></th>\n",
       "      <th>buying</th>\n",
       "      <th>maint</th>\n",
       "      <th>doors</th>\n",
       "      <th>persons</th>\n",
       "      <th>lug_boot</th>\n",
       "      <th>safety</th>\n",
       "      <th>class</th>\n",
       "    </tr>\n",
       "  </thead>\n",
       "  <tbody>\n",
       "    <tr>\n",
       "      <th>599</th>\n",
       "      <td>NaN</td>\n",
       "      <td>NaN</td>\n",
       "      <td>NaN</td>\n",
       "      <td>2</td>\n",
       "      <td>NaN</td>\n",
       "      <td>NaN</td>\n",
       "      <td>unacc</td>\n",
       "    </tr>\n",
       "    <tr>\n",
       "      <th>1201</th>\n",
       "      <td>med</td>\n",
       "      <td>NaN</td>\n",
       "      <td>2</td>\n",
       "      <td>4</td>\n",
       "      <td>med</td>\n",
       "      <td>med</td>\n",
       "      <td>acc</td>\n",
       "    </tr>\n",
       "    <tr>\n",
       "      <th>628</th>\n",
       "      <td>NaN</td>\n",
       "      <td>NaN</td>\n",
       "      <td>NaN</td>\n",
       "      <td>2</td>\n",
       "      <td>NaN</td>\n",
       "      <td>NaN</td>\n",
       "      <td>unacc</td>\n",
       "    </tr>\n",
       "    <tr>\n",
       "      <th>1498</th>\n",
       "      <td>NaN</td>\n",
       "      <td>high</td>\n",
       "      <td>5more</td>\n",
       "      <td>NaN</td>\n",
       "      <td>NaN</td>\n",
       "      <td>med</td>\n",
       "      <td>acc</td>\n",
       "    </tr>\n",
       "    <tr>\n",
       "      <th>1263</th>\n",
       "      <td>NaN</td>\n",
       "      <td>NaN</td>\n",
       "      <td>NaN</td>\n",
       "      <td>NaN</td>\n",
       "      <td>NaN</td>\n",
       "      <td>low</td>\n",
       "      <td>unacc</td>\n",
       "    </tr>\n",
       "    <tr>\n",
       "      <th>931</th>\n",
       "      <td>med</td>\n",
       "      <td>vhigh</td>\n",
       "      <td>4</td>\n",
       "      <td>4</td>\n",
       "      <td>med</td>\n",
       "      <td>NaN</td>\n",
       "      <td>acc</td>\n",
       "    </tr>\n",
       "    <tr>\n",
       "      <th>23</th>\n",
       "      <td>vhigh</td>\n",
       "      <td>vhigh</td>\n",
       "      <td>NaN</td>\n",
       "      <td>NaN</td>\n",
       "      <td>NaN</td>\n",
       "      <td>NaN</td>\n",
       "      <td>unacc</td>\n",
       "    </tr>\n",
       "    <tr>\n",
       "      <th>844</th>\n",
       "      <td>NaN</td>\n",
       "      <td>NaN</td>\n",
       "      <td>NaN</td>\n",
       "      <td>2</td>\n",
       "      <td>NaN</td>\n",
       "      <td>NaN</td>\n",
       "      <td>unacc</td>\n",
       "    </tr>\n",
       "    <tr>\n",
       "      <th>964</th>\n",
       "      <td>NaN</td>\n",
       "      <td>vhigh</td>\n",
       "      <td>NaN</td>\n",
       "      <td>NaN</td>\n",
       "      <td>small</td>\n",
       "      <td>med</td>\n",
       "      <td>unacc</td>\n",
       "    </tr>\n",
       "    <tr>\n",
       "      <th>764</th>\n",
       "      <td>NaN</td>\n",
       "      <td>NaN</td>\n",
       "      <td>NaN</td>\n",
       "      <td>2</td>\n",
       "      <td>NaN</td>\n",
       "      <td>NaN</td>\n",
       "      <td>unacc</td>\n",
       "    </tr>\n",
       "  </tbody>\n",
       "</table>\n",
       "</div>"
      ],
      "text/plain": [
       "     buying  maint  doors persons lug_boot safety  class\n",
       "599     NaN    NaN    NaN       2      NaN    NaN  unacc\n",
       "1201    med    NaN      2       4      med    med    acc\n",
       "628     NaN    NaN    NaN       2      NaN    NaN  unacc\n",
       "1498    NaN   high  5more     NaN      NaN    med    acc\n",
       "1263    NaN    NaN    NaN     NaN      NaN    low  unacc\n",
       "931     med  vhigh      4       4      med    NaN    acc\n",
       "23    vhigh  vhigh    NaN     NaN      NaN    NaN  unacc\n",
       "844     NaN    NaN    NaN       2      NaN    NaN  unacc\n",
       "964     NaN  vhigh    NaN     NaN    small    med  unacc\n",
       "764     NaN    NaN    NaN       2      NaN    NaN  unacc"
      ]
     },
     "execution_count": 2,
     "metadata": {},
     "output_type": "execute_result"
    }
   ],
   "source": [
    "with resources.path('datasets.DecisionRuleSystems', 'DRS_car_evaluation') as dataset_path:\n",
    "    S = pd.read_csv(dataset_path).sample(n=10, random_state=42).applymap(lambda x: str(x) if pd.notnull(x) else x)\n",
    "# S = S.drop(['buying', 'safety', 'maint'], axis=1)[:2]\n",
    "S"
   ]
  },
  {
   "cell_type": "markdown",
   "id": "ba035986",
   "metadata": {},
   "source": [
    "# Dataset Analyses"
   ]
  },
  {
   "cell_type": "code",
   "execution_count": 3,
   "id": "eebe1e46",
   "metadata": {},
   "outputs": [
    {
     "name": "stdout",
     "output_type": "stream",
     "text": [
      "Number of features  = 6\n"
     ]
    }
   ],
   "source": [
    "print(f\"Number of features  = {len(S.columns)-1}\")"
   ]
  },
  {
   "cell_type": "code",
   "execution_count": 4,
   "id": "08f7933c",
   "metadata": {},
   "outputs": [
    {
     "name": "stdout",
     "output_type": "stream",
     "text": [
      "Does # of features = d  = False\n"
     ]
    }
   ],
   "source": [
    "print(f\"Does # of features = d  = {not S.dropna().empty}\")"
   ]
  },
  {
   "cell_type": "code",
   "execution_count": 5,
   "id": "43126f2d",
   "metadata": {},
   "outputs": [
    {
     "name": "stdout",
     "output_type": "stream",
     "text": [
      "d of  = 5\n"
     ]
    }
   ],
   "source": [
    "# Count non-NaN values for each row\n",
    "non_nan_counts = S.count(axis=1)\n",
    "\n",
    "# Find the index\n",
    "max_non_nan_row_index = non_nan_counts.idxmax()\n",
    "\n",
    "# Retrieve the row\n",
    "max_non_nan_row = S.loc[max_non_nan_row_index]\n",
    "\n",
    "# Number of non-NaN values in the row\n",
    "max_non_nan_count = non_nan_counts[max_non_nan_row_index]\n",
    "\n",
    "print(f\"d of  = {max_non_nan_count - 1}\") # remove 1 because of last class column"
   ]
  },
  {
   "cell_type": "code",
   "execution_count": 6,
   "id": "ff9700af",
   "metadata": {},
   "outputs": [
    {
     "name": "stdout",
     "output_type": "stream",
     "text": [
      "Length of Node Cover for AR = 5\n"
     ]
    }
   ],
   "source": [
    "P = S\n",
    "P_plus = SPlus(P)\n",
    "B = NCover(P_plus)\n",
    "print(f\"Length of Node Cover for AR = {len(B)}\")"
   ]
  },
  {
   "cell_type": "code",
   "execution_count": 7,
   "id": "9ffbe9af",
   "metadata": {},
   "outputs": [
    {
     "name": "stdout",
     "output_type": "stream",
     "text": [
      "Length of Node Cover for SR = 5\n"
     ]
    }
   ],
   "source": [
    "P = R_SR(S)\n",
    "P_plus = SPlus(P)\n",
    "B = NCover(P_plus)\n",
    "print(f\"Length of Node Cover for SR = {len(B)}\")"
   ]
  },
  {
   "cell_type": "code",
   "execution_count": 8,
   "id": "1fb15c74",
   "metadata": {},
   "outputs": [
    {
     "name": "stdout",
     "output_type": "stream",
     "text": [
      "Length of Node Cover for AD = 5\n"
     ]
    }
   ],
   "source": [
    "P = R_AD(S)\n",
    "P_plus = SPlus(P)\n",
    "B = NCover(P_plus)\n",
    "print(f\"Length of Node Cover for AD = {len(B)}\")"
   ]
  },
  {
   "cell_type": "code",
   "execution_count": 9,
   "id": "05ba893e",
   "metadata": {},
   "outputs": [
    {
     "name": "stdout",
     "output_type": "stream",
     "text": [
      "Length of Node Cover greedy for AR = 1\n"
     ]
    }
   ],
   "source": [
    "P = S\n",
    "P_plus = SPlus(P)\n",
    "B = NGreedy(P_plus)\n",
    "print(f\"Length of Node Cover greedy for AR = {len(B)}\")"
   ]
  },
  {
   "cell_type": "code",
   "execution_count": 10,
   "id": "415b30d6",
   "metadata": {},
   "outputs": [
    {
     "name": "stdout",
     "output_type": "stream",
     "text": [
      "Length of Node Cover greedy for SR = 1\n"
     ]
    }
   ],
   "source": [
    "P = R_SR(S)\n",
    "P_plus = SPlus(P)\n",
    "B = NGreedy(P_plus)\n",
    "print(f\"Length of Node Cover greedy for SR = {len(B)}\")"
   ]
  },
  {
   "cell_type": "code",
   "execution_count": 11,
   "id": "5121a9b5",
   "metadata": {},
   "outputs": [
    {
     "name": "stdout",
     "output_type": "stream",
     "text": [
      "Length of Node Cover greedy for AD = 1\n"
     ]
    }
   ],
   "source": [
    "P = R_AD(S)\n",
    "P_plus = SPlus(P)\n",
    "B = NGreedy(P_plus)\n",
    "print(f\"Length of Node Cover greedy for AD = {len(B)}\")"
   ]
  },
  {
   "cell_type": "code",
   "execution_count": null,
   "id": "19905150",
   "metadata": {},
   "outputs": [],
   "source": []
  },
  {
   "cell_type": "markdown",
   "id": "b840eb17",
   "metadata": {},
   "source": [
    "# Dynamic Programming"
   ]
  },
  {
   "cell_type": "code",
   "execution_count": 12,
   "id": "a6702e8e",
   "metadata": {},
   "outputs": [
    {
     "name": "stdout",
     "output_type": "stream",
     "text": [
      "DP AR = 6\n"
     ]
    }
   ],
   "source": [
    "alg = DynamicProgrammingAlgorithms(C=\"AR\")\n",
    "depth = alg.A_DP(S)\n",
    "print(f\"DP AR = {depth}\")"
   ]
  },
  {
   "cell_type": "code",
   "execution_count": 13,
   "id": "3ffad308",
   "metadata": {},
   "outputs": [
    {
     "name": "stdout",
     "output_type": "stream",
     "text": [
      "DP EAR = 6\n"
     ]
    }
   ],
   "source": [
    "alg = DynamicProgrammingAlgorithms(C=\"EAR\")\n",
    "depth = alg.A_DP(S)\n",
    "print(f\"DP EAR = {depth}\")"
   ]
  },
  {
   "cell_type": "code",
   "execution_count": 14,
   "id": "b2d6cf02",
   "metadata": {},
   "outputs": [
    {
     "name": "stdout",
     "output_type": "stream",
     "text": [
      "DP SR = 6\n"
     ]
    }
   ],
   "source": [
    "alg = DynamicProgrammingAlgorithms(C=\"SR\")\n",
    "depth = alg.A_DP(S)\n",
    "print(f\"DP SR = {depth}\")"
   ]
  },
  {
   "cell_type": "code",
   "execution_count": 15,
   "id": "9f70f2a3",
   "metadata": {},
   "outputs": [
    {
     "name": "stdout",
     "output_type": "stream",
     "text": [
      "DP ESR = 6\n"
     ]
    }
   ],
   "source": [
    "alg = DynamicProgrammingAlgorithms(C=\"ESR\")\n",
    "depth = alg.A_DP(S)\n",
    "print(f\"DP ESR = {depth}\")"
   ]
  },
  {
   "cell_type": "code",
   "execution_count": 16,
   "id": "2df19cc7",
   "metadata": {},
   "outputs": [
    {
     "name": "stdout",
     "output_type": "stream",
     "text": [
      "DP AD = 6\n"
     ]
    }
   ],
   "source": [
    "alg = DynamicProgrammingAlgorithms(C=\"AD\")\n",
    "depth = alg.A_DP(S)\n",
    "print(f\"DP AD = {depth}\")"
   ]
  },
  {
   "cell_type": "code",
   "execution_count": 17,
   "id": "8591e553",
   "metadata": {},
   "outputs": [
    {
     "name": "stdout",
     "output_type": "stream",
     "text": [
      "DP EAD = 6\n"
     ]
    }
   ],
   "source": [
    "alg = DynamicProgrammingAlgorithms(C=\"EAD\")\n",
    "depth = alg.A_DP(S)\n",
    "print(f\"DP EAD = {depth}\")"
   ]
  },
  {
   "cell_type": "markdown",
   "id": "1ebab606",
   "metadata": {},
   "source": [
    "# Combinations"
   ]
  },
  {
   "cell_type": "code",
   "execution_count": 18,
   "id": "10dd4be6",
   "metadata": {},
   "outputs": [],
   "source": [
    "# Possible values for each featue\n",
    "buying_values = ['vhigh','high','med','low']\n",
    "maint_values = ['vhigh','high','med','low']\n",
    "doors_values = ['2','3','4','5more']\n",
    "persons_values = ['2','4','more'] \n",
    "lug_boot_values = ['small', 'med', 'big']\n",
    "safety_values = ['high','med','low']\n",
    "\n",
    "# All possible combinations\n",
    "combinations = list(itertools.product(buying_values, maint_values, doors_values, persons_values, lug_boot_values, safety_values))\n"
   ]
  },
  {
   "cell_type": "code",
   "execution_count": 19,
   "id": "6d57a975",
   "metadata": {},
   "outputs": [],
   "source": [
    "# Possible values for each featue\n",
    "buying_values = ['vhigh','high','med','low', \"*\"]\n",
    "maint_values = ['vhigh','high','med','low', \"*\"]\n",
    "doors_values = ['2','3','4','5more', \"*\"]\n",
    "persons_values = ['2','4','more', \"*\"] \n",
    "lug_boot_values = ['small', 'med', 'big', \"*\"]\n",
    "safety_values = ['high','med','low', \"*\"]\n",
    "\n",
    "# All possible combinations\n",
    "extended_combinations = list(itertools.product(buying_values, maint_values, doors_values, persons_values, lug_boot_values, safety_values))\n"
   ]
  },
  {
   "cell_type": "markdown",
   "id": "d768c796",
   "metadata": {},
   "source": [
    "# Node Cover"
   ]
  },
  {
   "cell_type": "code",
   "execution_count": 20,
   "id": "096a6f44",
   "metadata": {},
   "outputs": [
    {
     "name": "stderr",
     "output_type": "stream",
     "text": [
      "100%|██████████████████████████████████████| 1728/1728 [00:08<00:00, 197.98it/s]"
     ]
    },
    {
     "name": "stdout",
     "output_type": "stream",
     "text": [
      "NC AR\n",
      "(Max Depth, Min Depth, Average Depth) = (6, 5, 5.381944444444445)\n"
     ]
    },
    {
     "name": "stderr",
     "output_type": "stream",
     "text": [
      "\n"
     ]
    }
   ],
   "source": [
    "depths = []\n",
    "\n",
    "for comb in tqdm(combinations):\n",
    "    #creating delta\n",
    "    delta = pd.DataFrame(\n",
    "    [[comb[0], comb[1], comb[2], comb[3], comb[4], comb[5]]],\n",
    "    columns=['buying','maint','doors','persons', 'lug_boot', 'safety'])\n",
    "    \n",
    "    delta = delta.loc[0]\n",
    "    \n",
    "    alg = A_C_N(C=\"AR\", N=\"cover\")\n",
    "    \n",
    "    depth, _ = alg.solve(S, delta=delta)\n",
    "    \n",
    "    depths.append(depth)\n",
    "    \n",
    "print(\"NC AR\")    \n",
    "print(\"(Max Depth, Min Depth, Average Depth) =\", (max(depths), min(depths), sum(depths)/len(depths)))"
   ]
  },
  {
   "cell_type": "code",
   "execution_count": 21,
   "id": "5749e99a",
   "metadata": {},
   "outputs": [
    {
     "name": "stderr",
     "output_type": "stream",
     "text": [
      "100%|██████████████████████████████████████| 8000/8000 [00:38<00:00, 209.47it/s]"
     ]
    },
    {
     "name": "stdout",
     "output_type": "stream",
     "text": [
      "NC EAR\n",
      "(Max Depth, Min Depth, Average Depth) = (6, 5, 5.2825)\n"
     ]
    },
    {
     "name": "stderr",
     "output_type": "stream",
     "text": [
      "\n"
     ]
    }
   ],
   "source": [
    "depths = []\n",
    "\n",
    "for comb in tqdm(extended_combinations):\n",
    "    #creating delta\n",
    "    delta = pd.DataFrame(\n",
    "    [[comb[0], comb[1], comb[2], comb[3], comb[4], comb[5]]],\n",
    "    columns=['buying','maint','doors','persons', 'lug_boot', 'safety'])\n",
    "    \n",
    "    delta = delta.loc[0]\n",
    "    \n",
    "    alg = A_C_N(C=\"EAR\", N=\"cover\")\n",
    "    \n",
    "    depth, _ = alg.solve(S, delta=delta)\n",
    "    \n",
    "    depths.append(depth)\n",
    "    \n",
    "print(\"NC EAR\")    \n",
    "print(\"(Max Depth, Min Depth, Average Depth) =\", (max(depths), min(depths), sum(depths)/len(depths)))"
   ]
  },
  {
   "cell_type": "code",
   "execution_count": 22,
   "id": "1852af5e",
   "metadata": {},
   "outputs": [
    {
     "name": "stderr",
     "output_type": "stream",
     "text": [
      "100%|██████████████████████████████████████| 1728/1728 [00:14<00:00, 118.80it/s]"
     ]
    },
    {
     "name": "stdout",
     "output_type": "stream",
     "text": [
      "NC SR\n",
      "(Max Depth, Min Depth, Average Depth) = (6, 5, 5.199074074074074)\n"
     ]
    },
    {
     "name": "stderr",
     "output_type": "stream",
     "text": [
      "\n"
     ]
    }
   ],
   "source": [
    "depths = []\n",
    "\n",
    "for comb in tqdm(combinations):\n",
    "    #creating delta\n",
    "    delta = pd.DataFrame(\n",
    "    [[comb[0], comb[1], comb[2], comb[3], comb[4], comb[5]]],\n",
    "    columns=['buying','maint','doors','persons', 'lug_boot', 'safety'])\n",
    "    \n",
    "    delta = delta.loc[0]\n",
    "    \n",
    "    alg = A_C_N(C=\"SR\", N=\"cover\")\n",
    "    \n",
    "    depth, _ = alg.solve(S, delta=delta)\n",
    "    \n",
    "    depths.append(depth)\n",
    "    \n",
    "print(\"NC SR\")    \n",
    "print(\"(Max Depth, Min Depth, Average Depth) =\", (max(depths), min(depths), sum(depths)/len(depths)))"
   ]
  },
  {
   "cell_type": "code",
   "execution_count": 23,
   "id": "abea4eb6",
   "metadata": {},
   "outputs": [
    {
     "name": "stderr",
     "output_type": "stream",
     "text": [
      "100%|██████████████████████████████████████| 8000/8000 [01:05<00:00, 121.58it/s]"
     ]
    },
    {
     "name": "stdout",
     "output_type": "stream",
     "text": [
      "NC ESR\n",
      "(Max Depth, Min Depth, Average Depth) = (6, 5, 5.174375)\n"
     ]
    },
    {
     "name": "stderr",
     "output_type": "stream",
     "text": [
      "\n"
     ]
    }
   ],
   "source": [
    "depths = []\n",
    "\n",
    "for comb in tqdm(extended_combinations):\n",
    "    #creating delta\n",
    "    delta = pd.DataFrame(\n",
    "    [[comb[0], comb[1], comb[2], comb[3], comb[4], comb[5]]],\n",
    "    columns=['buying','maint','doors','persons', 'lug_boot', 'safety'])\n",
    "    \n",
    "    delta = delta.loc[0]\n",
    "    \n",
    "    alg = A_C_N(C=\"ESR\", N=\"cover\")\n",
    "    \n",
    "    depth, _ = alg.solve(S, delta=delta)\n",
    "    \n",
    "    depths.append(depth)\n",
    "    \n",
    "print(\"NC ESR\")    \n",
    "print(\"(Max Depth, Min Depth, Average Depth) =\", (max(depths), min(depths), sum(depths)/len(depths)))"
   ]
  },
  {
   "cell_type": "code",
   "execution_count": 24,
   "id": "ff2f6812",
   "metadata": {},
   "outputs": [
    {
     "name": "stderr",
     "output_type": "stream",
     "text": [
      "100%|██████████████████████████████████████| 1728/1728 [00:12<00:00, 141.65it/s]"
     ]
    },
    {
     "name": "stdout",
     "output_type": "stream",
     "text": [
      "NC AD\n",
      "(Max Depth, Min Depth, Average Depth) = (6, 5, 5.229166666666667)\n"
     ]
    },
    {
     "name": "stderr",
     "output_type": "stream",
     "text": [
      "\n"
     ]
    }
   ],
   "source": [
    "depths = []\n",
    "\n",
    "for comb in tqdm(combinations):\n",
    "    #creating delta\n",
    "    delta = pd.DataFrame(\n",
    "    [[comb[0], comb[1], comb[2], comb[3], comb[4], comb[5]]],\n",
    "    columns=['buying','maint','doors','persons', 'lug_boot', 'safety'])\n",
    "    \n",
    "    delta = delta.loc[0]\n",
    "    \n",
    "    alg = A_C_N(C=\"AD\", N=\"cover\")\n",
    "    \n",
    "    depth, _ = alg.solve(S, delta=delta)\n",
    "    \n",
    "    depths.append(depth)\n",
    "    \n",
    "print(\"NC AD\")    \n",
    "print(\"(Max Depth, Min Depth, Average Depth) =\", (max(depths), min(depths), sum(depths)/len(depths)))"
   ]
  },
  {
   "cell_type": "code",
   "execution_count": 25,
   "id": "b89b747f",
   "metadata": {},
   "outputs": [
    {
     "name": "stderr",
     "output_type": "stream",
     "text": [
      "100%|██████████████████████████████████████| 8000/8000 [00:54<00:00, 145.50it/s]"
     ]
    },
    {
     "name": "stdout",
     "output_type": "stream",
     "text": [
      "NC EAD\n",
      "(Max Depth, Min Depth, Average Depth) = (6, 5, 5.1875)\n"
     ]
    },
    {
     "name": "stderr",
     "output_type": "stream",
     "text": [
      "\n"
     ]
    }
   ],
   "source": [
    "depths = []\n",
    "\n",
    "for comb in tqdm(extended_combinations):\n",
    "    #creating delta\n",
    "    delta = pd.DataFrame(\n",
    "    [[comb[0], comb[1], comb[2], comb[3], comb[4], comb[5]]],\n",
    "    columns=['buying','maint','doors','persons', 'lug_boot', 'safety'])\n",
    "    \n",
    "    delta = delta.loc[0]\n",
    "    \n",
    "    alg = A_C_N(C=\"EAD\", N=\"cover\")\n",
    "    \n",
    "    depth, _ = alg.solve(S, delta=delta)\n",
    "    \n",
    "    depths.append(depth)\n",
    "    \n",
    "print(\"NC EAD\")    \n",
    "print(\"(Max Depth, Min Depth, Average Depth) =\", (max(depths), min(depths), sum(depths)/len(depths)))"
   ]
  },
  {
   "cell_type": "markdown",
   "id": "746057ad",
   "metadata": {},
   "source": [
    "# Node Cover Greedy"
   ]
  },
  {
   "cell_type": "code",
   "execution_count": 26,
   "id": "6077f62e",
   "metadata": {},
   "outputs": [
    {
     "name": "stderr",
     "output_type": "stream",
     "text": [
      "100%|███████████████████████████████████████| 1728/1728 [00:21<00:00, 81.33it/s]"
     ]
    },
    {
     "name": "stdout",
     "output_type": "stream",
     "text": [
      "NCgreedy AR\n",
      "(Max Depth, Min Depth, Average Depth) = (6, 4, 4.692708333333333)\n"
     ]
    },
    {
     "name": "stderr",
     "output_type": "stream",
     "text": [
      "\n"
     ]
    }
   ],
   "source": [
    "depths = []\n",
    "\n",
    "for comb in tqdm(combinations):\n",
    "    #creating delta\n",
    "    delta = pd.DataFrame(\n",
    "    [[comb[0], comb[1], comb[2], comb[3], comb[4], comb[5]]],\n",
    "    columns=['buying','maint','doors','persons', 'lug_boot', 'safety'])\n",
    "    \n",
    "    delta = delta.loc[0]\n",
    "    \n",
    "    alg = A_C_N(C=\"AR\", N=\"greedy\")\n",
    "    \n",
    "    depth, _ = alg.solve(S, delta=delta)\n",
    "    \n",
    "    depths.append(depth)\n",
    "    \n",
    "print(\"NCgreedy AR\")    \n",
    "print(\"(Max Depth, Min Depth, Average Depth) =\", (max(depths), min(depths), sum(depths)/len(depths)))"
   ]
  },
  {
   "cell_type": "code",
   "execution_count": 27,
   "id": "89ecb7d8",
   "metadata": {},
   "outputs": [
    {
     "name": "stderr",
     "output_type": "stream",
     "text": [
      "100%|███████████████████████████████████████| 8000/8000 [01:34<00:00, 84.89it/s]"
     ]
    },
    {
     "name": "stdout",
     "output_type": "stream",
     "text": [
      "NCgreedy EAR\n",
      "(Max Depth, Min Depth, Average Depth) = (6, 4, 4.562)\n"
     ]
    },
    {
     "name": "stderr",
     "output_type": "stream",
     "text": [
      "\n"
     ]
    }
   ],
   "source": [
    "depths = []\n",
    "\n",
    "for comb in tqdm(extended_combinations):\n",
    "    #creating delta\n",
    "    delta = pd.DataFrame(\n",
    "    [[comb[0], comb[1], comb[2], comb[3], comb[4], comb[5]]],\n",
    "    columns=['buying','maint','doors','persons', 'lug_boot', 'safety'])\n",
    "    \n",
    "    delta = delta.loc[0]\n",
    "    \n",
    "    alg = A_C_N(C=\"EAR\", N=\"greedy\")\n",
    "    \n",
    "    depth, _ = alg.solve(S, delta=delta)\n",
    "    \n",
    "    depths.append(depth)\n",
    "    \n",
    "print(\"NCgreedy EAR\")    \n",
    "print(\"(Max Depth, Min Depth, Average Depth) =\", (max(depths), min(depths), sum(depths)/len(depths)))"
   ]
  },
  {
   "cell_type": "code",
   "execution_count": 28,
   "id": "b325df31",
   "metadata": {},
   "outputs": [
    {
     "name": "stderr",
     "output_type": "stream",
     "text": [
      "100%|███████████████████████████████████████| 1728/1728 [00:30<00:00, 56.09it/s]"
     ]
    },
    {
     "name": "stdout",
     "output_type": "stream",
     "text": [
      "NCgreedy SR\n",
      "(Max Depth, Min Depth, Average Depth) = (6, 2, 4.498263888888889)\n"
     ]
    },
    {
     "name": "stderr",
     "output_type": "stream",
     "text": [
      "\n"
     ]
    }
   ],
   "source": [
    "depths = []\n",
    "\n",
    "for comb in tqdm(combinations):\n",
    "    #creating delta\n",
    "    delta = pd.DataFrame(\n",
    "    [[comb[0], comb[1], comb[2], comb[3], comb[4], comb[5]]],\n",
    "    columns=['buying','maint','doors','persons', 'lug_boot', 'safety'])\n",
    "    \n",
    "    delta = delta.loc[0]\n",
    "    \n",
    "    alg = A_C_N(C=\"SR\", N=\"greedy\")\n",
    "    \n",
    "    depth, _ = alg.solve(S, delta=delta)\n",
    "    \n",
    "    depths.append(depth)\n",
    "    \n",
    "print(\"NCgreedy SR\")    \n",
    "print(\"(Max Depth, Min Depth, Average Depth) =\", (max(depths), min(depths), sum(depths)/len(depths)))"
   ]
  },
  {
   "cell_type": "code",
   "execution_count": 29,
   "id": "3809221a",
   "metadata": {},
   "outputs": [
    {
     "name": "stderr",
     "output_type": "stream",
     "text": [
      "100%|███████████████████████████████████████| 8000/8000 [02:18<00:00, 57.95it/s]"
     ]
    },
    {
     "name": "stdout",
     "output_type": "stream",
     "text": [
      "NCgreedy ESR\n",
      "(Max Depth, Min Depth, Average Depth) = (6, 2, 4.4395)\n"
     ]
    },
    {
     "name": "stderr",
     "output_type": "stream",
     "text": [
      "\n"
     ]
    }
   ],
   "source": [
    "depths = []\n",
    "\n",
    "for comb in tqdm(extended_combinations):\n",
    "    #creating delta\n",
    "    delta = pd.DataFrame(\n",
    "    [[comb[0], comb[1], comb[2], comb[3], comb[4], comb[5]]],\n",
    "    columns=['buying','maint','doors','persons', 'lug_boot', 'safety'])\n",
    "    \n",
    "    delta = delta.loc[0]\n",
    "    \n",
    "    alg = A_C_N(C=\"ESR\", N=\"greedy\")\n",
    "    \n",
    "    depth, _ = alg.solve(S, delta=delta)\n",
    "    \n",
    "    depths.append(depth)\n",
    "    \n",
    "print(\"NCgreedy ESR\")    \n",
    "print(\"(Max Depth, Min Depth, Average Depth) =\", (max(depths), min(depths), sum(depths)/len(depths)))"
   ]
  },
  {
   "cell_type": "code",
   "execution_count": 30,
   "id": "01b60a81",
   "metadata": {},
   "outputs": [
    {
     "name": "stderr",
     "output_type": "stream",
     "text": [
      "100%|███████████████████████████████████████| 1728/1728 [00:26<00:00, 64.28it/s]"
     ]
    },
    {
     "name": "stdout",
     "output_type": "stream",
     "text": [
      "NCgreedy AD\n",
      "(Max Depth, Min Depth, Average Depth) = (6, 2, 4.498263888888889)\n"
     ]
    },
    {
     "name": "stderr",
     "output_type": "stream",
     "text": [
      "\n"
     ]
    }
   ],
   "source": [
    "depths = []\n",
    "\n",
    "for comb in tqdm(combinations):\n",
    "    #creating delta\n",
    "    delta = pd.DataFrame(\n",
    "    [[comb[0], comb[1], comb[2], comb[3], comb[4], comb[5]]],\n",
    "    columns=['buying','maint','doors','persons', 'lug_boot', 'safety'])\n",
    "    \n",
    "    delta = delta.loc[0]\n",
    "    \n",
    "    alg = A_C_N(C=\"AD\", N=\"greedy\")\n",
    "    \n",
    "    depth, _ = alg.solve(S, delta=delta)\n",
    "    \n",
    "    depths.append(depth)\n",
    "    \n",
    "print(\"NCgreedy AD\")    \n",
    "print(\"(Max Depth, Min Depth, Average Depth) =\", (max(depths), min(depths), sum(depths)/len(depths)))"
   ]
  },
  {
   "cell_type": "code",
   "execution_count": 31,
   "id": "dec2d12b",
   "metadata": {},
   "outputs": [
    {
     "name": "stderr",
     "output_type": "stream",
     "text": [
      "100%|███████████████████████████████████████| 8000/8000 [02:01<00:00, 65.99it/s]"
     ]
    },
    {
     "name": "stdout",
     "output_type": "stream",
     "text": [
      "NCgreedy EAD\n",
      "(Max Depth, Min Depth, Average Depth) = (6, 2, 4.4395)\n"
     ]
    },
    {
     "name": "stderr",
     "output_type": "stream",
     "text": [
      "\n"
     ]
    }
   ],
   "source": [
    "depths = []\n",
    "\n",
    "for comb in tqdm(extended_combinations):\n",
    "    #creating delta\n",
    "    delta = pd.DataFrame(\n",
    "    [[comb[0], comb[1], comb[2], comb[3], comb[4], comb[5]]],\n",
    "    columns=['buying','maint','doors','persons', 'lug_boot', 'safety'])\n",
    "    \n",
    "    delta = delta.loc[0]\n",
    "    \n",
    "    alg = A_C_N(C=\"EAD\", N=\"greedy\")\n",
    "    \n",
    "    depth, _ = alg.solve(S, delta=delta)\n",
    "    \n",
    "    depths.append(depth)\n",
    "    \n",
    "print(\"NCgreedy EAD\")    \n",
    "print(\"(Max Depth, Min Depth, Average Depth) =\", (max(depths), min(depths), sum(depths)/len(depths)))"
   ]
  },
  {
   "cell_type": "markdown",
   "id": "24cc2b4d",
   "metadata": {},
   "source": [
    "# Greedy"
   ]
  },
  {
   "cell_type": "code",
   "execution_count": 38,
   "id": "82a54585",
   "metadata": {},
   "outputs": [
    {
     "name": "stderr",
     "output_type": "stream",
     "text": [
      "100%|██████████████████████████████████████| 1728/1728 [00:07<00:00, 226.41it/s]"
     ]
    },
    {
     "name": "stdout",
     "output_type": "stream",
     "text": [
      "Greedy AR\n",
      "(Max Depth, Min Depth, Average Depth) = (6, 3, 3.5190972222222223)\n"
     ]
    },
    {
     "name": "stderr",
     "output_type": "stream",
     "text": [
      "\n"
     ]
    }
   ],
   "source": [
    "depths = []\n",
    "\n",
    "for comb in tqdm(combinations):\n",
    "    #creating delta\n",
    "    delta = pd.DataFrame(\n",
    "    [[comb[0], comb[1], comb[2], comb[3], comb[4], comb[5]]],\n",
    "    columns=['buying','maint','doors','persons', 'lug_boot', 'safety'])\n",
    "    \n",
    "    delta = delta.loc[0]\n",
    "    \n",
    "    alg = A_C_G(C=\"AR\")\n",
    "    \n",
    "    depth, _ = alg.solve(S, delta=delta)\n",
    "    \n",
    "    depths.append(depth)\n",
    "    \n",
    "print(\"Greedy AR\")    \n",
    "print(\"(Max Depth, Min Depth, Average Depth) =\", (max(depths), min(depths), sum(depths)/len(depths)))"
   ]
  },
  {
   "cell_type": "code",
   "execution_count": 33,
   "id": "8e8a0bfd",
   "metadata": {},
   "outputs": [
    {
     "name": "stderr",
     "output_type": "stream",
     "text": [
      "100%|██████████████████████████████████████| 8000/8000 [00:33<00:00, 241.72it/s]"
     ]
    },
    {
     "name": "stdout",
     "output_type": "stream",
     "text": [
      "Greedy EAR\n",
      "(Max Depth, Min Depth, Average Depth) = (6, 3, 3.3595)\n"
     ]
    },
    {
     "name": "stderr",
     "output_type": "stream",
     "text": [
      "\n"
     ]
    }
   ],
   "source": [
    "depths = []\n",
    "\n",
    "for comb in tqdm(extended_combinations):\n",
    "    #creating delta\n",
    "    delta = pd.DataFrame(\n",
    "    [[comb[0], comb[1], comb[2], comb[3], comb[4], comb[5]]],\n",
    "    columns=['buying','maint','doors','persons', 'lug_boot', 'safety'])\n",
    "    \n",
    "    delta = delta.loc[0]\n",
    "    \n",
    "    alg = A_C_G(C=\"EAR\")\n",
    "    \n",
    "    depth, _ = alg.solve(S, delta=delta)\n",
    "    \n",
    "    depths.append(depth)\n",
    "    \n",
    "print(\"Greedy EAR\")    \n",
    "print(\"(Max Depth, Min Depth, Average Depth) =\", (max(depths), min(depths), sum(depths)/len(depths)))"
   ]
  },
  {
   "cell_type": "code",
   "execution_count": 34,
   "id": "2626ff3a",
   "metadata": {},
   "outputs": [
    {
     "name": "stderr",
     "output_type": "stream",
     "text": [
      "100%|██████████████████████████████████████| 1728/1728 [00:15<00:00, 109.14it/s]"
     ]
    },
    {
     "name": "stdout",
     "output_type": "stream",
     "text": [
      "Greedy SR\n",
      "(Max Depth, Min Depth, Average Depth) = (6, 2, 3.017361111111111)\n"
     ]
    },
    {
     "name": "stderr",
     "output_type": "stream",
     "text": [
      "\n"
     ]
    }
   ],
   "source": [
    "depths = []\n",
    "\n",
    "for comb in tqdm(combinations):\n",
    "    #creating delta\n",
    "    delta = pd.DataFrame(\n",
    "    [[comb[0], comb[1], comb[2], comb[3], comb[4], comb[5]]],\n",
    "    columns=['buying','maint','doors','persons', 'lug_boot', 'safety'])\n",
    "    \n",
    "    delta = delta.loc[0]\n",
    "    \n",
    "    alg = A_C_G(C=\"SR\")\n",
    "    \n",
    "    depth, _ = alg.solve(S, delta=delta)\n",
    "    \n",
    "    depths.append(depth)\n",
    "    \n",
    "print(\"Greedy SR\")    \n",
    "print(\"(Max Depth, Min Depth, Average Depth) =\", (max(depths), min(depths), sum(depths)/len(depths)))"
   ]
  },
  {
   "cell_type": "code",
   "execution_count": 35,
   "id": "062104bd",
   "metadata": {},
   "outputs": [
    {
     "name": "stderr",
     "output_type": "stream",
     "text": [
      "100%|██████████████████████████████████████| 8000/8000 [01:10<00:00, 113.46it/s]"
     ]
    },
    {
     "name": "stdout",
     "output_type": "stream",
     "text": [
      "Greedy ESR\n",
      "(Max Depth, Min Depth, Average Depth) = (6, 2, 3.009)\n"
     ]
    },
    {
     "name": "stderr",
     "output_type": "stream",
     "text": [
      "\n"
     ]
    }
   ],
   "source": [
    "depths = []\n",
    "\n",
    "for comb in tqdm(extended_combinations):\n",
    "    #creating delta\n",
    "    delta = pd.DataFrame(\n",
    "    [[comb[0], comb[1], comb[2], comb[3], comb[4], comb[5]]],\n",
    "    columns=['buying','maint','doors','persons', 'lug_boot', 'safety'])\n",
    "    \n",
    "    delta = delta.loc[0]\n",
    "    \n",
    "    alg = A_C_G(C=\"ESR\")\n",
    "    \n",
    "    depth, _ = alg.solve(S, delta=delta)\n",
    "    \n",
    "    depths.append(depth)\n",
    "    \n",
    "print(\"Greedy ESR\")    \n",
    "print(\"(Max Depth, Min Depth, Average Depth) =\", (max(depths), min(depths), sum(depths)/len(depths)))"
   ]
  },
  {
   "cell_type": "code",
   "execution_count": 36,
   "id": "23e5f199",
   "metadata": {},
   "outputs": [
    {
     "name": "stderr",
     "output_type": "stream",
     "text": [
      "100%|██████████████████████████████████████| 1728/1728 [00:12<00:00, 139.46it/s]"
     ]
    },
    {
     "name": "stdout",
     "output_type": "stream",
     "text": [
      "Greedy AD\n",
      "(Max Depth, Min Depth, Average Depth) = (6, 2, 3.0399305555555554)\n"
     ]
    },
    {
     "name": "stderr",
     "output_type": "stream",
     "text": [
      "\n"
     ]
    }
   ],
   "source": [
    "depths = []\n",
    "\n",
    "for comb in tqdm(combinations):\n",
    "    #creating delta\n",
    "    delta = pd.DataFrame(\n",
    "    [[comb[0], comb[1], comb[2], comb[3], comb[4], comb[5]]],\n",
    "    columns=['buying','maint','doors','persons', 'lug_boot', 'safety'])\n",
    "    \n",
    "    delta = delta.loc[0]\n",
    "    \n",
    "    alg = A_C_G(C=\"AD\")\n",
    "    \n",
    "    depth, _ = alg.solve(S, delta=delta)\n",
    "    \n",
    "    depths.append(depth)\n",
    "    \n",
    "print(\"Greedy AD\")    \n",
    "print(\"(Max Depth, Min Depth, Average Depth) =\", (max(depths), min(depths), sum(depths)/len(depths)))"
   ]
  },
  {
   "cell_type": "code",
   "execution_count": 37,
   "id": "8eb3cea0",
   "metadata": {},
   "outputs": [
    {
     "name": "stderr",
     "output_type": "stream",
     "text": [
      "100%|██████████████████████████████████████| 8000/8000 [00:55<00:00, 144.70it/s]"
     ]
    },
    {
     "name": "stdout",
     "output_type": "stream",
     "text": [
      "Greedy EAD\n",
      "(Max Depth, Min Depth, Average Depth) = (6, 2, 3.0195)\n"
     ]
    },
    {
     "name": "stderr",
     "output_type": "stream",
     "text": [
      "\n"
     ]
    }
   ],
   "source": [
    "depths = []\n",
    "\n",
    "for comb in tqdm(extended_combinations):\n",
    "    #creating delta\n",
    "    delta = pd.DataFrame(\n",
    "    [[comb[0], comb[1], comb[2], comb[3], comb[4], comb[5]]],\n",
    "    columns=['buying','maint','doors','persons', 'lug_boot', 'safety'])\n",
    "    \n",
    "    delta = delta.loc[0]\n",
    "    \n",
    "    alg = A_C_G(C=\"EAD\")\n",
    "    \n",
    "    depth, _ = alg.solve(S, delta=delta)\n",
    "    \n",
    "    depths.append(depth)\n",
    "    \n",
    "print(\"Greedy EAD\")    \n",
    "print(\"(Max Depth, Min Depth, Average Depth) =\", (max(depths), min(depths), sum(depths)/len(depths)))"
   ]
  },
  {
   "cell_type": "code",
   "execution_count": null,
   "id": "8e192e71",
   "metadata": {},
   "outputs": [],
   "source": []
  }
 ],
 "metadata": {
  "kernelspec": {
   "display_name": "Python 3 (ipykernel)",
   "language": "python",
   "name": "python3"
  },
  "language_info": {
   "codemirror_mode": {
    "name": "ipython",
    "version": 3
   },
   "file_extension": ".py",
   "mimetype": "text/x-python",
   "name": "python",
   "nbconvert_exporter": "python",
   "pygments_lexer": "ipython3",
   "version": "3.9.12"
  }
 },
 "nbformat": 4,
 "nbformat_minor": 5
}
