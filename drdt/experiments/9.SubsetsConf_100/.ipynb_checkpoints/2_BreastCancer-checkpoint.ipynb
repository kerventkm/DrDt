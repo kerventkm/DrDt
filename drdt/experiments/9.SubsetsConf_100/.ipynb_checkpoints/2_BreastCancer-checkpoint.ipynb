{
 "cells": [
  {
   "cell_type": "code",
   "execution_count": 1,
   "id": "f24488bc",
   "metadata": {},
   "outputs": [],
   "source": [
    "# Libraries\n",
    "import itertools\n",
    "from importlib import resources\n",
    "import pandas as pd\n",
    "import numpy as np\n",
    "from tqdm import tqdm\n",
    "import matplotlib.pyplot as plt\n",
    "import time\n",
    "\n",
    "from drdt.helper_functions import DecisionRuleCreatorFromDecisionTable, Reduction, R_SR, R_AD, SAlphaStep, SPlus, SMax, NCover, NGreedy\n",
    "from drdt.algorithms import DynamicProgrammingAlgorithms, A_C_N, A_C_G\n"
   ]
  },
  {
   "cell_type": "code",
   "execution_count": 2,
   "id": "f0d66ed5",
   "metadata": {},
   "outputs": [],
   "source": [
    "num_features = []\n",
    "len_d = []\n",
    "\n",
    "DP_dpeth = []\n",
    "DP_time = []\n",
    "\n",
    "NC_max = []\n",
    "NC_avg = []\n",
    "NC_time = []\n",
    "\n",
    "NCgreedy_max = []\n",
    "NCgreedy_avg = []\n",
    "NCgreedy_time = []\n",
    "\n",
    "Gr_max = []\n",
    "Gr_avg = []\n",
    "Gr_time = []\n"
   ]
  },
  {
   "cell_type": "code",
   "execution_count": 3,
   "id": "5b2c10dd",
   "metadata": {},
   "outputs": [
    {
     "name": "stderr",
     "output_type": "stream",
     "text": [
      "100%|██████████████████████████████████████| 100/100 [5:13:01<00:00, 187.82s/it]\n"
     ]
    }
   ],
   "source": [
    "for i in tqdm(range(100)):\n",
    "    \n",
    "    #Loading Data\n",
    "    with resources.path('datasets.DecisionRuleSystems', 'DRS_breast_cancer') as dataset_path:\n",
    "        S = pd.read_csv(dataset_path).sample(n=10).applymap(lambda x: str(x) if pd.notnull(x) else x)\n",
    "    S = S.dropna(axis=1, how='all') # Drop the columns with all None\n",
    "    \n",
    "    \n",
    "    #Dataset Analyses\n",
    "    n = len(S.columns)-1\n",
    "    num_features.append(n)\n",
    "\n",
    "    non_nan_counts = S.count(axis=1)\n",
    "    max_non_nan_row_index = non_nan_counts.idxmax()\n",
    "    max_non_nan_row = S.loc[max_non_nan_row_index]\n",
    "    max_non_nan_count = non_nan_counts[max_non_nan_row_index]\n",
    "    d = max_non_nan_count - 1  \n",
    "    len_d.append(d)\n",
    "    \n",
    "    \n",
    "    #Dynamic Programming\n",
    "    start_time = time.time()\n",
    "    alg = DynamicProgrammingAlgorithms(C=\"EAR\")\n",
    "    depth = alg.A_DP(S)\n",
    "    end_time = time.time()\n",
    "    \n",
    "    DP_dpeth.append(depth)\n",
    "    DP_time.append(end_time - start_time)\n",
    "    \n",
    "    \n",
    "    #Combinations\n",
    "    column_values_extension = []\n",
    "    for column in S.columns[:-1]: #ignoring class column\n",
    "        column_values_extension.append(list(S[column].dropna().unique()) + ['*']) \n",
    "    extended_combinations = list(itertools.product(*column_values_extension))\n",
    "    \n",
    "    \n",
    "    #Node Cover\n",
    "    depths = []\n",
    "    start_time = time.time()\n",
    "    for comb in extended_combinations:\n",
    "        delta = pd.DataFrame([list(comb)], columns=list(S.columns[:-1]))\n",
    "        delta = delta.loc[0]\n",
    "        alg = A_C_N(C=\"EAR\", N=\"cover\")\n",
    "        depth, _ = alg.solve(S, delta=delta)\n",
    "        depths.append(depth)\n",
    "    end_time = time.time()\n",
    "    \n",
    "    NC_max.append(max(depths))\n",
    "    NC_avg.append(sum(depths)/len(depths))\n",
    "    NC_time.append(end_time - start_time)\n",
    "    \n",
    "    \n",
    "    #Node Cover Greedy\n",
    "    depths = []\n",
    "    start_time = time.time()\n",
    "    for comb in extended_combinations:\n",
    "        delta = pd.DataFrame([list(comb)], columns=list(S.columns[:-1]))\n",
    "        delta = delta.loc[0]\n",
    "        alg = A_C_N(C=\"EAR\", N=\"greedy\")\n",
    "        depth, _ = alg.solve(S, delta=delta)\n",
    "        depths.append(depth)\n",
    "    end_time = time.time()\n",
    "\n",
    "    NCgreedy_max.append(max(depths))\n",
    "    NCgreedy_avg.append(sum(depths)/len(depths))\n",
    "    NCgreedy_time.append(end_time - start_time)\n",
    "    \n",
    "    \n",
    "    #Greedy\n",
    "    depths = []\n",
    "    start_time = time.time()\n",
    "    for comb in extended_combinations:\n",
    "        delta = pd.DataFrame([list(comb)], columns=list(S.columns[:-1]))\n",
    "        delta = delta.loc[0]\n",
    "        alg = A_C_G(C=\"EAR\")\n",
    "        depth, _ = alg.solve(S, delta=delta)\n",
    "        depths.append(depth)\n",
    "    end_time = time.time()\n",
    "\n",
    "    Gr_max.append(max(depths))\n",
    "    Gr_avg.append(sum(depths)/len(depths))\n",
    "    Gr_time.append(end_time - start_time)\n",
    "    "
   ]
  },
  {
   "cell_type": "code",
   "execution_count": 4,
   "id": "b93d31c6",
   "metadata": {},
   "outputs": [
    {
     "name": "stdout",
     "output_type": "stream",
     "text": [
      "DP - (Depth_avg, Time_avg) = (6.15, 62.034584107398985)\n"
     ]
    }
   ],
   "source": [
    "print(\"DP - (Depth_avg, Time_avg) =\", (sum(DP_dpeth)/len(DP_dpeth), sum(DP_time)/len(DP_time)))\n"
   ]
  },
  {
   "cell_type": "code",
   "execution_count": 5,
   "id": "26d66cf9",
   "metadata": {},
   "outputs": [
    {
     "name": "stdout",
     "output_type": "stream",
     "text": [
      "NC - (Max_avg, Avg_avg, Time_avg) = (6.86, 5.354599659391535, 32.60653560876846)\n"
     ]
    }
   ],
   "source": [
    "print(\"NC - (Max_avg, Avg_avg, Time_avg) =\", (sum(NC_max)/len(NC_max), sum(NC_avg)/len(NC_avg), sum(NC_time)/len(NC_time)))\n"
   ]
  },
  {
   "cell_type": "code",
   "execution_count": 6,
   "id": "36574c0e",
   "metadata": {},
   "outputs": [
    {
     "name": "stdout",
     "output_type": "stream",
     "text": [
      "NCgreedy - (Max_avg, Avg_avg, Time_avg) = (6.2, 3.7151967272927675, 68.85208949565887)\n"
     ]
    }
   ],
   "source": [
    "print(\"NCgreedy - (Max_avg, Avg_avg, Time_avg) =\", (sum(NCgreedy_max)/len(NCgreedy_max), sum(NCgreedy_avg)/len(NCgreedy_avg), sum(NCgreedy_time)/len(NCgreedy_time)))\n"
   ]
  },
  {
   "cell_type": "code",
   "execution_count": 7,
   "id": "ba76adf9",
   "metadata": {},
   "outputs": [
    {
     "name": "stdout",
     "output_type": "stream",
     "text": [
      "Gr - (Max_avg, Avg_avg, Time_avg) = (6.15, 3.3773352094356257, 24.318168952465058)\n"
     ]
    }
   ],
   "source": [
    "print(\"Gr - (Max_avg, Avg_avg, Time_avg) =\", (sum(Gr_max)/len(Gr_max), sum(Gr_avg)/len(Gr_avg), sum(Gr_time)/len(Gr_time)))\n"
   ]
  },
  {
   "cell_type": "code",
   "execution_count": null,
   "id": "48ac2e6c",
   "metadata": {},
   "outputs": [],
   "source": []
  }
 ],
 "metadata": {
  "kernelspec": {
   "display_name": "Python 3 (ipykernel)",
   "language": "python",
   "name": "python3"
  },
  "language_info": {
   "codemirror_mode": {
    "name": "ipython",
    "version": 3
   },
   "file_extension": ".py",
   "mimetype": "text/x-python",
   "name": "python",
   "nbconvert_exporter": "python",
   "pygments_lexer": "ipython3",
   "version": "3.9.12"
  }
 },
 "nbformat": 4,
 "nbformat_minor": 5
}
