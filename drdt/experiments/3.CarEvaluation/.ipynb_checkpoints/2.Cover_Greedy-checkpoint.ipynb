{
 "cells": [
  {
   "cell_type": "code",
   "execution_count": 1,
   "id": "f24488bc",
   "metadata": {},
   "outputs": [],
   "source": [
    "# Libraries\n",
    "import itertools\n",
    "from importlib import resources\n",
    "import pandas as pd\n",
    "import numpy as np\n",
    "from tqdm import tqdm\n",
    "import matplotlib.pyplot as plt\n",
    "import random\n",
    "import time\n",
    "\n",
    "from drdt.helper_functions import DecisionRuleCreatorFromDecisionTable, Reduction, R_SR, R_AD, SAlphaStep, SPlus, SMax, NCover, NGreedy\n",
    "from drdt.algorithms import DynamicProgrammingAlgorithms, A_C_N, A_C_G\n"
   ]
  },
  {
   "cell_type": "markdown",
   "id": "264742fc",
   "metadata": {},
   "source": [
    "# Loading Data"
   ]
  },
  {
   "cell_type": "code",
   "execution_count": 2,
   "id": "f3f5175b",
   "metadata": {},
   "outputs": [
    {
     "name": "stderr",
     "output_type": "stream",
     "text": [
      "/var/folders/06/0m2hb6f927s6rdyhxjrbss740r2h_1/T/ipykernel_87989/2403090655.py:1: DeprecationWarning: path is deprecated. Use files() instead. Refer to https://importlib-resources.readthedocs.io/en/latest/using.html#migrating-from-legacy for migration advice.\n",
      "  with resources.path('datasets.DecisionRuleSystems', 'DRS_car_evaluation') as dataset_path:\n",
      "/var/folders/06/0m2hb6f927s6rdyhxjrbss740r2h_1/T/ipykernel_87989/2403090655.py:2: FutureWarning: DataFrame.applymap has been deprecated. Use DataFrame.map instead.\n",
      "  S = pd.read_csv(dataset_path).applymap(lambda x: str(x) if pd.notnull(x) else x)\n"
     ]
    },
    {
     "data": {
      "text/html": [
       "<div>\n",
       "<style scoped>\n",
       "    .dataframe tbody tr th:only-of-type {\n",
       "        vertical-align: middle;\n",
       "    }\n",
       "\n",
       "    .dataframe tbody tr th {\n",
       "        vertical-align: top;\n",
       "    }\n",
       "\n",
       "    .dataframe thead th {\n",
       "        text-align: right;\n",
       "    }\n",
       "</style>\n",
       "<table border=\"1\" class=\"dataframe\">\n",
       "  <thead>\n",
       "    <tr style=\"text-align: right;\">\n",
       "      <th></th>\n",
       "      <th>buying</th>\n",
       "      <th>maint</th>\n",
       "      <th>doors</th>\n",
       "      <th>persons</th>\n",
       "      <th>lug_boot</th>\n",
       "      <th>safety</th>\n",
       "      <th>class</th>\n",
       "    </tr>\n",
       "  </thead>\n",
       "  <tbody>\n",
       "    <tr>\n",
       "      <th>0</th>\n",
       "      <td>NaN</td>\n",
       "      <td>NaN</td>\n",
       "      <td>NaN</td>\n",
       "      <td>2</td>\n",
       "      <td>NaN</td>\n",
       "      <td>NaN</td>\n",
       "      <td>unacc</td>\n",
       "    </tr>\n",
       "    <tr>\n",
       "      <th>1</th>\n",
       "      <td>NaN</td>\n",
       "      <td>NaN</td>\n",
       "      <td>NaN</td>\n",
       "      <td>2</td>\n",
       "      <td>NaN</td>\n",
       "      <td>NaN</td>\n",
       "      <td>unacc</td>\n",
       "    </tr>\n",
       "    <tr>\n",
       "      <th>2</th>\n",
       "      <td>NaN</td>\n",
       "      <td>NaN</td>\n",
       "      <td>NaN</td>\n",
       "      <td>2</td>\n",
       "      <td>NaN</td>\n",
       "      <td>NaN</td>\n",
       "      <td>unacc</td>\n",
       "    </tr>\n",
       "    <tr>\n",
       "      <th>3</th>\n",
       "      <td>NaN</td>\n",
       "      <td>NaN</td>\n",
       "      <td>NaN</td>\n",
       "      <td>2</td>\n",
       "      <td>NaN</td>\n",
       "      <td>NaN</td>\n",
       "      <td>unacc</td>\n",
       "    </tr>\n",
       "    <tr>\n",
       "      <th>4</th>\n",
       "      <td>NaN</td>\n",
       "      <td>NaN</td>\n",
       "      <td>NaN</td>\n",
       "      <td>2</td>\n",
       "      <td>NaN</td>\n",
       "      <td>NaN</td>\n",
       "      <td>unacc</td>\n",
       "    </tr>\n",
       "    <tr>\n",
       "      <th>...</th>\n",
       "      <td>...</td>\n",
       "      <td>...</td>\n",
       "      <td>...</td>\n",
       "      <td>...</td>\n",
       "      <td>...</td>\n",
       "      <td>...</td>\n",
       "      <td>...</td>\n",
       "    </tr>\n",
       "    <tr>\n",
       "      <th>1723</th>\n",
       "      <td>low</td>\n",
       "      <td>NaN</td>\n",
       "      <td>5more</td>\n",
       "      <td>NaN</td>\n",
       "      <td>NaN</td>\n",
       "      <td>med</td>\n",
       "      <td>good</td>\n",
       "    </tr>\n",
       "    <tr>\n",
       "      <th>1724</th>\n",
       "      <td>low</td>\n",
       "      <td>NaN</td>\n",
       "      <td>NaN</td>\n",
       "      <td>NaN</td>\n",
       "      <td>NaN</td>\n",
       "      <td>high</td>\n",
       "      <td>vgood</td>\n",
       "    </tr>\n",
       "    <tr>\n",
       "      <th>1725</th>\n",
       "      <td>NaN</td>\n",
       "      <td>NaN</td>\n",
       "      <td>NaN</td>\n",
       "      <td>NaN</td>\n",
       "      <td>NaN</td>\n",
       "      <td>low</td>\n",
       "      <td>unacc</td>\n",
       "    </tr>\n",
       "    <tr>\n",
       "      <th>1726</th>\n",
       "      <td>low</td>\n",
       "      <td>NaN</td>\n",
       "      <td>5more</td>\n",
       "      <td>NaN</td>\n",
       "      <td>NaN</td>\n",
       "      <td>med</td>\n",
       "      <td>good</td>\n",
       "    </tr>\n",
       "    <tr>\n",
       "      <th>1727</th>\n",
       "      <td>low</td>\n",
       "      <td>NaN</td>\n",
       "      <td>NaN</td>\n",
       "      <td>NaN</td>\n",
       "      <td>big</td>\n",
       "      <td>NaN</td>\n",
       "      <td>vgood</td>\n",
       "    </tr>\n",
       "  </tbody>\n",
       "</table>\n",
       "<p>1728 rows × 7 columns</p>\n",
       "</div>"
      ],
      "text/plain": [
       "     buying maint  doors persons lug_boot safety  class\n",
       "0       NaN   NaN    NaN       2      NaN    NaN  unacc\n",
       "1       NaN   NaN    NaN       2      NaN    NaN  unacc\n",
       "2       NaN   NaN    NaN       2      NaN    NaN  unacc\n",
       "3       NaN   NaN    NaN       2      NaN    NaN  unacc\n",
       "4       NaN   NaN    NaN       2      NaN    NaN  unacc\n",
       "...     ...   ...    ...     ...      ...    ...    ...\n",
       "1723    low   NaN  5more     NaN      NaN    med   good\n",
       "1724    low   NaN    NaN     NaN      NaN   high  vgood\n",
       "1725    NaN   NaN    NaN     NaN      NaN    low  unacc\n",
       "1726    low   NaN  5more     NaN      NaN    med   good\n",
       "1727    low   NaN    NaN     NaN      big    NaN  vgood\n",
       "\n",
       "[1728 rows x 7 columns]"
      ]
     },
     "execution_count": 2,
     "metadata": {},
     "output_type": "execute_result"
    }
   ],
   "source": [
    "with resources.path('datasets.DecisionRuleSystems', 'DRS_car_evaluation') as dataset_path:\n",
    "    S = pd.read_csv(dataset_path).applymap(lambda x: str(x) if pd.notnull(x) else x)\n",
    "S = S.dropna(axis=1, how='all') # Drop the columns with all None\n",
    "S"
   ]
  },
  {
   "cell_type": "markdown",
   "id": "ba035986",
   "metadata": {},
   "source": [
    "# Dataset Analyses"
   ]
  },
  {
   "cell_type": "code",
   "execution_count": 3,
   "id": "eebe1e46",
   "metadata": {},
   "outputs": [
    {
     "name": "stdout",
     "output_type": "stream",
     "text": [
      "Number of features  = 6\n"
     ]
    }
   ],
   "source": [
    "n = len(S.columns)-1\n",
    "print(f\"Number of features  = {n}\")"
   ]
  },
  {
   "cell_type": "code",
   "execution_count": 4,
   "id": "08f7933c",
   "metadata": {},
   "outputs": [
    {
     "name": "stdout",
     "output_type": "stream",
     "text": [
      "Does # of features = d  = True\n"
     ]
    }
   ],
   "source": [
    "print(f\"Does # of features = d  = {not S.dropna().empty}\")"
   ]
  },
  {
   "cell_type": "code",
   "execution_count": 5,
   "id": "43126f2d",
   "metadata": {},
   "outputs": [
    {
     "name": "stdout",
     "output_type": "stream",
     "text": [
      "d = 6\n"
     ]
    }
   ],
   "source": [
    "# Count non-NaN values for each row\n",
    "non_nan_counts = S.count(axis=1)\n",
    "\n",
    "# Find the index\n",
    "max_non_nan_row_index = non_nan_counts.idxmax()\n",
    "\n",
    "# Retrieve the row\n",
    "max_non_nan_row = S.loc[max_non_nan_row_index]\n",
    "\n",
    "# Number of non-NaN values in the row\n",
    "max_non_nan_count = non_nan_counts[max_non_nan_row_index]\n",
    "\n",
    "d = max_non_nan_count - 1\n",
    "\n",
    "print(f\"d = {d}\") # remove 1 because of last class column"
   ]
  },
  {
   "cell_type": "code",
   "execution_count": 6,
   "id": "ff9700af",
   "metadata": {},
   "outputs": [
    {
     "name": "stdout",
     "output_type": "stream",
     "text": [
      "Length of Node Cover for AR = 6\n"
     ]
    }
   ],
   "source": [
    "P = S\n",
    "P_plus = SPlus(P)\n",
    "B = NCover(P_plus)\n",
    "print(f\"Length of Node Cover for AR = {len(B)}\")"
   ]
  },
  {
   "cell_type": "code",
   "execution_count": 7,
   "id": "9ffbe9af",
   "metadata": {},
   "outputs": [
    {
     "name": "stdout",
     "output_type": "stream",
     "text": [
      "Length of Node Cover for SR = 6\n"
     ]
    }
   ],
   "source": [
    "P = R_SR(S)\n",
    "P_plus = SPlus(P)\n",
    "B = NCover(P_plus)\n",
    "print(f\"Length of Node Cover for SR = {len(B)}\")"
   ]
  },
  {
   "cell_type": "code",
   "execution_count": 8,
   "id": "1fb15c74",
   "metadata": {},
   "outputs": [
    {
     "name": "stdout",
     "output_type": "stream",
     "text": [
      "Length of Node Cover for AD = 6\n"
     ]
    }
   ],
   "source": [
    "P = R_AD(S)\n",
    "P_plus = SPlus(P)\n",
    "B = NCover(P_plus)\n",
    "print(f\"Length of Node Cover for AD = {len(B)}\")"
   ]
  },
  {
   "cell_type": "code",
   "execution_count": 9,
   "id": "05ba893e",
   "metadata": {},
   "outputs": [
    {
     "name": "stdout",
     "output_type": "stream",
     "text": [
      "Length of Node Cover greedy for AR = 1\n"
     ]
    }
   ],
   "source": [
    "P = S\n",
    "P_plus = SPlus(P)\n",
    "B = NGreedy(P_plus)\n",
    "print(f\"Length of Node Cover greedy for AR = {len(B)}\")"
   ]
  },
  {
   "cell_type": "code",
   "execution_count": 10,
   "id": "415b30d6",
   "metadata": {},
   "outputs": [
    {
     "name": "stdout",
     "output_type": "stream",
     "text": [
      "Length of Node Cover greedy for SR = 1\n"
     ]
    }
   ],
   "source": [
    "P = R_SR(S)\n",
    "P_plus = SPlus(P)\n",
    "B = NGreedy(P_plus)\n",
    "print(f\"Length of Node Cover greedy for SR = {len(B)}\")"
   ]
  },
  {
   "cell_type": "code",
   "execution_count": 11,
   "id": "5121a9b5",
   "metadata": {},
   "outputs": [
    {
     "name": "stdout",
     "output_type": "stream",
     "text": [
      "Length of Node Cover greedy for AD = 1\n"
     ]
    }
   ],
   "source": [
    "P = R_AD(S)\n",
    "P_plus = SPlus(P)\n",
    "B = NGreedy(P_plus)\n",
    "print(f\"Length of Node Cover greedy for AD = {len(B)}\")"
   ]
  },
  {
   "cell_type": "markdown",
   "id": "1ebab606",
   "metadata": {},
   "source": [
    "# Combinations"
   ]
  },
  {
   "cell_type": "code",
   "execution_count": 12,
   "id": "10dd4be6",
   "metadata": {},
   "outputs": [
    {
     "name": "stdout",
     "output_type": "stream",
     "text": [
      "Number of Possible combinations = 1728\n"
     ]
    }
   ],
   "source": [
    "column_values = []\n",
    "\n",
    "for column in S.columns[:-1]: #ignoring class column\n",
    "    column_values.append(list(S[column].dropna().unique()))\n",
    "    \n",
    "# All possible combinations    \n",
    "combinations = list(itertools.product(*column_values))\n",
    "\n",
    "print('Number of Possible combinations =', len(combinations))"
   ]
  },
  {
   "cell_type": "code",
   "execution_count": 13,
   "id": "1666906f",
   "metadata": {},
   "outputs": [
    {
     "name": "stdout",
     "output_type": "stream",
     "text": [
      "Number of Possible ext_combinations = 8000\n"
     ]
    }
   ],
   "source": [
    "ext_column_values = []\n",
    "\n",
    "for column in S.columns[:-1]: #ignoring class column\n",
    "    ext_column_values.append(list(S[column].dropna().unique()) + ['*'])\n",
    "    \n",
    "# All possible combinations with extension    \n",
    "ext_combinations = list(itertools.product(*ext_column_values))\n",
    "\n",
    "print('Number of Possible ext_combinations =', len(ext_combinations))"
   ]
  },
  {
   "cell_type": "markdown",
   "id": "d768c796",
   "metadata": {},
   "source": [
    "# Node Cover"
   ]
  },
  {
   "cell_type": "markdown",
   "id": "ff34fb0c-787d-43ad-80fc-06e85bccea24",
   "metadata": {},
   "source": [
    "### AR"
   ]
  },
  {
   "cell_type": "code",
   "execution_count": 14,
   "id": "096a6f44",
   "metadata": {},
   "outputs": [
    {
     "name": "stderr",
     "output_type": "stream",
     "text": [
      "100%|███████████████████████████████████████████████████████████████████████████████████████████████████████████| 1728/1728 [00:02<00:00, 667.32it/s]"
     ]
    },
    {
     "name": "stdout",
     "output_type": "stream",
     "text": [
      "NC AR\n",
      "(Max Depth, Min Depth, Average Depth, Running time) = (6, 6, 6.0, 2.61891508102417)\n"
     ]
    },
    {
     "name": "stderr",
     "output_type": "stream",
     "text": [
      "\n"
     ]
    }
   ],
   "source": [
    "start_time = time.time()\n",
    "\n",
    "depths = []\n",
    "\n",
    "for comb in tqdm(combinations):\n",
    "    #creating delta\n",
    "    delta = pd.DataFrame([list(comb)], columns=list(S.columns[:-1]))\n",
    "    \n",
    "    delta = delta.loc[0]\n",
    "    \n",
    "    alg = A_C_N(C=\"AR\", N=\"cover\")\n",
    "    \n",
    "    depth, _ = alg.solve(S, delta=delta)\n",
    "    \n",
    "    depths.append(depth)\n",
    "\n",
    "end_time = time.time()\n",
    "    \n",
    "print(\"NC AR\")    \n",
    "print(\"(Max Depth, Min Depth, Average Depth, Running time) =\", (max(depths), min(depths), sum(depths)/len(depths), end_time - start_time))"
   ]
  },
  {
   "cell_type": "markdown",
   "id": "a3cf79c0-7df2-4e97-b2e7-283861d08610",
   "metadata": {},
   "source": [
    "### EAR"
   ]
  },
  {
   "cell_type": "code",
   "execution_count": 15,
   "id": "c10ed16d-bfc9-4a21-8e40-ac9465ece5fe",
   "metadata": {},
   "outputs": [
    {
     "name": "stderr",
     "output_type": "stream",
     "text": [
      "100%|███████████████████████████████████████████████████████████████████████████████████████████████████████████| 8000/8000 [00:11<00:00, 692.19it/s]"
     ]
    },
    {
     "name": "stdout",
     "output_type": "stream",
     "text": [
      "NC EAR\n",
      "(Max Depth, Min Depth, Average Depth, Running time) = (6, 6, 6.0, 11.558818101882935)\n"
     ]
    },
    {
     "name": "stderr",
     "output_type": "stream",
     "text": [
      "\n"
     ]
    }
   ],
   "source": [
    "start_time = time.time()\n",
    "\n",
    "depths = []\n",
    "\n",
    "for comb in tqdm(ext_combinations):\n",
    "    #creating delta\n",
    "    delta = pd.DataFrame([list(comb)], columns=list(S.columns[:-1]))\n",
    "    \n",
    "    delta = delta.loc[0]\n",
    "    \n",
    "    alg = A_C_N(C=\"EAR\", N=\"cover\")\n",
    "    \n",
    "    depth, _ = alg.solve(S, delta=delta)\n",
    "    \n",
    "    depths.append(depth)\n",
    "\n",
    "end_time = time.time()\n",
    "    \n",
    "print(\"NC EAR\")    \n",
    "print(\"(Max Depth, Min Depth, Average Depth, Running time) =\", (max(depths), min(depths), sum(depths)/len(depths), end_time - start_time))"
   ]
  },
  {
   "cell_type": "markdown",
   "id": "4d778901-38f5-4d4b-877e-374b49f94925",
   "metadata": {},
   "source": [
    "### SR"
   ]
  },
  {
   "cell_type": "code",
   "execution_count": 16,
   "id": "a3a1d8a9-a541-4530-9730-9d34bf640647",
   "metadata": {},
   "outputs": [
    {
     "name": "stderr",
     "output_type": "stream",
     "text": [
      "100%|████████████████████████████████████████████████████████████████████████████████████████████████████████████| 1728/1728 [02:19<00:00, 12.41it/s]"
     ]
    },
    {
     "name": "stdout",
     "output_type": "stream",
     "text": [
      "NC SR\n",
      "(Max Depth, Min Depth, Average Depth, Running time) = (6, 6, 6.0, 139.26394963264465)\n"
     ]
    },
    {
     "name": "stderr",
     "output_type": "stream",
     "text": [
      "\n"
     ]
    }
   ],
   "source": [
    "start_time = time.time()\n",
    "\n",
    "depths = []\n",
    "\n",
    "for comb in tqdm(combinations):\n",
    "    #creating delta\n",
    "    delta = pd.DataFrame([list(comb)], columns=list(S.columns[:-1]))\n",
    "    \n",
    "    delta = delta.loc[0]\n",
    "    \n",
    "    alg = A_C_N(C=\"SR\", N=\"cover\")\n",
    "    \n",
    "    depth, _ = alg.solve(S, delta=delta)\n",
    "    \n",
    "    depths.append(depth)\n",
    "\n",
    "end_time = time.time()\n",
    "    \n",
    "print(\"NC SR\")    \n",
    "print(\"(Max Depth, Min Depth, Average Depth, Running time) =\", (max(depths), min(depths), sum(depths)/len(depths), end_time - start_time))"
   ]
  },
  {
   "cell_type": "markdown",
   "id": "0ef0fe18-c416-4535-9304-83d8448a9a54",
   "metadata": {},
   "source": [
    "### ESR"
   ]
  },
  {
   "cell_type": "code",
   "execution_count": 17,
   "id": "040eaa78-457e-43fb-8446-6179009bbb94",
   "metadata": {},
   "outputs": [
    {
     "name": "stderr",
     "output_type": "stream",
     "text": [
      "100%|████████████████████████████████████████████████████████████████████████████████████████████████████████████| 8000/8000 [10:41<00:00, 12.48it/s]"
     ]
    },
    {
     "name": "stdout",
     "output_type": "stream",
     "text": [
      "NC ESR\n",
      "(Max Depth, Min Depth, Average Depth, Running time) = (6, 6, 6.0, 641.2415449619293)\n"
     ]
    },
    {
     "name": "stderr",
     "output_type": "stream",
     "text": [
      "\n"
     ]
    }
   ],
   "source": [
    "start_time = time.time()\n",
    "\n",
    "depths = []\n",
    "\n",
    "for comb in tqdm(ext_combinations):\n",
    "    #creating delta\n",
    "    delta = pd.DataFrame([list(comb)], columns=list(S.columns[:-1]))\n",
    "    \n",
    "    delta = delta.loc[0]\n",
    "    \n",
    "    alg = A_C_N(C=\"ESR\", N=\"cover\")\n",
    "    \n",
    "    depth, _ = alg.solve(S, delta=delta)\n",
    "    \n",
    "    depths.append(depth)\n",
    "\n",
    "end_time = time.time()\n",
    "    \n",
    "print(\"NC ESR\")    \n",
    "print(\"(Max Depth, Min Depth, Average Depth, Running time) =\", (max(depths), min(depths), sum(depths)/len(depths), end_time - start_time))"
   ]
  },
  {
   "cell_type": "markdown",
   "id": "6da8973c-b0b3-4ab4-8592-eadc819a9dd3",
   "metadata": {},
   "source": [
    "### AD"
   ]
  },
  {
   "cell_type": "code",
   "execution_count": 18,
   "id": "3a1a05f5-ba94-4c75-b413-98dfd036a75a",
   "metadata": {},
   "outputs": [
    {
     "name": "stderr",
     "output_type": "stream",
     "text": [
      "100%|████████████████████████████████████████████████████████████████████████████████████████████████████████████| 1728/1728 [02:37<00:00, 10.97it/s]"
     ]
    },
    {
     "name": "stdout",
     "output_type": "stream",
     "text": [
      "NC AD\n",
      "(Max Depth, Min Depth, Average Depth, Running time) = (6, 6, 6.0, 157.5863790512085)\n"
     ]
    },
    {
     "name": "stderr",
     "output_type": "stream",
     "text": [
      "\n"
     ]
    }
   ],
   "source": [
    "start_time = time.time()\n",
    "\n",
    "depths = []\n",
    "\n",
    "for comb in tqdm(combinations):\n",
    "    #creating delta\n",
    "    delta = pd.DataFrame([list(comb)], columns=list(S.columns[:-1]))\n",
    "    \n",
    "    delta = delta.loc[0]\n",
    "    \n",
    "    alg = A_C_N(C=\"AD\", N=\"cover\")\n",
    "    \n",
    "    depth, _ = alg.solve(S, delta=delta)\n",
    "    \n",
    "    depths.append(depth)\n",
    "\n",
    "end_time = time.time()\n",
    "    \n",
    "print(\"NC AD\")    \n",
    "print(\"(Max Depth, Min Depth, Average Depth, Running time) =\", (max(depths), min(depths), sum(depths)/len(depths), end_time - start_time))"
   ]
  },
  {
   "cell_type": "markdown",
   "id": "7d6e93ce-d08d-429f-8157-4f3a77f73d14",
   "metadata": {},
   "source": [
    "### EAD"
   ]
  },
  {
   "cell_type": "code",
   "execution_count": 19,
   "id": "c3830a01-67ad-4d31-a602-dce14b9a2621",
   "metadata": {},
   "outputs": [
    {
     "name": "stderr",
     "output_type": "stream",
     "text": [
      "100%|████████████████████████████████████████████████████████████████████████████████████████████████████████████| 8000/8000 [12:21<00:00, 10.79it/s]"
     ]
    },
    {
     "name": "stdout",
     "output_type": "stream",
     "text": [
      "NC EAD\n",
      "(Max Depth, Min Depth, Average Depth, Running time) = (6, 6, 6.0, 741.484806060791)\n"
     ]
    },
    {
     "name": "stderr",
     "output_type": "stream",
     "text": [
      "\n"
     ]
    }
   ],
   "source": [
    "start_time = time.time()\n",
    "\n",
    "depths = []\n",
    "\n",
    "for comb in tqdm(ext_combinations):\n",
    "    #creating delta\n",
    "    delta = pd.DataFrame([list(comb)], columns=list(S.columns[:-1]))\n",
    "    \n",
    "    delta = delta.loc[0]\n",
    "    \n",
    "    alg = A_C_N(C=\"EAD\", N=\"cover\")\n",
    "    \n",
    "    depth, _ = alg.solve(S, delta=delta)\n",
    "    \n",
    "    depths.append(depth)\n",
    "\n",
    "end_time = time.time()\n",
    "    \n",
    "print(\"NC EAD\")    \n",
    "print(\"(Max Depth, Min Depth, Average Depth, Running time) =\", (max(depths), min(depths), sum(depths)/len(depths), end_time - start_time))"
   ]
  },
  {
   "cell_type": "markdown",
   "id": "dcd4aa57-c4a7-4b54-b6d3-9e2f011572ac",
   "metadata": {},
   "source": [
    "# Node Cover Greedy"
   ]
  },
  {
   "cell_type": "markdown",
   "id": "f4f2d8f4-060c-4056-a341-81b9856c2b4f",
   "metadata": {},
   "source": [
    "### AR"
   ]
  },
  {
   "cell_type": "code",
   "execution_count": 20,
   "id": "ab33aec4-cf95-43d7-b6d1-e616010a8b6d",
   "metadata": {},
   "outputs": [
    {
     "name": "stderr",
     "output_type": "stream",
     "text": [
      "100%|████████████████████████████████████████████████████████████████████████████████████████████████████████████| 1728/1728 [00:17<00:00, 97.37it/s]"
     ]
    },
    {
     "name": "stdout",
     "output_type": "stream",
     "text": [
      "NCgreedy AR\n",
      "(Max Depth, Min Depth, Average Depth, Running time) = (6, 6, 6.0, 17.74965190887451)\n"
     ]
    },
    {
     "name": "stderr",
     "output_type": "stream",
     "text": [
      "\n"
     ]
    }
   ],
   "source": [
    "start_time = time.time()\n",
    "\n",
    "depths = []\n",
    "\n",
    "for comb in tqdm(combinations):\n",
    "    #creating delta\n",
    "    delta = pd.DataFrame([list(comb)], columns=list(S.columns[:-1]))\n",
    "    \n",
    "    delta = delta.loc[0]\n",
    "    \n",
    "    alg = A_C_N(C=\"AR\", N=\"greedy\")\n",
    "    \n",
    "    depth, _ = alg.solve(S, delta=delta)\n",
    "    \n",
    "    depths.append(depth)\n",
    "\n",
    "end_time = time.time()\n",
    "    \n",
    "print(\"NCgreedy AR\")    \n",
    "print(\"(Max Depth, Min Depth, Average Depth, Running time) =\", (max(depths), min(depths), sum(depths)/len(depths), end_time - start_time))"
   ]
  },
  {
   "cell_type": "markdown",
   "id": "ab06f898-a180-42c8-8ea5-3b301985fee4",
   "metadata": {},
   "source": [
    "### EAR"
   ]
  },
  {
   "cell_type": "code",
   "execution_count": 21,
   "id": "3e649b43-c510-4631-8539-6b0c0755f757",
   "metadata": {},
   "outputs": [
    {
     "name": "stderr",
     "output_type": "stream",
     "text": [
      "100%|████████████████████████████████████████████████████████████████████████████████████████████████████████████| 8000/8000 [01:20<00:00, 99.83it/s]"
     ]
    },
    {
     "name": "stdout",
     "output_type": "stream",
     "text": [
      "NCgreedy EAR\n",
      "(Max Depth, Min Depth, Average Depth, Running time) = (6, 6, 6.0, 80.13568210601807)\n"
     ]
    },
    {
     "name": "stderr",
     "output_type": "stream",
     "text": [
      "\n"
     ]
    }
   ],
   "source": [
    "start_time = time.time()\n",
    "\n",
    "depths = []\n",
    "\n",
    "for comb in tqdm(ext_combinations):\n",
    "    #creating delta\n",
    "    delta = pd.DataFrame([list(comb)], columns=list(S.columns[:-1]))\n",
    "    \n",
    "    delta = delta.loc[0]\n",
    "    \n",
    "    alg = A_C_N(C=\"EAR\", N=\"greedy\")\n",
    "    \n",
    "    depth, _ = alg.solve(S, delta=delta)\n",
    "    \n",
    "    depths.append(depth)\n",
    "\n",
    "end_time = time.time()\n",
    "    \n",
    "print(\"NCgreedy EAR\")    \n",
    "print(\"(Max Depth, Min Depth, Average Depth, Running time) =\", (max(depths), min(depths), sum(depths)/len(depths), end_time - start_time))"
   ]
  },
  {
   "cell_type": "markdown",
   "id": "9a67dc33-0565-4089-83c8-5de10ecdefbd",
   "metadata": {},
   "source": [
    "### SR"
   ]
  },
  {
   "cell_type": "code",
   "execution_count": 22,
   "id": "58bed578-f2d1-44e1-9683-d6d1c278093d",
   "metadata": {},
   "outputs": [
    {
     "name": "stderr",
     "output_type": "stream",
     "text": [
      "100%|████████████████████████████████████████████████████████████████████████████████████████████████████████████| 1728/1728 [02:30<00:00, 11.50it/s]"
     ]
    },
    {
     "name": "stdout",
     "output_type": "stream",
     "text": [
      "NCgreedy SR\n",
      "(Max Depth, Min Depth, Average Depth, Running time) = (6, 3, 5.394097222222222, 150.25309205055237)\n"
     ]
    },
    {
     "name": "stderr",
     "output_type": "stream",
     "text": [
      "\n"
     ]
    }
   ],
   "source": [
    "start_time = time.time()\n",
    "\n",
    "depths = []\n",
    "\n",
    "for comb in tqdm(combinations):\n",
    "    #creating delta\n",
    "    delta = pd.DataFrame([list(comb)], columns=list(S.columns[:-1]))\n",
    "    \n",
    "    delta = delta.loc[0]\n",
    "    \n",
    "    alg = A_C_N(C=\"SR\", N=\"greedy\")\n",
    "    \n",
    "    depth, _ = alg.solve(S, delta=delta)\n",
    "    \n",
    "    depths.append(depth)\n",
    "\n",
    "end_time = time.time()\n",
    "    \n",
    "print(\"NCgreedy SR\")    \n",
    "print(\"(Max Depth, Min Depth, Average Depth, Running time) =\", (max(depths), min(depths), sum(depths)/len(depths), end_time - start_time))"
   ]
  },
  {
   "cell_type": "markdown",
   "id": "3c40c955-34b2-489a-874d-1bd6e0180acb",
   "metadata": {},
   "source": [
    "### ESR"
   ]
  },
  {
   "cell_type": "code",
   "execution_count": 23,
   "id": "879d6321-6171-4807-8ef8-687fb2d5c45a",
   "metadata": {},
   "outputs": [
    {
     "name": "stderr",
     "output_type": "stream",
     "text": [
      "100%|████████████████████████████████████████████████████████████████████████████████████████████████████████████| 8000/8000 [11:48<00:00, 11.29it/s]"
     ]
    },
    {
     "name": "stdout",
     "output_type": "stream",
     "text": [
      "NCgreedy ESR\n",
      "(Max Depth, Min Depth, Average Depth, Running time) = (6, 3, 5.3485, 708.5899319648743)\n"
     ]
    },
    {
     "name": "stderr",
     "output_type": "stream",
     "text": [
      "\n"
     ]
    }
   ],
   "source": [
    "start_time = time.time()\n",
    "\n",
    "depths = []\n",
    "\n",
    "for comb in tqdm(ext_combinations):\n",
    "    #creating delta\n",
    "    delta = pd.DataFrame([list(comb)], columns=list(S.columns[:-1]))\n",
    "    \n",
    "    delta = delta.loc[0]\n",
    "    \n",
    "    alg = A_C_N(C=\"ESR\", N=\"greedy\")\n",
    "    \n",
    "    depth, _ = alg.solve(S, delta=delta)\n",
    "    \n",
    "    depths.append(depth)\n",
    "\n",
    "end_time = time.time()\n",
    "    \n",
    "print(\"NCgreedy ESR\")    \n",
    "print(\"(Max Depth, Min Depth, Average Depth, Running time) =\", (max(depths), min(depths), sum(depths)/len(depths), end_time - start_time))"
   ]
  },
  {
   "cell_type": "markdown",
   "id": "1bbdeea0-14b7-41f6-aa01-f6d22d8edebb",
   "metadata": {},
   "source": [
    "### AD"
   ]
  },
  {
   "cell_type": "code",
   "execution_count": 24,
   "id": "32696dd9-731d-4efe-93cf-e2251c97c984",
   "metadata": {},
   "outputs": [
    {
     "name": "stderr",
     "output_type": "stream",
     "text": [
      "100%|████████████████████████████████████████████████████████████████████████████████████████████████████████████| 1728/1728 [03:00<00:00,  9.55it/s]"
     ]
    },
    {
     "name": "stdout",
     "output_type": "stream",
     "text": [
      "NCgreedy AD\n",
      "(Max Depth, Min Depth, Average Depth, Running time) = (6, 4, 5.578125, 180.89844918251038)\n"
     ]
    },
    {
     "name": "stderr",
     "output_type": "stream",
     "text": [
      "\n"
     ]
    }
   ],
   "source": [
    "start_time = time.time()\n",
    "\n",
    "depths = []\n",
    "\n",
    "for comb in tqdm(combinations):\n",
    "    #creating delta\n",
    "    delta = pd.DataFrame([list(comb)], columns=list(S.columns[:-1]))\n",
    "    \n",
    "    delta = delta.loc[0]\n",
    "    \n",
    "    alg = A_C_N(C=\"AD\", N=\"greedy\")\n",
    "    \n",
    "    depth, _ = alg.solve(S, delta=delta)\n",
    "    \n",
    "    depths.append(depth)\n",
    "\n",
    "end_time = time.time()\n",
    "    \n",
    "print(\"NCgreedy AD\")    \n",
    "print(\"(Max Depth, Min Depth, Average Depth, Running time) =\", (max(depths), min(depths), sum(depths)/len(depths), end_time - start_time))"
   ]
  },
  {
   "cell_type": "markdown",
   "id": "35171ffa-11fe-42fa-9aca-3721f674fb8a",
   "metadata": {},
   "source": [
    "### EAD"
   ]
  },
  {
   "cell_type": "code",
   "execution_count": 25,
   "id": "206096ef-331d-45f0-be1f-e846a0fbfc25",
   "metadata": {},
   "outputs": [
    {
     "name": "stderr",
     "output_type": "stream",
     "text": [
      "100%|████████████████████████████████████████████████████████████████████████████████████████████████████████████| 8000/8000 [13:32<00:00,  9.85it/s]"
     ]
    },
    {
     "name": "stdout",
     "output_type": "stream",
     "text": [
      "NCgreedy EAD\n",
      "(Max Depth, Min Depth, Average Depth, Running time) = (6, 4, 5.448, 812.1655449867249)\n"
     ]
    },
    {
     "name": "stderr",
     "output_type": "stream",
     "text": [
      "\n"
     ]
    }
   ],
   "source": [
    "start_time = time.time()\n",
    "\n",
    "depths = []\n",
    "\n",
    "for comb in tqdm(ext_combinations):\n",
    "    #creating delta\n",
    "    delta = pd.DataFrame([list(comb)], columns=list(S.columns[:-1]))\n",
    "    \n",
    "    delta = delta.loc[0]\n",
    "    \n",
    "    alg = A_C_N(C=\"EAD\", N=\"greedy\")\n",
    "    \n",
    "    depth, _ = alg.solve(S, delta=delta)\n",
    "    \n",
    "    depths.append(depth)\n",
    "\n",
    "end_time = time.time()\n",
    "    \n",
    "print(\"NCgreedy EAD\")    \n",
    "print(\"(Max Depth, Min Depth, Average Depth, Running time) =\", (max(depths), min(depths), sum(depths)/len(depths), end_time - start_time))"
   ]
  },
  {
   "cell_type": "markdown",
   "id": "bf05c796-8e9c-4897-b2e1-36fecbedc64d",
   "metadata": {},
   "source": [
    "# Greedy"
   ]
  },
  {
   "cell_type": "markdown",
   "id": "4ac79001-8513-461f-9a93-ca46e98e9599",
   "metadata": {},
   "source": [
    "### AR"
   ]
  },
  {
   "cell_type": "code",
   "execution_count": 26,
   "id": "eefecbeb-16ca-4181-b16e-7f16e2341032",
   "metadata": {},
   "outputs": [
    {
     "name": "stderr",
     "output_type": "stream",
     "text": [
      "100%|███████████████████████████████████████████████████████████████████████████████████████████████████████████| 1728/1728 [00:07<00:00, 227.20it/s]"
     ]
    },
    {
     "name": "stdout",
     "output_type": "stream",
     "text": [
      "Greedy AR\n",
      "(Max Depth, Min Depth, Average Depth, Running time) = (6, 5, 5.995949074074074, 7.606796741485596)\n"
     ]
    },
    {
     "name": "stderr",
     "output_type": "stream",
     "text": [
      "\n"
     ]
    }
   ],
   "source": [
    "start_time = time.time()\n",
    "\n",
    "depths = []\n",
    "\n",
    "for comb in tqdm(combinations):\n",
    "    #creating delta\n",
    "    delta = pd.DataFrame([list(comb)], columns=list(S.columns[:-1]))\n",
    "    \n",
    "    delta = delta.loc[0]\n",
    "    \n",
    "    alg = A_C_G(C=\"AR\")\n",
    "    \n",
    "    depth, _ = alg.solve(S, delta=delta)\n",
    "    \n",
    "    depths.append(depth)\n",
    "\n",
    "end_time = time.time()\n",
    "    \n",
    "print(\"Greedy AR\")    \n",
    "print(\"(Max Depth, Min Depth, Average Depth, Running time) =\", (max(depths), min(depths), sum(depths)/len(depths), end_time - start_time))"
   ]
  },
  {
   "cell_type": "markdown",
   "id": "9fe2169a-d163-49dd-8b41-d736f701ed00",
   "metadata": {},
   "source": [
    "### EAR"
   ]
  },
  {
   "cell_type": "code",
   "execution_count": 27,
   "id": "c2b79159-8193-462d-9745-e03b4dfdf42f",
   "metadata": {},
   "outputs": [
    {
     "name": "stderr",
     "output_type": "stream",
     "text": [
      "100%|███████████████████████████████████████████████████████████████████████████████████████████████████████████| 8000/8000 [00:31<00:00, 251.35it/s]"
     ]
    },
    {
     "name": "stdout",
     "output_type": "stream",
     "text": [
      "Greedy EAR\n",
      "(Max Depth, Min Depth, Average Depth, Running time) = (6, 5, 5.85725, 31.828763961791992)\n"
     ]
    },
    {
     "name": "stderr",
     "output_type": "stream",
     "text": [
      "\n"
     ]
    }
   ],
   "source": [
    "start_time = time.time()\n",
    "\n",
    "depths = []\n",
    "\n",
    "for comb in tqdm(ext_combinations):\n",
    "    #creating delta\n",
    "    delta = pd.DataFrame([list(comb)], columns=list(S.columns[:-1]))\n",
    "    \n",
    "    delta = delta.loc[0]\n",
    "    \n",
    "    alg = A_C_G(C=\"EAR\")\n",
    "    \n",
    "    depth, _ = alg.solve(S, delta=delta)\n",
    "    \n",
    "    depths.append(depth)\n",
    "\n",
    "end_time = time.time()\n",
    "    \n",
    "print(\"Greedy EAR\")    \n",
    "print(\"(Max Depth, Min Depth, Average Depth, Running time) =\", (max(depths), min(depths), sum(depths)/len(depths), end_time - start_time))"
   ]
  },
  {
   "cell_type": "markdown",
   "id": "e5926ee8-85ec-40ab-b396-a90d7d9807bd",
   "metadata": {},
   "source": [
    "### SR"
   ]
  },
  {
   "cell_type": "code",
   "execution_count": 28,
   "id": "6ab272ad-bf1a-46b2-a56d-2ff0179ec946",
   "metadata": {},
   "outputs": [
    {
     "name": "stderr",
     "output_type": "stream",
     "text": [
      "100%|████████████████████████████████████████████████████████████████████████████████████████████████████████████| 1728/1728 [02:26<00:00, 11.80it/s]"
     ]
    },
    {
     "name": "stdout",
     "output_type": "stream",
     "text": [
      "Greedy SR\n",
      "(Max Depth, Min Depth, Average Depth, Running time) = (6, 3, 4.605324074074074, 146.40482783317566)\n"
     ]
    },
    {
     "name": "stderr",
     "output_type": "stream",
     "text": [
      "\n"
     ]
    }
   ],
   "source": [
    "start_time = time.time()\n",
    "\n",
    "depths = []\n",
    "\n",
    "for comb in tqdm(combinations):\n",
    "    #creating delta\n",
    "    delta = pd.DataFrame([list(comb)], columns=list(S.columns[:-1]))\n",
    "    \n",
    "    delta = delta.loc[0]\n",
    "    \n",
    "    alg = A_C_G(C=\"SR\")\n",
    "    \n",
    "    depth, _ = alg.solve(S, delta=delta)\n",
    "    \n",
    "    depths.append(depth)\n",
    "\n",
    "end_time = time.time()\n",
    "    \n",
    "print(\"Greedy SR\")    \n",
    "print(\"(Max Depth, Min Depth, Average Depth, Running time) =\", (max(depths), min(depths), sum(depths)/len(depths), end_time - start_time))"
   ]
  },
  {
   "cell_type": "markdown",
   "id": "9b12b0e1-b84b-410d-a776-71e17f24ca89",
   "metadata": {},
   "source": [
    "### ESR"
   ]
  },
  {
   "cell_type": "code",
   "execution_count": 29,
   "id": "54764217-69c3-4bd6-b46e-52265407fede",
   "metadata": {},
   "outputs": [
    {
     "name": "stderr",
     "output_type": "stream",
     "text": [
      "100%|████████████████████████████████████████████████████████████████████████████████████████████████████████████| 8000/8000 [11:12<00:00, 11.90it/s]"
     ]
    },
    {
     "name": "stdout",
     "output_type": "stream",
     "text": [
      "Greedy ESR\n",
      "(Max Depth, Min Depth, Average Depth, Running time) = (6, 3, 4.52775, 672.5529520511627)\n"
     ]
    },
    {
     "name": "stderr",
     "output_type": "stream",
     "text": [
      "\n"
     ]
    }
   ],
   "source": [
    "start_time = time.time()\n",
    "\n",
    "depths = []\n",
    "\n",
    "for comb in tqdm(ext_combinations):\n",
    "    #creating delta\n",
    "    delta = pd.DataFrame([list(comb)], columns=list(S.columns[:-1]))\n",
    "    \n",
    "    delta = delta.loc[0]\n",
    "    \n",
    "    alg = A_C_G(C=\"ESR\")\n",
    "    \n",
    "    depth, _ = alg.solve(S, delta=delta)\n",
    "    \n",
    "    depths.append(depth)\n",
    "\n",
    "end_time = time.time()\n",
    "    \n",
    "print(\"Greedy ESR\")    \n",
    "print(\"(Max Depth, Min Depth, Average Depth, Running time) =\", (max(depths), min(depths), sum(depths)/len(depths), end_time - start_time))"
   ]
  },
  {
   "cell_type": "markdown",
   "id": "cd0c2e18-2ff3-48fc-9688-51d61cf30760",
   "metadata": {},
   "source": [
    "### AD"
   ]
  },
  {
   "cell_type": "code",
   "execution_count": 30,
   "id": "6cde18f1-894f-448f-898a-46c7c43e1e8f",
   "metadata": {},
   "outputs": [
    {
     "name": "stderr",
     "output_type": "stream",
     "text": [
      "100%|████████████████████████████████████████████████████████████████████████████████████████████████████████████| 1728/1728 [02:46<00:00, 10.38it/s]"
     ]
    },
    {
     "name": "stdout",
     "output_type": "stream",
     "text": [
      "Greedy AD\n",
      "(Max Depth, Min Depth, Average Depth, Running time) = (6, 4, 5.238425925925926, 166.52224326133728)\n"
     ]
    },
    {
     "name": "stderr",
     "output_type": "stream",
     "text": [
      "\n"
     ]
    }
   ],
   "source": [
    "start_time = time.time()\n",
    "\n",
    "depths = []\n",
    "\n",
    "for comb in tqdm(combinations):\n",
    "    #creating delta\n",
    "    delta = pd.DataFrame([list(comb)], columns=list(S.columns[:-1]))\n",
    "    \n",
    "    delta = delta.loc[0]\n",
    "    \n",
    "    alg = A_C_G(C=\"AD\")\n",
    "    \n",
    "    depth, _ = alg.solve(S, delta=delta)\n",
    "    \n",
    "    depths.append(depth)\n",
    "\n",
    "end_time = time.time()\n",
    "    \n",
    "print(\"Greedy AD\")    \n",
    "print(\"(Max Depth, Min Depth, Average Depth, Running time) =\", (max(depths), min(depths), sum(depths)/len(depths), end_time - start_time))"
   ]
  },
  {
   "cell_type": "markdown",
   "id": "1c846e8f-3cab-4f1c-b7e3-85c08baebbb0",
   "metadata": {},
   "source": [
    "### EAD"
   ]
  },
  {
   "cell_type": "code",
   "execution_count": 31,
   "id": "32703773-7715-4b28-ba69-5ecbf10975da",
   "metadata": {},
   "outputs": [
    {
     "name": "stderr",
     "output_type": "stream",
     "text": [
      "100%|████████████████████████████████████████████████████████████████████████████████████████████████████████████| 8000/8000 [12:40<00:00, 10.51it/s]"
     ]
    },
    {
     "name": "stdout",
     "output_type": "stream",
     "text": [
      "Greedy EAD\n",
      "(Max Depth, Min Depth, Average Depth, Running time) = (6, 3, 4.83075, 760.8194408416748)\n"
     ]
    },
    {
     "name": "stderr",
     "output_type": "stream",
     "text": [
      "\n"
     ]
    }
   ],
   "source": [
    "start_time = time.time()\n",
    "\n",
    "depths = []\n",
    "\n",
    "for comb in tqdm(ext_combinations):\n",
    "    #creating delta\n",
    "    delta = pd.DataFrame([list(comb)], columns=list(S.columns[:-1]))\n",
    "    \n",
    "    delta = delta.loc[0]\n",
    "    \n",
    "    alg = A_C_G(C=\"EAD\")\n",
    "    \n",
    "    depth, _ = alg.solve(S, delta=delta)\n",
    "    \n",
    "    depths.append(depth)\n",
    "\n",
    "end_time = time.time()\n",
    "    \n",
    "print(\"Greedy EAD\")    \n",
    "print(\"(Max Depth, Min Depth, Average Depth, Running time) =\", (max(depths), min(depths), sum(depths)/len(depths), end_time - start_time))"
   ]
  },
  {
   "cell_type": "code",
   "execution_count": null,
   "id": "521f1725-8b32-491e-b702-0998db9750ff",
   "metadata": {},
   "outputs": [],
   "source": []
  }
 ],
 "metadata": {
  "kernelspec": {
   "display_name": "Python 3 (ipykernel)",
   "language": "python",
   "name": "python3"
  },
  "language_info": {
   "codemirror_mode": {
    "name": "ipython",
    "version": 3
   },
   "file_extension": ".py",
   "mimetype": "text/x-python",
   "name": "python",
   "nbconvert_exporter": "python",
   "pygments_lexer": "ipython3",
   "version": "3.12.4"
  }
 },
 "nbformat": 4,
 "nbformat_minor": 5
}
