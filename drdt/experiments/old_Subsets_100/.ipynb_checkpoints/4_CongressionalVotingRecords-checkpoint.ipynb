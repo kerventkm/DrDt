{
 "cells": [
  {
   "cell_type": "code",
   "execution_count": 1,
   "id": "f24488bc",
   "metadata": {},
   "outputs": [],
   "source": [
    "# Libraries\n",
    "import itertools\n",
    "from importlib import resources\n",
    "from importlib.resources import files\n",
    "import pandas as pd\n",
    "import numpy as np\n",
    "from tqdm import tqdm\n",
    "import matplotlib.pyplot as plt\n",
    "import time\n",
    "from concurrent.futures import ThreadPoolExecutor, TimeoutError\n",
    "\n",
    "from drdt.helper_functions import DecisionRuleCreatorFromDecisionTable, Reduction, R_SR, R_AD, SAlphaStep, SPlus, SMax, NCover, NGreedy\n",
    "from drdt.algorithms import DynamicProgrammingAlgorithms, A_C_N, A_C_G\n"
   ]
  },
  {
   "cell_type": "code",
   "execution_count": 2,
   "id": "f0d66ed5",
   "metadata": {},
   "outputs": [],
   "source": [
    "num_features = []\n",
    "len_d = []\n",
    "\n",
    "DP_depth = []\n",
    "DP_time = []\n",
    "\n",
    "NC_max = []\n",
    "NC_avg = []\n",
    "NC_time = []\n",
    "\n",
    "NCgreedy_max = []\n",
    "NCgreedy_avg = []\n",
    "NCgreedy_time = []\n",
    "\n",
    "Gr_max = []\n",
    "Gr_avg = []\n",
    "Gr_time = []\n"
   ]
  },
  {
   "cell_type": "code",
   "execution_count": 3,
   "id": "abcfec23-95f7-4a38-a4f4-af8731ce4ef1",
   "metadata": {},
   "outputs": [
    {
     "name": "stderr",
     "output_type": "stream",
     "text": [
      "Processing iterations: 100%|████████████████| 100/100 [2:10:20<00:00, 78.21s/it]\n"
     ]
    }
   ],
   "source": [
    "def run_iteration(i):\n",
    "    # Loading Data    \n",
    "    dataset_path = files('datasets.DecisionRuleSystems').joinpath('DRS_congressional_voting_records')\n",
    "    S = pd.read_csv(dataset_path).sample(n=10).map(lambda x: str(x) if pd.notnull(x) else x)\n",
    "    S = S.dropna(axis=1, how='all')  # Drop columns with all None\n",
    "\n",
    "    # Dataset Analyses\n",
    "    n = len(S.columns) - 1\n",
    "    num_features.append(n)\n",
    "\n",
    "    non_nan_counts = S.count(axis=1)\n",
    "    max_non_nan_row_index = non_nan_counts.idxmax()\n",
    "    max_non_nan_count = non_nan_counts[max_non_nan_row_index]\n",
    "    d = max_non_nan_count - 1\n",
    "    len_d.append(d)\n",
    "\n",
    "    # Dynamic Programming\n",
    "    start_time = time.time()\n",
    "    alg = DynamicProgrammingAlgorithms(C=\"EAR\")\n",
    "    depth = alg.A_DP(S)\n",
    "    end_time = time.time()\n",
    "\n",
    "    DP_depth.append(depth)\n",
    "    DP_time.append(end_time - start_time)\n",
    "\n",
    "    # Combinations\n",
    "    column_values_extension = [\n",
    "        list(S[column].dropna().unique()) + ['*'] for column in S.columns[:-1]\n",
    "    ]\n",
    "    extended_combinations = list(itertools.product(*column_values_extension))\n",
    "\n",
    "    # Node Cover\n",
    "    run_algorithm(S, extended_combinations, A_C_N, NC_max, NC_avg, NC_time, \"cover\")\n",
    "\n",
    "    # Node Cover Greedy\n",
    "    run_algorithm(S, extended_combinations, A_C_N, NCgreedy_max, NCgreedy_avg, NCgreedy_time, \"greedy\")\n",
    "\n",
    "    # Greedy\n",
    "    run_algorithm(S, extended_combinations, A_C_G, Gr_max, Gr_avg, Gr_time)\n",
    "\n",
    "def run_algorithm(S, combinations, algorithm_class, max_list, avg_list, time_list, N=None):\n",
    "    depths = []\n",
    "    start_time = time.time()\n",
    "    for comb in combinations:\n",
    "        delta = pd.DataFrame([list(comb)], columns=list(S.columns[:-1])).loc[0]\n",
    "        alg = algorithm_class(C=\"EAR\", N=N) if N else algorithm_class(C=\"EAR\")\n",
    "        depth, _ = alg.solve(S, delta=delta)\n",
    "        depths.append(depth)\n",
    "    end_time = time.time()\n",
    "\n",
    "    max_list.append(max(depths))\n",
    "    avg_list.append(sum(depths) / len(depths))\n",
    "    time_list.append(end_time - start_time)\n",
    "\n",
    "\n",
    "TIME_LIMIT = 3600\n",
    "i = 0\n",
    "max_iterations = 100\n",
    "\n",
    "\n",
    "with tqdm(total=max_iterations, desc=\"Processing iterations\") as pbar:\n",
    "    while i < max_iterations:\n",
    "        with ThreadPoolExecutor(max_workers=1) as executor:\n",
    "            future = executor.submit(run_iteration, i)\n",
    "            try:\n",
    "                future.result(timeout=TIME_LIMIT)\n",
    "                i += 1  # Increment only if successful\n",
    "                pbar.update(1)  # Update the progress bar\n",
    "            except TimeoutError:\n",
    "                print(f\"Iteration {i} took too long and was skipped.\")\n"
   ]
  },
  {
   "cell_type": "code",
   "execution_count": 4,
   "id": "b93d31c6",
   "metadata": {},
   "outputs": [
    {
     "name": "stdout",
     "output_type": "stream",
     "text": [
      "DP - (Depth_avg, Time_avg) = (6.38, 70.4332244515419)\n"
     ]
    }
   ],
   "source": [
    "print(\"DP - (Depth_avg, Time_avg) =\", (sum(DP_depth)/len(DP_depth), sum(DP_time)/len(DP_time)))\n"
   ]
  },
  {
   "cell_type": "code",
   "execution_count": 5,
   "id": "26d66cf9",
   "metadata": {},
   "outputs": [
    {
     "name": "stdout",
     "output_type": "stream",
     "text": [
      "NC - (Max_avg, Avg_avg, Time_avg) = (6.92, 5.477314814814815, 2.282725503444672)\n"
     ]
    }
   ],
   "source": [
    "print(\"NC - (Max_avg, Avg_avg, Time_avg) =\", (sum(NC_max)/len(NC_max), sum(NC_avg)/len(NC_avg), sum(NC_time)/len(NC_time)))\n"
   ]
  },
  {
   "cell_type": "code",
   "execution_count": 6,
   "id": "36574c0e",
   "metadata": {},
   "outputs": [
    {
     "name": "stdout",
     "output_type": "stream",
     "text": [
      "NCgreedy - (Max_avg, Avg_avg, Time_avg) = (6.49, 4.072314814814814, 4.0502628278732296)\n"
     ]
    }
   ],
   "source": [
    "print(\"NCgreedy - (Max_avg, Avg_avg, Time_avg) =\", (sum(NCgreedy_max)/len(NCgreedy_max), sum(NCgreedy_avg)/len(NCgreedy_avg), sum(NCgreedy_time)/len(NCgreedy_time)))\n"
   ]
  },
  {
   "cell_type": "code",
   "execution_count": 7,
   "id": "ba76adf9",
   "metadata": {},
   "outputs": [
    {
     "name": "stdout",
     "output_type": "stream",
     "text": [
      "Gr - (Max_avg, Avg_avg, Time_avg) = (6.38, 3.7270833333333333, 1.4364971041679382)\n"
     ]
    }
   ],
   "source": [
    "print(\"Gr - (Max_avg, Avg_avg, Time_avg) =\", (sum(Gr_max)/len(Gr_max), sum(Gr_avg)/len(Gr_avg), sum(Gr_time)/len(Gr_time)))\n"
   ]
  },
  {
   "cell_type": "code",
   "execution_count": null,
   "id": "48ac2e6c",
   "metadata": {},
   "outputs": [],
   "source": []
  },
  {
   "cell_type": "code",
   "execution_count": null,
   "id": "aafe419d-76d1-477c-aa1a-b2b21e7b5998",
   "metadata": {},
   "outputs": [],
   "source": []
  },
  {
   "cell_type": "code",
   "execution_count": null,
   "id": "67424d4e-2295-41e6-af62-c9afcd0eb47c",
   "metadata": {},
   "outputs": [],
   "source": []
  },
  {
   "cell_type": "code",
   "execution_count": null,
   "id": "7d782183-22a9-49b7-bb5e-15e954919011",
   "metadata": {},
   "outputs": [],
   "source": []
  },
  {
   "cell_type": "code",
   "execution_count": 8,
   "id": "f2964d8e-bc76-47b7-8594-cd5243dff234",
   "metadata": {},
   "outputs": [],
   "source": [
    "# for i in tqdm(range(100)):\n",
    "    \n",
    "#     #Loading Data\n",
    "#     with resources.path('datasets.DecisionRuleSystems', 'DRS_congressional_voting_records') as dataset_path:\n",
    "#         S = pd.read_csv(dataset_path).sample(n=10).applymap(lambda x: str(x) if pd.notnull(x) else x)\n",
    "#     S = S.dropna(axis=1, how='all') # Drop the columns with all None\n",
    "    \n",
    "    \n",
    "#     #Dataset Analyses\n",
    "#     n = len(S.columns)-1\n",
    "#     num_features.append(n)\n",
    "\n",
    "#     non_nan_counts = S.count(axis=1)\n",
    "#     max_non_nan_row_index = non_nan_counts.idxmax()\n",
    "#     max_non_nan_row = S.loc[max_non_nan_row_index]\n",
    "#     max_non_nan_count = non_nan_counts[max_non_nan_row_index]\n",
    "#     d = max_non_nan_count - 1  \n",
    "#     len_d.append(d)\n",
    "    \n",
    "    \n",
    "#     #Dynamic Programming\n",
    "#     start_time = time.time()\n",
    "#     alg = DynamicProgrammingAlgorithms(C=\"EAR\")\n",
    "#     depth = alg.A_DP(S)\n",
    "#     end_time = time.time()\n",
    "    \n",
    "#     DP_dpeth.append(depth)\n",
    "#     DP_time.append(end_time - start_time)\n",
    "    \n",
    "    \n",
    "#     #Combinations\n",
    "#     column_values_extension = []\n",
    "#     for column in S.columns[:-1]: #ignoring class column\n",
    "#         column_values_extension.append(list(S[column].dropna().unique()) + ['*']) \n",
    "#     extended_combinations = list(itertools.product(*column_values_extension))\n",
    "    \n",
    "    \n",
    "#     #Node Cover\n",
    "#     depths = []\n",
    "#     start_time = time.time()\n",
    "#     for comb in extended_combinations:\n",
    "#         delta = pd.DataFrame([list(comb)], columns=list(S.columns[:-1]))\n",
    "#         delta = delta.loc[0]\n",
    "#         alg = A_C_N(C=\"EAR\", N=\"cover\")\n",
    "#         depth, _ = alg.solve(S, delta=delta)\n",
    "#         depths.append(depth)\n",
    "#     end_time = time.time()\n",
    "    \n",
    "#     NC_max.append(max(depths))\n",
    "#     NC_avg.append(sum(depths)/len(depths))\n",
    "#     NC_time.append(end_time - start_time)\n",
    "    \n",
    "    \n",
    "#     #Node Cover Greedy\n",
    "#     depths = []\n",
    "#     start_time = time.time()\n",
    "#     for comb in extended_combinations:\n",
    "#         delta = pd.DataFrame([list(comb)], columns=list(S.columns[:-1]))\n",
    "#         delta = delta.loc[0]\n",
    "#         alg = A_C_N(C=\"EAR\", N=\"greedy\")\n",
    "#         depth, _ = alg.solve(S, delta=delta)\n",
    "#         depths.append(depth)\n",
    "#     end_time = time.time()\n",
    "\n",
    "#     NCgreedy_max.append(max(depths))\n",
    "#     NCgreedy_avg.append(sum(depths)/len(depths))\n",
    "#     NCgreedy_time.append(end_time - start_time)\n",
    "    \n",
    "    \n",
    "#     #Greedy\n",
    "#     depths = []\n",
    "#     start_time = time.time()\n",
    "#     for comb in extended_combinations:\n",
    "#         delta = pd.DataFrame([list(comb)], columns=list(S.columns[:-1]))\n",
    "#         delta = delta.loc[0]\n",
    "#         alg = A_C_G(C=\"EAR\")\n",
    "#         depth, _ = alg.solve(S, delta=delta)\n",
    "#         depths.append(depth)\n",
    "#     end_time = time.time()\n",
    "\n",
    "#     Gr_max.append(max(depths))\n",
    "#     Gr_avg.append(sum(depths)/len(depths))\n",
    "#     Gr_time.append(end_time - start_time)\n",
    "    "
   ]
  }
 ],
 "metadata": {
  "kernelspec": {
   "display_name": "Python 3 (ipykernel)",
   "language": "python",
   "name": "python3"
  },
  "language_info": {
   "codemirror_mode": {
    "name": "ipython",
    "version": 3
   },
   "file_extension": ".py",
   "mimetype": "text/x-python",
   "name": "python",
   "nbconvert_exporter": "python",
   "pygments_lexer": "ipython3",
   "version": "3.12.4"
  }
 },
 "nbformat": 4,
 "nbformat_minor": 5
}
