{
 "cells": [
  {
   "cell_type": "code",
   "execution_count": null,
   "id": "f24488bc",
   "metadata": {},
   "outputs": [],
   "source": [
    "from importlib import resources\n",
    "import pandas as pd\n",
    "\n",
    "from drdt.algorithms import DynamicProgrammingAlgorithms"
   ]
  },
  {
   "cell_type": "code",
   "execution_count": null,
   "id": "0e0bf869",
   "metadata": {},
   "outputs": [],
   "source": [
    "with resources.path('datasets.DecisionRuleSystems', 'DRS_tic-tac-toe') as dataset_path:\n",
    "    S = pd.read_csv(dataset_path)   \n",
    "S"
   ]
  },
  {
   "cell_type": "code",
   "execution_count": null,
   "id": "a6702e8e",
   "metadata": {},
   "outputs": [],
   "source": [
    "alg = DynamicProgrammingAlgorithms(C=\"AR\")"
   ]
  },
  {
   "cell_type": "code",
   "execution_count": null,
   "id": "3ffad308",
   "metadata": {},
   "outputs": [],
   "source": [
    "depth = alg.A_DP(S)\n",
    "depth"
   ]
  },
  {
   "cell_type": "code",
   "execution_count": null,
   "id": "8591e553",
   "metadata": {},
   "outputs": [],
   "source": []
  }
 ],
 "metadata": {
  "kernelspec": {
   "display_name": "Python 3 (ipykernel)",
   "language": "python",
   "name": "python3"
  },
  "language_info": {
   "codemirror_mode": {
    "name": "ipython",
    "version": 3
   },
   "file_extension": ".py",
   "mimetype": "text/x-python",
   "name": "python",
   "nbconvert_exporter": "python",
   "pygments_lexer": "ipython3",
   "version": "3.9.12"
  }
 },
 "nbformat": 4,
 "nbformat_minor": 5
}
