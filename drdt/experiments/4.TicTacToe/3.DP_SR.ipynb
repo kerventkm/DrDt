{
 "cells": [
  {
   "cell_type": "code",
   "execution_count": 1,
   "id": "f24488bc",
   "metadata": {},
   "outputs": [
    {
     "ename": "ModuleNotFoundError",
     "evalue": "No module named 'drdt'",
     "output_type": "error",
     "traceback": [
      "\u001b[0;31m---------------------------------------------------------------------------\u001b[0m",
      "\u001b[0;31mModuleNotFoundError\u001b[0m                       Traceback (most recent call last)",
      "\u001b[0;32m/tmp/ipykernel_1648409/3716783795.py\u001b[0m in \u001b[0;36m<module>\u001b[0;34m\u001b[0m\n\u001b[1;32m      2\u001b[0m \u001b[0;32mimport\u001b[0m \u001b[0mpandas\u001b[0m \u001b[0;32mas\u001b[0m \u001b[0mpd\u001b[0m\u001b[0;34m\u001b[0m\u001b[0;34m\u001b[0m\u001b[0m\n\u001b[1;32m      3\u001b[0m \u001b[0;34m\u001b[0m\u001b[0m\n\u001b[0;32m----> 4\u001b[0;31m \u001b[0;32mfrom\u001b[0m \u001b[0mdrdt\u001b[0m\u001b[0;34m.\u001b[0m\u001b[0malgorithms\u001b[0m \u001b[0;32mimport\u001b[0m \u001b[0mDynamicProgrammingAlgorithms\u001b[0m\u001b[0;34m\u001b[0m\u001b[0;34m\u001b[0m\u001b[0m\n\u001b[0m",
      "\u001b[0;31mModuleNotFoundError\u001b[0m: No module named 'drdt'"
     ]
    }
   ],
   "source": [
    "from importlib import resources\n",
    "import pandas as pd\n",
    "\n",
    "from drdt.algorithms import DynamicProgrammingAlgorithms"
   ]
  },
  {
   "cell_type": "code",
   "execution_count": null,
   "id": "0e0bf869",
   "metadata": {},
   "outputs": [],
   "source": [
    "with resources.path('datasets.DecisionRuleSystems', 'DRS_tic-tac-toe') as dataset_path:\n",
    "    S = pd.read_csv(dataset_path)   \n",
    "S"
   ]
  },
  {
   "cell_type": "code",
   "execution_count": null,
   "id": "a6702e8e",
   "metadata": {},
   "outputs": [],
   "source": [
    "alg = DynamicProgrammingAlgorithms(C=\"SR\")"
   ]
  },
  {
   "cell_type": "code",
   "execution_count": null,
   "id": "3ffad308",
   "metadata": {},
   "outputs": [],
   "source": [
    "depth = alg.A_DP(S)\n",
    "depth"
   ]
  },
  {
   "cell_type": "code",
   "execution_count": 2,
   "id": "8591e553",
   "metadata": {},
   "outputs": [
    {
     "name": "stdout",
     "output_type": "stream",
     "text": [
      "# conda environments:\r\n",
      "#\r\n",
      "cs283_assignment1     *  /ibex/user/durdymk/conda-environments/cs283_assignment1\r\n",
      "druggen                  /ibex/user/durdymk/conda-environments/druggen\r\n",
      "ldm                      /ibex/user/durdymk/conda-environments/ldm\r\n",
      "base                     /ibex/user/durdymk/mambaforge\r\n",
      "\r\n"
     ]
    }
   ],
   "source": [
    "!conda env list"
   ]
  },
  {
   "cell_type": "code",
   "execution_count": null,
   "id": "6168049b",
   "metadata": {},
   "outputs": [],
   "source": []
  }
 ],
 "metadata": {
  "kernelspec": {
   "display_name": "Python 3 (ipykernel)",
   "language": "python",
   "name": "python3"
  },
  "language_info": {
   "codemirror_mode": {
    "name": "ipython",
    "version": 3
   },
   "file_extension": ".py",
   "mimetype": "text/x-python",
   "name": "python",
   "nbconvert_exporter": "python",
   "pygments_lexer": "ipython3",
   "version": "3.7.12"
  }
 },
 "nbformat": 4,
 "nbformat_minor": 5
}
