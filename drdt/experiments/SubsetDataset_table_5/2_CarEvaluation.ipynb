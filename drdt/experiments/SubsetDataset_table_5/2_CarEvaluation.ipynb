{
 "cells": [
  {
   "cell_type": "code",
   "execution_count": 1,
   "id": "f24488bc",
   "metadata": {},
   "outputs": [],
   "source": [
    "# Libraries\n",
    "import itertools\n",
    "from importlib import resources\n",
    "import pandas as pd\n",
    "import numpy as np\n",
    "from tqdm import tqdm\n",
    "from ucimlrepo import fetch_ucirepo\n",
    "\n",
    "from drdt.helper_functions import DecisionRuleCreatorFromDecisionTable, Reduction, R_SR, R_AD, SAlphaStep, SPlus, SMax, NCover, NGreedy\n",
    "from drdt.algorithms import DynamicProgrammingAlgorithms, A_C_N, A_C_G\n",
    "from drdt.helper_functions import DecisionRuleCreatorFromDecisionTable\n",
    "pd.options.mode.chained_assignment = None\n"
   ]
  },
  {
   "cell_type": "markdown",
   "id": "264742fc",
   "metadata": {},
   "source": [
    "# Loading Data"
   ]
  },
  {
   "cell_type": "code",
   "execution_count": 2,
   "id": "859e9aec",
   "metadata": {},
   "outputs": [
    {
     "data": {
      "text/html": [
       "<div>\n",
       "<style scoped>\n",
       "    .dataframe tbody tr th:only-of-type {\n",
       "        vertical-align: middle;\n",
       "    }\n",
       "\n",
       "    .dataframe tbody tr th {\n",
       "        vertical-align: top;\n",
       "    }\n",
       "\n",
       "    .dataframe thead th {\n",
       "        text-align: right;\n",
       "    }\n",
       "</style>\n",
       "<table border=\"1\" class=\"dataframe\">\n",
       "  <thead>\n",
       "    <tr style=\"text-align: right;\">\n",
       "      <th></th>\n",
       "      <th>buying</th>\n",
       "      <th>maint</th>\n",
       "      <th>doors</th>\n",
       "      <th>persons</th>\n",
       "      <th>lug_boot</th>\n",
       "      <th>safety</th>\n",
       "      <th>class</th>\n",
       "    </tr>\n",
       "  </thead>\n",
       "  <tbody>\n",
       "    <tr>\n",
       "      <th>599</th>\n",
       "      <td>high</td>\n",
       "      <td>high</td>\n",
       "      <td>4</td>\n",
       "      <td>2</td>\n",
       "      <td>med</td>\n",
       "      <td>high</td>\n",
       "      <td>unacc</td>\n",
       "    </tr>\n",
       "    <tr>\n",
       "      <th>1201</th>\n",
       "      <td>med</td>\n",
       "      <td>low</td>\n",
       "      <td>2</td>\n",
       "      <td>4</td>\n",
       "      <td>med</td>\n",
       "      <td>med</td>\n",
       "      <td>acc</td>\n",
       "    </tr>\n",
       "    <tr>\n",
       "      <th>628</th>\n",
       "      <td>high</td>\n",
       "      <td>high</td>\n",
       "      <td>5more</td>\n",
       "      <td>2</td>\n",
       "      <td>big</td>\n",
       "      <td>med</td>\n",
       "      <td>unacc</td>\n",
       "    </tr>\n",
       "    <tr>\n",
       "      <th>1498</th>\n",
       "      <td>low</td>\n",
       "      <td>high</td>\n",
       "      <td>5more</td>\n",
       "      <td>4</td>\n",
       "      <td>med</td>\n",
       "      <td>med</td>\n",
       "      <td>acc</td>\n",
       "    </tr>\n",
       "    <tr>\n",
       "      <th>1263</th>\n",
       "      <td>med</td>\n",
       "      <td>low</td>\n",
       "      <td>4</td>\n",
       "      <td>more</td>\n",
       "      <td>med</td>\n",
       "      <td>low</td>\n",
       "      <td>unacc</td>\n",
       "    </tr>\n",
       "    <tr>\n",
       "      <th>931</th>\n",
       "      <td>med</td>\n",
       "      <td>vhigh</td>\n",
       "      <td>4</td>\n",
       "      <td>4</td>\n",
       "      <td>med</td>\n",
       "      <td>med</td>\n",
       "      <td>acc</td>\n",
       "    </tr>\n",
       "    <tr>\n",
       "      <th>23</th>\n",
       "      <td>vhigh</td>\n",
       "      <td>vhigh</td>\n",
       "      <td>2</td>\n",
       "      <td>more</td>\n",
       "      <td>med</td>\n",
       "      <td>high</td>\n",
       "      <td>unacc</td>\n",
       "    </tr>\n",
       "    <tr>\n",
       "      <th>844</th>\n",
       "      <td>high</td>\n",
       "      <td>low</td>\n",
       "      <td>5more</td>\n",
       "      <td>2</td>\n",
       "      <td>big</td>\n",
       "      <td>med</td>\n",
       "      <td>unacc</td>\n",
       "    </tr>\n",
       "    <tr>\n",
       "      <th>964</th>\n",
       "      <td>med</td>\n",
       "      <td>vhigh</td>\n",
       "      <td>5more</td>\n",
       "      <td>more</td>\n",
       "      <td>small</td>\n",
       "      <td>med</td>\n",
       "      <td>unacc</td>\n",
       "    </tr>\n",
       "    <tr>\n",
       "      <th>764</th>\n",
       "      <td>high</td>\n",
       "      <td>low</td>\n",
       "      <td>2</td>\n",
       "      <td>2</td>\n",
       "      <td>big</td>\n",
       "      <td>high</td>\n",
       "      <td>unacc</td>\n",
       "    </tr>\n",
       "    <tr>\n",
       "      <th>1481</th>\n",
       "      <td>low</td>\n",
       "      <td>high</td>\n",
       "      <td>4</td>\n",
       "      <td>more</td>\n",
       "      <td>med</td>\n",
       "      <td>high</td>\n",
       "      <td>vgood</td>\n",
       "    </tr>\n",
       "    <tr>\n",
       "      <th>1172</th>\n",
       "      <td>med</td>\n",
       "      <td>med</td>\n",
       "      <td>5more</td>\n",
       "      <td>4</td>\n",
       "      <td>small</td>\n",
       "      <td>high</td>\n",
       "      <td>acc</td>\n",
       "    </tr>\n",
       "    <tr>\n",
       "      <th>344</th>\n",
       "      <td>vhigh</td>\n",
       "      <td>low</td>\n",
       "      <td>2</td>\n",
       "      <td>more</td>\n",
       "      <td>small</td>\n",
       "      <td>high</td>\n",
       "      <td>unacc</td>\n",
       "    </tr>\n",
       "    <tr>\n",
       "      <th>413</th>\n",
       "      <td>vhigh</td>\n",
       "      <td>low</td>\n",
       "      <td>5more</td>\n",
       "      <td>2</td>\n",
       "      <td>big</td>\n",
       "      <td>high</td>\n",
       "      <td>unacc</td>\n",
       "    </tr>\n",
       "    <tr>\n",
       "      <th>494</th>\n",
       "      <td>high</td>\n",
       "      <td>vhigh</td>\n",
       "      <td>4</td>\n",
       "      <td>2</td>\n",
       "      <td>big</td>\n",
       "      <td>high</td>\n",
       "      <td>unacc</td>\n",
       "    </tr>\n",
       "    <tr>\n",
       "      <th>298</th>\n",
       "      <td>vhigh</td>\n",
       "      <td>med</td>\n",
       "      <td>5more</td>\n",
       "      <td>2</td>\n",
       "      <td>small</td>\n",
       "      <td>med</td>\n",
       "      <td>unacc</td>\n",
       "    </tr>\n",
       "    <tr>\n",
       "      <th>529</th>\n",
       "      <td>high</td>\n",
       "      <td>vhigh</td>\n",
       "      <td>5more</td>\n",
       "      <td>4</td>\n",
       "      <td>big</td>\n",
       "      <td>med</td>\n",
       "      <td>unacc</td>\n",
       "    </tr>\n",
       "    <tr>\n",
       "      <th>1649</th>\n",
       "      <td>low</td>\n",
       "      <td>low</td>\n",
       "      <td>3</td>\n",
       "      <td>2</td>\n",
       "      <td>small</td>\n",
       "      <td>high</td>\n",
       "      <td>unacc</td>\n",
       "    </tr>\n",
       "    <tr>\n",
       "      <th>1190</th>\n",
       "      <td>med</td>\n",
       "      <td>low</td>\n",
       "      <td>2</td>\n",
       "      <td>2</td>\n",
       "      <td>small</td>\n",
       "      <td>high</td>\n",
       "      <td>unacc</td>\n",
       "    </tr>\n",
       "    <tr>\n",
       "      <th>1507</th>\n",
       "      <td>low</td>\n",
       "      <td>high</td>\n",
       "      <td>5more</td>\n",
       "      <td>more</td>\n",
       "      <td>med</td>\n",
       "      <td>med</td>\n",
       "      <td>acc</td>\n",
       "    </tr>\n",
       "  </tbody>\n",
       "</table>\n",
       "</div>"
      ],
      "text/plain": [
       "     buying  maint  doors persons lug_boot safety  class\n",
       "599    high   high      4       2      med   high  unacc\n",
       "1201    med    low      2       4      med    med    acc\n",
       "628    high   high  5more       2      big    med  unacc\n",
       "1498    low   high  5more       4      med    med    acc\n",
       "1263    med    low      4    more      med    low  unacc\n",
       "931     med  vhigh      4       4      med    med    acc\n",
       "23    vhigh  vhigh      2    more      med   high  unacc\n",
       "844    high    low  5more       2      big    med  unacc\n",
       "964     med  vhigh  5more    more    small    med  unacc\n",
       "764    high    low      2       2      big   high  unacc\n",
       "1481    low   high      4    more      med   high  vgood\n",
       "1172    med    med  5more       4    small   high    acc\n",
       "344   vhigh    low      2    more    small   high  unacc\n",
       "413   vhigh    low  5more       2      big   high  unacc\n",
       "494    high  vhigh      4       2      big   high  unacc\n",
       "298   vhigh    med  5more       2    small    med  unacc\n",
       "529    high  vhigh  5more       4      big    med  unacc\n",
       "1649    low    low      3       2    small   high  unacc\n",
       "1190    med    low      2       2    small   high  unacc\n",
       "1507    low   high  5more    more      med    med    acc"
      ]
     },
     "execution_count": 2,
     "metadata": {},
     "output_type": "execute_result"
    }
   ],
   "source": [
    "# Loading DecisionTable\n",
    "with resources.path('datasets.UCIMLDatasets', \"car_evaluation.csv\") as dataset_path:\n",
    "    DecisionTable = pd.read_csv(dataset_path, header=None)\n",
    "\n",
    "DecisionTable.columns = [\"buying\", \"maint\", \"doors\", \"persons\", \"lug_boot\", \"safety\", \"class\"] \n",
    "\n",
    "DecisionTable = DecisionTable.sample(n=20, random_state=42)\n",
    "DecisionTable"
   ]
  },
  {
   "cell_type": "code",
   "execution_count": 3,
   "id": "f3f5175b",
   "metadata": {},
   "outputs": [
    {
     "name": "stderr",
     "output_type": "stream",
     "text": [
      "100%|██████████████████████████████████████████| 20/20 [00:00<00:00, 641.95it/s]\n"
     ]
    },
    {
     "data": {
      "text/html": [
       "<div>\n",
       "<style scoped>\n",
       "    .dataframe tbody tr th:only-of-type {\n",
       "        vertical-align: middle;\n",
       "    }\n",
       "\n",
       "    .dataframe tbody tr th {\n",
       "        vertical-align: top;\n",
       "    }\n",
       "\n",
       "    .dataframe thead th {\n",
       "        text-align: right;\n",
       "    }\n",
       "</style>\n",
       "<table border=\"1\" class=\"dataframe\">\n",
       "  <thead>\n",
       "    <tr style=\"text-align: right;\">\n",
       "      <th></th>\n",
       "      <th>buying</th>\n",
       "      <th>maint</th>\n",
       "      <th>doors</th>\n",
       "      <th>persons</th>\n",
       "      <th>class</th>\n",
       "    </tr>\n",
       "  </thead>\n",
       "  <tbody>\n",
       "    <tr>\n",
       "      <th>599</th>\n",
       "      <td>high</td>\n",
       "      <td>NaN</td>\n",
       "      <td>NaN</td>\n",
       "      <td>NaN</td>\n",
       "      <td>unacc</td>\n",
       "    </tr>\n",
       "    <tr>\n",
       "      <th>1201</th>\n",
       "      <td>med</td>\n",
       "      <td>NaN</td>\n",
       "      <td>NaN</td>\n",
       "      <td>4</td>\n",
       "      <td>acc</td>\n",
       "    </tr>\n",
       "    <tr>\n",
       "      <th>628</th>\n",
       "      <td>high</td>\n",
       "      <td>NaN</td>\n",
       "      <td>NaN</td>\n",
       "      <td>NaN</td>\n",
       "      <td>unacc</td>\n",
       "    </tr>\n",
       "    <tr>\n",
       "      <th>1498</th>\n",
       "      <td>NaN</td>\n",
       "      <td>high</td>\n",
       "      <td>5more</td>\n",
       "      <td>NaN</td>\n",
       "      <td>acc</td>\n",
       "    </tr>\n",
       "    <tr>\n",
       "      <th>1263</th>\n",
       "      <td>NaN</td>\n",
       "      <td>low</td>\n",
       "      <td>NaN</td>\n",
       "      <td>NaN</td>\n",
       "      <td>unacc</td>\n",
       "    </tr>\n",
       "    <tr>\n",
       "      <th>931</th>\n",
       "      <td>med</td>\n",
       "      <td>NaN</td>\n",
       "      <td>NaN</td>\n",
       "      <td>4</td>\n",
       "      <td>acc</td>\n",
       "    </tr>\n",
       "    <tr>\n",
       "      <th>23</th>\n",
       "      <td>vhigh</td>\n",
       "      <td>NaN</td>\n",
       "      <td>NaN</td>\n",
       "      <td>NaN</td>\n",
       "      <td>unacc</td>\n",
       "    </tr>\n",
       "    <tr>\n",
       "      <th>844</th>\n",
       "      <td>high</td>\n",
       "      <td>NaN</td>\n",
       "      <td>NaN</td>\n",
       "      <td>NaN</td>\n",
       "      <td>unacc</td>\n",
       "    </tr>\n",
       "    <tr>\n",
       "      <th>964</th>\n",
       "      <td>NaN</td>\n",
       "      <td>vhigh</td>\n",
       "      <td>NaN</td>\n",
       "      <td>NaN</td>\n",
       "      <td>unacc</td>\n",
       "    </tr>\n",
       "    <tr>\n",
       "      <th>764</th>\n",
       "      <td>high</td>\n",
       "      <td>NaN</td>\n",
       "      <td>NaN</td>\n",
       "      <td>NaN</td>\n",
       "      <td>unacc</td>\n",
       "    </tr>\n",
       "    <tr>\n",
       "      <th>1481</th>\n",
       "      <td>low</td>\n",
       "      <td>NaN</td>\n",
       "      <td>4</td>\n",
       "      <td>NaN</td>\n",
       "      <td>vgood</td>\n",
       "    </tr>\n",
       "    <tr>\n",
       "      <th>1172</th>\n",
       "      <td>med</td>\n",
       "      <td>med</td>\n",
       "      <td>NaN</td>\n",
       "      <td>NaN</td>\n",
       "      <td>acc</td>\n",
       "    </tr>\n",
       "    <tr>\n",
       "      <th>344</th>\n",
       "      <td>vhigh</td>\n",
       "      <td>NaN</td>\n",
       "      <td>NaN</td>\n",
       "      <td>NaN</td>\n",
       "      <td>unacc</td>\n",
       "    </tr>\n",
       "    <tr>\n",
       "      <th>413</th>\n",
       "      <td>vhigh</td>\n",
       "      <td>NaN</td>\n",
       "      <td>NaN</td>\n",
       "      <td>NaN</td>\n",
       "      <td>unacc</td>\n",
       "    </tr>\n",
       "    <tr>\n",
       "      <th>494</th>\n",
       "      <td>high</td>\n",
       "      <td>NaN</td>\n",
       "      <td>NaN</td>\n",
       "      <td>NaN</td>\n",
       "      <td>unacc</td>\n",
       "    </tr>\n",
       "    <tr>\n",
       "      <th>298</th>\n",
       "      <td>vhigh</td>\n",
       "      <td>NaN</td>\n",
       "      <td>NaN</td>\n",
       "      <td>NaN</td>\n",
       "      <td>unacc</td>\n",
       "    </tr>\n",
       "    <tr>\n",
       "      <th>529</th>\n",
       "      <td>high</td>\n",
       "      <td>NaN</td>\n",
       "      <td>NaN</td>\n",
       "      <td>NaN</td>\n",
       "      <td>unacc</td>\n",
       "    </tr>\n",
       "    <tr>\n",
       "      <th>1649</th>\n",
       "      <td>NaN</td>\n",
       "      <td>low</td>\n",
       "      <td>NaN</td>\n",
       "      <td>NaN</td>\n",
       "      <td>unacc</td>\n",
       "    </tr>\n",
       "    <tr>\n",
       "      <th>1190</th>\n",
       "      <td>NaN</td>\n",
       "      <td>low</td>\n",
       "      <td>NaN</td>\n",
       "      <td>NaN</td>\n",
       "      <td>unacc</td>\n",
       "    </tr>\n",
       "    <tr>\n",
       "      <th>1507</th>\n",
       "      <td>NaN</td>\n",
       "      <td>high</td>\n",
       "      <td>NaN</td>\n",
       "      <td>NaN</td>\n",
       "      <td>acc</td>\n",
       "    </tr>\n",
       "  </tbody>\n",
       "</table>\n",
       "</div>"
      ],
      "text/plain": [
       "     buying  maint  doors persons  class\n",
       "599    high    NaN    NaN     NaN  unacc\n",
       "1201    med    NaN    NaN       4    acc\n",
       "628    high    NaN    NaN     NaN  unacc\n",
       "1498    NaN   high  5more     NaN    acc\n",
       "1263    NaN    low    NaN     NaN  unacc\n",
       "931     med    NaN    NaN       4    acc\n",
       "23    vhigh    NaN    NaN     NaN  unacc\n",
       "844    high    NaN    NaN     NaN  unacc\n",
       "964     NaN  vhigh    NaN     NaN  unacc\n",
       "764    high    NaN    NaN     NaN  unacc\n",
       "1481    low    NaN      4     NaN  vgood\n",
       "1172    med    med    NaN     NaN    acc\n",
       "344   vhigh    NaN    NaN     NaN  unacc\n",
       "413   vhigh    NaN    NaN     NaN  unacc\n",
       "494    high    NaN    NaN     NaN  unacc\n",
       "298   vhigh    NaN    NaN     NaN  unacc\n",
       "529    high    NaN    NaN     NaN  unacc\n",
       "1649    NaN    low    NaN     NaN  unacc\n",
       "1190    NaN    low    NaN     NaN  unacc\n",
       "1507    NaN   high    NaN     NaN    acc"
      ]
     },
     "execution_count": 3,
     "metadata": {},
     "output_type": "execute_result"
    }
   ],
   "source": [
    "# Creating Decision Rule System\n",
    "S = DecisionRuleCreatorFromDecisionTable(DecisionTable).applymap(lambda x: str(x) if pd.notnull(x) else x)\n",
    "S = S.dropna(axis=1, how='all') # Drop the columns with all None\n",
    "S"
   ]
  },
  {
   "cell_type": "markdown",
   "id": "ba035986",
   "metadata": {},
   "source": [
    "# Dataset Analyses"
   ]
  },
  {
   "cell_type": "code",
   "execution_count": 4,
   "id": "eebe1e46",
   "metadata": {},
   "outputs": [
    {
     "name": "stdout",
     "output_type": "stream",
     "text": [
      "Number of features  = 4\n"
     ]
    }
   ],
   "source": [
    "print(f\"Number of features  = {len(S.columns)-1}\")"
   ]
  },
  {
   "cell_type": "code",
   "execution_count": 5,
   "id": "08f7933c",
   "metadata": {},
   "outputs": [
    {
     "name": "stdout",
     "output_type": "stream",
     "text": [
      "Does # of features = d  = False\n"
     ]
    }
   ],
   "source": [
    "print(f\"Does # of features = d  = {not S.dropna().empty}\")"
   ]
  },
  {
   "cell_type": "code",
   "execution_count": 6,
   "id": "43126f2d",
   "metadata": {},
   "outputs": [
    {
     "name": "stdout",
     "output_type": "stream",
     "text": [
      "d of  = 2\n"
     ]
    }
   ],
   "source": [
    "# Count non-NaN values for each row\n",
    "non_nan_counts = S.count(axis=1)\n",
    "\n",
    "# Find the index\n",
    "max_non_nan_row_index = non_nan_counts.idxmax()\n",
    "\n",
    "# Retrieve the row\n",
    "max_non_nan_row = S.loc[max_non_nan_row_index]\n",
    "\n",
    "# Number of non-NaN values in the row\n",
    "max_non_nan_count = non_nan_counts[max_non_nan_row_index]\n",
    "\n",
    "print(f\"d of  = {max_non_nan_count - 1}\") # remove 1 because of last class column"
   ]
  },
  {
   "cell_type": "code",
   "execution_count": 7,
   "id": "ff9700af",
   "metadata": {},
   "outputs": [
    {
     "name": "stdout",
     "output_type": "stream",
     "text": [
      "Length of Node Cover for AR = 4\n"
     ]
    }
   ],
   "source": [
    "P = S\n",
    "P_plus = SPlus(P)\n",
    "B = NCover(P_plus)\n",
    "print(f\"Length of Node Cover for AR = {len(B)}\")"
   ]
  },
  {
   "cell_type": "code",
   "execution_count": 8,
   "id": "9ffbe9af",
   "metadata": {},
   "outputs": [
    {
     "name": "stdout",
     "output_type": "stream",
     "text": [
      "Length of Node Cover for SR = 2\n"
     ]
    }
   ],
   "source": [
    "P = R_SR(S)\n",
    "P_plus = SPlus(P)\n",
    "B = NCover(P_plus)\n",
    "print(f\"Length of Node Cover for SR = {len(B)}\")"
   ]
  },
  {
   "cell_type": "code",
   "execution_count": 9,
   "id": "1fb15c74",
   "metadata": {},
   "outputs": [
    {
     "name": "stdout",
     "output_type": "stream",
     "text": [
      "Length of Node Cover for AD = 2\n"
     ]
    }
   ],
   "source": [
    "P = R_AD(S)\n",
    "P_plus = SPlus(P)\n",
    "B = NCover(P_plus)\n",
    "print(f\"Length of Node Cover for AD = {len(B)}\")"
   ]
  },
  {
   "cell_type": "code",
   "execution_count": 10,
   "id": "05ba893e",
   "metadata": {},
   "outputs": [
    {
     "name": "stdout",
     "output_type": "stream",
     "text": [
      "Length of Node Cover greedy for AR = 2\n"
     ]
    }
   ],
   "source": [
    "P = S\n",
    "P_plus = SPlus(P)\n",
    "B = NGreedy(P_plus)\n",
    "print(f\"Length of Node Cover greedy for AR = {len(B)}\")"
   ]
  },
  {
   "cell_type": "code",
   "execution_count": 11,
   "id": "415b30d6",
   "metadata": {},
   "outputs": [
    {
     "name": "stdout",
     "output_type": "stream",
     "text": [
      "Length of Node Cover greedy for SR = 1\n"
     ]
    }
   ],
   "source": [
    "P = R_SR(S)\n",
    "P_plus = SPlus(P)\n",
    "B = NGreedy(P_plus)\n",
    "print(f\"Length of Node Cover greedy for SR = {len(B)}\")"
   ]
  },
  {
   "cell_type": "code",
   "execution_count": 12,
   "id": "5121a9b5",
   "metadata": {},
   "outputs": [
    {
     "name": "stdout",
     "output_type": "stream",
     "text": [
      "Length of Node Cover greedy for AD = 1\n"
     ]
    }
   ],
   "source": [
    "P = R_AD(S)\n",
    "P_plus = SPlus(P)\n",
    "B = NGreedy(P_plus)\n",
    "print(f\"Length of Node Cover greedy for AD = {len(B)}\")"
   ]
  },
  {
   "cell_type": "markdown",
   "id": "b840eb17",
   "metadata": {},
   "source": [
    "# Dynamic Programming"
   ]
  },
  {
   "cell_type": "code",
   "execution_count": 13,
   "id": "a6702e8e",
   "metadata": {},
   "outputs": [
    {
     "name": "stdout",
     "output_type": "stream",
     "text": [
      "DP AR = 4\n"
     ]
    }
   ],
   "source": [
    "alg = DynamicProgrammingAlgorithms(C=\"AR\")\n",
    "depth = alg.A_DP(S)\n",
    "print(f\"DP AR = {depth}\")"
   ]
  },
  {
   "cell_type": "code",
   "execution_count": 14,
   "id": "3ffad308",
   "metadata": {},
   "outputs": [
    {
     "name": "stdout",
     "output_type": "stream",
     "text": [
      "DP EAR = 4\n"
     ]
    }
   ],
   "source": [
    "alg = DynamicProgrammingAlgorithms(C=\"EAR\")\n",
    "depth = alg.A_DP(S)\n",
    "print(f\"DP EAR = {depth}\")"
   ]
  },
  {
   "cell_type": "code",
   "execution_count": 15,
   "id": "b2d6cf02",
   "metadata": {},
   "outputs": [
    {
     "name": "stdout",
     "output_type": "stream",
     "text": [
      "DP SR = 3\n"
     ]
    }
   ],
   "source": [
    "alg = DynamicProgrammingAlgorithms(C=\"SR\")\n",
    "depth = alg.A_DP(S)\n",
    "print(f\"DP SR = {depth}\")"
   ]
  },
  {
   "cell_type": "code",
   "execution_count": 16,
   "id": "9f70f2a3",
   "metadata": {},
   "outputs": [
    {
     "name": "stdout",
     "output_type": "stream",
     "text": [
      "DP ESR = 3\n"
     ]
    }
   ],
   "source": [
    "alg = DynamicProgrammingAlgorithms(C=\"ESR\")\n",
    "depth = alg.A_DP(S)\n",
    "print(f\"DP ESR = {depth}\")"
   ]
  },
  {
   "cell_type": "code",
   "execution_count": 17,
   "id": "2df19cc7",
   "metadata": {},
   "outputs": [
    {
     "name": "stdout",
     "output_type": "stream",
     "text": [
      "DP AD = 3\n"
     ]
    }
   ],
   "source": [
    "alg = DynamicProgrammingAlgorithms(C=\"AD\")\n",
    "depth = alg.A_DP(S)\n",
    "print(f\"DP AD = {depth}\")"
   ]
  },
  {
   "cell_type": "code",
   "execution_count": 18,
   "id": "8591e553",
   "metadata": {},
   "outputs": [
    {
     "name": "stdout",
     "output_type": "stream",
     "text": [
      "DP EAD = 3\n"
     ]
    }
   ],
   "source": [
    "alg = DynamicProgrammingAlgorithms(C=\"EAD\")\n",
    "depth = alg.A_DP(S)\n",
    "print(f\"DP EAD = {depth}\")"
   ]
  },
  {
   "cell_type": "markdown",
   "id": "1ebab606",
   "metadata": {},
   "source": [
    "# Combinations"
   ]
  },
  {
   "cell_type": "code",
   "execution_count": 19,
   "id": "10dd4be6",
   "metadata": {},
   "outputs": [],
   "source": [
    "column_values = []\n",
    "\n",
    "for column in S.columns[:-1]: #ignoring class column\n",
    "    column_values.append(list(S[column].dropna().unique()))\n",
    "    \n",
    "# All possible combinations    \n",
    "combinations = list(itertools.product(*column_values))\n"
   ]
  },
  {
   "cell_type": "code",
   "execution_count": 20,
   "id": "6d57a975",
   "metadata": {},
   "outputs": [],
   "source": [
    "column_values_extension = []\n",
    "\n",
    "for column in S.columns[:-1]: #ignoring class column\n",
    "    column_values_extension.append(list(S[column].dropna().unique()) + ['*'])\n",
    "    \n",
    "# All possible combinations with extension    \n",
    "extended_combinations = list(itertools.product(*column_values_extension))\n"
   ]
  },
  {
   "cell_type": "markdown",
   "id": "d768c796",
   "metadata": {},
   "source": [
    "# Node Cover"
   ]
  },
  {
   "cell_type": "code",
   "execution_count": 21,
   "id": "096a6f44",
   "metadata": {},
   "outputs": [
    {
     "name": "stderr",
     "output_type": "stream",
     "text": [
      "100%|██████████████████████████████████████████| 32/32 [00:00<00:00, 365.11it/s]"
     ]
    },
    {
     "name": "stdout",
     "output_type": "stream",
     "text": [
      "NC AR\n",
      "(Max Depth, Min Depth, Average Depth) = (4, 4, 4.0)\n"
     ]
    },
    {
     "name": "stderr",
     "output_type": "stream",
     "text": [
      "\n"
     ]
    }
   ],
   "source": [
    "depths = []\n",
    "\n",
    "for comb in tqdm(combinations):\n",
    "    #creating delta\n",
    "    delta = pd.DataFrame([list(comb)], columns=list(S.columns[:-1]))\n",
    "    \n",
    "    delta = delta.loc[0]\n",
    "    \n",
    "    alg = A_C_N(C=\"AR\", N=\"cover\")\n",
    "    \n",
    "    depth, _ = alg.solve(S, delta=delta)\n",
    "    \n",
    "    depths.append(depth)\n",
    "    \n",
    "print(\"NC AR\")    \n",
    "print(\"(Max Depth, Min Depth, Average Depth) =\", (max(depths), min(depths), sum(depths)/len(depths)))"
   ]
  },
  {
   "cell_type": "code",
   "execution_count": 22,
   "id": "5749e99a",
   "metadata": {},
   "outputs": [
    {
     "name": "stderr",
     "output_type": "stream",
     "text": [
      "100%|████████████████████████████████████████| 150/150 [00:00<00:00, 365.38it/s]"
     ]
    },
    {
     "name": "stdout",
     "output_type": "stream",
     "text": [
      "NC EAR\n",
      "(Max Depth, Min Depth, Average Depth) = (4, 4, 4.0)\n"
     ]
    },
    {
     "name": "stderr",
     "output_type": "stream",
     "text": [
      "\n"
     ]
    }
   ],
   "source": [
    "depths = []\n",
    "\n",
    "for comb in tqdm(extended_combinations):\n",
    "    #creating delta\n",
    "    delta = pd.DataFrame([list(comb)], columns=list(S.columns[:-1]))\n",
    "    \n",
    "    delta = delta.loc[0]\n",
    "    \n",
    "    alg = A_C_N(C=\"EAR\", N=\"cover\")\n",
    "    \n",
    "    depth, _ = alg.solve(S, delta=delta)\n",
    "    \n",
    "    depths.append(depth)\n",
    "    \n",
    "print(\"NC EAR\")    \n",
    "print(\"(Max Depth, Min Depth, Average Depth) =\", (max(depths), min(depths), sum(depths)/len(depths)))"
   ]
  },
  {
   "cell_type": "code",
   "execution_count": 23,
   "id": "1852af5e",
   "metadata": {},
   "outputs": [
    {
     "name": "stderr",
     "output_type": "stream",
     "text": [
      "100%|███████████████████████████████████████████| 32/32 [00:00<00:00, 81.70it/s]"
     ]
    },
    {
     "name": "stdout",
     "output_type": "stream",
     "text": [
      "NC SR\n",
      "(Max Depth, Min Depth, Average Depth) = (4, 2, 2.5)\n"
     ]
    },
    {
     "name": "stderr",
     "output_type": "stream",
     "text": [
      "\n"
     ]
    }
   ],
   "source": [
    "depths = []\n",
    "\n",
    "for comb in tqdm(combinations):\n",
    "    #creating delta\n",
    "    delta = pd.DataFrame([list(comb)], columns=list(S.columns[:-1]))\n",
    "    \n",
    "    delta = delta.loc[0]\n",
    "    \n",
    "    alg = A_C_N(C=\"SR\", N=\"cover\")\n",
    "    \n",
    "    depth, _ = alg.solve(S, delta=delta)\n",
    "    \n",
    "    depths.append(depth)\n",
    "    \n",
    "print(\"NC SR\")    \n",
    "print(\"(Max Depth, Min Depth, Average Depth) =\", (max(depths), min(depths), sum(depths)/len(depths)))"
   ]
  },
  {
   "cell_type": "code",
   "execution_count": 24,
   "id": "abea4eb6",
   "metadata": {},
   "outputs": [
    {
     "name": "stderr",
     "output_type": "stream",
     "text": [
      "100%|█████████████████████████████████████████| 150/150 [00:02<00:00, 74.38it/s]"
     ]
    },
    {
     "name": "stdout",
     "output_type": "stream",
     "text": [
      "NC ESR\n",
      "(Max Depth, Min Depth, Average Depth) = (4, 2, 2.7)\n"
     ]
    },
    {
     "name": "stderr",
     "output_type": "stream",
     "text": [
      "\n"
     ]
    }
   ],
   "source": [
    "depths = []\n",
    "\n",
    "for comb in tqdm(extended_combinations):\n",
    "    #creating delta\n",
    "    delta = pd.DataFrame([list(comb)], columns=list(S.columns[:-1]))\n",
    "    \n",
    "    delta = delta.loc[0]\n",
    "    \n",
    "    alg = A_C_N(C=\"ESR\", N=\"cover\")\n",
    "    \n",
    "    depth, _ = alg.solve(S, delta=delta)\n",
    "    \n",
    "    depths.append(depth)\n",
    "    \n",
    "print(\"NC ESR\")    \n",
    "print(\"(Max Depth, Min Depth, Average Depth) =\", (max(depths), min(depths), sum(depths)/len(depths)))"
   ]
  },
  {
   "cell_type": "code",
   "execution_count": 25,
   "id": "ff2f6812",
   "metadata": {},
   "outputs": [
    {
     "name": "stderr",
     "output_type": "stream",
     "text": [
      "100%|███████████████████████████████████████████| 32/32 [00:00<00:00, 92.30it/s]"
     ]
    },
    {
     "name": "stdout",
     "output_type": "stream",
     "text": [
      "NC AD\n",
      "(Max Depth, Min Depth, Average Depth) = (4, 3, 3.25)\n"
     ]
    },
    {
     "name": "stderr",
     "output_type": "stream",
     "text": [
      "\n"
     ]
    }
   ],
   "source": [
    "depths = []\n",
    "\n",
    "for comb in tqdm(combinations):\n",
    "    #creating delta\n",
    "    delta = pd.DataFrame([list(comb)], columns=list(S.columns[:-1]))\n",
    "    \n",
    "    delta = delta.loc[0]\n",
    "    \n",
    "    alg = A_C_N(C=\"AD\", N=\"cover\")\n",
    "    \n",
    "    depth, _ = alg.solve(S, delta=delta)\n",
    "    \n",
    "    depths.append(depth)\n",
    "    \n",
    "print(\"NC AD\")    \n",
    "print(\"(Max Depth, Min Depth, Average Depth) =\", (max(depths), min(depths), sum(depths)/len(depths)))"
   ]
  },
  {
   "cell_type": "code",
   "execution_count": 26,
   "id": "b89b747f",
   "metadata": {},
   "outputs": [
    {
     "name": "stderr",
     "output_type": "stream",
     "text": [
      "100%|█████████████████████████████████████████| 150/150 [00:01<00:00, 97.58it/s]"
     ]
    },
    {
     "name": "stdout",
     "output_type": "stream",
     "text": [
      "NC EAD\n",
      "(Max Depth, Min Depth, Average Depth) = (4, 3, 3.2)\n"
     ]
    },
    {
     "name": "stderr",
     "output_type": "stream",
     "text": [
      "\n"
     ]
    }
   ],
   "source": [
    "depths = []\n",
    "\n",
    "for comb in tqdm(extended_combinations):\n",
    "    #creating delta\n",
    "    delta = pd.DataFrame([list(comb)], columns=list(S.columns[:-1]))\n",
    "    \n",
    "    delta = delta.loc[0]\n",
    "    \n",
    "    alg = A_C_N(C=\"EAD\", N=\"cover\")\n",
    "    \n",
    "    depth, _ = alg.solve(S, delta=delta)\n",
    "    \n",
    "    depths.append(depth)\n",
    "    \n",
    "print(\"NC EAD\")    \n",
    "print(\"(Max Depth, Min Depth, Average Depth) =\", (max(depths), min(depths), sum(depths)/len(depths)))"
   ]
  },
  {
   "cell_type": "markdown",
   "id": "746057ad",
   "metadata": {},
   "source": [
    "# Node Cover Greedy"
   ]
  },
  {
   "cell_type": "code",
   "execution_count": 27,
   "id": "6077f62e",
   "metadata": {},
   "outputs": [
    {
     "name": "stderr",
     "output_type": "stream",
     "text": [
      "100%|██████████████████████████████████████████| 32/32 [00:00<00:00, 188.72it/s]"
     ]
    },
    {
     "name": "stdout",
     "output_type": "stream",
     "text": [
      "NCgreedy AR\n",
      "(Max Depth, Min Depth, Average Depth) = (4, 2, 2.6875)\n"
     ]
    },
    {
     "name": "stderr",
     "output_type": "stream",
     "text": [
      "\n"
     ]
    }
   ],
   "source": [
    "depths = []\n",
    "\n",
    "for comb in tqdm(combinations):\n",
    "    #creating delta\n",
    "    delta = pd.DataFrame([list(comb)], columns=list(S.columns[:-1]))\n",
    "    \n",
    "    delta = delta.loc[0]\n",
    "    \n",
    "    alg = A_C_N(C=\"AR\", N=\"greedy\")\n",
    "    \n",
    "    depth, _ = alg.solve(S, delta=delta)\n",
    "    \n",
    "    depths.append(depth)\n",
    "    \n",
    "print(\"NCgreedy AR\")    \n",
    "print(\"(Max Depth, Min Depth, Average Depth) =\", (max(depths), min(depths), sum(depths)/len(depths)))"
   ]
  },
  {
   "cell_type": "code",
   "execution_count": 28,
   "id": "89ecb7d8",
   "metadata": {},
   "outputs": [
    {
     "name": "stderr",
     "output_type": "stream",
     "text": [
      "100%|████████████████████████████████████████| 150/150 [00:00<00:00, 183.27it/s]"
     ]
    },
    {
     "name": "stdout",
     "output_type": "stream",
     "text": [
      "NCgreedy EAR\n",
      "(Max Depth, Min Depth, Average Depth) = (4, 2, 2.56)\n"
     ]
    },
    {
     "name": "stderr",
     "output_type": "stream",
     "text": [
      "\n"
     ]
    }
   ],
   "source": [
    "depths = []\n",
    "\n",
    "for comb in tqdm(extended_combinations):\n",
    "    #creating delta\n",
    "    delta = pd.DataFrame([list(comb)], columns=list(S.columns[:-1]))\n",
    "    \n",
    "    delta = delta.loc[0]\n",
    "    \n",
    "    alg = A_C_N(C=\"EAR\", N=\"greedy\")\n",
    "    \n",
    "    depth, _ = alg.solve(S, delta=delta)\n",
    "    \n",
    "    depths.append(depth)\n",
    "    \n",
    "print(\"NCgreedy EAR\")    \n",
    "print(\"(Max Depth, Min Depth, Average Depth) =\", (max(depths), min(depths), sum(depths)/len(depths)))"
   ]
  },
  {
   "cell_type": "code",
   "execution_count": 29,
   "id": "b325df31",
   "metadata": {},
   "outputs": [
    {
     "name": "stderr",
     "output_type": "stream",
     "text": [
      "100%|███████████████████████████████████████████| 32/32 [00:00<00:00, 72.96it/s]"
     ]
    },
    {
     "name": "stdout",
     "output_type": "stream",
     "text": [
      "NCgreedy SR\n",
      "(Max Depth, Min Depth, Average Depth) = (3, 1, 2.0)\n"
     ]
    },
    {
     "name": "stderr",
     "output_type": "stream",
     "text": [
      "\n"
     ]
    }
   ],
   "source": [
    "depths = []\n",
    "\n",
    "for comb in tqdm(combinations):\n",
    "    #creating delta\n",
    "    delta = pd.DataFrame([list(comb)], columns=list(S.columns[:-1]))\n",
    "    \n",
    "    delta = delta.loc[0]\n",
    "    \n",
    "    alg = A_C_N(C=\"SR\", N=\"greedy\")\n",
    "    \n",
    "    depth, _ = alg.solve(S, delta=delta)\n",
    "    \n",
    "    depths.append(depth)\n",
    "    \n",
    "print(\"NCgreedy SR\")    \n",
    "print(\"(Max Depth, Min Depth, Average Depth) =\", (max(depths), min(depths), sum(depths)/len(depths)))"
   ]
  },
  {
   "cell_type": "code",
   "execution_count": 30,
   "id": "3809221a",
   "metadata": {},
   "outputs": [
    {
     "name": "stderr",
     "output_type": "stream",
     "text": [
      "100%|█████████████████████████████████████████| 150/150 [00:02<00:00, 70.69it/s]"
     ]
    },
    {
     "name": "stdout",
     "output_type": "stream",
     "text": [
      "NCgreedy ESR\n",
      "(Max Depth, Min Depth, Average Depth) = (3, 1, 2.0)\n"
     ]
    },
    {
     "name": "stderr",
     "output_type": "stream",
     "text": [
      "\n"
     ]
    }
   ],
   "source": [
    "depths = []\n",
    "\n",
    "for comb in tqdm(extended_combinations):\n",
    "    #creating delta\n",
    "    delta = pd.DataFrame([list(comb)], columns=list(S.columns[:-1]))\n",
    "    \n",
    "    delta = delta.loc[0]\n",
    "    \n",
    "    alg = A_C_N(C=\"ESR\", N=\"greedy\")\n",
    "    \n",
    "    depth, _ = alg.solve(S, delta=delta)\n",
    "    \n",
    "    depths.append(depth)\n",
    "    \n",
    "print(\"NCgreedy ESR\")    \n",
    "print(\"(Max Depth, Min Depth, Average Depth) =\", (max(depths), min(depths), sum(depths)/len(depths)))"
   ]
  },
  {
   "cell_type": "code",
   "execution_count": 31,
   "id": "01b60a81",
   "metadata": {},
   "outputs": [
    {
     "name": "stderr",
     "output_type": "stream",
     "text": [
      "100%|███████████████████████████████████████████| 32/32 [00:00<00:00, 87.67it/s]"
     ]
    },
    {
     "name": "stdout",
     "output_type": "stream",
     "text": [
      "NCgreedy AD\n",
      "(Max Depth, Min Depth, Average Depth) = (3, 2, 2.5)\n"
     ]
    },
    {
     "name": "stderr",
     "output_type": "stream",
     "text": [
      "\n"
     ]
    }
   ],
   "source": [
    "depths = []\n",
    "\n",
    "for comb in tqdm(combinations):\n",
    "    #creating delta\n",
    "    delta = pd.DataFrame([list(comb)], columns=list(S.columns[:-1]))\n",
    "    \n",
    "    delta = delta.loc[0]\n",
    "    \n",
    "    alg = A_C_N(C=\"AD\", N=\"greedy\")\n",
    "    \n",
    "    depth, _ = alg.solve(S, delta=delta)\n",
    "    \n",
    "    depths.append(depth)\n",
    "    \n",
    "print(\"NCgreedy AD\")    \n",
    "print(\"(Max Depth, Min Depth, Average Depth) =\", (max(depths), min(depths), sum(depths)/len(depths)))"
   ]
  },
  {
   "cell_type": "code",
   "execution_count": 32,
   "id": "dec2d12b",
   "metadata": {},
   "outputs": [
    {
     "name": "stderr",
     "output_type": "stream",
     "text": [
      "100%|█████████████████████████████████████████| 150/150 [00:01<00:00, 90.44it/s]"
     ]
    },
    {
     "name": "stdout",
     "output_type": "stream",
     "text": [
      "NCgreedy EAD\n",
      "(Max Depth, Min Depth, Average Depth) = (3, 2, 2.4)\n"
     ]
    },
    {
     "name": "stderr",
     "output_type": "stream",
     "text": [
      "\n"
     ]
    }
   ],
   "source": [
    "depths = []\n",
    "\n",
    "for comb in tqdm(extended_combinations):\n",
    "    #creating delta\n",
    "    delta = pd.DataFrame([list(comb)], columns=list(S.columns[:-1]))\n",
    "    \n",
    "    delta = delta.loc[0]\n",
    "    \n",
    "    alg = A_C_N(C=\"EAD\", N=\"greedy\")\n",
    "    \n",
    "    depth, _ = alg.solve(S, delta=delta)\n",
    "    \n",
    "    depths.append(depth)\n",
    "    \n",
    "print(\"NCgreedy EAD\")    \n",
    "print(\"(Max Depth, Min Depth, Average Depth) =\", (max(depths), min(depths), sum(depths)/len(depths)))"
   ]
  },
  {
   "cell_type": "markdown",
   "id": "24cc2b4d",
   "metadata": {},
   "source": [
    "# Greedy"
   ]
  },
  {
   "cell_type": "code",
   "execution_count": 33,
   "id": "82a54585",
   "metadata": {},
   "outputs": [
    {
     "name": "stderr",
     "output_type": "stream",
     "text": [
      "100%|██████████████████████████████████████████| 32/32 [00:00<00:00, 294.64it/s]"
     ]
    },
    {
     "name": "stdout",
     "output_type": "stream",
     "text": [
      "Greedy AR\n",
      "(Max Depth, Min Depth, Average Depth) = (4, 2, 2.6875)\n"
     ]
    },
    {
     "name": "stderr",
     "output_type": "stream",
     "text": [
      "\n"
     ]
    }
   ],
   "source": [
    "depths = []\n",
    "\n",
    "for comb in tqdm(combinations):\n",
    "    #creating delta\n",
    "    delta = pd.DataFrame([list(comb)], columns=list(S.columns[:-1]))\n",
    "    \n",
    "    delta = delta.loc[0]\n",
    "    \n",
    "    alg = A_C_G(C=\"AR\")\n",
    "    \n",
    "    depth, _ = alg.solve(S, delta=delta)\n",
    "    \n",
    "    depths.append(depth)\n",
    "    \n",
    "print(\"Greedy AR\")    \n",
    "print(\"(Max Depth, Min Depth, Average Depth) =\", (max(depths), min(depths), sum(depths)/len(depths)))"
   ]
  },
  {
   "cell_type": "code",
   "execution_count": 34,
   "id": "8e8a0bfd",
   "metadata": {},
   "outputs": [
    {
     "name": "stderr",
     "output_type": "stream",
     "text": [
      "100%|████████████████████████████████████████| 150/150 [00:00<00:00, 303.92it/s]"
     ]
    },
    {
     "name": "stdout",
     "output_type": "stream",
     "text": [
      "Greedy EAR\n",
      "(Max Depth, Min Depth, Average Depth) = (4, 2, 2.56)\n"
     ]
    },
    {
     "name": "stderr",
     "output_type": "stream",
     "text": [
      "\n"
     ]
    }
   ],
   "source": [
    "depths = []\n",
    "\n",
    "for comb in tqdm(extended_combinations):\n",
    "    #creating delta\n",
    "    delta = pd.DataFrame([list(comb)], columns=list(S.columns[:-1]))\n",
    "    \n",
    "    delta = delta.loc[0]\n",
    "    \n",
    "    alg = A_C_G(C=\"EAR\")\n",
    "    \n",
    "    depth, _ = alg.solve(S, delta=delta)\n",
    "    \n",
    "    depths.append(depth)\n",
    "    \n",
    "print(\"Greedy EAR\")    \n",
    "print(\"(Max Depth, Min Depth, Average Depth) =\", (max(depths), min(depths), sum(depths)/len(depths)))"
   ]
  },
  {
   "cell_type": "code",
   "execution_count": 35,
   "id": "2626ff3a",
   "metadata": {},
   "outputs": [
    {
     "name": "stderr",
     "output_type": "stream",
     "text": [
      "100%|███████████████████████████████████████████| 32/32 [00:00<00:00, 90.07it/s]"
     ]
    },
    {
     "name": "stdout",
     "output_type": "stream",
     "text": [
      "Greedy SR\n",
      "(Max Depth, Min Depth, Average Depth) = (3, 1, 1.5625)\n"
     ]
    },
    {
     "name": "stderr",
     "output_type": "stream",
     "text": [
      "\n"
     ]
    }
   ],
   "source": [
    "depths = []\n",
    "\n",
    "for comb in tqdm(combinations):\n",
    "    #creating delta\n",
    "    delta = pd.DataFrame([list(comb)], columns=list(S.columns[:-1]))\n",
    "    \n",
    "    delta = delta.loc[0]\n",
    "    \n",
    "    alg = A_C_G(C=\"SR\")\n",
    "    \n",
    "    depth, _ = alg.solve(S, delta=delta)\n",
    "    \n",
    "    depths.append(depth)\n",
    "    \n",
    "print(\"Greedy SR\")    \n",
    "print(\"(Max Depth, Min Depth, Average Depth) =\", (max(depths), min(depths), sum(depths)/len(depths)))"
   ]
  },
  {
   "cell_type": "code",
   "execution_count": 36,
   "id": "062104bd",
   "metadata": {},
   "outputs": [
    {
     "name": "stderr",
     "output_type": "stream",
     "text": [
      "100%|█████████████████████████████████████████| 150/150 [00:01<00:00, 90.96it/s]"
     ]
    },
    {
     "name": "stdout",
     "output_type": "stream",
     "text": [
      "Greedy ESR\n",
      "(Max Depth, Min Depth, Average Depth) = (3, 1, 1.72)\n"
     ]
    },
    {
     "name": "stderr",
     "output_type": "stream",
     "text": [
      "\n"
     ]
    }
   ],
   "source": [
    "depths = []\n",
    "\n",
    "for comb in tqdm(extended_combinations):\n",
    "    #creating delta\n",
    "    delta = pd.DataFrame([list(comb)], columns=list(S.columns[:-1]))\n",
    "    \n",
    "    delta = delta.loc[0]\n",
    "    \n",
    "    alg = A_C_G(C=\"ESR\")\n",
    "    \n",
    "    depth, _ = alg.solve(S, delta=delta)\n",
    "    \n",
    "    depths.append(depth)\n",
    "    \n",
    "print(\"Greedy ESR\")    \n",
    "print(\"(Max Depth, Min Depth, Average Depth) =\", (max(depths), min(depths), sum(depths)/len(depths)))"
   ]
  },
  {
   "cell_type": "code",
   "execution_count": 37,
   "id": "23e5f199",
   "metadata": {},
   "outputs": [
    {
     "name": "stderr",
     "output_type": "stream",
     "text": [
      "100%|██████████████████████████████████████████| 32/32 [00:00<00:00, 118.43it/s]"
     ]
    },
    {
     "name": "stdout",
     "output_type": "stream",
     "text": [
      "Greedy AD\n",
      "(Max Depth, Min Depth, Average Depth) = (3, 2, 2.375)\n"
     ]
    },
    {
     "name": "stderr",
     "output_type": "stream",
     "text": [
      "\n"
     ]
    }
   ],
   "source": [
    "depths = []\n",
    "\n",
    "for comb in tqdm(combinations):\n",
    "    #creating delta\n",
    "    delta = pd.DataFrame([list(comb)], columns=list(S.columns[:-1]))\n",
    "    \n",
    "    delta = delta.loc[0]\n",
    "    \n",
    "    alg = A_C_G(C=\"AD\")\n",
    "    \n",
    "    depth, _ = alg.solve(S, delta=delta)\n",
    "    \n",
    "    depths.append(depth)\n",
    "    \n",
    "print(\"Greedy AD\")    \n",
    "print(\"(Max Depth, Min Depth, Average Depth) =\", (max(depths), min(depths), sum(depths)/len(depths)))"
   ]
  },
  {
   "cell_type": "code",
   "execution_count": 38,
   "id": "8eb3cea0",
   "metadata": {},
   "outputs": [
    {
     "name": "stderr",
     "output_type": "stream",
     "text": [
      "100%|████████████████████████████████████████| 150/150 [00:01<00:00, 124.65it/s]"
     ]
    },
    {
     "name": "stdout",
     "output_type": "stream",
     "text": [
      "Greedy EAD\n",
      "(Max Depth, Min Depth, Average Depth) = (3, 2, 2.32)\n"
     ]
    },
    {
     "name": "stderr",
     "output_type": "stream",
     "text": [
      "\n"
     ]
    }
   ],
   "source": [
    "depths = []\n",
    "\n",
    "for comb in tqdm(extended_combinations):\n",
    "    #creating delta\n",
    "    delta = pd.DataFrame([list(comb)], columns=list(S.columns[:-1]))\n",
    "    \n",
    "    delta = delta.loc[0]\n",
    "    \n",
    "    alg = A_C_G(C=\"EAD\")\n",
    "    \n",
    "    depth, _ = alg.solve(S, delta=delta)\n",
    "    \n",
    "    depths.append(depth)\n",
    "    \n",
    "print(\"Greedy EAD\")    \n",
    "print(\"(Max Depth, Min Depth, Average Depth) =\", (max(depths), min(depths), sum(depths)/len(depths)))"
   ]
  },
  {
   "cell_type": "code",
   "execution_count": null,
   "id": "8e192e71",
   "metadata": {},
   "outputs": [],
   "source": []
  }
 ],
 "metadata": {
  "kernelspec": {
   "display_name": "Python 3 (ipykernel)",
   "language": "python",
   "name": "python3"
  },
  "language_info": {
   "codemirror_mode": {
    "name": "ipython",
    "version": 3
   },
   "file_extension": ".py",
   "mimetype": "text/x-python",
   "name": "python",
   "nbconvert_exporter": "python",
   "pygments_lexer": "ipython3",
   "version": "3.9.12"
  }
 },
 "nbformat": 4,
 "nbformat_minor": 5
}
