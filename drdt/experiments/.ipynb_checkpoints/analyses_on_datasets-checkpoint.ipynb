{
 "cells": [
  {
   "cell_type": "code",
   "execution_count": 1,
   "id": "182ed196",
   "metadata": {},
   "outputs": [],
   "source": [
    "from drdt.helper_functions import Reduction, R_SR, R_AD, SAlphaStep, SPlus, SMax, NCover, NGreedy\n",
    "from importlib import resources\n",
    "import pandas as pd\n",
    "from ucimlrepo import fetch_ucirepo "
   ]
  },
  {
   "cell_type": "code",
   "execution_count": 2,
   "id": "a017916e",
   "metadata": {},
   "outputs": [],
   "source": [
    "datasets = [\"DRS_car_evaluation\",\n",
    "            \"DRS_tic-tac-toe\",\n",
    "            \"DRS_balance_scale\",\n",
    "            \"DRS_mushroom\",\n",
    "            \"DRS_congressional_voting_records\",\n",
    "            \"DRS_breast_cancer\"]"
   ]
  },
  {
   "cell_type": "code",
   "execution_count": 3,
   "id": "1c83238a",
   "metadata": {},
   "outputs": [
    {
     "name": "stdout",
     "output_type": "stream",
     "text": [
      "Number of features of DRS_car_evaluation = 6\n",
      "Number of features of DRS_tic-tac-toe = 9\n",
      "Number of features of DRS_balance_scale = 4\n",
      "Number of features of DRS_mushroom = 19\n",
      "Number of features of DRS_congressional_voting_records = 16\n",
      "Number of features of DRS_breast_cancer = 9\n"
     ]
    }
   ],
   "source": [
    "# number of features\n",
    "for dataset in datasets:\n",
    "    with resources.path('datasets.DecisionRuleSystems', dataset) as dataset_path:\n",
    "        S = pd.read_csv(dataset_path)\n",
    "        print(f\"Number of features of {dataset} = {len(S.columns)-1}\")\n",
    "        "
   ]
  },
  {
   "cell_type": "code",
   "execution_count": 4,
   "id": "5e86cdb3",
   "metadata": {},
   "outputs": [
    {
     "name": "stdout",
     "output_type": "stream",
     "text": [
      "Does # of features = d of DRS_car_evaluation = True\n",
      "Does # of features = d of DRS_tic-tac-toe = False\n",
      "Does # of features = d of DRS_balance_scale = True\n",
      "Does # of features = d of DRS_mushroom = False\n",
      "Does # of features = d of DRS_congressional_voting_records = False\n",
      "Does # of features = d of DRS_breast_cancer = False\n"
     ]
    }
   ],
   "source": [
    "# Does max length = # of features\n",
    "for dataset in datasets:\n",
    "    with resources.path('datasets.DecisionRuleSystems', dataset) as dataset_path:\n",
    "        S = pd.read_csv(dataset_path)\n",
    "        print(f\"Does # of features = d of {dataset} = {not S.dropna().empty}\")"
   ]
  },
  {
   "cell_type": "code",
   "execution_count": 5,
   "id": "df4306c9",
   "metadata": {},
   "outputs": [
    {
     "name": "stdout",
     "output_type": "stream",
     "text": [
      "Does  d of DRS_car_evaluation = 6\n",
      "Does  d of DRS_tic-tac-toe = 5\n",
      "Does  d of DRS_balance_scale = 4\n",
      "Does  d of DRS_mushroom = 2\n",
      "Does  d of DRS_congressional_voting_records = 4\n",
      "Does  d of DRS_breast_cancer = 6\n"
     ]
    }
   ],
   "source": [
    "# Calculating d\n",
    "for dataset in datasets:\n",
    "    with resources.path('datasets.DecisionRuleSystems', dataset) as dataset_path:\n",
    "        S = pd.read_csv(dataset_path)\n",
    "\n",
    "    # Count non-NaN values for each row\n",
    "    non_nan_counts = S.count(axis=1)\n",
    "\n",
    "    # Find the index\n",
    "    max_non_nan_row_index = non_nan_counts.idxmax()\n",
    "\n",
    "    # Retrieve the row\n",
    "    max_non_nan_row = S.loc[max_non_nan_row_index]\n",
    "\n",
    "    # Number of non-NaN values in the row\n",
    "    max_non_nan_count = non_nan_counts[max_non_nan_row_index]\n",
    "\n",
    "    print(f\"Does  d of {dataset} = {max_non_nan_count - 1}\") # remove 1 because of last class column"
   ]
  },
  {
   "cell_type": "code",
   "execution_count": 8,
   "id": "9c9852d3",
   "metadata": {},
   "outputs": [
    {
     "name": "stdout",
     "output_type": "stream",
     "text": [
      "Length of Node Cover DRS_car_evaluation = 6\n",
      "Length of Node Cover DRS_tic-tac-toe = 5\n",
      "Length of Node Cover DRS_balance_scale = 4\n",
      "Length of Node Cover DRS_mushroom = 10\n",
      "Length of Node Cover DRS_congressional_voting_records = 4\n",
      "Length of Node Cover DRS_breast_cancer = 6\n"
     ]
    }
   ],
   "source": [
    "# Cover\n",
    "for dataset in datasets:\n",
    "    with resources.path('datasets.DecisionRuleSystems', dataset) as dataset_path:\n",
    "        S = pd.read_csv(dataset_path) \n",
    "#         P = S\n",
    "#         P = R_SR(S)\n",
    "        P = R_AD(S)\n",
    "        P_plus = SPlus(P)\n",
    "        B = NCover(P_plus)\n",
    "        print(f\"Length of Node Cover {dataset} = {len(B)}\")\n"
   ]
  },
  {
   "cell_type": "code",
   "execution_count": 11,
   "id": "8ad939f1",
   "metadata": {},
   "outputs": [
    {
     "name": "stdout",
     "output_type": "stream",
     "text": [
      "Length of Node Cover DRS_car_evaluation = 1\n",
      "Length of Node Cover DRS_tic-tac-toe = 3\n",
      "Length of Node Cover DRS_balance_scale = 1\n",
      "Length of Node Cover DRS_mushroom = 5\n",
      "Length of Node Cover DRS_congressional_voting_records = 1\n",
      "Length of Node Cover DRS_breast_cancer = 1\n"
     ]
    }
   ],
   "source": [
    "# Cover Greedy\n",
    "for dataset in datasets:\n",
    "    with resources.path('datasets.DecisionRuleSystems', dataset) as dataset_path:\n",
    "        S = pd.read_csv(dataset_path)\n",
    "#         P = S\n",
    "#         P = R_SR(S)\n",
    "        P = R_AD(S)\n",
    "        P_plus = SPlus(P)\n",
    "        B = NGreedy(P_plus)\n",
    "        print(f\"Length of Node Cover {dataset} = {len(B)}\")"
   ]
  },
  {
   "cell_type": "code",
   "execution_count": null,
   "id": "7f36ca38",
   "metadata": {},
   "outputs": [],
   "source": []
  }
 ],
 "metadata": {
  "kernelspec": {
   "display_name": "Python 3 (ipykernel)",
   "language": "python",
   "name": "python3"
  },
  "language_info": {
   "codemirror_mode": {
    "name": "ipython",
    "version": 3
   },
   "file_extension": ".py",
   "mimetype": "text/x-python",
   "name": "python",
   "nbconvert_exporter": "python",
   "pygments_lexer": "ipython3",
   "version": "3.9.12"
  }
 },
 "nbformat": 4,
 "nbformat_minor": 5
}
